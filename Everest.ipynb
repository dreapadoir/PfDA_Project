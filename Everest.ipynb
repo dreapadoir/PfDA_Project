{
 "cells": [
  {
   "cell_type": "markdown",
   "id": "ef525c35",
   "metadata": {},
   "source": [
    "# Survivalibility on Mt. Everest\n",
    "\n",
    "## Programming for Data Analysis Project 1\n",
    "\n",
    "## Author: David Higgins - G00411302"
   ]
  },
  {
   "cell_type": "markdown",
   "id": "38d24c59",
   "metadata": {},
   "source": [
    "\"Getting to the top is optional. Getting down is mandatory.\"\n",
    "\n",
    "\\- Ed Viesturs"
   ]
  },
  {
   "cell_type": "code",
   "execution_count": 1,
   "id": "6b7eb868",
   "metadata": {},
   "outputs": [],
   "source": [
    "import numpy as np\n",
    "import pandas as pd\n",
    "import matplotlib.pyplot as plt\n",
    "import random\n",
    "\n",
    "N = 700"
   ]
  },
  {
   "cell_type": "markdown",
   "id": "9c00f5e6",
   "metadata": {},
   "source": [
    "We first import the Mt. Everest Ascent dataset to understand what information is available for mountaineers and to get an idea of the shape of that data."
   ]
  },
  {
   "cell_type": "code",
   "execution_count": 2,
   "id": "af1add20",
   "metadata": {},
   "outputs": [
    {
     "data": {
      "text/html": [
       "<div>\n",
       "<style scoped>\n",
       "    .dataframe tbody tr th:only-of-type {\n",
       "        vertical-align: middle;\n",
       "    }\n",
       "\n",
       "    .dataframe tbody tr th {\n",
       "        vertical-align: top;\n",
       "    }\n",
       "\n",
       "    .dataframe thead th {\n",
       "        text-align: right;\n",
       "    }\n",
       "</style>\n",
       "<table border=\"1\" class=\"dataframe\">\n",
       "  <thead>\n",
       "    <tr style=\"text-align: right;\">\n",
       "      <th></th>\n",
       "      <th>Peak</th>\n",
       "      <th>Name</th>\n",
       "      <th>Year</th>\n",
       "      <th>Season</th>\n",
       "      <th>Date</th>\n",
       "      <th>Time</th>\n",
       "      <th>Citizenship</th>\n",
       "      <th>Sex</th>\n",
       "      <th>Age</th>\n",
       "      <th>Oxy</th>\n",
       "      <th>Dth</th>\n",
       "      <th>Host</th>\n",
       "    </tr>\n",
       "  </thead>\n",
       "  <tbody>\n",
       "    <tr>\n",
       "      <th>0</th>\n",
       "      <td>EVER</td>\n",
       "      <td>Edmund Percival Hillary</td>\n",
       "      <td>1953</td>\n",
       "      <td>Spr</td>\n",
       "      <td>29-May</td>\n",
       "      <td>11:30</td>\n",
       "      <td>New Zealand</td>\n",
       "      <td>M</td>\n",
       "      <td>33</td>\n",
       "      <td>Y</td>\n",
       "      <td>.</td>\n",
       "      <td>Nepal</td>\n",
       "    </tr>\n",
       "    <tr>\n",
       "      <th>1</th>\n",
       "      <td>EVER</td>\n",
       "      <td>Tenzing Norgay</td>\n",
       "      <td>1953</td>\n",
       "      <td>Spr</td>\n",
       "      <td>29-May</td>\n",
       "      <td>11:30</td>\n",
       "      <td>India</td>\n",
       "      <td>M</td>\n",
       "      <td>39</td>\n",
       "      <td>Y</td>\n",
       "      <td>.</td>\n",
       "      <td>Nepal</td>\n",
       "    </tr>\n",
       "    <tr>\n",
       "      <th>2</th>\n",
       "      <td>EVER</td>\n",
       "      <td>Hans-Rudolf Von Gunten</td>\n",
       "      <td>1956</td>\n",
       "      <td>Spr</td>\n",
       "      <td>24-May</td>\n",
       "      <td>11:00</td>\n",
       "      <td>Switzerland</td>\n",
       "      <td>M</td>\n",
       "      <td>27</td>\n",
       "      <td>Y</td>\n",
       "      <td>.</td>\n",
       "      <td>Nepal</td>\n",
       "    </tr>\n",
       "    <tr>\n",
       "      <th>3</th>\n",
       "      <td>EVER</td>\n",
       "      <td>Juerg P. Marmet</td>\n",
       "      <td>1956</td>\n",
       "      <td>Spr</td>\n",
       "      <td>23-May</td>\n",
       "      <td>14:00</td>\n",
       "      <td>Switzerland</td>\n",
       "      <td>M</td>\n",
       "      <td>28</td>\n",
       "      <td>Y</td>\n",
       "      <td>.</td>\n",
       "      <td>Nepal</td>\n",
       "    </tr>\n",
       "    <tr>\n",
       "      <th>4</th>\n",
       "      <td>EVER</td>\n",
       "      <td>Ernst Schmied</td>\n",
       "      <td>1956</td>\n",
       "      <td>Spr</td>\n",
       "      <td>23-May</td>\n",
       "      <td>14:00</td>\n",
       "      <td>Switzerland</td>\n",
       "      <td>M</td>\n",
       "      <td>31</td>\n",
       "      <td>Y</td>\n",
       "      <td>.</td>\n",
       "      <td>Nepal</td>\n",
       "    </tr>\n",
       "  </tbody>\n",
       "</table>\n",
       "</div>"
      ],
      "text/plain": [
       "   Peak                     Name  Year Season    Date   Time  Citizenship Sex  \\\n",
       "0  EVER  Edmund Percival Hillary  1953    Spr  29-May  11:30  New Zealand   M   \n",
       "1  EVER          Tenzing Norgay   1953    Spr  29-May  11:30        India   M   \n",
       "2  EVER   Hans-Rudolf Von Gunten  1956    Spr  24-May  11:00  Switzerland   M   \n",
       "3  EVER          Juerg P. Marmet  1956    Spr  23-May  14:00  Switzerland   M   \n",
       "4  EVER            Ernst Schmied  1956    Spr  23-May  14:00  Switzerland   M   \n",
       "\n",
       "   Age Oxy Dth   Host  \n",
       "0   33   Y   .  Nepal  \n",
       "1   39   Y   .  Nepal  \n",
       "2   27   Y   .  Nepal  \n",
       "3   28   Y   .  Nepal  \n",
       "4   31   Y   .  Nepal  "
      ]
     },
     "execution_count": 2,
     "metadata": {},
     "output_type": "execute_result"
    }
   ],
   "source": [
    "df = pd.read_csv(\"Mt_Everest_Ascent_Data.csv\")\n",
    "df.head()"
   ]
  },
  {
   "cell_type": "code",
   "execution_count": 3,
   "id": "721bc329",
   "metadata": {},
   "outputs": [
    {
     "data": {
      "text/html": [
       "<div>\n",
       "<style scoped>\n",
       "    .dataframe tbody tr th:only-of-type {\n",
       "        vertical-align: middle;\n",
       "    }\n",
       "\n",
       "    .dataframe tbody tr th {\n",
       "        vertical-align: top;\n",
       "    }\n",
       "\n",
       "    .dataframe thead th {\n",
       "        text-align: right;\n",
       "    }\n",
       "</style>\n",
       "<table border=\"1\" class=\"dataframe\">\n",
       "  <thead>\n",
       "    <tr style=\"text-align: right;\">\n",
       "      <th></th>\n",
       "      <th>Peak</th>\n",
       "      <th>Name</th>\n",
       "      <th>Year</th>\n",
       "      <th>Season</th>\n",
       "      <th>Date</th>\n",
       "      <th>Time</th>\n",
       "      <th>Citizenship</th>\n",
       "      <th>Sex</th>\n",
       "      <th>Age</th>\n",
       "      <th>Oxy</th>\n",
       "      <th>Dth</th>\n",
       "      <th>Host</th>\n",
       "    </tr>\n",
       "  </thead>\n",
       "  <tbody>\n",
       "    <tr>\n",
       "      <th>170</th>\n",
       "      <td>EVER</td>\n",
       "      <td>Ang Phurba Sherpa (Thami, Khumbu)</td>\n",
       "      <td>1985</td>\n",
       "      <td>Spr</td>\n",
       "      <td>30-Apr</td>\n",
       "      <td>NaN</td>\n",
       "      <td>Nepal</td>\n",
       "      <td>M</td>\n",
       "      <td>23</td>\n",
       "      <td>Y</td>\n",
       "      <td>.</td>\n",
       "      <td>Nepal</td>\n",
       "    </tr>\n",
       "    <tr>\n",
       "      <th>171</th>\n",
       "      <td>EVER</td>\n",
       "      <td>Mitsuyoshi Sato</td>\n",
       "      <td>1985</td>\n",
       "      <td>Aut</td>\n",
       "      <td>30-Oct</td>\n",
       "      <td>NaN</td>\n",
       "      <td>Japan</td>\n",
       "      <td>M</td>\n",
       "      <td>24</td>\n",
       "      <td>Y</td>\n",
       "      <td>.</td>\n",
       "      <td>Nepal</td>\n",
       "    </tr>\n",
       "    <tr>\n",
       "      <th>172</th>\n",
       "      <td>EVER</td>\n",
       "      <td>Narayan Kumar Shrestha</td>\n",
       "      <td>1985</td>\n",
       "      <td>Sum</td>\n",
       "      <td>28-Aug</td>\n",
       "      <td>18:20</td>\n",
       "      <td>Nepal</td>\n",
       "      <td>M</td>\n",
       "      <td>25</td>\n",
       "      <td>Y</td>\n",
       "      <td>.</td>\n",
       "      <td>China</td>\n",
       "    </tr>\n",
       "    <tr>\n",
       "      <th>173</th>\n",
       "      <td>EVER</td>\n",
       "      <td>Lhakpa Dorje (Ang Lhakpa) Sherpa (Khunde, Khumbu)</td>\n",
       "      <td>1985</td>\n",
       "      <td>Spr</td>\n",
       "      <td>21-Apr</td>\n",
       "      <td>09:30</td>\n",
       "      <td>Nepal</td>\n",
       "      <td>M</td>\n",
       "      <td>26</td>\n",
       "      <td>Y</td>\n",
       "      <td>.</td>\n",
       "      <td>Nepal</td>\n",
       "    </tr>\n",
       "    <tr>\n",
       "      <th>174</th>\n",
       "      <td>EVER</td>\n",
       "      <td>Pema Dorje Sherpa (Khumjung, Khumbu)</td>\n",
       "      <td>1985</td>\n",
       "      <td>Spr</td>\n",
       "      <td>29-Apr</td>\n",
       "      <td>09:25</td>\n",
       "      <td>Nepal</td>\n",
       "      <td>M</td>\n",
       "      <td>26</td>\n",
       "      <td>Y</td>\n",
       "      <td>.</td>\n",
       "      <td>Nepal</td>\n",
       "    </tr>\n",
       "    <tr>\n",
       "      <th>...</th>\n",
       "      <td>...</td>\n",
       "      <td>...</td>\n",
       "      <td>...</td>\n",
       "      <td>...</td>\n",
       "      <td>...</td>\n",
       "      <td>...</td>\n",
       "      <td>...</td>\n",
       "      <td>...</td>\n",
       "      <td>...</td>\n",
       "      <td>...</td>\n",
       "      <td>...</td>\n",
       "      <td>...</td>\n",
       "    </tr>\n",
       "    <tr>\n",
       "      <th>10005</th>\n",
       "      <td>EVER</td>\n",
       "      <td>Phurbu Dhondup (Big)</td>\n",
       "      <td>2020</td>\n",
       "      <td>Spr</td>\n",
       "      <td>27-May</td>\n",
       "      <td>NaN</td>\n",
       "      <td>China</td>\n",
       "      <td>M</td>\n",
       "      <td>43</td>\n",
       "      <td>Y</td>\n",
       "      <td>.</td>\n",
       "      <td>China</td>\n",
       "    </tr>\n",
       "    <tr>\n",
       "      <th>10006</th>\n",
       "      <td>EVER</td>\n",
       "      <td>Fu-Qing (Jing-Yang) Li</td>\n",
       "      <td>2020</td>\n",
       "      <td>Spr</td>\n",
       "      <td>27-May</td>\n",
       "      <td>NaN</td>\n",
       "      <td>China</td>\n",
       "      <td>M</td>\n",
       "      <td>43</td>\n",
       "      <td>Y</td>\n",
       "      <td>.</td>\n",
       "      <td>China</td>\n",
       "    </tr>\n",
       "    <tr>\n",
       "      <th>10007</th>\n",
       "      <td>EVER</td>\n",
       "      <td>Ci Luo (Tselo)</td>\n",
       "      <td>2020</td>\n",
       "      <td>Spr</td>\n",
       "      <td>27-May</td>\n",
       "      <td>NaN</td>\n",
       "      <td>China</td>\n",
       "      <td>M</td>\n",
       "      <td>45</td>\n",
       "      <td>Y</td>\n",
       "      <td>.</td>\n",
       "      <td>China</td>\n",
       "    </tr>\n",
       "    <tr>\n",
       "      <th>10008</th>\n",
       "      <td>EVER</td>\n",
       "      <td>Zhou-Ping Cui</td>\n",
       "      <td>2020</td>\n",
       "      <td>Spr</td>\n",
       "      <td>28-May</td>\n",
       "      <td>NaN</td>\n",
       "      <td>China</td>\n",
       "      <td>F</td>\n",
       "      <td>45</td>\n",
       "      <td>Y</td>\n",
       "      <td>.</td>\n",
       "      <td>China</td>\n",
       "    </tr>\n",
       "    <tr>\n",
       "      <th>10009</th>\n",
       "      <td>EVER</td>\n",
       "      <td>Hong-Zhi Hu</td>\n",
       "      <td>2020</td>\n",
       "      <td>Spr</td>\n",
       "      <td>28-May</td>\n",
       "      <td>NaN</td>\n",
       "      <td>China</td>\n",
       "      <td>M</td>\n",
       "      <td>57</td>\n",
       "      <td>Y</td>\n",
       "      <td>.</td>\n",
       "      <td>China</td>\n",
       "    </tr>\n",
       "  </tbody>\n",
       "</table>\n",
       "<p>9840 rows × 12 columns</p>\n",
       "</div>"
      ],
      "text/plain": [
       "       Peak                                               Name  Year Season  \\\n",
       "170    EVER                  Ang Phurba Sherpa (Thami, Khumbu)  1985    Spr   \n",
       "171    EVER                                    Mitsuyoshi Sato  1985    Aut   \n",
       "172    EVER                             Narayan Kumar Shrestha  1985    Sum   \n",
       "173    EVER  Lhakpa Dorje (Ang Lhakpa) Sherpa (Khunde, Khumbu)  1985    Spr   \n",
       "174    EVER               Pema Dorje Sherpa (Khumjung, Khumbu)  1985    Spr   \n",
       "...     ...                                                ...   ...    ...   \n",
       "10005  EVER                              Phurbu Dhondup (Big)   2020    Spr   \n",
       "10006  EVER                             Fu-Qing (Jing-Yang) Li  2020    Spr   \n",
       "10007  EVER                                    Ci Luo (Tselo)   2020    Spr   \n",
       "10008  EVER                                      Zhou-Ping Cui  2020    Spr   \n",
       "10009  EVER                                        Hong-Zhi Hu  2020    Spr   \n",
       "\n",
       "         Date   Time Citizenship Sex  Age Oxy Dth   Host  \n",
       "170    30-Apr    NaN       Nepal   M   23   Y   .  Nepal  \n",
       "171    30-Oct    NaN       Japan   M   24   Y   .  Nepal  \n",
       "172    28-Aug  18:20       Nepal   M   25   Y   .  China  \n",
       "173    21-Apr  09:30       Nepal   M   26   Y   .  Nepal  \n",
       "174    29-Apr  09:25       Nepal   M   26   Y   .  Nepal  \n",
       "...       ...    ...         ...  ..  ...  ..  ..    ...  \n",
       "10005  27-May    NaN       China   M   43   Y   .  China  \n",
       "10006  27-May    NaN       China   M   43   Y   .  China  \n",
       "10007  27-May    NaN       China   M   45   Y   .  China  \n",
       "10008  28-May    NaN       China   F   45   Y   .  China  \n",
       "10009  28-May    NaN       China   M   57   Y   .  China  \n",
       "\n",
       "[9840 rows x 12 columns]"
      ]
     },
     "execution_count": 3,
     "metadata": {},
     "output_type": "execute_result"
    }
   ],
   "source": [
    "df = df.loc[df.loc[:, 'Year'] >= 1985]\n",
    "df"
   ]
  },
  {
   "cell_type": "markdown",
   "id": "68490c79",
   "metadata": {},
   "source": [
    "We can create a Data Series containing just the age values. It's then possible to use the describe() method to find out the mean and standard deviation of the ages of summitters."
   ]
  },
  {
   "cell_type": "code",
   "execution_count": 4,
   "id": "c6a91a14",
   "metadata": {},
   "outputs": [
    {
     "data": {
      "text/plain": [
       "count    9840.000000\n",
       "mean       35.358841\n",
       "std         9.348445\n",
       "min        13.000000\n",
       "25%        28.000000\n",
       "50%        34.000000\n",
       "75%        41.000000\n",
       "max        80.000000\n",
       "Name: Age, dtype: float64"
      ]
     },
     "execution_count": 4,
     "metadata": {},
     "output_type": "execute_result"
    }
   ],
   "source": [
    "ages = df.loc[:,'Age']\n",
    "ages.describe()"
   ]
  },
  {
   "cell_type": "markdown",
   "id": "fe363342",
   "metadata": {},
   "source": [
    "Plotting a histogram of the age Data Series gives us an idea of the shape of the distribution. This is often the best indicator of what distribution is appropriate when generating synthetic data."
   ]
  },
  {
   "cell_type": "code",
   "execution_count": 5,
   "id": "3f9000c6",
   "metadata": {},
   "outputs": [
    {
     "data": {
      "text/plain": [
       "(array([ 149., 1603., 2858., 2179., 1814.,  828.,  296.,   93.,   17.,\n",
       "           3.]),\n",
       " array([13. , 19.7, 26.4, 33.1, 39.8, 46.5, 53.2, 59.9, 66.6, 73.3, 80. ]),\n",
       " <BarContainer object of 10 artists>)"
      ]
     },
     "execution_count": 5,
     "metadata": {},
     "output_type": "execute_result"
    },
    {
     "data": {
      "image/png": "[encoded data removed]",
      "text/plain": [
       "<Figure size 432x288 with 1 Axes>"
      ]
     },
     "metadata": {
      "needs_background": "light"
     },
     "output_type": "display_data"
    }
   ],
   "source": [
    "plt.hist(ages, bins=10)"
   ]
  },
  {
   "cell_type": "markdown",
   "id": "754b2f9e",
   "metadata": {},
   "source": [
    "This histogram looks relatively normally distributed. We can try generating a dataset using the mean and standard deviation of the ages Data Series."
   ]
  },
  {
   "cell_type": "code",
   "execution_count": 6,
   "id": "62ffa016",
   "metadata": {},
   "outputs": [
    {
     "name": "stdout",
     "output_type": "stream",
     "text": [
      "[65.81137566 54.73463134 41.07579205 43.25601946 45.98572506 41.8047834\n",
      " 33.76201144 26.36576603 14.44950873 26.12791271 23.60540934 30.13265147\n",
      " 39.17730467 32.41566136 32.98720062 30.14883688 40.62224753 51.0778139\n",
      " 52.63572667 28.25975127 30.03469614 27.019299   34.19854927 26.35363764\n",
      " 38.11951791 44.7169594  32.25791839 40.33265357 36.77823827 34.21162932\n",
      " 26.53089023 28.5634832  33.88412449 19.40402242 45.20935789 28.29842633\n",
      " 12.02145115 44.91186388 29.96715756 35.68102013 41.97856047 32.84265846\n",
      " 19.2281886  48.1676031  40.18019835 36.03351244 31.937261   33.758426\n",
      " 33.94185267 43.29667824 19.62941172 27.82587294 39.06773252 32.66732154\n",
      " 33.59275995 44.54872352 23.96459402 38.36959187 40.82312966 35.68420241\n",
      " 26.34019453 33.9644549  25.79273309 46.70931825 29.21007027 38.04647003\n",
      " 33.89942269 30.12248677 26.15362699 26.83897882 47.12700482 37.09731456\n",
      " 19.08328202 34.2213287  17.42418799 37.13718037 40.19125907 33.69832168\n",
      " 34.33422757 32.51079491 30.85037982 49.57434711 27.84613888 42.72277398\n",
      " 27.55523394 50.67655509 38.57831349 38.71901319 41.97016087 49.82094278\n",
      " 45.14557324 34.98026552 46.04045171 21.77300322 19.04440707 41.68158289\n",
      " 28.74820642 37.79447799 35.09535256 32.12677819 42.50499645 31.357537\n",
      " 45.36212695 28.99184501 33.70177706 38.17847719 37.95481766 37.3992216\n",
      " 27.00440899 31.09658484 30.80106447 17.49921287 35.90951906 29.74483222\n",
      " 31.89496953 37.14568806 23.04319406 23.13123746 49.99787898 20.92610489\n",
      " 26.30231989 18.60077872 37.1803744  44.1877125  30.2336387  39.20640102\n",
      " 30.34009741 34.00386437 17.83195724 23.56282835 38.36373189 32.80693465\n",
      " 26.25790854 39.46402454 31.40197107 42.05667989 43.04569068 30.36666941\n",
      " 40.93657339 31.39902117 46.72600788 45.0446018  30.83068244 38.88927052\n",
      " 37.16035532 34.53826364 54.61820842 18.38053007 33.9618626  44.82199383\n",
      " 32.92293447 42.85583578 41.30176832 33.97815641 38.88062208 30.51330776\n",
      " 45.53073144 25.44565004 38.92114059 42.58008118 37.29417347 44.90894253\n",
      " 33.06026412 49.03093452 44.38065273 22.3598618  24.66026211 45.60994552\n",
      " 18.33108398 21.5516784  36.0733011  28.55142759 34.64289315 31.98460812\n",
      " 44.91712719 47.12788358 44.26912687 39.84330916 34.2027611  34.22388014\n",
      " 37.83846287 28.03513978 28.95586436 56.27198953 -2.356525   47.15265269\n",
      " 20.26603196 42.79404909 34.38370267 11.82866556 45.57567026 41.98376305\n",
      " 31.7104824  29.74307461 20.79177517 35.12372585 40.70664346 28.38973946\n",
      " 39.10777594 24.20616844 39.95908641 40.87169469 43.14604829 31.15844732\n",
      " 31.10603848 48.9494617  27.1469642  27.88280904 46.41531647 35.81032201\n",
      " 29.50409724 29.67648586 31.69569968 31.84215986 13.63112937 15.60766769\n",
      " 38.08075789 45.51846972 32.376509   33.43959508 38.2842336  41.84621761\n",
      " 40.14326868 43.65684067 25.99301873 39.93865366 19.12813114 30.23620914\n",
      " 60.45560223 35.02745372 26.8768625  32.23268752 55.25675722 30.41650486\n",
      " 37.96495849 47.58853244 35.73655448 44.22358843 39.26739635 53.93255225\n",
      " 36.98683011 34.31683424 16.03851636 49.49984128 21.49749118 47.37405377\n",
      " 49.87185296 29.63645359 21.18854404 24.77438874 21.85267805 40.86769494\n",
      " 22.29430816 25.26171252 57.55969966 36.14857172 17.95184924 34.86067681\n",
      " 24.06936452 36.59512959 45.82964871 38.57012777 32.83371173 28.59907205\n",
      " 20.29801984 43.1626255  23.03259005 32.23699468 42.92102709 31.62818716\n",
      " 37.7010491  28.1791437  37.83810166 36.61668172 36.34381799 46.49869936\n",
      " 24.78355151 41.46050013 28.84897912 18.57780486 36.31779609 38.44660042\n",
      " 18.12972925 40.85577313 38.02382302 52.88377532 32.19760742 34.40045657\n",
      " 28.05946751 31.19208812 29.28921586 30.9229982  32.91270554 27.13249821\n",
      " 43.94414382 53.91832646 33.21204362 41.65421718 43.43781249 37.94800257\n",
      " 40.69774306 34.82973691 21.33128968 24.27645831 16.68609359 33.39576447\n",
      " 39.54490457 38.62996796 26.61328159 49.50600441 44.35552478 38.89358284\n",
      " 14.58321277 42.2840979  33.74372214 44.81555187 42.04628257 39.21028709\n",
      " 47.42973746 31.06662892 36.44868899 31.02707624 44.97423897 39.87357928\n",
      " 34.23255226 28.20961904 28.03074991 32.67138328 37.61626078 36.29789593\n",
      " 39.13831731 58.91734284 30.38048488 52.42707718 41.46873315 37.0818613\n",
      " 32.89205826 43.96740323 43.5776189  42.1115824  44.78288091 34.19141689\n",
      " 20.64508079 25.46090627 46.22178951 31.72104744 41.18908295 41.62311407\n",
      " 42.87125015 25.65117391 40.0577524  29.67392788 43.08966057 35.90643174\n",
      " 43.91793571 31.31206218 42.38373076 45.6979708  31.13158436 39.98350281\n",
      " 53.855405   31.03479599 31.00291777 40.06701727 31.47955939 27.98414123\n",
      " 42.03770277 45.55827245 34.2545794  49.96228827 35.35936213 28.35580226\n",
      " 40.41059877 27.10502713 31.60001766 38.32717465 40.45415283 23.76985293\n",
      " 44.19823331 42.84200776 49.7823803  23.1700674  15.70627078 15.81929136\n",
      " 46.92224183 33.52366083 50.96147901 34.6078645  26.57007173 31.6776142\n",
      " 33.06876665 27.32446029 37.685148   27.22410739 31.89859128 43.17023185\n",
      " 28.50144806 34.61044006 25.92578375 38.21988655 52.61488387 26.85214868\n",
      " 28.32464873 48.66982408 31.96784223 33.28768581 45.47042155 33.96608558\n",
      " 25.72744381 36.28438495 25.24248061 35.92972607 25.70722417 33.02121222\n",
      " 11.87892975 25.78739362 52.69778809 25.67695711 49.23682274 37.61725152\n",
      " 31.19219317 36.83605444 26.90952399 32.83189806 35.53523988 44.08976222\n",
      " 33.67175373 41.3885358  47.57188751 44.25535547 38.32185079 20.79041728\n",
      " 43.20582267 33.52017151 36.28071316 40.25709969 44.10339521 28.21957902\n",
      " 41.48128443 46.76756208 18.56222919 22.72730907 43.88801483 44.31539461\n",
      " 34.828945   29.96407029 31.12898119 29.06820686 37.76788838 29.92565156\n",
      " 38.38811124 40.26296904 42.39295077 27.69599405 37.49036238 35.44301445\n",
      " 40.52203135 36.71390759 35.51722034 19.3811838  29.95299058 47.58455171\n",
      " 27.83788799 35.20703907 29.84696061 40.28022069 32.50555259 23.08673147\n",
      " 17.02908691 33.45571631 21.23641146 30.53832463 21.27108354 29.54381994\n",
      " 29.55842457 53.71896628 34.91916291 31.12658428 25.32471307 39.3595505\n",
      " 40.70519999 33.04260826 34.55423981 49.46770069 37.90958871 24.21262184\n",
      " 49.70758308 49.17558438 28.89632862 17.04267729 33.0030832  32.42264772\n",
      " 17.33738385 12.98480628 48.04424005 29.05232872 35.17280444 48.2572664\n",
      " 27.90875722 30.12939874 38.75054243 29.57895073 42.90621469 30.11922869\n",
      " 24.00163601 36.39860715 40.14949398 29.93059929 37.44854791 36.92860449\n",
      " 38.22315109 32.33257742 14.64570667 31.71420536 24.56078297 47.03773447\n",
      " 53.61210119 37.45046223 42.43714129 44.54582577 37.6171021  36.14155627\n",
      " 19.27721863 45.56003524 49.23477038 18.41492704 28.67760479 42.5706434\n",
      " 30.59047777 31.0379991  34.18333322 17.4418821  36.55546168 15.99490193\n",
      " 34.84931394 19.85599974 29.92465068 27.1920028  66.40184839 35.5232853\n",
      " 30.45002421 44.22605051 13.10049092 55.84230965 34.30485979 27.69210628\n",
      " 42.73957336 36.75636826 42.34329378 38.39444508 36.23315618 45.56587089\n",
      " 45.45180302 26.75085127 41.94811238 49.64435392 26.32656524 61.28281547\n",
      " 38.1028462  50.55410054 40.72445676 31.4114271  32.73739551 23.37239867\n",
      " 28.15629083 42.98648181 43.31515527 22.08608738 32.49404207 49.6330996\n",
      " 42.55217884 37.47602909 28.29965599 34.83432687 37.27403722 39.67848483\n",
      " 28.37551839 53.5942164  39.27582408 10.35663821 39.48905096 41.39380342\n",
      " 27.00702519 48.65809506 26.3500951  25.10396935 41.17183151 33.65942749\n",
      " 37.40384663 27.86560844 24.5038045  57.35280781 35.97322874 49.9856324\n",
      " 35.86805326 25.34449999 49.44879138 39.16816734 49.84681468 36.18655084\n",
      " 31.71090181 35.76853924 45.60677623 32.14347159 15.82939296 24.90885698\n",
      " 37.75896165 53.73410285 39.32009345 25.92540528 49.49246225 41.33519559\n",
      " 20.87508228 32.95023606 36.32162234 35.56729615 34.80987509 45.49304343\n",
      " 35.92201782 32.11572823 29.58964523 27.71698995 30.40204851 45.53669325\n",
      " 53.22030042 45.87694709 66.05745424 30.79362061 38.21802082 33.64838754\n",
      " 57.34997366 25.22339698 37.42122223 35.1439947  20.39782611 39.82673327\n",
      " 36.58618599 22.91906355 33.37647487 25.4045977  35.00397481 33.54396075\n",
      " 47.01121993 39.06983557 31.59325001 31.86929221 38.50019531 40.22894534\n",
      " 15.25200307 32.90203243 36.29260395 36.23759433 32.40754937 35.40391853\n",
      " 35.77267938 38.81127806 20.79372063 26.34323925 41.44407483 30.82077277\n",
      " 28.20973216 30.54809544 23.44923361 50.43635514 35.23487433 43.63113389\n",
      " 38.73520091 31.65259848 43.39618998 41.83921593 41.51993198 36.26228271\n",
      " 40.9092244  24.72625552 22.94098319 21.37881505 27.81886073 27.6632955\n",
      " 59.36334102 31.14102031 27.62641662 40.23930199 42.07613081 47.70134618\n",
      " 43.34243442 20.05376485 37.06657634 36.44624377 30.60354396 28.62438745\n",
      " 29.48165749 26.88069351 43.44570244 31.88442853 43.70094122 17.27556115\n",
      " 27.02054659 30.71222801 45.1424592  45.65540031]\n"
     ]
    },
    {
     "data": {
      "text/plain": [
       "(array([  1.,   1.,  27.,  64., 172., 199., 155.,  56.,  20.,   5.]),\n",
       " array([-2.356525  ,  4.51931234, 11.39514968, 18.27098702, 25.14682436,\n",
       "        32.0226617 , 38.89849904, 45.77433637, 52.65017371, 59.52601105,\n",
       "        66.40184839]),\n",
       " <BarContainer object of 10 artists>)"
      ]
     },
     "execution_count": 6,
     "metadata": {},
     "output_type": "execute_result"
    },
    {
     "data": {
      "image/png": "[encoded data removed]",
      "text/plain": [
       "<Figure size 432x288 with 1 Axes>"
      ]
     },
     "metadata": {
      "needs_background": "light"
     },
     "output_type": "display_data"
    }
   ],
   "source": [
    "rng = np.random.default_rng()\n",
    "vals = rng.normal(loc = ages.mean(), scale = ages.std(), size = N)\n",
    "print(vals)\n",
    "plt.hist(vals, bins=10)"
   ]
  },
  {
   "cell_type": "markdown",
   "id": "92d5690a",
   "metadata": {},
   "source": [
    "This appears to be a relatively close approximation of the age Data Series so we will use the variable vals to synthesise age data. Next we consider the probability that a summitter climbed without oxygen. "
   ]
  },
  {
   "cell_type": "code",
   "execution_count": 20,
   "id": "c5972c02",
   "metadata": {},
   "outputs": [
    {
     "data": {
      "text/html": [
       "<div>\n",
       "<style scoped>\n",
       "    .dataframe tbody tr th:only-of-type {\n",
       "        vertical-align: middle;\n",
       "    }\n",
       "\n",
       "    .dataframe tbody tr th {\n",
       "        vertical-align: top;\n",
       "    }\n",
       "\n",
       "    .dataframe thead th {\n",
       "        text-align: right;\n",
       "    }\n",
       "</style>\n",
       "<table border=\"1\" class=\"dataframe\">\n",
       "  <thead>\n",
       "    <tr style=\"text-align: right;\">\n",
       "      <th></th>\n",
       "      <th>Peak</th>\n",
       "      <th>Name</th>\n",
       "      <th>Year</th>\n",
       "      <th>Season</th>\n",
       "      <th>Date</th>\n",
       "      <th>Time</th>\n",
       "      <th>Citizenship</th>\n",
       "      <th>Sex</th>\n",
       "      <th>Age</th>\n",
       "      <th>Oxy</th>\n",
       "      <th>Dth</th>\n",
       "      <th>Host</th>\n",
       "    </tr>\n",
       "  </thead>\n",
       "  <tbody>\n",
       "    <tr>\n",
       "      <th>190</th>\n",
       "      <td>EVER</td>\n",
       "      <td>Noboru Yamada</td>\n",
       "      <td>1985</td>\n",
       "      <td>Aut</td>\n",
       "      <td>30-Oct</td>\n",
       "      <td>10:00</td>\n",
       "      <td>Japan</td>\n",
       "      <td>M</td>\n",
       "      <td>35</td>\n",
       "      <td>No</td>\n",
       "      <td>.</td>\n",
       "      <td>Nepal</td>\n",
       "    </tr>\n",
       "    <tr>\n",
       "      <th>191</th>\n",
       "      <td>EVER</td>\n",
       "      <td>Ang Rita Sherpa (Yilajung, Khumbu)</td>\n",
       "      <td>1985</td>\n",
       "      <td>Spr</td>\n",
       "      <td>29-Apr</td>\n",
       "      <td>09:25</td>\n",
       "      <td>Nepal</td>\n",
       "      <td>M</td>\n",
       "      <td>36</td>\n",
       "      <td>No</td>\n",
       "      <td>.</td>\n",
       "      <td>Nepal</td>\n",
       "    </tr>\n",
       "    <tr>\n",
       "      <th>200</th>\n",
       "      <td>EVER</td>\n",
       "      <td>Erhard Loretan</td>\n",
       "      <td>1986</td>\n",
       "      <td>Sum</td>\n",
       "      <td>30-Aug</td>\n",
       "      <td>14:30</td>\n",
       "      <td>Switzerland</td>\n",
       "      <td>M</td>\n",
       "      <td>27</td>\n",
       "      <td>No</td>\n",
       "      <td>.</td>\n",
       "      <td>China</td>\n",
       "    </tr>\n",
       "    <tr>\n",
       "      <th>203</th>\n",
       "      <td>EVER</td>\n",
       "      <td>Jean Fernand Troillet</td>\n",
       "      <td>1986</td>\n",
       "      <td>Sum</td>\n",
       "      <td>30-Aug</td>\n",
       "      <td>14:30</td>\n",
       "      <td>Switzerland</td>\n",
       "      <td>M</td>\n",
       "      <td>38</td>\n",
       "      <td>No</td>\n",
       "      <td>.</td>\n",
       "      <td>China</td>\n",
       "    </tr>\n",
       "    <tr>\n",
       "      <th>205</th>\n",
       "      <td>EVER</td>\n",
       "      <td>Ang Rita Sherpa (Yilajung, Khumbu)</td>\n",
       "      <td>1987</td>\n",
       "      <td>Win</td>\n",
       "      <td>22-Dec</td>\n",
       "      <td>14:20</td>\n",
       "      <td>Nepal</td>\n",
       "      <td>M</td>\n",
       "      <td>39</td>\n",
       "      <td>No</td>\n",
       "      <td>.</td>\n",
       "      <td>Nepal</td>\n",
       "    </tr>\n",
       "  </tbody>\n",
       "</table>\n",
       "</div>"
      ],
      "text/plain": [
       "     Peak                                Name  Year Season    Date   Time  \\\n",
       "190  EVER                       Noboru Yamada  1985    Aut  30-Oct  10:00   \n",
       "191  EVER  Ang Rita Sherpa (Yilajung, Khumbu)  1985    Spr  29-Apr  09:25   \n",
       "200  EVER                      Erhard Loretan  1986    Sum  30-Aug  14:30   \n",
       "203  EVER               Jean Fernand Troillet  1986    Sum  30-Aug  14:30   \n",
       "205  EVER  Ang Rita Sherpa (Yilajung, Khumbu)  1987    Win  22-Dec  14:20   \n",
       "\n",
       "     Citizenship Sex  Age Oxy Dth   Host  \n",
       "190        Japan   M   35  No   .  Nepal  \n",
       "191        Nepal   M   36  No   .  Nepal  \n",
       "200  Switzerland   M   27  No   .  China  \n",
       "203  Switzerland   M   38  No   .  China  \n",
       "205        Nepal   M   39  No   .  Nepal  "
      ]
     },
     "execution_count": 20,
     "metadata": {},
     "output_type": "execute_result"
    }
   ],
   "source": [
    "noOxygen = df.loc[df.loc[:,'Oxy'] == 'No']\n",
    "noOxygen.head()"
   ]
  },
  {
   "cell_type": "code",
   "execution_count": 8,
   "id": "a97a2696",
   "metadata": {},
   "outputs": [
    {
     "data": {
      "text/plain": [
       "9840"
      ]
     },
     "execution_count": 8,
     "metadata": {},
     "output_type": "execute_result"
    }
   ],
   "source": [
    "noOxPotential = df.Age.count() \n",
    "noOxPotential"
   ]
  },
  {
   "cell_type": "markdown",
   "id": "6df29453",
   "metadata": {},
   "source": [
    "We can look at the historical data to get an idea of the probability that a climber will not use oxygen in their attempt. We can count the number of climbers in total who have used oxygen and divide it by the total number of summitters. We can use this probability with the binomial distribution to generate our synthetic data on oxygen use."
   ]
  },
  {
   "cell_type": "code",
   "execution_count": 9,
   "id": "f7b4c592",
   "metadata": {},
   "outputs": [
    {
     "data": {
      "text/plain": [
       "0.019715447154471544"
      ]
     },
     "execution_count": 9,
     "metadata": {},
     "output_type": "execute_result"
    }
   ],
   "source": [
    "noOxProbability = noOxygen.Age.count() / noOxPotential\n",
    "noOxProbability"
   ]
  },
  {
   "cell_type": "markdown",
   "id": "9fca42bd",
   "metadata": {},
   "source": [
    "Calculate use of oxygen synthetic data"
   ]
  },
  {
   "cell_type": "code",
   "execution_count": 10,
   "id": "b8f199d5",
   "metadata": {},
   "outputs": [
    {
     "name": "stdout",
     "output_type": "stream",
     "text": [
      "[0, 0, 0, 0, 0, 0, 0, 0, 0, 0, 0, 0, 0, 0, 0, 0, 0, 0, 0, 0, 0, 0, 0, 0, 0, 0, 0, 0, 0, 0, 0, 0, 0, 0, 0, 0, 0, 0, 0, 0, 0, 0, 0, 0, 0, 0, 0, 0, 0, 0, 0, 0, 0, 0, 0, 0, 0, 0, 0, 0, 0, 0, 1, 0, 0, 0, 0, 0, 0, 0, 0, 0, 0, 0, 0, 0, 0, 0, 1, 0, 0, 0, 0, 0, 0, 1, 1, 0, 0, 1, 0, 0, 0, 0, 0, 0, 0, 0, 0, 0, 0, 0, 0, 0, 0, 0, 0, 0, 0, 0, 0, 0, 0, 0, 0, 0, 0, 0, 0, 0, 0, 0, 0, 0, 1, 0, 0, 0, 0, 0, 0, 0, 0, 0, 0, 0, 0, 0, 0, 0, 0, 0, 0, 0, 0, 0, 0, 0, 0, 0, 0, 0, 0, 0, 0, 0, 0, 0, 0, 0, 0, 0, 0, 1, 0, 0, 0, 0, 0, 0, 0, 0, 0, 0, 0, 0, 0, 0, 0, 0, 0, 0, 0, 0, 0, 0, 0, 0, 0, 0, 0, 0, 0, 0, 0, 0, 0, 0, 0, 0, 0, 0, 0, 0, 0, 0, 0, 0, 0, 0, 0, 0, 0, 0, 0, 0, 0, 0, 0, 0, 0, 0, 0, 0, 0, 0, 0, 0, 0, 0, 0, 0, 0, 0, 0, 0, 0, 0, 0, 0, 0, 0, 0, 0, 0, 0, 0, 0, 0, 1, 0, 0, 0, 0, 0, 0, 0, 0, 0, 0, 0, 0, 0, 0, 0, 0, 0, 0, 0, 0, 0, 0, 0, 0, 0, 0, 0, 0, 0, 0, 0, 0, 0, 0, 0, 0, 0, 0, 0, 0, 0, 0, 0, 0, 0, 0, 0, 0, 0, 0, 0, 0, 0, 0, 0, 0, 0, 0, 0, 0, 1, 0, 0, 0, 0, 0, 0, 0, 0, 0, 0, 0, 0, 0, 0, 0, 0, 0, 0, 0, 0, 0, 0, 0, 0, 0, 0, 0, 0, 0, 0, 0, 0, 0, 0, 0, 0, 0, 0, 0, 0, 0, 0, 0, 0, 0, 0, 0, 0, 0, 0, 0, 0, 0, 0, 0, 0, 0, 0, 0, 0, 0, 0, 0, 0, 0, 0, 0, 0, 0, 0, 0, 0, 0, 0, 0, 0, 0, 0, 0, 0, 0, 0, 1, 0, 0, 0, 0, 0, 0, 1, 0, 0, 0, 0, 0, 0, 0, 0, 0, 0, 0, 0, 0, 0, 0, 0, 0, 0, 0, 0, 0, 0, 0, 0, 0, 0, 0, 0, 0, 0, 0, 0, 0, 1, 0, 0, 1, 0, 0, 0, 0, 0, 0, 0, 0, 0, 0, 0, 0, 0, 0, 0, 0, 0, 0, 0, 0, 0, 0, 0, 0, 0, 0, 0, 0, 0, 0, 0, 0, 0, 0, 0, 0, 0, 0, 0, 0, 0, 0, 0, 0, 0, 0, 0, 0, 0, 0, 0, 0, 0, 0, 0, 0, 0, 0, 0, 0, 0, 0, 0, 0, 0, 0, 0, 0, 0, 0, 0, 0, 0, 0, 0, 0, 0, 0, 0, 0, 0, 0, 0, 0, 0, 0, 0, 0, 0, 0, 0, 0, 0, 0, 0, 0, 0, 0, 0, 0, 0, 0, 0, 0, 0, 0, 1, 0, 0, 0, 0, 0, 0, 0, 0, 0, 0, 1, 0, 0, 0, 0, 0, 0, 0, 0, 0, 0, 0, 0, 0, 0, 0, 0, 0, 0, 0, 0, 1, 0, 0, 0, 0, 0, 0, 0, 1, 0, 0, 0, 0, 0, 0, 0, 0, 0, 0, 0, 0, 0, 0, 0, 0, 0, 0, 0, 0, 0, 0, 0, 0, 0, 0, 0, 1, 0, 0, 0, 1, 0, 0, 0, 0, 0, 0, 0, 0, 0, 0, 0, 0, 0, 0, 0, 0, 0, 0, 0, 0, 0, 0, 0, 0, 0, 0, 0, 0, 0, 0, 0, 0, 0, 0, 0, 0, 0, 0, 0, 0, 0, 0, 0, 0, 0, 0, 0, 0, 0, 0, 0, 0, 0, 0, 0, 0, 0, 0, 0, 0, 0, 0, 0, 0, 0, 0, 0, 0, 0, 0, 0, 0, 0, 0, 0, 0, 0, 0, 0, 0, 0, 0, 0]\n"
     ]
    }
   ],
   "source": [
    "oxUse = []\n",
    "for a in vals:\n",
    "    #if a >= 18 and a <= 55:\n",
    "    #    oxUse.append(synNoOx)\n",
    "    #else:\n",
    "    #    oxUse.append(1)\n",
    "    synNoOx = rng.binomial(1, noOxProbability)\n",
    "    oxUse.append(synNoOx)\n",
    "print(oxUse)"
   ]
  },
  {
   "cell_type": "markdown",
   "id": "8da5894e",
   "metadata": {},
   "source": [
    "Next we calculate the probabilities of climbing in each season."
   ]
  },
  {
   "cell_type": "code",
   "execution_count": 11,
   "id": "9195767c",
   "metadata": {},
   "outputs": [
    {
     "data": {
      "text/plain": [
       "[0.9761178861788617,\n",
       " 0.0008130081300813008,\n",
       " 0.02225609756097561,\n",
       " 0.0008130081300813008]"
      ]
     },
     "execution_count": 11,
     "metadata": {},
     "output_type": "execute_result"
    }
   ],
   "source": [
    "sprCount = df.loc[df.loc[:,'Season'] == 'Spr'].Season.count()\n",
    "sumCount = df.loc[df.loc[:,'Season'] == 'Sum'].Season.count()\n",
    "autCount = df.loc[df.loc[:,'Season'] == 'Aut'].Season.count()\n",
    "winCount = df.loc[df.loc[:,'Season'] == 'Win'].Season.count()\n",
    "\n",
    "sprProb = sprCount / df.Season.count()\n",
    "sumProb = sumCount / df.Season.count()\n",
    "autProb = autCount / df.Season.count()\n",
    "winProb = winCount / df.Season.count()\n",
    "\n",
    "seasProbs = [sprProb, sumProb, autProb, winProb]\n",
    "seasProbs"
   ]
  },
  {
   "cell_type": "markdown",
   "id": "bb8afc33",
   "metadata": {},
   "source": [
    "Generate a set of seasons chosen by each climber in the synthetic dataset. We can use the choices method from the random package, with the probabilities above as the weights, to determine a synthetic dataset reflective of the general choices of climbers. It will be heavily dominated by spring but should a couple of attempts in the autumn. Summer and winter are unlikely to feature unless the size of the dataset, N, is quite large."
   ]
  },
  {
   "cell_type": "code",
   "execution_count": 12,
   "id": "283bc9b9",
   "metadata": {},
   "outputs": [
    {
     "name": "stdout",
     "output_type": "stream",
     "text": [
      "['Spr', 'Spr', 'Spr', 'Spr', 'Spr', 'Spr', 'Spr', 'Spr', 'Spr', 'Spr', 'Spr', 'Spr', 'Spr', 'Spr', 'Spr', 'Spr', 'Spr', 'Spr', 'Spr', 'Spr', 'Spr', 'Spr', 'Spr', 'Spr', 'Spr', 'Spr', 'Spr', 'Spr', 'Spr', 'Spr', 'Spr', 'Spr', 'Spr', 'Spr', 'Spr', 'Spr', 'Spr', 'Spr', 'Spr', 'Spr', 'Spr', 'Spr', 'Spr', 'Spr', 'Spr', 'Spr', 'Spr', 'Spr', 'Spr', 'Spr', 'Spr', 'Spr', 'Spr', 'Spr', 'Spr', 'Spr', 'Spr', 'Spr', 'Spr', 'Spr', 'Spr', 'Spr', 'Spr', 'Spr', 'Spr', 'Spr', 'Spr', 'Spr', 'Spr', 'Spr', 'Spr', 'Spr', 'Spr', 'Spr', 'Spr', 'Spr', 'Spr', 'Spr', 'Spr', 'Spr', 'Aut', 'Spr', 'Spr', 'Spr', 'Spr', 'Spr', 'Spr', 'Spr', 'Spr', 'Spr', 'Spr', 'Spr', 'Spr', 'Spr', 'Spr', 'Spr', 'Spr', 'Spr', 'Spr', 'Spr', 'Spr', 'Spr', 'Spr', 'Spr', 'Spr', 'Spr', 'Spr', 'Spr', 'Spr', 'Spr', 'Spr', 'Spr', 'Spr', 'Spr', 'Spr', 'Spr', 'Spr', 'Spr', 'Aut', 'Spr', 'Spr', 'Spr', 'Spr', 'Spr', 'Spr', 'Aut', 'Spr', 'Spr', 'Spr', 'Spr', 'Spr', 'Spr', 'Spr', 'Spr', 'Spr', 'Spr', 'Spr', 'Spr', 'Spr', 'Spr', 'Aut', 'Spr', 'Spr', 'Spr', 'Spr', 'Spr', 'Spr', 'Spr', 'Spr', 'Spr', 'Spr', 'Spr', 'Spr', 'Spr', 'Spr', 'Spr', 'Spr', 'Spr', 'Spr', 'Spr', 'Spr', 'Spr', 'Spr', 'Spr', 'Spr', 'Spr', 'Spr', 'Spr', 'Spr', 'Spr', 'Spr', 'Spr', 'Spr', 'Spr', 'Spr', 'Spr', 'Spr', 'Spr', 'Spr', 'Spr', 'Spr', 'Spr', 'Spr', 'Spr', 'Spr', 'Spr', 'Spr', 'Spr', 'Spr', 'Spr', 'Spr', 'Spr', 'Spr', 'Spr', 'Spr', 'Spr', 'Spr', 'Spr', 'Spr', 'Spr', 'Spr', 'Spr', 'Spr', 'Spr', 'Spr', 'Spr', 'Spr', 'Spr', 'Spr', 'Spr', 'Spr', 'Spr', 'Spr', 'Spr', 'Spr', 'Spr', 'Spr', 'Spr', 'Spr', 'Spr', 'Spr', 'Spr', 'Spr', 'Spr', 'Spr', 'Spr', 'Spr', 'Spr', 'Spr', 'Spr', 'Spr', 'Spr', 'Spr', 'Spr', 'Spr', 'Spr', 'Spr', 'Spr', 'Spr', 'Spr', 'Spr', 'Spr', 'Spr', 'Spr', 'Spr', 'Spr', 'Spr', 'Spr', 'Spr', 'Spr', 'Spr', 'Spr', 'Aut', 'Spr', 'Spr', 'Spr', 'Spr', 'Spr', 'Spr', 'Spr', 'Spr', 'Spr', 'Spr', 'Spr', 'Spr', 'Spr', 'Spr', 'Aut', 'Spr', 'Spr', 'Spr', 'Spr', 'Spr', 'Spr', 'Spr', 'Spr', 'Spr', 'Spr', 'Spr', 'Spr', 'Spr', 'Spr', 'Spr', 'Spr', 'Spr', 'Spr', 'Spr', 'Spr', 'Spr', 'Spr', 'Spr', 'Spr', 'Spr', 'Spr', 'Spr', 'Spr', 'Spr', 'Spr', 'Spr', 'Spr', 'Spr', 'Spr', 'Spr', 'Spr', 'Spr', 'Spr', 'Spr', 'Spr', 'Spr', 'Spr', 'Spr', 'Spr', 'Spr', 'Spr', 'Spr', 'Spr', 'Spr', 'Spr', 'Spr', 'Spr', 'Spr', 'Spr', 'Spr', 'Spr', 'Spr', 'Spr', 'Spr', 'Spr', 'Spr', 'Spr', 'Spr', 'Aut', 'Spr', 'Spr', 'Spr', 'Spr', 'Spr', 'Spr', 'Spr', 'Spr', 'Spr', 'Spr', 'Spr', 'Spr', 'Spr', 'Spr', 'Spr', 'Spr', 'Spr', 'Spr', 'Spr', 'Spr', 'Spr', 'Spr', 'Spr', 'Spr', 'Spr', 'Spr', 'Spr', 'Spr', 'Spr', 'Spr', 'Spr', 'Spr', 'Spr', 'Spr', 'Spr', 'Spr', 'Spr', 'Spr', 'Spr', 'Spr', 'Spr', 'Spr', 'Aut', 'Spr', 'Spr', 'Spr', 'Spr', 'Spr', 'Spr', 'Spr', 'Spr', 'Spr', 'Spr', 'Spr', 'Spr', 'Spr', 'Spr', 'Spr', 'Spr', 'Spr', 'Spr', 'Spr', 'Spr', 'Spr', 'Spr', 'Spr', 'Spr', 'Spr', 'Spr', 'Spr', 'Spr', 'Spr', 'Spr', 'Spr', 'Spr', 'Spr', 'Spr', 'Spr', 'Spr', 'Spr', 'Spr', 'Spr', 'Spr', 'Spr', 'Spr', 'Spr', 'Spr', 'Spr', 'Spr', 'Spr', 'Spr', 'Spr', 'Spr', 'Spr', 'Spr', 'Spr', 'Spr', 'Spr', 'Spr', 'Spr', 'Spr', 'Spr', 'Spr', 'Spr', 'Spr', 'Spr', 'Spr', 'Spr', 'Spr', 'Spr', 'Spr', 'Spr', 'Spr', 'Spr', 'Spr', 'Spr', 'Spr', 'Spr', 'Spr', 'Spr', 'Spr', 'Spr', 'Spr', 'Spr', 'Spr', 'Spr', 'Spr', 'Spr', 'Spr', 'Spr', 'Spr', 'Spr', 'Spr', 'Aut', 'Spr', 'Spr', 'Spr', 'Spr', 'Spr', 'Spr', 'Spr', 'Spr', 'Spr', 'Spr', 'Spr', 'Spr', 'Spr', 'Spr', 'Spr', 'Spr', 'Spr', 'Spr', 'Spr', 'Spr', 'Spr', 'Spr', 'Spr', 'Spr', 'Spr', 'Spr', 'Spr', 'Spr', 'Spr', 'Spr', 'Spr', 'Spr', 'Spr', 'Spr', 'Spr', 'Spr', 'Aut', 'Spr', 'Spr', 'Spr', 'Spr', 'Spr', 'Aut', 'Spr', 'Spr', 'Spr', 'Spr', 'Spr', 'Spr', 'Spr', 'Spr', 'Spr', 'Spr', 'Spr', 'Spr', 'Spr', 'Spr', 'Spr', 'Spr', 'Spr', 'Spr', 'Spr', 'Aut', 'Spr', 'Spr', 'Spr', 'Spr', 'Spr', 'Spr', 'Spr', 'Spr', 'Spr', 'Spr', 'Spr', 'Spr', 'Spr', 'Spr', 'Spr', 'Spr', 'Spr', 'Spr', 'Spr', 'Spr', 'Spr', 'Spr', 'Spr', 'Spr', 'Spr', 'Spr', 'Aut', 'Spr', 'Spr', 'Spr', 'Spr', 'Spr', 'Spr', 'Spr', 'Spr', 'Spr', 'Spr', 'Spr', 'Spr', 'Spr', 'Spr', 'Spr', 'Spr', 'Spr', 'Spr', 'Spr', 'Spr', 'Spr', 'Spr', 'Spr', 'Spr', 'Spr', 'Spr', 'Spr', 'Spr', 'Spr', 'Spr', 'Spr', 'Spr', 'Spr', 'Spr', 'Spr', 'Aut', 'Spr', 'Spr', 'Spr', 'Spr', 'Spr', 'Spr', 'Spr', 'Spr', 'Spr', 'Spr', 'Spr', 'Spr', 'Sum', 'Spr', 'Spr', 'Aut', 'Spr', 'Spr', 'Spr', 'Spr', 'Spr', 'Spr', 'Spr', 'Spr', 'Spr', 'Spr', 'Spr', 'Spr', 'Spr', 'Spr', 'Spr', 'Spr', 'Spr', 'Spr', 'Spr', 'Spr', 'Spr', 'Spr', 'Spr', 'Spr', 'Spr', 'Spr', 'Spr', 'Spr', 'Spr', 'Spr', 'Spr', 'Spr', 'Spr', 'Spr', 'Spr', 'Spr', 'Spr', 'Spr', 'Spr', 'Aut', 'Aut', 'Spr', 'Spr', 'Spr', 'Spr', 'Spr', 'Spr', 'Spr', 'Spr', 'Spr', 'Spr', 'Spr', 'Spr', 'Spr', 'Spr', 'Spr', 'Spr', 'Spr', 'Spr', 'Spr', 'Spr', 'Spr', 'Spr', 'Spr', 'Spr', 'Spr', 'Spr', 'Spr', 'Spr', 'Spr', 'Spr', 'Spr', 'Spr', 'Spr', 'Spr', 'Spr', 'Aut', 'Spr', 'Spr', 'Spr', 'Spr', 'Spr', 'Spr', 'Spr', 'Spr', 'Spr', 'Spr', 'Spr', 'Spr', 'Spr', 'Spr', 'Spr']\n"
     ]
    }
   ],
   "source": [
    "seas = ['Spr', 'Sum', 'Aut', 'Win']\n",
    "seasList = []\n",
    "\n",
    "for i in range(0, N):\n",
    "    seasChoice = random.choices(seas, weights=seasProbs)\n",
    "    seasList.append(seasChoice[0])\n",
    "\n",
    "print(seasList)"
   ]
  },
  {
   "cell_type": "markdown",
   "id": "659566a3",
   "metadata": {},
   "source": [
    "Calculate the probabilities of surviving for summitting in each season with and without oxygen. Again we will use these probabilities with the binomial distribution as we are considering a binary choice, either surviving or not."
   ]
  },
  {
   "cell_type": "code",
   "execution_count": 13,
   "id": "78623522",
   "metadata": {},
   "outputs": [
    {
     "name": "stdout",
     "output_type": "stream",
     "text": [
      "The historical probability of death after summitting when climbing without oxygen in Spr is 0.05\n",
      "The historical probability of death after summitting when climbing with oxygen in Spr is 0.01\n",
      "The historical probability of death after summitting when climbing without oxygen in Sum is 0.0\n",
      "The historical probability of death after summitting when climbing with oxygen in Sum is 0.0\n",
      "The historical probability of death after summitting when climbing without oxygen in Aut is 0.06\n",
      "The historical probability of death after summitting when climbing with oxygen in Aut is 0.01\n",
      "The historical probability of death after summitting when climbing without oxygen in Win is 0.0\n",
      "The historical probability of death after summitting when climbing with oxygen in Win is 0.0\n"
     ]
    }
   ],
   "source": [
    "for i in seas:\n",
    "    NoOxDeathProb = round(df[(df['Season'] == i) & (df['Oxy'] == 'No') & (df['Dth'] == 'Y')].Dth.count() \\\n",
    "                           / df[(df['Season'] == i) & (df['Oxy'] == 'No')].Season.count(),2)\n",
    "    print('The historical probability of death after summitting when climbing without oxygen in {} is {}'.format(i,NoOxDeathProb))\n",
    "    OxDeathProb = round(df[(df['Season'] == i) & (df['Oxy'] == 'Y') & (df['Dth'] == 'Y')].Dth.count() \\\n",
    "                           / df[(df['Season'] == i) & (df['Oxy'] == 'Y')].Season.count(),2)\n",
    "    print('The historical probability of death after summitting when climbing with oxygen in {} is {}'.format(i,OxDeathProb))\n"
   ]
  },
  {
   "cell_type": "markdown",
   "id": "f4c4360b",
   "metadata": {},
   "source": [
    "Compile list with climber number, ages, season and oxygen use."
   ]
  },
  {
   "cell_type": "code",
   "execution_count": 14,
   "id": "09539a5d",
   "metadata": {},
   "outputs": [
    {
     "data": {
      "text/html": [
       "<div>\n",
       "<style scoped>\n",
       "    .dataframe tbody tr th:only-of-type {\n",
       "        vertical-align: middle;\n",
       "    }\n",
       "\n",
       "    .dataframe tbody tr th {\n",
       "        vertical-align: top;\n",
       "    }\n",
       "\n",
       "    .dataframe thead th {\n",
       "        text-align: right;\n",
       "    }\n",
       "</style>\n",
       "<table border=\"1\" class=\"dataframe\">\n",
       "  <thead>\n",
       "    <tr style=\"text-align: right;\">\n",
       "      <th></th>\n",
       "      <th>Climber</th>\n",
       "      <th>Age</th>\n",
       "      <th>Oxygen</th>\n",
       "      <th>Season</th>\n",
       "      <th>Survived</th>\n",
       "    </tr>\n",
       "  </thead>\n",
       "  <tbody>\n",
       "    <tr>\n",
       "      <th>0</th>\n",
       "      <td>0</td>\n",
       "      <td>66.0</td>\n",
       "      <td>Yes</td>\n",
       "      <td>Spr</td>\n",
       "      <td>Survived</td>\n",
       "    </tr>\n",
       "    <tr>\n",
       "      <th>1</th>\n",
       "      <td>1</td>\n",
       "      <td>55.0</td>\n",
       "      <td>Yes</td>\n",
       "      <td>Spr</td>\n",
       "      <td>Survived</td>\n",
       "    </tr>\n",
       "    <tr>\n",
       "      <th>2</th>\n",
       "      <td>2</td>\n",
       "      <td>41.0</td>\n",
       "      <td>Yes</td>\n",
       "      <td>Spr</td>\n",
       "      <td>Survived</td>\n",
       "    </tr>\n",
       "    <tr>\n",
       "      <th>3</th>\n",
       "      <td>3</td>\n",
       "      <td>43.0</td>\n",
       "      <td>Yes</td>\n",
       "      <td>Spr</td>\n",
       "      <td>Survived</td>\n",
       "    </tr>\n",
       "    <tr>\n",
       "      <th>4</th>\n",
       "      <td>4</td>\n",
       "      <td>46.0</td>\n",
       "      <td>Yes</td>\n",
       "      <td>Spr</td>\n",
       "      <td>Survived</td>\n",
       "    </tr>\n",
       "    <tr>\n",
       "      <th>...</th>\n",
       "      <td>...</td>\n",
       "      <td>...</td>\n",
       "      <td>...</td>\n",
       "      <td>...</td>\n",
       "      <td>...</td>\n",
       "    </tr>\n",
       "    <tr>\n",
       "      <th>695</th>\n",
       "      <td>695</td>\n",
       "      <td>17.0</td>\n",
       "      <td>Yes</td>\n",
       "      <td>Spr</td>\n",
       "      <td>Survived</td>\n",
       "    </tr>\n",
       "    <tr>\n",
       "      <th>696</th>\n",
       "      <td>696</td>\n",
       "      <td>27.0</td>\n",
       "      <td>Yes</td>\n",
       "      <td>Spr</td>\n",
       "      <td>Died</td>\n",
       "    </tr>\n",
       "    <tr>\n",
       "      <th>697</th>\n",
       "      <td>697</td>\n",
       "      <td>31.0</td>\n",
       "      <td>Yes</td>\n",
       "      <td>Spr</td>\n",
       "      <td>Survived</td>\n",
       "    </tr>\n",
       "    <tr>\n",
       "      <th>698</th>\n",
       "      <td>698</td>\n",
       "      <td>45.0</td>\n",
       "      <td>Yes</td>\n",
       "      <td>Spr</td>\n",
       "      <td>Survived</td>\n",
       "    </tr>\n",
       "    <tr>\n",
       "      <th>699</th>\n",
       "      <td>699</td>\n",
       "      <td>46.0</td>\n",
       "      <td>Yes</td>\n",
       "      <td>Spr</td>\n",
       "      <td>Survived</td>\n",
       "    </tr>\n",
       "  </tbody>\n",
       "</table>\n",
       "<p>700 rows × 5 columns</p>\n",
       "</div>"
      ],
      "text/plain": [
       "     Climber   Age Oxygen Season  Survived\n",
       "0          0  66.0    Yes    Spr  Survived\n",
       "1          1  55.0    Yes    Spr  Survived\n",
       "2          2  41.0    Yes    Spr  Survived\n",
       "3          3  43.0    Yes    Spr  Survived\n",
       "4          4  46.0    Yes    Spr  Survived\n",
       "..       ...   ...    ...    ...       ...\n",
       "695      695  17.0    Yes    Spr  Survived\n",
       "696      696  27.0    Yes    Spr      Died\n",
       "697      697  31.0    Yes    Spr  Survived\n",
       "698      698  45.0    Yes    Spr  Survived\n",
       "699      699  46.0    Yes    Spr  Survived\n",
       "\n",
       "[700 rows x 5 columns]"
      ]
     },
     "execution_count": 14,
     "metadata": {},
     "output_type": "execute_result"
    }
   ],
   "source": [
    "synEverestData = []\n",
    "\n",
    "def everestFunction():\n",
    "    for i in range(0, N):\n",
    "        data = []\n",
    "        if oxUse[i] == 0 and seasList[i] == 'Spr':\n",
    "            death = rng.binomial(1, df[(df['Season'] == 'Spr') & (df['Oxy'] == 'No') & (df['Dth'] == 'Y')].Dth.count() \\\n",
    "                               / df[(df['Season'] == 'Spr') & (df['Oxy'] == 'No')].Season.count())\n",
    "\n",
    "        elif oxUse[i] == 1 and seasList[i] == 'Spr':\n",
    "            death = rng.binomial(1, df[(df['Season'] == 'Spr') & (df['Oxy'] == 'Y') & (df['Dth'] == 'Y')].Dth.count() \\\n",
    "                               / df[(df['Season'] == 'Spr') & (df['Oxy'] == 'Y')].Season.count())\n",
    "\n",
    "        elif oxUse[i] == 0 and seasList[i] == 'Sum':\n",
    "            death = rng.binomial(1, df[(df['Season'] == 'Sum') & (df['Oxy'] == 'No') & (df['Dth'] == 'Y')].Dth.count() \\\n",
    "                               / df[(df['Season'] == 'Sum') & (df['Oxy'] == 'No')].Season.count())\n",
    "\n",
    "        elif oxUse[i] == 1 and seasList[i] == 'Sum':\n",
    "            death = rng.binomial(1, df[(df['Season'] == 'Sum') & (df['Oxy'] == 'Y') & (df['Dth'] == 'Y')].Dth.count() \\\n",
    "                               / df[(df['Season'] == 'Sum') & (df['Oxy'] == 'Y')].Season.count())\n",
    "\n",
    "        elif oxUse[i] == 0 and seasList[i] == 'Aut':\n",
    "            death = rng.binomial(1, df[(df['Season'] == 'Aut') & (df['Oxy'] == 'No') & (df['Dth'] == 'Y')].Dth.count() \\\n",
    "                               / df[(df['Season'] == 'Aut') & (df['Oxy'] == 'No')].Season.count())\n",
    "\n",
    "        elif oxUse[i] == 1 and seasList[i] == 'Aut':\n",
    "            death = rng.binomial(1, df[(df['Season'] == 'Aut') & (df['Oxy'] == 'Y') & (df['Dth'] == 'Y')].Dth.count() \\\n",
    "                               / df[(df['Season'] == 'Aut') & (df['Oxy'] == 'Y')].Season.count())\n",
    "\n",
    "        elif oxUse[i] == 0 and seasList[i] == 'Win':\n",
    "            death = rng.binomial(1, df[(df['Season'] == 'Win') & (df['Oxy'] == 'No') & (df['Dth'] == 'Y')].Dth.count() \\\n",
    "                               / df[(df['Season'] == 'Win') & (df['Oxy'] == 'No')].Season.count())\n",
    "\n",
    "        elif oxUse[i] == 1 and seasList[i] == 'Win':\n",
    "            death = rng.binomial(1, df[(df['Season'] == 'Win') & (df['Oxy'] == 'Y') & (df['Dth'] == 'Y')].Dth.count() \\\n",
    "                               / df[(df['Season'] == 'Win') & (df['Oxy'] == 'Y')].Season.count())\n",
    "\n",
    "        if oxUse[i] == 1:\n",
    "            oxUse2 = 'No'\n",
    "        else:\n",
    "            oxUse2 = 'Yes'\n",
    "\n",
    "        if death == 0:\n",
    "            death2 = 'Survived'\n",
    "        else:\n",
    "            death2 = 'Died'\n",
    "\n",
    "\n",
    "        data = [i, round(vals[i],0), oxUse2, seasList[i], death2]\n",
    "        synEverestData.append(data)\n",
    "        synEverestDataDf = pd.DataFrame(synEverestData, columns=['Climber', 'Age', 'Oxygen', 'Season', 'Survived'])\n",
    "        \n",
    "    return synEverestDataDf\n",
    "        \n",
    "\n",
    "everestFunction()\n",
    "\n"
   ]
  },
  {
   "cell_type": "code",
   "execution_count": 15,
   "id": "9177d0eb",
   "metadata": {},
   "outputs": [
    {
     "data": {
      "text/html": [
       "<div>\n",
       "<style scoped>\n",
       "    .dataframe tbody tr th:only-of-type {\n",
       "        vertical-align: middle;\n",
       "    }\n",
       "\n",
       "    .dataframe tbody tr th {\n",
       "        vertical-align: top;\n",
       "    }\n",
       "\n",
       "    .dataframe thead th {\n",
       "        text-align: right;\n",
       "    }\n",
       "</style>\n",
       "<table border=\"1\" class=\"dataframe\">\n",
       "  <thead>\n",
       "    <tr style=\"text-align: right;\">\n",
       "      <th></th>\n",
       "      <th>Climber</th>\n",
       "      <th>Age</th>\n",
       "      <th>Oxygen</th>\n",
       "      <th>Season</th>\n",
       "      <th>Survived</th>\n",
       "    </tr>\n",
       "  </thead>\n",
       "  <tbody>\n",
       "    <tr>\n",
       "      <th>0</th>\n",
       "      <td>0</td>\n",
       "      <td>66.0</td>\n",
       "      <td>Yes</td>\n",
       "      <td>Spr</td>\n",
       "      <td>Survived</td>\n",
       "    </tr>\n",
       "    <tr>\n",
       "      <th>1</th>\n",
       "      <td>1</td>\n",
       "      <td>55.0</td>\n",
       "      <td>Yes</td>\n",
       "      <td>Spr</td>\n",
       "      <td>Survived</td>\n",
       "    </tr>\n",
       "    <tr>\n",
       "      <th>2</th>\n",
       "      <td>2</td>\n",
       "      <td>41.0</td>\n",
       "      <td>Yes</td>\n",
       "      <td>Spr</td>\n",
       "      <td>Survived</td>\n",
       "    </tr>\n",
       "    <tr>\n",
       "      <th>3</th>\n",
       "      <td>3</td>\n",
       "      <td>43.0</td>\n",
       "      <td>Yes</td>\n",
       "      <td>Spr</td>\n",
       "      <td>Survived</td>\n",
       "    </tr>\n",
       "    <tr>\n",
       "      <th>4</th>\n",
       "      <td>4</td>\n",
       "      <td>46.0</td>\n",
       "      <td>Yes</td>\n",
       "      <td>Spr</td>\n",
       "      <td>Survived</td>\n",
       "    </tr>\n",
       "  </tbody>\n",
       "</table>\n",
       "</div>"
      ],
      "text/plain": [
       "   Climber   Age Oxygen Season  Survived\n",
       "0        0  66.0    Yes    Spr  Survived\n",
       "1        1  55.0    Yes    Spr  Survived\n",
       "2        2  41.0    Yes    Spr  Survived\n",
       "3        3  43.0    Yes    Spr  Survived\n",
       "4        4  46.0    Yes    Spr  Survived"
      ]
     },
     "execution_count": 15,
     "metadata": {},
     "output_type": "execute_result"
    }
   ],
   "source": [
    "synEverestDataDf = pd.DataFrame(synEverestData, columns=['Climber', 'Age', 'Oxygen', 'Season', 'Survived'])\n",
    "\n",
    "synEverestDataDf.head()"
   ]
  },
  {
   "cell_type": "markdown",
   "id": "16e8fa9d",
   "metadata": {},
   "source": [
    "The number of deaths in this synthetic dataset can be measured against the historicial death rate."
   ]
  },
  {
   "cell_type": "code",
   "execution_count": 16,
   "id": "d0776f90",
   "metadata": {},
   "outputs": [
    {
     "data": {
      "text/plain": [
       "39"
      ]
     },
     "execution_count": 16,
     "metadata": {},
     "output_type": "execute_result"
    }
   ],
   "source": [
    "numberOfDeaths = synEverestDataDf[synEverestDataDf['Survived'] == 'Died'].Survived.count()\n",
    "numberOfDeaths"
   ]
  },
  {
   "cell_type": "markdown",
   "id": "1dbffb5f",
   "metadata": {},
   "source": [
    "The historical death rate is calculated by:"
   ]
  },
  {
   "cell_type": "code",
   "execution_count": 17,
   "id": "f4dacec4",
   "metadata": {},
   "outputs": [
    {
     "data": {
      "text/plain": [
       "0.008"
      ]
     },
     "execution_count": 17,
     "metadata": {},
     "output_type": "execute_result"
    }
   ],
   "source": [
    "historicalDeathRate = round(df[df['Dth'] == 'Y'].Dth.count() / df.Dth.count(), 3)\n",
    "historicalDeathRate"
   ]
  },
  {
   "cell_type": "markdown",
   "id": "1ce4dcc0",
   "metadata": {},
   "source": [
    "Our dataset death rate is calculated by:"
   ]
  },
  {
   "cell_type": "code",
   "execution_count": 18,
   "id": "e5512e21",
   "metadata": {},
   "outputs": [
    {
     "name": "stdout",
     "output_type": "stream",
     "text": [
      "0.056\n"
     ]
    }
   ],
   "source": [
    "predictDeathRate = round(synEverestDataDf[(synEverestDataDf['Survived'] == 'Died')].Survived.count() / synEverestDataDf.Survived.count(),3)\n",
    "print(predictDeathRate)"
   ]
  },
  {
   "cell_type": "code",
   "execution_count": null,
   "id": "108071d8",
   "metadata": {},
   "outputs": [],
   "source": []
  }
 ],
 "metadata": {
  "kernelspec": {
   "display_name": "Python 3 (ipykernel)",
   "language": "python",
   "name": "python3"
  },
  "language_info": {
   "codemirror_mode": {
    "name": "ipython",
    "version": 3
   },
   "file_extension": ".py",
   "mimetype": "text/x-python",
   "name": "python",
   "nbconvert_exporter": "python",
   "pygments_lexer": "ipython3",
   "version": "3.9.7"
  }
 },
 "nbformat": 4,
 "nbformat_minor": 5
}
