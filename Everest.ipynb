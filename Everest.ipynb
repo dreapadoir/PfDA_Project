{
 "cells": [
  {
   "cell_type": "markdown",
   "id": "ef525c35",
   "metadata": {},
   "source": [
    "# Survivalibility on Mt. Everest\n",
    "\n",
    "## Programming for Data Analysis Project 1\n",
    "\n",
    "## Author: David Higgins - G00411302"
   ]
  },
  {
   "cell_type": "markdown",
   "id": "38d24c59",
   "metadata": {},
   "source": [
    "\"Getting to the top is optional. Getting down is mandatory.\"\n",
    "\n",
    "\\- Ed Viesturs"
   ]
  },
  {
   "cell_type": "code",
   "execution_count": 1,
   "id": "6b7eb868",
   "metadata": {},
   "outputs": [],
   "source": [
    "import numpy as np\n",
    "import pandas as pd\n",
    "import matplotlib.pyplot as plt\n",
    "import random\n",
    "\n",
    "N = 700"
   ]
  },
  {
   "cell_type": "markdown",
   "id": "9c00f5e6",
   "metadata": {},
   "source": [
    "We first import the Mt. Everest Ascent dataset to understand what information is available for mountaineers and to get an idea of the shape of that data."
   ]
  },
  {
   "cell_type": "code",
   "execution_count": 2,
   "id": "af1add20",
   "metadata": {},
   "outputs": [
    {
     "data": {
      "text/html": [
       "<div>\n",
       "<style scoped>\n",
       "    .dataframe tbody tr th:only-of-type {\n",
       "        vertical-align: middle;\n",
       "    }\n",
       "\n",
       "    .dataframe tbody tr th {\n",
       "        vertical-align: top;\n",
       "    }\n",
       "\n",
       "    .dataframe thead th {\n",
       "        text-align: right;\n",
       "    }\n",
       "</style>\n",
       "<table border=\"1\" class=\"dataframe\">\n",
       "  <thead>\n",
       "    <tr style=\"text-align: right;\">\n",
       "      <th></th>\n",
       "      <th>Peak</th>\n",
       "      <th>Name</th>\n",
       "      <th>Year</th>\n",
       "      <th>Season</th>\n",
       "      <th>Date</th>\n",
       "      <th>Time</th>\n",
       "      <th>Citizenship</th>\n",
       "      <th>Sex</th>\n",
       "      <th>Age</th>\n",
       "      <th>Oxy</th>\n",
       "      <th>Dth</th>\n",
       "      <th>Host</th>\n",
       "    </tr>\n",
       "  </thead>\n",
       "  <tbody>\n",
       "    <tr>\n",
       "      <th>0</th>\n",
       "      <td>EVER</td>\n",
       "      <td>Edmund Percival Hillary</td>\n",
       "      <td>1953</td>\n",
       "      <td>Spr</td>\n",
       "      <td>29-May</td>\n",
       "      <td>11:30</td>\n",
       "      <td>New Zealand</td>\n",
       "      <td>M</td>\n",
       "      <td>33</td>\n",
       "      <td>Y</td>\n",
       "      <td>.</td>\n",
       "      <td>Nepal</td>\n",
       "    </tr>\n",
       "    <tr>\n",
       "      <th>1</th>\n",
       "      <td>EVER</td>\n",
       "      <td>Tenzing Norgay</td>\n",
       "      <td>1953</td>\n",
       "      <td>Spr</td>\n",
       "      <td>29-May</td>\n",
       "      <td>11:30</td>\n",
       "      <td>India</td>\n",
       "      <td>M</td>\n",
       "      <td>39</td>\n",
       "      <td>Y</td>\n",
       "      <td>.</td>\n",
       "      <td>Nepal</td>\n",
       "    </tr>\n",
       "    <tr>\n",
       "      <th>2</th>\n",
       "      <td>EVER</td>\n",
       "      <td>Hans-Rudolf Von Gunten</td>\n",
       "      <td>1956</td>\n",
       "      <td>Spr</td>\n",
       "      <td>24-May</td>\n",
       "      <td>11:00</td>\n",
       "      <td>Switzerland</td>\n",
       "      <td>M</td>\n",
       "      <td>27</td>\n",
       "      <td>Y</td>\n",
       "      <td>.</td>\n",
       "      <td>Nepal</td>\n",
       "    </tr>\n",
       "    <tr>\n",
       "      <th>3</th>\n",
       "      <td>EVER</td>\n",
       "      <td>Juerg P. Marmet</td>\n",
       "      <td>1956</td>\n",
       "      <td>Spr</td>\n",
       "      <td>23-May</td>\n",
       "      <td>14:00</td>\n",
       "      <td>Switzerland</td>\n",
       "      <td>M</td>\n",
       "      <td>28</td>\n",
       "      <td>Y</td>\n",
       "      <td>.</td>\n",
       "      <td>Nepal</td>\n",
       "    </tr>\n",
       "    <tr>\n",
       "      <th>4</th>\n",
       "      <td>EVER</td>\n",
       "      <td>Ernst Schmied</td>\n",
       "      <td>1956</td>\n",
       "      <td>Spr</td>\n",
       "      <td>23-May</td>\n",
       "      <td>14:00</td>\n",
       "      <td>Switzerland</td>\n",
       "      <td>M</td>\n",
       "      <td>31</td>\n",
       "      <td>Y</td>\n",
       "      <td>.</td>\n",
       "      <td>Nepal</td>\n",
       "    </tr>\n",
       "  </tbody>\n",
       "</table>\n",
       "</div>"
      ],
      "text/plain": [
       "   Peak                     Name  Year Season    Date   Time  Citizenship Sex  \\\n",
       "0  EVER  Edmund Percival Hillary  1953    Spr  29-May  11:30  New Zealand   M   \n",
       "1  EVER          Tenzing Norgay   1953    Spr  29-May  11:30        India   M   \n",
       "2  EVER   Hans-Rudolf Von Gunten  1956    Spr  24-May  11:00  Switzerland   M   \n",
       "3  EVER          Juerg P. Marmet  1956    Spr  23-May  14:00  Switzerland   M   \n",
       "4  EVER            Ernst Schmied  1956    Spr  23-May  14:00  Switzerland   M   \n",
       "\n",
       "   Age Oxy Dth   Host  \n",
       "0   33   Y   .  Nepal  \n",
       "1   39   Y   .  Nepal  \n",
       "2   27   Y   .  Nepal  \n",
       "3   28   Y   .  Nepal  \n",
       "4   31   Y   .  Nepal  "
      ]
     },
     "execution_count": 2,
     "metadata": {},
     "output_type": "execute_result"
    }
   ],
   "source": [
    "df = pd.read_csv(\"Mt_Everest_Ascent_Data.csv\")\n",
    "df.head()"
   ]
  },
  {
   "cell_type": "markdown",
   "id": "68490c79",
   "metadata": {},
   "source": [
    "We can create a Data Series containing just the age values. It's then possible to use the describe() method to find out the mean and standard deviation of the ages of summitters."
   ]
  },
  {
   "cell_type": "code",
   "execution_count": 3,
   "id": "c6a91a14",
   "metadata": {},
   "outputs": [
    {
     "data": {
      "text/plain": [
       "count    10010.000000\n",
       "mean        35.293906\n",
       "std          9.314089\n",
       "min         13.000000\n",
       "25%         28.000000\n",
       "50%         34.000000\n",
       "75%         41.000000\n",
       "max         80.000000\n",
       "Name: Age, dtype: float64"
      ]
     },
     "execution_count": 3,
     "metadata": {},
     "output_type": "execute_result"
    }
   ],
   "source": [
    "ages = df.loc[:,'Age']\n",
    "ages.describe()"
   ]
  },
  {
   "cell_type": "markdown",
   "id": "fe363342",
   "metadata": {},
   "source": [
    "Plotting a histogram of the age Data Series gives us an idea of the shape of the distribution. This is often the best indicator of what distribution is appropriate when generating synthetic data."
   ]
  },
  {
   "cell_type": "code",
   "execution_count": 4,
   "id": "3f9000c6",
   "metadata": {},
   "outputs": [
    {
     "data": {
      "text/plain": [
       "(array([ 151., 1629., 2943., 2221., 1825.,  832.,  296.,   93.,   17.,\n",
       "           3.]),\n",
       " array([13. , 19.7, 26.4, 33.1, 39.8, 46.5, 53.2, 59.9, 66.6, 73.3, 80. ]),\n",
       " <BarContainer object of 10 artists>)"
      ]
     },
     "execution_count": 4,
     "metadata": {},
     "output_type": "execute_result"
    },
    {
     "data": {
      "image/png": "[encoded data removed]",
      "text/plain": [
       "<Figure size 432x288 with 1 Axes>"
      ]
     },
     "metadata": {
      "needs_background": "light"
     },
     "output_type": "display_data"
    }
   ],
   "source": [
    "plt.hist(ages, bins=10)"
   ]
  },
  {
   "cell_type": "markdown",
   "id": "754b2f9e",
   "metadata": {},
   "source": [
    "This histogram looks relatively normally distributed. We can try generating a dataset using the mean and standard deviation of the ages Data Series."
   ]
  },
  {
   "cell_type": "code",
   "execution_count": 5,
   "id": "62ffa016",
   "metadata": {},
   "outputs": [
    {
     "name": "stdout",
     "output_type": "stream",
     "text": [
      "[37.36810062 49.6336841  40.34200094 45.79029849 42.01662099 41.98513933\n",
      " 17.06381845 12.36537563 40.39841545 43.5976744  43.35742372 55.61896909\n",
      " 19.56927011 37.38390717 35.28828261 33.53312075 24.8679784  18.37266067\n",
      " 31.79233069 24.12398501 33.68767649 54.30780814 35.35983545 29.2662366\n",
      " 23.07677622 21.70137095 36.65621253 30.4107995  43.98303491 53.14475688\n",
      " 51.42600198 21.51263676 33.17665394 50.47861071 12.61508989 38.38459673\n",
      " 32.96682531 35.76986224 32.01904236 29.31444483 13.67478113 44.62655349\n",
      " 29.00462229 25.66809548 42.44803865 37.37754434 32.15900538 28.09058021\n",
      " 35.70970045 26.60267913 30.29916706 54.63745038 35.67018257 42.49641082\n",
      " 21.83684646 42.85643221 47.69683865 25.62203857 23.86392203 50.58490791\n",
      " 20.38933491 29.45466126 30.69887138 29.26787162 48.93886331 36.79492638\n",
      " 45.07241943 31.79560468 45.00268113 34.8560355  21.54635322 30.29702839\n",
      " 30.5884328  42.11972279 40.59651614 24.66600951 27.24849448 35.41825137\n",
      " 58.55443578 46.36582497 33.8041663  38.19987933 38.57149544 31.06971121\n",
      " 33.97512751 27.39183371 19.59518553 35.11759651 38.59873482 38.55086569\n",
      " 31.37383219 31.53458919 39.50000816 47.7230639  22.97756758 30.24630151\n",
      " 28.92859598 27.03543604 23.09344591 37.8600815  45.52754043 37.96679368\n",
      " 58.36830202 40.58116502 46.51875109 17.30581605 30.73583081 28.1527678\n",
      " 36.83584288 24.57482165 33.72081672 40.61246719 35.05602284 39.25670882\n",
      " 17.47327159 40.34669405 28.57505561 35.7671318  33.10824212 36.80046276\n",
      " 32.76555272 46.02582116 34.00120561 26.02149183 49.73913151 50.10825952\n",
      " 36.33281116 44.98286899 31.91035649 42.44590268 45.0541119  21.85042175\n",
      " 42.59636087 44.84799721 51.03407259 26.18001345 35.38760547 53.83979473\n",
      " 36.51506534 47.81257691 34.42182867 18.1520934  29.05280764 36.5008055\n",
      " 55.65858403 36.39503984 35.15962746 46.10729357 25.35047236 23.03226151\n",
      " 44.60589731 36.3740636  33.158383   37.73773903 41.23863614 27.47516641\n",
      " 15.95318431 20.36301109 26.13711254 25.58018682 34.87477774 35.74386305\n",
      " 42.2235459  50.8427082  37.73803708 20.72137869 26.97360075 44.14887613\n",
      " 23.25585782 21.56001294 37.6690721  40.89169864 38.73740729 47.77359095\n",
      "  9.69826435 32.23984739 40.60650314 32.62783417 30.82866013 30.68891636\n",
      " 36.06663417 26.22064748 45.58726501 26.12763458 35.26359708 33.74726169\n",
      " 35.5287186  30.6644058  41.69991994 14.12786588 23.62327641 23.46520741\n",
      " 30.63860428 33.94963483 37.11250489 34.85732516 45.75115336 42.13462072\n",
      " 32.14932329 54.04911426 49.49098037 28.02955154 20.49972449 38.99677114\n",
      " 19.98357995 32.79881718 32.32440429 21.51556196 34.78805812 37.70593736\n",
      " 35.35181806 28.16258371 36.50411761 43.14779626 27.16481851 47.3048971\n",
      " 35.38338517 33.03071655 16.96772731 36.85583047 34.83810502 36.92719695\n",
      " 45.32547789 24.41026577 33.36170322 33.04966536 43.92632028 33.15780386\n",
      " 32.60768617 49.79627197 23.18291217 27.47112263 39.65776089 49.81611528\n",
      " 30.28118965 27.65825713 33.40731784 31.9638885  31.01539685 44.52942377\n",
      " 37.70371129 23.75905994 27.1833872  23.34403195 18.18201876 12.41647925\n",
      " 35.68083203 33.27392699 50.67825663 36.23802605 28.98342051 15.75866772\n",
      " 45.50524109 35.35657805 17.46023579 37.39071983 43.56012589 26.63194876\n",
      " 35.10711995 38.75586254 18.38926173 20.849404   49.36058    29.97227654\n",
      " 24.57425915 23.06538357 45.52562438 45.79963918 27.56323142 34.49943063\n",
      " 33.46247573 34.3837914  35.03847081 52.10893822 41.05150218 17.13424961\n",
      " 21.0627253  41.45734278 48.41509107 40.45939252 32.18917531 35.17778304\n",
      " 31.75942645 38.94321787 30.88356056 24.65170666 71.56764698 55.18765996\n",
      " 32.37415627 23.56618393 34.15073623 34.76344398 37.50156529 23.38388326\n",
      " 34.06381422 35.93213283 34.18506277 28.90731913 37.4004241  25.05200236\n",
      " 43.85240649 48.28289372 48.74186677 44.37131162 38.55583286 32.29629171\n",
      " 43.65136307 20.52321918 39.74482952 25.57370645 30.1219803  46.85092927\n",
      " 51.26503361 38.88035941 45.98999229 34.72717091 28.63372207 43.41112548\n",
      " 55.00783951 36.00003087 45.31756945 36.72179176 35.79801656 31.57125587\n",
      " 40.91903581 49.04725924 29.3133052  25.09572241 31.32156169 37.02535545\n",
      " 32.15350093 29.77852451 20.57377672 46.99978142 38.44322403 28.37469136\n",
      " 46.05128305 39.41889024 33.56515314 46.50482102 34.77278507 48.44825761\n",
      " 18.45540327 20.37375373 38.04179802 25.81348898 35.49261659 44.96667597\n",
      " 44.23136398 30.62212044 48.74049898 11.82361962 27.46048168 36.98602118\n",
      " 34.28668751 42.00829247 34.24096038 35.34648063 30.21083454 45.88498892\n",
      " 29.84347231 25.946997   38.26306092 40.98808199 34.19563916 28.14784636\n",
      " 27.36877551 36.95627942 52.4725176  27.62017791 39.11640115 32.47059047\n",
      " 25.76114963 33.21767359 43.40187935 44.51219745 26.53605816 55.12062632\n",
      " 20.93136804 37.28275172 30.37809846  8.79811442 31.35235341 36.7583619\n",
      " 24.66023479 47.43926236 23.06647534 24.80494577 35.74107161 48.02632241\n",
      " 47.72022624 23.55524733 33.40096712 44.76150937 49.69324346 26.14710325\n",
      " 33.12427112 39.16244786 24.07623452 35.08643225 24.73501895 47.68143914\n",
      " 31.04655073 39.99480309 28.23317723 27.46759561 44.87732226 58.41544206\n",
      " 43.47675854 31.73589981 33.82159513 47.38755225 25.43927458 35.49277431\n",
      " 40.81883623 37.66168301 44.2527014  33.96129388 39.31033706 40.94794198\n",
      " 33.96006915 23.12995634 46.91365603 25.34005148 40.93278467 33.04119434\n",
      " 43.96233031  5.30976385 36.8850538  37.88237713 46.1873198  41.69776681\n",
      " 33.363586   30.76299816 23.12748296 37.71915393 39.45367734 56.26253567\n",
      " 31.55950007 36.65497135 26.14713637 23.15702699 40.13476213 29.11742671\n",
      " 19.61537477 47.44398701 22.79974718 33.36915903 44.12933218 31.3035758\n",
      " 40.42559377 38.51214271 30.8726461  30.63536014 34.38782225 40.1858729\n",
      " 44.04111408 33.25327023 45.85687564 37.10298047 24.58153922 25.38369984\n",
      " 58.94342265 36.72243614 34.15488176 38.60028964 22.56431121 44.19366114\n",
      " 33.32337598 35.51324572 17.03459732 27.55106545 37.56088977 42.96644759\n",
      " 31.86227569 34.08529727 51.97507482 26.55307578  5.72281309 28.87642277\n",
      " 21.07046296 32.60870736 41.95930962 16.43074789 26.01558378 24.85074596\n",
      " 29.1200699  51.07584557 12.9928467  43.71776315 22.62544068 33.58042411\n",
      " 47.97348692 31.79914373 48.0882832  30.10207161  9.76924651 34.15208215\n",
      " 33.40056319 36.66181571 22.98467851 41.05275155 30.24641775 37.05560637\n",
      " 40.46641374 50.53705903 38.95113593 37.42859783 26.74691713 30.11358385\n",
      " 26.81247121 31.24607573 33.81288667 18.16150922 16.32566546 36.31463727\n",
      " 33.63628807 24.38743041 33.43510426 40.38543806 20.94827844 40.40020744\n",
      " 33.68363155 35.21545729 41.74662519 38.39509254 15.83268672 23.7072763\n",
      " 37.75867407 43.04659812 37.86252303 35.89383254 33.58420173 30.38329293\n",
      " 37.10919628 36.32473498 36.57365276 27.34524192 38.71093712 31.41337639\n",
      " 49.35171317 22.02672699 29.97601686 51.91057    33.58202507 31.89765611\n",
      " 28.96063294 23.15441691 22.77676929 46.81709273 38.68170393 43.10369991\n",
      " 17.69108835 41.40751948 28.99641646 47.43165804 28.85463857 39.95273308\n",
      " 27.5416021  46.14229048 43.31422482 28.52633893 39.24119705 32.18376797\n",
      " 41.71731445 43.10088853 20.97064277 30.10912585 20.14647631 41.64417759\n",
      " 49.26465215 30.57767854 47.6366573  24.94597731 40.70735954 34.20773478\n",
      " 29.86450521 30.68890782 29.94046929 28.11464675 49.8539643  20.49019688\n",
      " 37.92834673 33.21668484 41.50568662 27.96991547 25.28444748 22.71360465\n",
      " 48.65897893 20.26420866 40.46027846 28.84881309 49.17596946 31.6256153\n",
      " 41.13215094 35.8494158  38.73509509 60.18448639 27.77733672 46.17842474\n",
      " 31.2434198  28.30319864 31.39151794 17.38561934 32.91543492 32.69988217\n",
      " 14.36991628 36.26766715 36.64763637 47.30445685 39.6625932  28.02607066\n",
      " 23.57958444 22.61017813 58.62806205 43.1186565  35.58131326 26.31698202\n",
      " 43.32108587 31.83185159 39.55814043 47.81263522 16.55880034 29.57841345\n",
      " 39.25284832 35.92065438 47.11174905 33.80933476 34.52703458 29.53950266\n",
      " 37.9164818  54.36954251 33.07946678 31.78367342 45.29089566 30.06029042\n",
      " 42.66917157 23.74403817 29.06398661 16.95263469 18.83251413 32.44093862\n",
      " 25.67118589 43.95855139 30.03436927 32.6491499  28.88528305 24.28386528\n",
      " 42.31145704 34.06987825 39.70124869 34.601527   40.55247778 33.13407441\n",
      " 36.28568608 44.75335628 71.04233    48.90107556 49.75067337 39.33831199\n",
      " 41.42517661 31.26307776 45.99686982 39.69692002 31.35419778 25.5321282\n",
      " 22.5681114  22.10193083 34.30739046 28.39064675 42.76844382 34.33836776\n",
      " 42.10881291 34.28860976 30.1843953  35.73517654 52.02923934 16.93711138\n",
      " 28.47761622 25.21503807 40.35731499 42.85670168 35.56576018 34.70086991\n",
      " 37.43146922 46.492625   27.36867735 42.80603522 53.01094554 40.57575175\n",
      " 29.01019682 45.05174184 32.12606549 30.57952575 32.71355618 35.57130514\n",
      " 44.54825311 34.91523427 40.14385242 34.4091739 ]\n"
     ]
    },
    {
     "data": {
      "text/plain": [
       "(array([  6.,  30.,  79., 147., 201., 133.,  78.,  18.,   6.,   2.]),\n",
       " array([ 5.30976385, 11.93555216, 18.56134048, 25.18712879, 31.8129171 ,\n",
       "        38.43870541, 45.06449373, 51.69028204, 58.31607035, 64.94185867,\n",
       "        71.56764698]),\n",
       " <BarContainer object of 10 artists>)"
      ]
     },
     "execution_count": 5,
     "metadata": {},
     "output_type": "execute_result"
    },
    {
     "data": {
      "image/png": "[encoded data removed]",
      "text/plain": [
       "<Figure size 432x288 with 1 Axes>"
      ]
     },
     "metadata": {
      "needs_background": "light"
     },
     "output_type": "display_data"
    }
   ],
   "source": [
    "rng = np.random.default_rng()\n",
    "vals = rng.normal(loc=ages.mean(), scale=ages.std(), size=N)\n",
    "print(vals)\n",
    "plt.hist(vals, bins=10)"
   ]
  },
  {
   "cell_type": "markdown",
   "id": "92d5690a",
   "metadata": {},
   "source": [
    "This appears to be a pretty close approximation of the age Data Series so we will use the variable vals to synthesise age data. Next we consider the probability that a summitter climbed without oxygen. "
   ]
  },
  {
   "cell_type": "code",
   "execution_count": 6,
   "id": "c5972c02",
   "metadata": {},
   "outputs": [
    {
     "data": {
      "text/html": [
       "<div>\n",
       "<style scoped>\n",
       "    .dataframe tbody tr th:only-of-type {\n",
       "        vertical-align: middle;\n",
       "    }\n",
       "\n",
       "    .dataframe tbody tr th {\n",
       "        vertical-align: top;\n",
       "    }\n",
       "\n",
       "    .dataframe thead th {\n",
       "        text-align: right;\n",
       "    }\n",
       "</style>\n",
       "<table border=\"1\" class=\"dataframe\">\n",
       "  <thead>\n",
       "    <tr style=\"text-align: right;\">\n",
       "      <th></th>\n",
       "      <th>Year</th>\n",
       "      <th>Age</th>\n",
       "    </tr>\n",
       "  </thead>\n",
       "  <tbody>\n",
       "    <tr>\n",
       "      <th>count</th>\n",
       "      <td>213.000000</td>\n",
       "      <td>213.000000</td>\n",
       "    </tr>\n",
       "    <tr>\n",
       "      <th>mean</th>\n",
       "      <td>2000.680751</td>\n",
       "      <td>35.394366</td>\n",
       "    </tr>\n",
       "    <tr>\n",
       "      <th>std</th>\n",
       "      <td>10.407792</td>\n",
       "      <td>6.350187</td>\n",
       "    </tr>\n",
       "    <tr>\n",
       "      <th>min</th>\n",
       "      <td>1978.000000</td>\n",
       "      <td>20.000000</td>\n",
       "    </tr>\n",
       "    <tr>\n",
       "      <th>25%</th>\n",
       "      <td>1993.000000</td>\n",
       "      <td>31.000000</td>\n",
       "    </tr>\n",
       "    <tr>\n",
       "      <th>50%</th>\n",
       "      <td>2001.000000</td>\n",
       "      <td>35.000000</td>\n",
       "    </tr>\n",
       "    <tr>\n",
       "      <th>75%</th>\n",
       "      <td>2010.000000</td>\n",
       "      <td>40.000000</td>\n",
       "    </tr>\n",
       "    <tr>\n",
       "      <th>max</th>\n",
       "      <td>2019.000000</td>\n",
       "      <td>55.000000</td>\n",
       "    </tr>\n",
       "  </tbody>\n",
       "</table>\n",
       "</div>"
      ],
      "text/plain": [
       "              Year         Age\n",
       "count   213.000000  213.000000\n",
       "mean   2000.680751   35.394366\n",
       "std      10.407792    6.350187\n",
       "min    1978.000000   20.000000\n",
       "25%    1993.000000   31.000000\n",
       "50%    2001.000000   35.000000\n",
       "75%    2010.000000   40.000000\n",
       "max    2019.000000   55.000000"
      ]
     },
     "execution_count": 6,
     "metadata": {},
     "output_type": "execute_result"
    }
   ],
   "source": [
    "noOxygen = df.loc[df.loc[:,'Oxy'] == 'No']\n",
    "noOxygen.describe()"
   ]
  },
  {
   "cell_type": "code",
   "execution_count": 7,
   "id": "054b102b",
   "metadata": {},
   "outputs": [
    {
     "name": "stdout",
     "output_type": "stream",
     "text": [
      "Minimum age for no oxygen attempt is 16.34 and maximum age is 54.44.\n"
     ]
    }
   ],
   "source": [
    "minNoOxAge = noOxygen.Age.mean() - noOxygen.Age.std()*3\n",
    "maxNoOxAge = noOxygen.Age.mean() + noOxygen.Age.std()*3\n",
    "\n",
    "print('Minimum age for no oxygen attempt is {} and maximum age is {}.'.format(round(minNoOxAge,2), round(maxNoOxAge,2)))"
   ]
  },
  {
   "cell_type": "markdown",
   "id": "7681f1c4",
   "metadata": {},
   "source": [
    "A recent [experiment](https://abcnews.go.com/Health/story?id=2955209&page=1) at Everest Base Camp and the [successful ascent](https://www.nytimes.com/2010/05/20/sports/20climber.html) of a 13 year old show the controversy around the ethics of minors at high altitude."
   ]
  },
  {
   "cell_type": "code",
   "execution_count": 8,
   "id": "a97a2696",
   "metadata": {},
   "outputs": [
    {
     "data": {
      "text/plain": [
       "9699"
      ]
     },
     "execution_count": 8,
     "metadata": {},
     "output_type": "execute_result"
    }
   ],
   "source": [
    "noOxPotential = df[(df['Age'] >= 18) & (df['Age'] <= 55)].Age.count() \n",
    "noOxPotential"
   ]
  },
  {
   "cell_type": "markdown",
   "id": "6df29453",
   "metadata": {},
   "source": [
    "We can look at the historical data to get an idea of the probability that a climber will not use oxygen in their attempt. We can count the number of climbers in total who have used oxygen and divide it by the total number of summitters in the appropriate age range determined above."
   ]
  },
  {
   "cell_type": "code",
   "execution_count": 9,
   "id": "f7b4c592",
   "metadata": {},
   "outputs": [
    {
     "data": {
      "text/plain": [
       "0.02196102690999072"
      ]
     },
     "execution_count": 9,
     "metadata": {},
     "output_type": "execute_result"
    }
   ],
   "source": [
    "noOxProbability = noOxygen.Age.count() / noOxPotential\n",
    "noOxProbability"
   ]
  },
  {
   "cell_type": "code",
   "execution_count": 10,
   "id": "2b26bcb0",
   "metadata": {},
   "outputs": [
    {
     "data": {
      "text/plain": [
       "0"
      ]
     },
     "execution_count": 10,
     "metadata": {},
     "output_type": "execute_result"
    }
   ],
   "source": [
    "synNoOx = rng.binomial(1, noOxProbability)\n",
    "synNoOx"
   ]
  },
  {
   "cell_type": "markdown",
   "id": "9fca42bd",
   "metadata": {},
   "source": [
    "Calculate use of oxygen synthetic data"
   ]
  },
  {
   "cell_type": "code",
   "execution_count": 11,
   "id": "b8f199d5",
   "metadata": {},
   "outputs": [
    {
     "name": "stdout",
     "output_type": "stream",
     "text": [
      "[0, 0, 0, 0, 0, 0, 1, 1, 0, 0, 0, 1, 0, 0, 0, 0, 0, 0, 0, 0, 0, 0, 0, 0, 0, 0, 0, 0, 0, 0, 0, 0, 0, 0, 1, 0, 0, 0, 0, 0, 1, 0, 0, 0, 0, 0, 0, 0, 0, 0, 0, 0, 0, 0, 0, 0, 0, 0, 0, 0, 0, 0, 0, 0, 0, 0, 0, 0, 0, 0, 0, 0, 0, 0, 0, 0, 0, 0, 1, 0, 0, 0, 0, 0, 0, 0, 0, 0, 0, 0, 0, 0, 0, 0, 0, 0, 0, 0, 0, 0, 0, 0, 1, 0, 0, 1, 0, 0, 0, 0, 0, 0, 0, 0, 1, 0, 0, 0, 0, 0, 0, 0, 0, 0, 0, 0, 0, 0, 0, 0, 0, 0, 0, 0, 0, 0, 0, 0, 0, 0, 0, 0, 0, 0, 1, 0, 0, 0, 0, 0, 0, 0, 0, 0, 0, 0, 1, 0, 0, 0, 0, 0, 0, 0, 0, 0, 0, 0, 0, 0, 0, 0, 0, 0, 1, 0, 0, 0, 0, 0, 0, 0, 0, 0, 0, 0, 0, 0, 0, 1, 0, 0, 0, 0, 0, 0, 0, 0, 0, 0, 0, 0, 0, 0, 0, 0, 0, 0, 0, 0, 0, 0, 0, 0, 0, 0, 0, 0, 1, 0, 0, 0, 0, 0, 0, 0, 0, 0, 0, 0, 0, 0, 0, 0, 0, 0, 0, 0, 0, 0, 0, 0, 0, 0, 0, 1, 0, 0, 0, 0, 0, 1, 0, 0, 1, 0, 0, 0, 0, 0, 0, 0, 0, 0, 0, 0, 0, 0, 0, 0, 0, 0, 0, 0, 0, 1, 0, 0, 0, 0, 0, 0, 0, 0, 0, 0, 1, 1, 0, 0, 0, 0, 0, 0, 0, 0, 0, 0, 0, 0, 0, 0, 0, 0, 0, 0, 0, 0, 0, 0, 0, 0, 0, 0, 0, 0, 0, 0, 1, 0, 0, 0, 0, 0, 0, 0, 0, 0, 0, 0, 0, 0, 0, 0, 0, 0, 0, 0, 0, 0, 0, 0, 0, 0, 0, 0, 0, 0, 0, 0, 0, 1, 0, 0, 0, 0, 0, 0, 0, 0, 0, 0, 0, 0, 0, 0, 0, 0, 0, 0, 0, 0, 0, 0, 0, 0, 0, 1, 0, 0, 0, 1, 0, 0, 0, 0, 0, 0, 0, 0, 0, 0, 0, 0, 0, 0, 0, 0, 0, 0, 0, 0, 0, 0, 0, 0, 0, 1, 0, 0, 0, 0, 0, 0, 0, 0, 0, 0, 0, 0, 0, 0, 0, 0, 0, 0, 0, 1, 0, 0, 0, 0, 0, 0, 0, 0, 0, 1, 0, 0, 0, 0, 0, 0, 0, 0, 0, 0, 0, 0, 0, 0, 0, 0, 0, 0, 0, 0, 0, 0, 0, 0, 1, 0, 0, 0, 0, 0, 0, 0, 1, 0, 0, 0, 0, 0, 0, 0, 1, 0, 0, 0, 0, 1, 0, 0, 0, 0, 1, 0, 0, 0, 0, 0, 0, 0, 1, 0, 0, 0, 0, 0, 0, 0, 0, 0, 0, 0, 0, 0, 0, 0, 0, 0, 1, 0, 0, 0, 0, 0, 0, 0, 0, 0, 0, 0, 1, 0, 0, 0, 0, 0, 0, 0, 0, 0, 0, 0, 0, 0, 0, 0, 0, 0, 0, 0, 0, 0, 0, 0, 0, 0, 1, 0, 0, 0, 0, 0, 0, 0, 0, 0, 0, 0, 0, 0, 0, 0, 0, 0, 0, 0, 0, 0, 0, 0, 0, 0, 0, 0, 0, 0, 0, 0, 0, 0, 0, 0, 0, 0, 0, 0, 0, 0, 0, 0, 0, 1, 0, 0, 0, 0, 0, 1, 0, 0, 1, 0, 0, 0, 0, 0, 0, 0, 1, 0, 0, 0, 0, 0, 0, 0, 1, 0, 0, 0, 0, 0, 0, 0, 0, 0, 0, 0, 0, 0, 0, 0, 0, 1, 0, 0, 0, 0, 0, 0, 0, 0, 0, 0, 0, 0, 0, 0, 0, 0, 1, 0, 0, 0, 0, 0, 0, 0, 0, 0, 0, 0, 0, 0, 0, 0, 0, 0, 0, 0, 0, 1, 0, 0, 0, 0, 0, 0, 0, 0, 0, 0, 0, 0, 0, 0, 0, 0, 0, 0, 0, 0, 0, 0]\n"
     ]
    }
   ],
   "source": [
    "oxUse = []\n",
    "for a in vals:\n",
    "    if a >= 18 and a <= 55:\n",
    "        oxUse.append(synNoOx)\n",
    "    else:\n",
    "        oxUse.append(1)\n",
    "print(oxUse)"
   ]
  },
  {
   "cell_type": "markdown",
   "id": "8da5894e",
   "metadata": {},
   "source": [
    "Calculate the probabilities of climbing in each season."
   ]
  },
  {
   "cell_type": "code",
   "execution_count": 12,
   "id": "9195767c",
   "metadata": {},
   "outputs": [
    {
     "data": {
      "text/plain": [
       "[0.9692307692307692,\n",
       " 0.0008991008991008991,\n",
       " 0.028371628371628373,\n",
       " 0.0014985014985014985]"
      ]
     },
     "execution_count": 12,
     "metadata": {},
     "output_type": "execute_result"
    }
   ],
   "source": [
    "sprCount = df.loc[df.loc[:,'Season'] == 'Spr'].Season.count()\n",
    "sumCount = df.loc[df.loc[:,'Season'] == 'Sum'].Season.count()\n",
    "autCount = df.loc[df.loc[:,'Season'] == 'Aut'].Season.count()\n",
    "winCount = df.loc[df.loc[:,'Season'] == 'Win'].Season.count()\n",
    "\n",
    "sprProb = sprCount / df.Season.count()\n",
    "sumProb = sumCount / df.Season.count()\n",
    "autProb = autCount / df.Season.count()\n",
    "winProb = winCount / df.Season.count()\n",
    "\n",
    "seasProbs = [sprProb, sumProb, autProb, winProb]\n",
    "seasProbs"
   ]
  },
  {
   "cell_type": "markdown",
   "id": "bb8afc33",
   "metadata": {},
   "source": [
    "Generate a set of seasons chosen by each climber in the synthetic dataset."
   ]
  },
  {
   "cell_type": "code",
   "execution_count": 13,
   "id": "283bc9b9",
   "metadata": {},
   "outputs": [
    {
     "name": "stdout",
     "output_type": "stream",
     "text": [
      "['Spr', 'Spr', 'Spr', 'Spr', 'Spr', 'Spr', 'Spr', 'Spr', 'Spr', 'Spr', 'Spr', 'Spr', 'Spr', 'Spr', 'Spr', 'Spr', 'Spr', 'Spr', 'Spr', 'Spr', 'Spr', 'Spr', 'Aut', 'Spr', 'Spr', 'Spr', 'Spr', 'Spr', 'Spr', 'Win', 'Spr', 'Spr', 'Spr', 'Spr', 'Spr', 'Spr', 'Aut', 'Spr', 'Spr', 'Spr', 'Spr', 'Spr', 'Spr', 'Spr', 'Spr', 'Aut', 'Spr', 'Spr', 'Spr', 'Spr', 'Spr', 'Spr', 'Spr', 'Spr', 'Spr', 'Spr', 'Aut', 'Spr', 'Spr', 'Spr', 'Spr', 'Spr', 'Spr', 'Spr', 'Spr', 'Spr', 'Spr', 'Spr', 'Spr', 'Spr', 'Spr', 'Spr', 'Spr', 'Spr', 'Spr', 'Spr', 'Spr', 'Spr', 'Spr', 'Spr', 'Spr', 'Spr', 'Spr', 'Spr', 'Spr', 'Spr', 'Spr', 'Spr', 'Spr', 'Spr', 'Spr', 'Spr', 'Spr', 'Spr', 'Spr', 'Spr', 'Spr', 'Spr', 'Spr', 'Spr', 'Spr', 'Spr', 'Spr', 'Aut', 'Spr', 'Spr', 'Spr', 'Spr', 'Spr', 'Spr', 'Spr', 'Spr', 'Spr', 'Spr', 'Spr', 'Spr', 'Spr', 'Spr', 'Spr', 'Spr', 'Spr', 'Spr', 'Spr', 'Spr', 'Spr', 'Spr', 'Spr', 'Spr', 'Spr', 'Spr', 'Aut', 'Spr', 'Spr', 'Spr', 'Spr', 'Spr', 'Spr', 'Spr', 'Spr', 'Spr', 'Spr', 'Spr', 'Spr', 'Spr', 'Spr', 'Spr', 'Spr', 'Spr', 'Spr', 'Spr', 'Spr', 'Spr', 'Spr', 'Spr', 'Spr', 'Spr', 'Spr', 'Spr', 'Spr', 'Spr', 'Spr', 'Spr', 'Spr', 'Spr', 'Spr', 'Spr', 'Spr', 'Spr', 'Spr', 'Spr', 'Spr', 'Spr', 'Spr', 'Spr', 'Spr', 'Spr', 'Spr', 'Spr', 'Spr', 'Spr', 'Spr', 'Spr', 'Spr', 'Spr', 'Spr', 'Spr', 'Spr', 'Spr', 'Spr', 'Spr', 'Spr', 'Spr', 'Spr', 'Spr', 'Spr', 'Spr', 'Spr', 'Spr', 'Spr', 'Spr', 'Spr', 'Spr', 'Spr', 'Spr', 'Spr', 'Spr', 'Spr', 'Spr', 'Spr', 'Spr', 'Spr', 'Spr', 'Spr', 'Spr', 'Spr', 'Spr', 'Spr', 'Spr', 'Spr', 'Spr', 'Spr', 'Spr', 'Spr', 'Spr', 'Spr', 'Spr', 'Aut', 'Spr', 'Spr', 'Spr', 'Spr', 'Spr', 'Spr', 'Spr', 'Spr', 'Spr', 'Spr', 'Spr', 'Spr', 'Spr', 'Spr', 'Spr', 'Spr', 'Spr', 'Spr', 'Spr', 'Spr', 'Spr', 'Spr', 'Spr', 'Spr', 'Spr', 'Spr', 'Spr', 'Spr', 'Spr', 'Spr', 'Spr', 'Spr', 'Spr', 'Spr', 'Spr', 'Spr', 'Spr', 'Spr', 'Spr', 'Spr', 'Spr', 'Spr', 'Spr', 'Spr', 'Spr', 'Spr', 'Spr', 'Spr', 'Spr', 'Spr', 'Spr', 'Spr', 'Spr', 'Spr', 'Spr', 'Spr', 'Spr', 'Spr', 'Aut', 'Spr', 'Spr', 'Spr', 'Spr', 'Spr', 'Spr', 'Spr', 'Spr', 'Spr', 'Spr', 'Spr', 'Spr', 'Spr', 'Spr', 'Spr', 'Spr', 'Spr', 'Spr', 'Spr', 'Spr', 'Spr', 'Spr', 'Spr', 'Spr', 'Spr', 'Spr', 'Spr', 'Spr', 'Spr', 'Spr', 'Spr', 'Spr', 'Spr', 'Spr', 'Spr', 'Spr', 'Spr', 'Spr', 'Spr', 'Spr', 'Spr', 'Spr', 'Spr', 'Spr', 'Spr', 'Spr', 'Spr', 'Spr', 'Aut', 'Spr', 'Spr', 'Spr', 'Spr', 'Spr', 'Spr', 'Spr', 'Spr', 'Spr', 'Spr', 'Spr', 'Spr', 'Spr', 'Aut', 'Spr', 'Spr', 'Spr', 'Spr', 'Spr', 'Spr', 'Spr', 'Spr', 'Spr', 'Spr', 'Spr', 'Spr', 'Spr', 'Spr', 'Spr', 'Spr', 'Spr', 'Spr', 'Spr', 'Spr', 'Spr', 'Spr', 'Spr', 'Spr', 'Spr', 'Spr', 'Spr', 'Spr', 'Spr', 'Aut', 'Spr', 'Spr', 'Spr', 'Spr', 'Spr', 'Spr', 'Spr', 'Spr', 'Spr', 'Spr', 'Spr', 'Spr', 'Spr', 'Spr', 'Spr', 'Spr', 'Spr', 'Spr', 'Spr', 'Spr', 'Spr', 'Spr', 'Spr', 'Spr', 'Spr', 'Spr', 'Spr', 'Aut', 'Spr', 'Spr', 'Spr', 'Spr', 'Spr', 'Spr', 'Spr', 'Spr', 'Spr', 'Spr', 'Spr', 'Spr', 'Spr', 'Spr', 'Spr', 'Spr', 'Spr', 'Spr', 'Spr', 'Spr', 'Spr', 'Spr', 'Spr', 'Spr', 'Spr', 'Spr', 'Spr', 'Spr', 'Spr', 'Spr', 'Aut', 'Spr', 'Spr', 'Spr', 'Spr', 'Spr', 'Spr', 'Aut', 'Spr', 'Spr', 'Spr', 'Spr', 'Spr', 'Spr', 'Spr', 'Spr', 'Spr', 'Spr', 'Spr', 'Spr', 'Spr', 'Spr', 'Spr', 'Spr', 'Spr', 'Spr', 'Spr', 'Aut', 'Spr', 'Spr', 'Spr', 'Spr', 'Spr', 'Spr', 'Spr', 'Spr', 'Spr', 'Spr', 'Aut', 'Spr', 'Spr', 'Spr', 'Spr', 'Spr', 'Spr', 'Spr', 'Spr', 'Spr', 'Spr', 'Spr', 'Spr', 'Spr', 'Spr', 'Spr', 'Spr', 'Spr', 'Spr', 'Spr', 'Spr', 'Spr', 'Spr', 'Spr', 'Spr', 'Aut', 'Spr', 'Spr', 'Spr', 'Spr', 'Spr', 'Spr', 'Spr', 'Spr', 'Spr', 'Spr', 'Spr', 'Spr', 'Spr', 'Spr', 'Spr', 'Spr', 'Spr', 'Spr', 'Spr', 'Spr', 'Spr', 'Spr', 'Spr', 'Spr', 'Spr', 'Spr', 'Spr', 'Spr', 'Spr', 'Spr', 'Spr', 'Spr', 'Spr', 'Spr', 'Aut', 'Spr', 'Spr', 'Spr', 'Spr', 'Spr', 'Spr', 'Spr', 'Spr', 'Spr', 'Spr', 'Spr', 'Spr', 'Spr', 'Spr', 'Spr', 'Spr', 'Spr', 'Spr', 'Spr', 'Spr', 'Spr', 'Spr', 'Spr', 'Spr', 'Spr', 'Spr', 'Spr', 'Spr', 'Spr', 'Spr', 'Spr', 'Spr', 'Spr', 'Spr', 'Spr', 'Spr', 'Spr', 'Spr', 'Spr', 'Spr', 'Spr', 'Aut', 'Spr', 'Spr', 'Spr', 'Spr', 'Spr', 'Spr', 'Spr', 'Spr', 'Spr', 'Spr', 'Spr', 'Spr', 'Spr', 'Spr', 'Spr', 'Spr', 'Spr', 'Spr', 'Spr', 'Spr', 'Spr', 'Spr', 'Spr', 'Spr', 'Spr', 'Spr', 'Spr', 'Spr', 'Spr', 'Spr', 'Spr', 'Spr', 'Spr', 'Spr', 'Spr', 'Spr', 'Spr', 'Spr', 'Spr', 'Spr', 'Spr', 'Spr', 'Spr', 'Spr', 'Spr', 'Spr', 'Spr', 'Spr', 'Spr', 'Spr', 'Spr', 'Spr', 'Spr', 'Spr', 'Spr', 'Spr', 'Spr', 'Spr', 'Spr', 'Spr', 'Spr', 'Spr', 'Spr', 'Spr', 'Spr', 'Spr', 'Spr', 'Spr', 'Spr', 'Spr', 'Spr', 'Spr', 'Spr', 'Spr', 'Spr', 'Spr', 'Spr', 'Spr', 'Spr', 'Spr', 'Spr', 'Spr', 'Spr', 'Spr', 'Spr', 'Spr', 'Spr', 'Spr', 'Spr', 'Spr', 'Spr', 'Spr', 'Spr', 'Spr', 'Spr', 'Spr', 'Spr', 'Spr', 'Spr', 'Spr', 'Spr', 'Spr', 'Spr', 'Spr', 'Spr', 'Spr', 'Spr', 'Spr', 'Aut', 'Spr', 'Spr', 'Spr', 'Spr', 'Spr', 'Spr', 'Spr', 'Spr', 'Spr', 'Spr', 'Spr', 'Spr', 'Spr']\n"
     ]
    }
   ],
   "source": [
    "seas = ['Spr', 'Sum', 'Aut', 'Win']\n",
    "seasList = []\n",
    "\n",
    "for i in range(0, N):\n",
    "    seasChoice = random.choices(seas, weights=seasProbs)\n",
    "    seasList.append(seasChoice[0])\n",
    "\n",
    "print(seasList)"
   ]
  },
  {
   "cell_type": "markdown",
   "id": "659566a3",
   "metadata": {},
   "source": [
    "Calculate the probabilities of surviving for summitting in each season with and without oxygen."
   ]
  },
  {
   "cell_type": "code",
   "execution_count": 14,
   "id": "78623522",
   "metadata": {},
   "outputs": [
    {
     "name": "stdout",
     "output_type": "stream",
     "text": [
      "The historical probability of death after summitting when climbing without oxygen in Spr is 0.06\n",
      "The historical probability of death after summitting when climbing with oxygen in Spr is 0.01\n",
      "The historical probability of death after summitting when climbing without oxygen in Sum is 0.0\n",
      "The historical probability of death after summitting when climbing with oxygen in Sum is 0.0\n",
      "The historical probability of death after summitting when climbing without oxygen in Aut is 0.13\n",
      "The historical probability of death after summitting when climbing with oxygen in Aut is 0.02\n",
      "The historical probability of death after summitting when climbing without oxygen in Win is 0.0\n",
      "The historical probability of death after summitting when climbing with oxygen in Win is 0.07\n"
     ]
    }
   ],
   "source": [
    "for i in seas:\n",
    "    NoOxDeathProb = round(df[(df['Season'] == i) & (df['Oxy'] == 'No') & (df['Dth'] == 'Y')].Dth.count() \\\n",
    "                           / df[(df['Season'] == i) & (df['Oxy'] == 'No')].Season.count(),2)\n",
    "    print('The historical probability of death after summitting when climbing without oxygen in {} is {}'.format(i,NoOxDeathProb))\n",
    "    OxDeathProb = round(df[(df['Season'] == i) & (df['Oxy'] == 'Y') & (df['Dth'] == 'Y')].Dth.count() \\\n",
    "                           / df[(df['Season'] == i) & (df['Oxy'] == 'Y')].Season.count(),2)\n",
    "    print('The historical probability of death after summitting when climbing with oxygen in {} is {}'.format(i,OxDeathProb))\n"
   ]
  },
  {
   "cell_type": "markdown",
   "id": "f4c4360b",
   "metadata": {},
   "source": [
    "Compile list with climber number, ages, season and oxygen use."
   ]
  },
  {
   "cell_type": "code",
   "execution_count": 22,
   "id": "09539a5d",
   "metadata": {},
   "outputs": [
    {
     "name": "stdout",
     "output_type": "stream",
     "text": [
      "[[0, 37.0, 'Yes', 'Spr', 'Survived'], [1, 50.0, 'Yes', 'Spr', 'Survived'], [2, 40.0, 'Yes', 'Spr', 'Survived'], [3, 46.0, 'Yes', 'Spr', 'Survived'], [4, 42.0, 'Yes', 'Spr', 'Survived'], [5, 42.0, 'Yes', 'Spr', 'Survived'], [6, 17.0, 'No', 'Spr', 'Survived'], [7, 12.0, 'No', 'Spr', 'Survived'], [8, 40.0, 'Yes', 'Spr', 'Survived'], [9, 44.0, 'Yes', 'Spr', 'Survived'], [10, 43.0, 'Yes', 'Spr', 'Survived'], [11, 56.0, 'No', 'Spr', 'Survived'], [12, 20.0, 'Yes', 'Spr', 'Died'], [13, 37.0, 'Yes', 'Spr', 'Survived'], [14, 35.0, 'Yes', 'Spr', 'Survived'], [15, 34.0, 'Yes', 'Spr', 'Survived'], [16, 25.0, 'Yes', 'Spr', 'Survived'], [17, 18.0, 'Yes', 'Spr', 'Survived'], [18, 32.0, 'Yes', 'Spr', 'Survived'], [19, 24.0, 'Yes', 'Spr', 'Survived'], [20, 34.0, 'Yes', 'Spr', 'Survived'], [21, 54.0, 'Yes', 'Spr', 'Survived'], [22, 35.0, 'Yes', 'Aut', 'Survived'], [23, 29.0, 'Yes', 'Spr', 'Survived'], [24, 23.0, 'Yes', 'Spr', 'Survived'], [25, 22.0, 'Yes', 'Spr', 'Survived'], [26, 37.0, 'Yes', 'Spr', 'Survived'], [27, 30.0, 'Yes', 'Spr', 'Survived'], [28, 44.0, 'Yes', 'Spr', 'Survived'], [29, 53.0, 'Yes', 'Win', 'Survived'], [30, 51.0, 'Yes', 'Spr', 'Survived'], [31, 22.0, 'Yes', 'Spr', 'Survived'], [32, 33.0, 'Yes', 'Spr', 'Survived'], [33, 50.0, 'Yes', 'Spr', 'Survived'], [34, 13.0, 'No', 'Spr', 'Survived'], [35, 38.0, 'Yes', 'Spr', 'Survived'], [36, 33.0, 'Yes', 'Aut', 'Survived'], [37, 36.0, 'Yes', 'Spr', 'Survived'], [38, 32.0, 'Yes', 'Spr', 'Survived'], [39, 29.0, 'Yes', 'Spr', 'Survived'], [40, 14.0, 'No', 'Spr', 'Survived'], [41, 45.0, 'Yes', 'Spr', 'Survived'], [42, 29.0, 'Yes', 'Spr', 'Survived'], [43, 26.0, 'Yes', 'Spr', 'Survived'], [44, 42.0, 'Yes', 'Spr', 'Died'], [45, 37.0, 'Yes', 'Aut', 'Survived'], [46, 32.0, 'Yes', 'Spr', 'Survived'], [47, 28.0, 'Yes', 'Spr', 'Survived'], [48, 36.0, 'Yes', 'Spr', 'Survived'], [49, 27.0, 'Yes', 'Spr', 'Survived'], [50, 30.0, 'Yes', 'Spr', 'Survived'], [51, 55.0, 'Yes', 'Spr', 'Survived'], [52, 36.0, 'Yes', 'Spr', 'Survived'], [53, 42.0, 'Yes', 'Spr', 'Survived'], [54, 22.0, 'Yes', 'Spr', 'Survived'], [55, 43.0, 'Yes', 'Spr', 'Survived'], [56, 48.0, 'Yes', 'Aut', 'Survived'], [57, 26.0, 'Yes', 'Spr', 'Survived'], [58, 24.0, 'Yes', 'Spr', 'Survived'], [59, 51.0, 'Yes', 'Spr', 'Survived'], [60, 20.0, 'Yes', 'Spr', 'Survived'], [61, 29.0, 'Yes', 'Spr', 'Survived'], [62, 31.0, 'Yes', 'Spr', 'Survived'], [63, 29.0, 'Yes', 'Spr', 'Survived'], [64, 49.0, 'Yes', 'Spr', 'Survived'], [65, 37.0, 'Yes', 'Spr', 'Survived'], [66, 45.0, 'Yes', 'Spr', 'Survived'], [67, 32.0, 'Yes', 'Spr', 'Survived'], [68, 45.0, 'Yes', 'Spr', 'Survived'], [69, 35.0, 'Yes', 'Spr', 'Survived'], [70, 22.0, 'Yes', 'Spr', 'Survived'], [71, 30.0, 'Yes', 'Spr', 'Survived'], [72, 31.0, 'Yes', 'Spr', 'Survived'], [73, 42.0, 'Yes', 'Spr', 'Survived'], [74, 41.0, 'Yes', 'Spr', 'Survived'], [75, 25.0, 'Yes', 'Spr', 'Survived'], [76, 27.0, 'Yes', 'Spr', 'Survived'], [77, 35.0, 'Yes', 'Spr', 'Survived'], [78, 59.0, 'No', 'Spr', 'Survived'], [79, 46.0, 'Yes', 'Spr', 'Survived'], [80, 34.0, 'Yes', 'Spr', 'Survived'], [81, 38.0, 'Yes', 'Spr', 'Survived'], [82, 39.0, 'Yes', 'Spr', 'Survived'], [83, 31.0, 'Yes', 'Spr', 'Survived'], [84, 34.0, 'Yes', 'Spr', 'Survived'], [85, 27.0, 'Yes', 'Spr', 'Survived'], [86, 20.0, 'Yes', 'Spr', 'Survived'], [87, 35.0, 'Yes', 'Spr', 'Survived'], [88, 39.0, 'Yes', 'Spr', 'Survived'], [89, 39.0, 'Yes', 'Spr', 'Survived'], [90, 31.0, 'Yes', 'Spr', 'Survived'], [91, 32.0, 'Yes', 'Spr', 'Survived'], [92, 40.0, 'Yes', 'Spr', 'Survived'], [93, 48.0, 'Yes', 'Spr', 'Survived'], [94, 23.0, 'Yes', 'Spr', 'Survived'], [95, 30.0, 'Yes', 'Spr', 'Survived'], [96, 29.0, 'Yes', 'Spr', 'Survived'], [97, 27.0, 'Yes', 'Spr', 'Survived'], [98, 23.0, 'Yes', 'Spr', 'Survived'], [99, 38.0, 'Yes', 'Spr', 'Survived'], [100, 46.0, 'Yes', 'Spr', 'Survived'], [101, 38.0, 'Yes', 'Spr', 'Survived'], [102, 58.0, 'No', 'Spr', 'Survived'], [103, 41.0, 'Yes', 'Aut', 'Survived'], [104, 47.0, 'Yes', 'Spr', 'Survived'], [105, 17.0, 'No', 'Spr', 'Survived'], [106, 31.0, 'Yes', 'Spr', 'Survived'], [107, 28.0, 'Yes', 'Spr', 'Survived'], [108, 37.0, 'Yes', 'Spr', 'Survived'], [109, 25.0, 'Yes', 'Spr', 'Survived'], [110, 34.0, 'Yes', 'Spr', 'Survived'], [111, 41.0, 'Yes', 'Spr', 'Survived'], [112, 35.0, 'Yes', 'Spr', 'Survived'], [113, 39.0, 'Yes', 'Spr', 'Survived'], [114, 17.0, 'No', 'Spr', 'Survived'], [115, 40.0, 'Yes', 'Spr', 'Survived'], [116, 29.0, 'Yes', 'Spr', 'Survived'], [117, 36.0, 'Yes', 'Spr', 'Survived'], [118, 33.0, 'Yes', 'Spr', 'Survived'], [119, 37.0, 'Yes', 'Spr', 'Survived'], [120, 33.0, 'Yes', 'Spr', 'Survived'], [121, 46.0, 'Yes', 'Spr', 'Survived'], [122, 34.0, 'Yes', 'Spr', 'Died'], [123, 26.0, 'Yes', 'Spr', 'Survived'], [124, 50.0, 'Yes', 'Spr', 'Survived'], [125, 50.0, 'Yes', 'Spr', 'Survived'], [126, 36.0, 'Yes', 'Spr', 'Survived'], [127, 45.0, 'Yes', 'Spr', 'Survived'], [128, 32.0, 'Yes', 'Spr', 'Survived'], [129, 42.0, 'Yes', 'Spr', 'Survived'], [130, 45.0, 'Yes', 'Aut', 'Survived'], [131, 22.0, 'Yes', 'Spr', 'Survived'], [132, 43.0, 'Yes', 'Spr', 'Survived'], [133, 45.0, 'Yes', 'Spr', 'Survived'], [134, 51.0, 'Yes', 'Spr', 'Survived'], [135, 26.0, 'Yes', 'Spr', 'Survived'], [136, 35.0, 'Yes', 'Spr', 'Survived'], [137, 54.0, 'Yes', 'Spr', 'Survived'], [138, 37.0, 'Yes', 'Spr', 'Survived'], [139, 48.0, 'Yes', 'Spr', 'Survived'], [140, 34.0, 'Yes', 'Spr', 'Survived'], [141, 18.0, 'Yes', 'Spr', 'Survived'], [142, 29.0, 'Yes', 'Spr', 'Survived'], [143, 37.0, 'Yes', 'Spr', 'Survived'], [144, 56.0, 'No', 'Spr', 'Survived'], [145, 36.0, 'Yes', 'Spr', 'Survived'], [146, 35.0, 'Yes', 'Spr', 'Survived'], [147, 46.0, 'Yes', 'Spr', 'Survived'], [148, 25.0, 'Yes', 'Spr', 'Survived'], [149, 23.0, 'Yes', 'Spr', 'Survived'], [150, 45.0, 'Yes', 'Spr', 'Survived'], [151, 36.0, 'Yes', 'Spr', 'Survived'], [152, 33.0, 'Yes', 'Spr', 'Died'], [153, 38.0, 'Yes', 'Spr', 'Survived'], [154, 41.0, 'Yes', 'Spr', 'Survived'], [155, 27.0, 'Yes', 'Spr', 'Survived'], [156, 16.0, 'No', 'Spr', 'Survived'], [157, 20.0, 'Yes', 'Spr', 'Survived'], [158, 26.0, 'Yes', 'Spr', 'Survived'], [159, 26.0, 'Yes', 'Spr', 'Survived'], [160, 35.0, 'Yes', 'Spr', 'Survived'], [161, 36.0, 'Yes', 'Spr', 'Survived'], [162, 42.0, 'Yes', 'Spr', 'Survived'], [163, 51.0, 'Yes', 'Spr', 'Survived'], [164, 38.0, 'Yes', 'Spr', 'Survived'], [165, 21.0, 'Yes', 'Spr', 'Survived'], [166, 27.0, 'Yes', 'Spr', 'Survived'], [167, 44.0, 'Yes', 'Spr', 'Survived'], [168, 23.0, 'Yes', 'Spr', 'Survived'], [169, 22.0, 'Yes', 'Spr', 'Survived'], [170, 38.0, 'Yes', 'Spr', 'Survived'], [171, 41.0, 'Yes', 'Spr', 'Survived'], [172, 39.0, 'Yes', 'Spr', 'Survived'], [173, 48.0, 'Yes', 'Spr', 'Survived'], [174, 10.0, 'No', 'Spr', 'Survived'], [175, 32.0, 'Yes', 'Spr', 'Survived'], [176, 41.0, 'Yes', 'Spr', 'Survived'], [177, 33.0, 'Yes', 'Spr', 'Survived'], [178, 31.0, 'Yes', 'Spr', 'Survived'], [179, 31.0, 'Yes', 'Spr', 'Survived'], [180, 36.0, 'Yes', 'Spr', 'Survived'], [181, 26.0, 'Yes', 'Spr', 'Survived'], [182, 46.0, 'Yes', 'Spr', 'Survived'], [183, 26.0, 'Yes', 'Spr', 'Survived'], [184, 35.0, 'Yes', 'Spr', 'Survived'], [185, 34.0, 'Yes', 'Spr', 'Survived'], [186, 36.0, 'Yes', 'Spr', 'Survived'], [187, 31.0, 'Yes', 'Spr', 'Survived'], [188, 42.0, 'Yes', 'Spr', 'Survived'], [189, 14.0, 'No', 'Spr', 'Survived'], [190, 24.0, 'Yes', 'Spr', 'Survived'], [191, 23.0, 'Yes', 'Spr', 'Survived'], [192, 31.0, 'Yes', 'Spr', 'Survived'], [193, 34.0, 'Yes', 'Spr', 'Survived'], [194, 37.0, 'Yes', 'Spr', 'Survived'], [195, 35.0, 'Yes', 'Spr', 'Survived'], [196, 46.0, 'Yes', 'Spr', 'Survived'], [197, 42.0, 'Yes', 'Spr', 'Survived'], [198, 32.0, 'Yes', 'Spr', 'Survived'], [199, 54.0, 'Yes', 'Spr', 'Survived'], [200, 49.0, 'Yes', 'Spr', 'Survived'], [201, 28.0, 'Yes', 'Spr', 'Survived'], [202, 20.0, 'Yes', 'Spr', 'Survived'], [203, 39.0, 'Yes', 'Spr', 'Survived'], [204, 20.0, 'Yes', 'Spr', 'Survived'], [205, 33.0, 'Yes', 'Spr', 'Survived'], [206, 32.0, 'Yes', 'Spr', 'Died'], [207, 22.0, 'Yes', 'Spr', 'Survived'], [208, 35.0, 'Yes', 'Spr', 'Survived'], [209, 38.0, 'Yes', 'Spr', 'Survived'], [210, 35.0, 'Yes', 'Spr', 'Survived'], [211, 28.0, 'Yes', 'Spr', 'Survived'], [212, 37.0, 'Yes', 'Spr', 'Survived'], [213, 43.0, 'Yes', 'Spr', 'Survived'], [214, 27.0, 'Yes', 'Spr', 'Survived'], [215, 47.0, 'Yes', 'Spr', 'Survived'], [216, 35.0, 'Yes', 'Spr', 'Survived'], [217, 33.0, 'Yes', 'Spr', 'Survived'], [218, 17.0, 'No', 'Spr', 'Survived'], [219, 37.0, 'Yes', 'Spr', 'Survived'], [220, 35.0, 'Yes', 'Spr', 'Survived'], [221, 37.0, 'Yes', 'Spr', 'Survived'], [222, 45.0, 'Yes', 'Spr', 'Survived'], [223, 24.0, 'Yes', 'Spr', 'Survived'], [224, 33.0, 'Yes', 'Spr', 'Survived'], [225, 33.0, 'Yes', 'Spr', 'Survived'], [226, 44.0, 'Yes', 'Aut', 'Survived'], [227, 33.0, 'Yes', 'Spr', 'Survived'], [228, 33.0, 'Yes', 'Spr', 'Survived'], [229, 50.0, 'Yes', 'Spr', 'Survived'], [230, 23.0, 'Yes', 'Spr', 'Survived'], [231, 27.0, 'Yes', 'Spr', 'Survived'], [232, 40.0, 'Yes', 'Spr', 'Survived'], [233, 50.0, 'Yes', 'Spr', 'Survived'], [234, 30.0, 'Yes', 'Spr', 'Survived'], [235, 28.0, 'Yes', 'Spr', 'Survived'], [236, 33.0, 'Yes', 'Spr', 'Survived'], [237, 32.0, 'Yes', 'Spr', 'Survived'], [238, 31.0, 'Yes', 'Spr', 'Survived'], [239, 45.0, 'Yes', 'Spr', 'Survived'], [240, 38.0, 'Yes', 'Spr', 'Survived'], [241, 24.0, 'Yes', 'Spr', 'Survived'], [242, 27.0, 'Yes', 'Spr', 'Survived'], [243, 23.0, 'Yes', 'Spr', 'Survived'], [244, 18.0, 'Yes', 'Spr', 'Survived'], [245, 12.0, 'No', 'Spr', 'Survived'], [246, 36.0, 'Yes', 'Spr', 'Survived'], [247, 33.0, 'Yes', 'Spr', 'Survived'], [248, 51.0, 'Yes', 'Spr', 'Survived'], [249, 36.0, 'Yes', 'Spr', 'Survived'], [250, 29.0, 'Yes', 'Spr', 'Survived'], [251, 16.0, 'No', 'Spr', 'Survived'], [252, 46.0, 'Yes', 'Spr', 'Survived'], [253, 35.0, 'Yes', 'Spr', 'Survived'], [254, 17.0, 'No', 'Spr', 'Survived'], [255, 37.0, 'Yes', 'Spr', 'Survived'], [256, 44.0, 'Yes', 'Spr', 'Survived'], [257, 27.0, 'Yes', 'Spr', 'Survived'], [258, 35.0, 'Yes', 'Spr', 'Survived'], [259, 39.0, 'Yes', 'Spr', 'Survived'], [260, 18.0, 'Yes', 'Spr', 'Survived'], [261, 21.0, 'Yes', 'Spr', 'Survived'], [262, 49.0, 'Yes', 'Spr', 'Survived'], [263, 30.0, 'Yes', 'Spr', 'Survived'], [264, 25.0, 'Yes', 'Spr', 'Survived'], [265, 23.0, 'Yes', 'Spr', 'Survived'], [266, 46.0, 'Yes', 'Spr', 'Survived'], [267, 46.0, 'Yes', 'Spr', 'Survived'], [268, 28.0, 'Yes', 'Spr', 'Survived'], [269, 34.0, 'Yes', 'Spr', 'Survived'], [270, 33.0, 'Yes', 'Spr', 'Died'], [271, 34.0, 'Yes', 'Spr', 'Survived'], [272, 35.0, 'Yes', 'Spr', 'Survived'], [273, 52.0, 'Yes', 'Spr', 'Survived'], [274, 41.0, 'Yes', 'Spr', 'Survived'], [275, 17.0, 'No', 'Spr', 'Survived'], [276, 21.0, 'Yes', 'Spr', 'Survived'], [277, 41.0, 'Yes', 'Spr', 'Survived'], [278, 48.0, 'Yes', 'Spr', 'Survived'], [279, 40.0, 'Yes', 'Spr', 'Survived'], [280, 32.0, 'Yes', 'Spr', 'Survived'], [281, 35.0, 'Yes', 'Spr', 'Survived'], [282, 32.0, 'Yes', 'Spr', 'Survived'], [283, 39.0, 'Yes', 'Spr', 'Survived'], [284, 31.0, 'Yes', 'Spr', 'Survived'], [285, 25.0, 'Yes', 'Aut', 'Died'], [286, 72.0, 'No', 'Spr', 'Survived'], [287, 55.0, 'No', 'Spr', 'Survived'], [288, 32.0, 'Yes', 'Spr', 'Survived'], [289, 24.0, 'Yes', 'Spr', 'Survived'], [290, 34.0, 'Yes', 'Spr', 'Died'], [291, 35.0, 'Yes', 'Spr', 'Survived'], [292, 38.0, 'Yes', 'Spr', 'Survived'], [293, 23.0, 'Yes', 'Spr', 'Survived'], [294, 34.0, 'Yes', 'Spr', 'Survived'], [295, 36.0, 'Yes', 'Spr', 'Survived'], [296, 34.0, 'Yes', 'Spr', 'Survived'], [297, 29.0, 'Yes', 'Spr', 'Survived'], [298, 37.0, 'Yes', 'Spr', 'Survived'], [299, 25.0, 'Yes', 'Spr', 'Survived'], [300, 44.0, 'Yes', 'Spr', 'Survived'], [301, 48.0, 'Yes', 'Spr', 'Survived'], [302, 49.0, 'Yes', 'Spr', 'Survived'], [303, 44.0, 'Yes', 'Spr', 'Survived'], [304, 39.0, 'Yes', 'Spr', 'Survived'], [305, 32.0, 'Yes', 'Spr', 'Survived'], [306, 44.0, 'Yes', 'Spr', 'Survived'], [307, 21.0, 'Yes', 'Spr', 'Survived'], [308, 40.0, 'Yes', 'Spr', 'Survived'], [309, 26.0, 'Yes', 'Spr', 'Survived'], [310, 30.0, 'Yes', 'Spr', 'Survived'], [311, 47.0, 'Yes', 'Spr', 'Survived'], [312, 51.0, 'Yes', 'Spr', 'Survived'], [313, 39.0, 'Yes', 'Spr', 'Survived'], [314, 46.0, 'Yes', 'Spr', 'Survived'], [315, 35.0, 'Yes', 'Spr', 'Died'], [316, 29.0, 'Yes', 'Spr', 'Survived'], [317, 43.0, 'Yes', 'Spr', 'Survived'], [318, 55.0, 'No', 'Spr', 'Survived'], [319, 36.0, 'Yes', 'Spr', 'Survived'], [320, 45.0, 'Yes', 'Spr', 'Survived'], [321, 37.0, 'Yes', 'Spr', 'Survived'], [322, 36.0, 'Yes', 'Spr', 'Survived'], [323, 32.0, 'Yes', 'Spr', 'Survived'], [324, 41.0, 'Yes', 'Spr', 'Survived'], [325, 49.0, 'Yes', 'Spr', 'Survived'], [326, 29.0, 'Yes', 'Spr', 'Died'], [327, 25.0, 'Yes', 'Spr', 'Survived'], [328, 31.0, 'Yes', 'Spr', 'Survived'], [329, 37.0, 'Yes', 'Spr', 'Survived'], [330, 32.0, 'Yes', 'Spr', 'Survived'], [331, 30.0, 'Yes', 'Spr', 'Survived'], [332, 21.0, 'Yes', 'Spr', 'Survived'], [333, 47.0, 'Yes', 'Spr', 'Survived'], [334, 38.0, 'Yes', 'Aut', 'Survived'], [335, 28.0, 'Yes', 'Spr', 'Survived'], [336, 46.0, 'Yes', 'Spr', 'Survived'], [337, 39.0, 'Yes', 'Spr', 'Survived'], [338, 34.0, 'Yes', 'Spr', 'Survived'], [339, 47.0, 'Yes', 'Spr', 'Survived'], [340, 35.0, 'Yes', 'Spr', 'Died'], [341, 48.0, 'Yes', 'Spr', 'Survived'], [342, 18.0, 'Yes', 'Spr', 'Survived'], [343, 20.0, 'Yes', 'Spr', 'Survived'], [344, 38.0, 'Yes', 'Spr', 'Survived'], [345, 26.0, 'Yes', 'Spr', 'Survived'], [346, 35.0, 'Yes', 'Spr', 'Survived'], [347, 45.0, 'Yes', 'Spr', 'Survived'], [348, 44.0, 'Yes', 'Aut', 'Survived'], [349, 31.0, 'Yes', 'Spr', 'Survived'], [350, 49.0, 'Yes', 'Spr', 'Survived'], [351, 12.0, 'No', 'Spr', 'Survived'], [352, 27.0, 'Yes', 'Spr', 'Survived'], [353, 37.0, 'Yes', 'Spr', 'Survived'], [354, 34.0, 'Yes', 'Spr', 'Survived'], [355, 42.0, 'Yes', 'Spr', 'Survived'], [356, 34.0, 'Yes', 'Spr', 'Survived'], [357, 35.0, 'Yes', 'Spr', 'Survived'], [358, 30.0, 'Yes', 'Spr', 'Survived'], [359, 46.0, 'Yes', 'Spr', 'Survived'], [360, 30.0, 'Yes', 'Spr', 'Survived'], [361, 26.0, 'Yes', 'Spr', 'Died'], [362, 38.0, 'Yes', 'Spr', 'Died'], [363, 41.0, 'Yes', 'Spr', 'Survived'], [364, 34.0, 'Yes', 'Spr', 'Survived'], [365, 28.0, 'Yes', 'Spr', 'Survived'], [366, 27.0, 'Yes', 'Spr', 'Survived'], [367, 37.0, 'Yes', 'Spr', 'Survived'], [368, 52.0, 'Yes', 'Spr', 'Survived'], [369, 28.0, 'Yes', 'Spr', 'Survived'], [370, 39.0, 'Yes', 'Spr', 'Survived'], [371, 32.0, 'Yes', 'Spr', 'Survived'], [372, 26.0, 'Yes', 'Spr', 'Survived'], [373, 33.0, 'Yes', 'Spr', 'Survived'], [374, 43.0, 'Yes', 'Spr', 'Survived'], [375, 45.0, 'Yes', 'Spr', 'Died'], [376, 27.0, 'Yes', 'Spr', 'Survived'], [377, 55.0, 'No', 'Spr', 'Survived'], [378, 21.0, 'Yes', 'Aut', 'Survived'], [379, 37.0, 'Yes', 'Spr', 'Survived'], [380, 30.0, 'Yes', 'Spr', 'Survived'], [381, 9.0, 'No', 'Spr', 'Survived'], [382, 31.0, 'Yes', 'Spr', 'Survived'], [383, 37.0, 'Yes', 'Spr', 'Survived'], [384, 25.0, 'Yes', 'Spr', 'Survived'], [385, 47.0, 'Yes', 'Spr', 'Survived'], [386, 23.0, 'Yes', 'Spr', 'Survived'], [387, 25.0, 'Yes', 'Spr', 'Survived'], [388, 36.0, 'Yes', 'Spr', 'Survived'], [389, 48.0, 'Yes', 'Spr', 'Survived'], [390, 48.0, 'Yes', 'Spr', 'Survived'], [391, 24.0, 'Yes', 'Spr', 'Survived'], [392, 33.0, 'Yes', 'Spr', 'Survived'], [393, 45.0, 'Yes', 'Spr', 'Survived'], [394, 50.0, 'Yes', 'Spr', 'Survived'], [395, 26.0, 'Yes', 'Spr', 'Survived'], [396, 33.0, 'Yes', 'Spr', 'Survived'], [397, 39.0, 'Yes', 'Spr', 'Survived'], [398, 24.0, 'Yes', 'Spr', 'Survived'], [399, 35.0, 'Yes', 'Spr', 'Survived'], [400, 25.0, 'Yes', 'Spr', 'Survived'], [401, 48.0, 'Yes', 'Spr', 'Survived'], [402, 31.0, 'Yes', 'Spr', 'Survived'], [403, 40.0, 'Yes', 'Spr', 'Survived'], [404, 28.0, 'Yes', 'Spr', 'Survived'], [405, 27.0, 'Yes', 'Spr', 'Died'], [406, 45.0, 'Yes', 'Aut', 'Survived'], [407, 58.0, 'No', 'Spr', 'Survived'], [408, 43.0, 'Yes', 'Spr', 'Survived'], [409, 32.0, 'Yes', 'Spr', 'Survived'], [410, 34.0, 'Yes', 'Spr', 'Survived'], [411, 47.0, 'Yes', 'Spr', 'Survived'], [412, 25.0, 'Yes', 'Spr', 'Survived'], [413, 35.0, 'Yes', 'Spr', 'Died'], [414, 41.0, 'Yes', 'Spr', 'Survived'], [415, 38.0, 'Yes', 'Spr', 'Survived'], [416, 44.0, 'Yes', 'Spr', 'Survived'], [417, 34.0, 'Yes', 'Spr', 'Survived'], [418, 39.0, 'Yes', 'Spr', 'Survived'], [419, 41.0, 'Yes', 'Spr', 'Survived'], [420, 34.0, 'Yes', 'Spr', 'Survived'], [421, 23.0, 'Yes', 'Spr', 'Survived'], [422, 47.0, 'Yes', 'Spr', 'Survived'], [423, 25.0, 'Yes', 'Spr', 'Survived'], [424, 41.0, 'Yes', 'Spr', 'Survived'], [425, 33.0, 'Yes', 'Spr', 'Survived'], [426, 44.0, 'Yes', 'Spr', 'Survived'], [427, 5.0, 'No', 'Spr', 'Survived'], [428, 37.0, 'Yes', 'Spr', 'Survived'], [429, 38.0, 'Yes', 'Spr', 'Survived'], [430, 46.0, 'Yes', 'Spr', 'Survived'], [431, 42.0, 'Yes', 'Spr', 'Died'], [432, 33.0, 'Yes', 'Spr', 'Survived'], [433, 31.0, 'Yes', 'Spr', 'Survived'], [434, 23.0, 'Yes', 'Spr', 'Survived'], [435, 38.0, 'Yes', 'Spr', 'Survived'], [436, 39.0, 'Yes', 'Spr', 'Survived'], [437, 56.0, 'No', 'Aut', 'Survived'], [438, 32.0, 'Yes', 'Spr', 'Survived'], [439, 37.0, 'Yes', 'Spr', 'Survived'], [440, 26.0, 'Yes', 'Spr', 'Survived'], [441, 23.0, 'Yes', 'Spr', 'Survived'], [442, 40.0, 'Yes', 'Spr', 'Survived'], [443, 29.0, 'Yes', 'Spr', 'Survived'], [444, 20.0, 'Yes', 'Aut', 'Survived'], [445, 47.0, 'Yes', 'Spr', 'Survived'], [446, 23.0, 'Yes', 'Spr', 'Survived'], [447, 33.0, 'Yes', 'Spr', 'Survived'], [448, 44.0, 'Yes', 'Spr', 'Survived'], [449, 31.0, 'Yes', 'Spr', 'Survived'], [450, 40.0, 'Yes', 'Spr', 'Survived'], [451, 39.0, 'Yes', 'Spr', 'Survived'], [452, 31.0, 'Yes', 'Spr', 'Survived'], [453, 31.0, 'Yes', 'Spr', 'Survived'], [454, 34.0, 'Yes', 'Spr', 'Survived'], [455, 40.0, 'Yes', 'Spr', 'Survived'], [456, 44.0, 'Yes', 'Spr', 'Survived'], [457, 33.0, 'Yes', 'Spr', 'Survived'], [458, 46.0, 'Yes', 'Spr', 'Survived'], [459, 37.0, 'Yes', 'Spr', 'Survived'], [460, 25.0, 'Yes', 'Spr', 'Survived'], [461, 25.0, 'Yes', 'Spr', 'Survived'], [462, 59.0, 'No', 'Spr', 'Survived'], [463, 37.0, 'Yes', 'Spr', 'Survived'], [464, 34.0, 'Yes', 'Aut', 'Survived'], [465, 39.0, 'Yes', 'Spr', 'Survived'], [466, 23.0, 'Yes', 'Spr', 'Survived'], [467, 44.0, 'Yes', 'Spr', 'Survived'], [468, 33.0, 'Yes', 'Spr', 'Survived'], [469, 36.0, 'Yes', 'Spr', 'Survived'], [470, 17.0, 'No', 'Spr', 'Survived'], [471, 28.0, 'Yes', 'Spr', 'Survived'], [472, 38.0, 'Yes', 'Spr', 'Survived'], [473, 43.0, 'Yes', 'Spr', 'Survived'], [474, 32.0, 'Yes', 'Spr', 'Survived'], [475, 34.0, 'Yes', 'Aut', 'Survived'], [476, 52.0, 'Yes', 'Spr', 'Died'], [477, 27.0, 'Yes', 'Spr', 'Survived'], [478, 6.0, 'No', 'Spr', 'Died'], [479, 29.0, 'Yes', 'Spr', 'Survived'], [480, 21.0, 'Yes', 'Spr', 'Survived'], [481, 33.0, 'Yes', 'Spr', 'Survived'], [482, 42.0, 'Yes', 'Spr', 'Survived'], [483, 16.0, 'No', 'Spr', 'Survived'], [484, 26.0, 'Yes', 'Spr', 'Died'], [485, 25.0, 'Yes', 'Spr', 'Survived'], [486, 29.0, 'Yes', 'Spr', 'Survived'], [487, 51.0, 'Yes', 'Spr', 'Survived'], [488, 13.0, 'No', 'Spr', 'Survived'], [489, 44.0, 'Yes', 'Spr', 'Survived'], [490, 23.0, 'Yes', 'Spr', 'Survived'], [491, 34.0, 'Yes', 'Spr', 'Survived'], [492, 48.0, 'Yes', 'Spr', 'Survived'], [493, 32.0, 'Yes', 'Spr', 'Survived'], [494, 48.0, 'Yes', 'Spr', 'Survived'], [495, 30.0, 'Yes', 'Spr', 'Survived'], [496, 10.0, 'No', 'Spr', 'Survived'], [497, 34.0, 'Yes', 'Spr', 'Survived'], [498, 33.0, 'Yes', 'Spr', 'Survived'], [499, 37.0, 'Yes', 'Spr', 'Survived'], [500, 23.0, 'Yes', 'Aut', 'Survived'], [501, 41.0, 'Yes', 'Spr', 'Survived'], [502, 30.0, 'Yes', 'Spr', 'Survived'], [503, 37.0, 'Yes', 'Spr', 'Survived'], [504, 40.0, 'Yes', 'Spr', 'Survived'], [505, 51.0, 'Yes', 'Spr', 'Survived'], [506, 39.0, 'Yes', 'Spr', 'Survived'], [507, 37.0, 'Yes', 'Spr', 'Survived'], [508, 27.0, 'Yes', 'Spr', 'Survived'], [509, 30.0, 'Yes', 'Spr', 'Survived'], [510, 27.0, 'Yes', 'Spr', 'Survived'], [511, 31.0, 'Yes', 'Spr', 'Survived'], [512, 34.0, 'Yes', 'Spr', 'Survived'], [513, 18.0, 'Yes', 'Spr', 'Survived'], [514, 16.0, 'No', 'Spr', 'Survived'], [515, 36.0, 'Yes', 'Spr', 'Survived'], [516, 34.0, 'Yes', 'Spr', 'Survived'], [517, 24.0, 'Yes', 'Spr', 'Survived'], [518, 33.0, 'Yes', 'Spr', 'Survived'], [519, 40.0, 'Yes', 'Spr', 'Survived'], [520, 21.0, 'Yes', 'Spr', 'Survived'], [521, 40.0, 'Yes', 'Spr', 'Survived'], [522, 34.0, 'Yes', 'Spr', 'Survived'], [523, 35.0, 'Yes', 'Spr', 'Survived'], [524, 42.0, 'Yes', 'Spr', 'Survived'], [525, 38.0, 'Yes', 'Spr', 'Survived'], [526, 16.0, 'No', 'Spr', 'Survived'], [527, 24.0, 'Yes', 'Spr', 'Survived'], [528, 38.0, 'Yes', 'Spr', 'Survived'], [529, 43.0, 'Yes', 'Spr', 'Survived'], [530, 38.0, 'Yes', 'Spr', 'Survived'], [531, 36.0, 'Yes', 'Spr', 'Survived'], [532, 34.0, 'Yes', 'Spr', 'Survived'], [533, 30.0, 'Yes', 'Spr', 'Survived'], [534, 37.0, 'Yes', 'Spr', 'Survived'], [535, 36.0, 'Yes', 'Aut', 'Survived'], [536, 37.0, 'Yes', 'Spr', 'Survived'], [537, 27.0, 'Yes', 'Spr', 'Survived'], [538, 39.0, 'Yes', 'Spr', 'Survived'], [539, 31.0, 'Yes', 'Spr', 'Survived'], [540, 49.0, 'Yes', 'Spr', 'Survived'], [541, 22.0, 'Yes', 'Spr', 'Survived'], [542, 30.0, 'Yes', 'Spr', 'Died'], [543, 52.0, 'Yes', 'Spr', 'Survived'], [544, 34.0, 'Yes', 'Spr', 'Died'], [545, 32.0, 'Yes', 'Spr', 'Survived'], [546, 29.0, 'Yes', 'Spr', 'Survived'], [547, 23.0, 'Yes', 'Spr', 'Survived'], [548, 23.0, 'Yes', 'Spr', 'Survived'], [549, 47.0, 'Yes', 'Spr', 'Survived'], [550, 39.0, 'Yes', 'Spr', 'Survived'], [551, 43.0, 'Yes', 'Spr', 'Survived'], [552, 18.0, 'No', 'Spr', 'Survived'], [553, 41.0, 'Yes', 'Spr', 'Survived'], [554, 29.0, 'Yes', 'Spr', 'Survived'], [555, 47.0, 'Yes', 'Spr', 'Survived'], [556, 29.0, 'Yes', 'Spr', 'Survived'], [557, 40.0, 'Yes', 'Spr', 'Survived'], [558, 28.0, 'Yes', 'Spr', 'Survived'], [559, 46.0, 'Yes', 'Spr', 'Survived'], [560, 43.0, 'Yes', 'Spr', 'Survived'], [561, 29.0, 'Yes', 'Spr', 'Survived'], [562, 39.0, 'Yes', 'Spr', 'Survived'], [563, 32.0, 'Yes', 'Spr', 'Survived'], [564, 42.0, 'Yes', 'Spr', 'Survived'], [565, 43.0, 'Yes', 'Spr', 'Survived'], [566, 21.0, 'Yes', 'Spr', 'Survived'], [567, 30.0, 'Yes', 'Spr', 'Survived'], [568, 20.0, 'Yes', 'Spr', 'Survived'], [569, 42.0, 'Yes', 'Spr', 'Survived'], [570, 49.0, 'Yes', 'Spr', 'Survived'], [571, 31.0, 'Yes', 'Spr', 'Survived'], [572, 48.0, 'Yes', 'Spr', 'Survived'], [573, 25.0, 'Yes', 'Spr', 'Survived'], [574, 41.0, 'Yes', 'Spr', 'Survived'], [575, 34.0, 'Yes', 'Spr', 'Survived'], [576, 30.0, 'Yes', 'Spr', 'Survived'], [577, 31.0, 'Yes', 'Aut', 'Survived'], [578, 30.0, 'Yes', 'Spr', 'Survived'], [579, 28.0, 'Yes', 'Spr', 'Survived'], [580, 50.0, 'Yes', 'Spr', 'Survived'], [581, 20.0, 'Yes', 'Spr', 'Survived'], [582, 38.0, 'Yes', 'Spr', 'Survived'], [583, 33.0, 'Yes', 'Spr', 'Survived'], [584, 42.0, 'Yes', 'Spr', 'Survived'], [585, 28.0, 'Yes', 'Spr', 'Survived'], [586, 25.0, 'Yes', 'Spr', 'Survived'], [587, 23.0, 'Yes', 'Spr', 'Survived'], [588, 49.0, 'Yes', 'Spr', 'Survived'], [589, 20.0, 'Yes', 'Spr', 'Survived'], [590, 40.0, 'Yes', 'Spr', 'Survived'], [591, 29.0, 'Yes', 'Spr', 'Survived'], [592, 49.0, 'Yes', 'Spr', 'Survived'], [593, 32.0, 'Yes', 'Spr', 'Survived'], [594, 41.0, 'Yes', 'Spr', 'Survived'], [595, 36.0, 'Yes', 'Spr', 'Survived'], [596, 39.0, 'Yes', 'Spr', 'Survived'], [597, 60.0, 'No', 'Spr', 'Survived'], [598, 28.0, 'Yes', 'Spr', 'Survived'], [599, 46.0, 'Yes', 'Spr', 'Survived'], [600, 31.0, 'Yes', 'Spr', 'Survived'], [601, 28.0, 'Yes', 'Spr', 'Survived'], [602, 31.0, 'Yes', 'Spr', 'Survived'], [603, 17.0, 'No', 'Spr', 'Survived'], [604, 33.0, 'Yes', 'Spr', 'Survived'], [605, 33.0, 'Yes', 'Spr', 'Survived'], [606, 14.0, 'No', 'Spr', 'Survived'], [607, 36.0, 'Yes', 'Spr', 'Survived'], [608, 37.0, 'Yes', 'Spr', 'Survived'], [609, 47.0, 'Yes', 'Spr', 'Survived'], [610, 40.0, 'Yes', 'Spr', 'Survived'], [611, 28.0, 'Yes', 'Spr', 'Survived'], [612, 24.0, 'Yes', 'Spr', 'Survived'], [613, 23.0, 'Yes', 'Spr', 'Survived'], [614, 59.0, 'No', 'Spr', 'Survived'], [615, 43.0, 'Yes', 'Spr', 'Survived'], [616, 36.0, 'Yes', 'Spr', 'Survived'], [617, 26.0, 'Yes', 'Spr', 'Survived'], [618, 43.0, 'Yes', 'Spr', 'Survived'], [619, 32.0, 'Yes', 'Spr', 'Survived'], [620, 40.0, 'Yes', 'Spr', 'Survived'], [621, 48.0, 'Yes', 'Spr', 'Survived'], [622, 17.0, 'No', 'Spr', 'Survived'], [623, 30.0, 'Yes', 'Spr', 'Survived'], [624, 39.0, 'Yes', 'Spr', 'Survived'], [625, 36.0, 'Yes', 'Spr', 'Survived'], [626, 47.0, 'Yes', 'Spr', 'Survived'], [627, 34.0, 'Yes', 'Spr', 'Died'], [628, 35.0, 'Yes', 'Spr', 'Survived'], [629, 30.0, 'Yes', 'Spr', 'Survived'], [630, 38.0, 'Yes', 'Spr', 'Survived'], [631, 54.0, 'Yes', 'Spr', 'Survived'], [632, 33.0, 'Yes', 'Spr', 'Survived'], [633, 32.0, 'Yes', 'Spr', 'Survived'], [634, 45.0, 'Yes', 'Spr', 'Survived'], [635, 30.0, 'Yes', 'Spr', 'Survived'], [636, 43.0, 'Yes', 'Spr', 'Survived'], [637, 24.0, 'Yes', 'Spr', 'Survived'], [638, 29.0, 'Yes', 'Spr', 'Survived'], [639, 17.0, 'No', 'Spr', 'Survived'], [640, 19.0, 'Yes', 'Spr', 'Survived'], [641, 32.0, 'Yes', 'Spr', 'Survived'], [642, 26.0, 'Yes', 'Spr', 'Survived'], [643, 44.0, 'Yes', 'Spr', 'Survived'], [644, 30.0, 'Yes', 'Spr', 'Survived'], [645, 33.0, 'Yes', 'Spr', 'Survived'], [646, 29.0, 'Yes', 'Spr', 'Survived'], [647, 24.0, 'Yes', 'Spr', 'Survived'], [648, 42.0, 'Yes', 'Spr', 'Survived'], [649, 34.0, 'Yes', 'Spr', 'Survived'], [650, 40.0, 'Yes', 'Spr', 'Died'], [651, 35.0, 'Yes', 'Spr', 'Survived'], [652, 41.0, 'Yes', 'Spr', 'Survived'], [653, 33.0, 'Yes', 'Spr', 'Survived'], [654, 36.0, 'Yes', 'Spr', 'Survived'], [655, 45.0, 'Yes', 'Spr', 'Survived'], [656, 71.0, 'No', 'Spr', 'Survived'], [657, 49.0, 'Yes', 'Spr', 'Survived'], [658, 50.0, 'Yes', 'Spr', 'Survived'], [659, 39.0, 'Yes', 'Spr', 'Survived'], [660, 41.0, 'Yes', 'Spr', 'Survived'], [661, 31.0, 'Yes', 'Spr', 'Survived'], [662, 46.0, 'Yes', 'Spr', 'Survived'], [663, 40.0, 'Yes', 'Spr', 'Survived'], [664, 31.0, 'Yes', 'Spr', 'Survived'], [665, 26.0, 'Yes', 'Spr', 'Survived'], [666, 23.0, 'Yes', 'Spr', 'Died'], [667, 22.0, 'Yes', 'Spr', 'Survived'], [668, 34.0, 'Yes', 'Spr', 'Survived'], [669, 28.0, 'Yes', 'Spr', 'Died'], [670, 43.0, 'Yes', 'Spr', 'Survived'], [671, 34.0, 'Yes', 'Spr', 'Survived'], [672, 42.0, 'Yes', 'Spr', 'Survived'], [673, 34.0, 'Yes', 'Spr', 'Survived'], [674, 30.0, 'Yes', 'Spr', 'Survived'], [675, 36.0, 'Yes', 'Spr', 'Survived'], [676, 52.0, 'Yes', 'Spr', 'Survived'], [677, 17.0, 'No', 'Spr', 'Survived'], [678, 28.0, 'Yes', 'Spr', 'Survived'], [679, 25.0, 'Yes', 'Spr', 'Survived'], [680, 40.0, 'Yes', 'Spr', 'Survived'], [681, 43.0, 'Yes', 'Spr', 'Survived'], [682, 36.0, 'Yes', 'Spr', 'Survived'], [683, 35.0, 'Yes', 'Spr', 'Survived'], [684, 37.0, 'Yes', 'Spr', 'Survived'], [685, 46.0, 'Yes', 'Spr', 'Survived'], [686, 27.0, 'Yes', 'Aut', 'Survived'], [687, 43.0, 'Yes', 'Spr', 'Survived'], [688, 53.0, 'Yes', 'Spr', 'Survived'], [689, 41.0, 'Yes', 'Spr', 'Survived'], [690, 29.0, 'Yes', 'Spr', 'Survived'], [691, 45.0, 'Yes', 'Spr', 'Survived'], [692, 32.0, 'Yes', 'Spr', 'Survived'], [693, 31.0, 'Yes', 'Spr', 'Survived'], [694, 33.0, 'Yes', 'Spr', 'Survived'], [695, 36.0, 'Yes', 'Spr', 'Survived'], [696, 45.0, 'Yes', 'Spr', 'Survived'], [697, 35.0, 'Yes', 'Spr', 'Survived'], [698, 40.0, 'Yes', 'Spr', 'Survived'], [699, 34.0, 'Yes', 'Spr', 'Survived']]\n"
     ]
    }
   ],
   "source": [
    "synEverestData = []\n",
    "\n",
    "def everestFunction():\n",
    "    for i in range(0, N):\n",
    "        data = []\n",
    "        if oxUse[i] == 0 and seasList[i] == 'Spr':\n",
    "            death = rng.binomial(1, df[(df['Season'] == 'Spr') & (df['Oxy'] == 'No') & (df['Dth'] == 'Y')].Dth.count() \\\n",
    "                               / df[(df['Season'] == 'Spr') & (df['Oxy'] == 'No')].Season.count())\n",
    "\n",
    "        elif oxUse[i] == 1 and seasList[i] == 'Spr':\n",
    "            death = rng.binomial(1, df[(df['Season'] == 'Spr') & (df['Oxy'] == 'Y') & (df['Dth'] == 'Y')].Dth.count() \\\n",
    "                               / df[(df['Season'] == 'Spr') & (df['Oxy'] == 'Y')].Season.count())\n",
    "\n",
    "        elif oxUse[i] == 0 and seasList[i] == 'Sum':\n",
    "            death = rng.binomial(1, df[(df['Season'] == 'Sum') & (df['Oxy'] == 'No') & (df['Dth'] == 'Y')].Dth.count() \\\n",
    "                               / df[(df['Season'] == 'Sum') & (df['Oxy'] == 'No')].Season.count())\n",
    "\n",
    "        elif oxUse[i] == 1 and seasList[i] == 'Sum':\n",
    "            death = rng.binomial(1, df[(df['Season'] == 'Sum') & (df['Oxy'] == 'Y') & (df['Dth'] == 'Y')].Dth.count() \\\n",
    "                               / df[(df['Season'] == 'Sum') & (df['Oxy'] == 'Y')].Season.count())\n",
    "\n",
    "        elif oxUse[i] == 0 and seasList[i] == 'Aut':\n",
    "            death = rng.binomial(1, df[(df['Season'] == 'Aut') & (df['Oxy'] == 'No') & (df['Dth'] == 'Y')].Dth.count() \\\n",
    "                               / df[(df['Season'] == 'Aut') & (df['Oxy'] == 'No')].Season.count())\n",
    "\n",
    "        elif oxUse[i] == 1 and seasList[i] == 'Aut':\n",
    "            death = rng.binomial(1, df[(df['Season'] == 'Aut') & (df['Oxy'] == 'Y') & (df['Dth'] == 'Y')].Dth.count() \\\n",
    "                               / df[(df['Season'] == 'Aut') & (df['Oxy'] == 'Y')].Season.count())\n",
    "\n",
    "        elif oxUse[i] == 0 and seasList[i] == 'Win':\n",
    "            death = rng.binomial(1, df[(df['Season'] == 'Win') & (df['Oxy'] == 'No') & (df['Dth'] == 'Y')].Dth.count() \\\n",
    "                               / df[(df['Season'] == 'Win') & (df['Oxy'] == 'No')].Season.count())\n",
    "\n",
    "        elif oxUse[i] == 1 and seasList[i] == 'Win':\n",
    "            death = rng.binomial(1, df[(df['Season'] == 'Win') & (df['Oxy'] == 'Y') & (df['Dth'] == 'Y')].Dth.count() \\\n",
    "                               / df[(df['Season'] == 'Win') & (df['Oxy'] == 'Y')].Season.count())\n",
    "\n",
    "        if oxUse[i] == 1:\n",
    "            oxUse2 = 'No'\n",
    "        else:\n",
    "            oxUse2 = 'Yes'\n",
    "\n",
    "        if death == 0:\n",
    "            death2 = 'Survived'\n",
    "        else:\n",
    "            death2 = 'Died'\n",
    "\n",
    "\n",
    "        data = [i, round(vals[i],0), oxUse2, seasList[i], death2]\n",
    "        synEverestData.append(data)\n",
    "        \n",
    "    return synEverestData\n",
    "        \n",
    "\n",
    "everestFunction()\n",
    "print(synEverestData)\n"
   ]
  },
  {
   "cell_type": "code",
   "execution_count": 16,
   "id": "9177d0eb",
   "metadata": {},
   "outputs": [
    {
     "data": {
      "text/html": [
       "<div>\n",
       "<style scoped>\n",
       "    .dataframe tbody tr th:only-of-type {\n",
       "        vertical-align: middle;\n",
       "    }\n",
       "\n",
       "    .dataframe tbody tr th {\n",
       "        vertical-align: top;\n",
       "    }\n",
       "\n",
       "    .dataframe thead th {\n",
       "        text-align: right;\n",
       "    }\n",
       "</style>\n",
       "<table border=\"1\" class=\"dataframe\">\n",
       "  <thead>\n",
       "    <tr style=\"text-align: right;\">\n",
       "      <th></th>\n",
       "      <th>Climber</th>\n",
       "      <th>Age</th>\n",
       "      <th>Oxygen</th>\n",
       "      <th>Season</th>\n",
       "      <th>Survived</th>\n",
       "    </tr>\n",
       "  </thead>\n",
       "  <tbody>\n",
       "    <tr>\n",
       "      <th>0</th>\n",
       "      <td>0</td>\n",
       "      <td>37.0</td>\n",
       "      <td>Yes</td>\n",
       "      <td>Spr</td>\n",
       "      <td>Survived</td>\n",
       "    </tr>\n",
       "    <tr>\n",
       "      <th>1</th>\n",
       "      <td>1</td>\n",
       "      <td>50.0</td>\n",
       "      <td>Yes</td>\n",
       "      <td>Spr</td>\n",
       "      <td>Survived</td>\n",
       "    </tr>\n",
       "    <tr>\n",
       "      <th>2</th>\n",
       "      <td>2</td>\n",
       "      <td>40.0</td>\n",
       "      <td>Yes</td>\n",
       "      <td>Spr</td>\n",
       "      <td>Survived</td>\n",
       "    </tr>\n",
       "    <tr>\n",
       "      <th>3</th>\n",
       "      <td>3</td>\n",
       "      <td>46.0</td>\n",
       "      <td>Yes</td>\n",
       "      <td>Spr</td>\n",
       "      <td>Survived</td>\n",
       "    </tr>\n",
       "    <tr>\n",
       "      <th>4</th>\n",
       "      <td>4</td>\n",
       "      <td>42.0</td>\n",
       "      <td>Yes</td>\n",
       "      <td>Spr</td>\n",
       "      <td>Survived</td>\n",
       "    </tr>\n",
       "  </tbody>\n",
       "</table>\n",
       "</div>"
      ],
      "text/plain": [
       "   Climber   Age Oxygen Season  Survived\n",
       "0        0  37.0    Yes    Spr  Survived\n",
       "1        1  50.0    Yes    Spr  Survived\n",
       "2        2  40.0    Yes    Spr  Survived\n",
       "3        3  46.0    Yes    Spr  Survived\n",
       "4        4  42.0    Yes    Spr  Survived"
      ]
     },
     "execution_count": 16,
     "metadata": {},
     "output_type": "execute_result"
    }
   ],
   "source": [
    "synEverestDataDf = pd.DataFrame(synEverestData, columns=['Climber', 'Age', 'Oxygen', 'Season', 'Survived'])\n",
    "\n",
    "synEverestDataDf.head()"
   ]
  },
  {
   "cell_type": "code",
   "execution_count": 18,
   "id": "d0776f90",
   "metadata": {},
   "outputs": [
    {
     "data": {
      "text/plain": [
       "42"
      ]
     },
     "execution_count": 18,
     "metadata": {},
     "output_type": "execute_result"
    }
   ],
   "source": [
    "numberOfDeaths = synEverestDataDf[synEverestDataDf['Survived'] == 'Died'].Survived.count()\n",
    "numberOfDeaths"
   ]
  },
  {
   "cell_type": "code",
   "execution_count": null,
   "id": "f4dacec4",
   "metadata": {},
   "outputs": [],
   "source": []
  }
 ],
 "metadata": {
  "kernelspec": {
   "display_name": "Python 3 (ipykernel)",
   "language": "python",
   "name": "python3"
  },
  "language_info": {
   "codemirror_mode": {
    "name": "ipython",
    "version": 3
   },
   "file_extension": ".py",
   "mimetype": "text/x-python",
   "name": "python",
   "nbconvert_exporter": "python",
   "pygments_lexer": "ipython3",
   "version": "3.9.7"
  }
 },
 "nbformat": 4,
 "nbformat_minor": 5
}
