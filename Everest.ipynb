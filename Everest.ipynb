{
 "cells": [
  {
   "cell_type": "markdown",
   "id": "ef525c35",
   "metadata": {},
   "source": [
    "# Survivalibility on Mt. Everest\n",
    "\n",
    "## Programming for Data Analysis Project 1\n",
    "\n",
    "## Author: David Higgins - G00411302"
   ]
  },
  {
   "cell_type": "markdown",
   "id": "38d24c59",
   "metadata": {},
   "source": [
    "\"Getting to the top is optional. Getting down is mandatory.\"\n",
    "\n",
    "\\- Ed Viesturs"
   ]
  },
  {
   "cell_type": "code",
   "execution_count": 1,
   "id": "6b7eb868",
   "metadata": {},
   "outputs": [],
   "source": [
    "import numpy as np\n",
    "import pandas as pd\n",
    "import matplotlib.pyplot as plt\n",
    "import random\n",
    "\n",
    "N = 700"
   ]
  },
  {
   "cell_type": "markdown",
   "id": "9c00f5e6",
   "metadata": {},
   "source": [
    "We first import the Mt. Everest Ascent dataset to understand what information is available for mountaineers and to get an idea of the shape of that data."
   ]
  },
  {
   "cell_type": "code",
   "execution_count": 2,
   "id": "af1add20",
   "metadata": {},
   "outputs": [
    {
     "data": {
      "text/html": [
       "<div>\n",
       "<style scoped>\n",
       "    .dataframe tbody tr th:only-of-type {\n",
       "        vertical-align: middle;\n",
       "    }\n",
       "\n",
       "    .dataframe tbody tr th {\n",
       "        vertical-align: top;\n",
       "    }\n",
       "\n",
       "    .dataframe thead th {\n",
       "        text-align: right;\n",
       "    }\n",
       "</style>\n",
       "<table border=\"1\" class=\"dataframe\">\n",
       "  <thead>\n",
       "    <tr style=\"text-align: right;\">\n",
       "      <th></th>\n",
       "      <th>Peak</th>\n",
       "      <th>Name</th>\n",
       "      <th>Year</th>\n",
       "      <th>Season</th>\n",
       "      <th>Date</th>\n",
       "      <th>Time</th>\n",
       "      <th>Citizenship</th>\n",
       "      <th>Sex</th>\n",
       "      <th>Age</th>\n",
       "      <th>Oxy</th>\n",
       "      <th>Dth</th>\n",
       "      <th>Host</th>\n",
       "    </tr>\n",
       "  </thead>\n",
       "  <tbody>\n",
       "    <tr>\n",
       "      <th>0</th>\n",
       "      <td>EVER</td>\n",
       "      <td>Edmund Percival Hillary</td>\n",
       "      <td>1953</td>\n",
       "      <td>Spr</td>\n",
       "      <td>29-May</td>\n",
       "      <td>11:30</td>\n",
       "      <td>New Zealand</td>\n",
       "      <td>M</td>\n",
       "      <td>33</td>\n",
       "      <td>Y</td>\n",
       "      <td>.</td>\n",
       "      <td>Nepal</td>\n",
       "    </tr>\n",
       "    <tr>\n",
       "      <th>1</th>\n",
       "      <td>EVER</td>\n",
       "      <td>Tenzing Norgay</td>\n",
       "      <td>1953</td>\n",
       "      <td>Spr</td>\n",
       "      <td>29-May</td>\n",
       "      <td>11:30</td>\n",
       "      <td>India</td>\n",
       "      <td>M</td>\n",
       "      <td>39</td>\n",
       "      <td>Y</td>\n",
       "      <td>.</td>\n",
       "      <td>Nepal</td>\n",
       "    </tr>\n",
       "    <tr>\n",
       "      <th>2</th>\n",
       "      <td>EVER</td>\n",
       "      <td>Hans-Rudolf Von Gunten</td>\n",
       "      <td>1956</td>\n",
       "      <td>Spr</td>\n",
       "      <td>24-May</td>\n",
       "      <td>11:00</td>\n",
       "      <td>Switzerland</td>\n",
       "      <td>M</td>\n",
       "      <td>27</td>\n",
       "      <td>Y</td>\n",
       "      <td>.</td>\n",
       "      <td>Nepal</td>\n",
       "    </tr>\n",
       "    <tr>\n",
       "      <th>3</th>\n",
       "      <td>EVER</td>\n",
       "      <td>Juerg P. Marmet</td>\n",
       "      <td>1956</td>\n",
       "      <td>Spr</td>\n",
       "      <td>23-May</td>\n",
       "      <td>14:00</td>\n",
       "      <td>Switzerland</td>\n",
       "      <td>M</td>\n",
       "      <td>28</td>\n",
       "      <td>Y</td>\n",
       "      <td>.</td>\n",
       "      <td>Nepal</td>\n",
       "    </tr>\n",
       "    <tr>\n",
       "      <th>4</th>\n",
       "      <td>EVER</td>\n",
       "      <td>Ernst Schmied</td>\n",
       "      <td>1956</td>\n",
       "      <td>Spr</td>\n",
       "      <td>23-May</td>\n",
       "      <td>14:00</td>\n",
       "      <td>Switzerland</td>\n",
       "      <td>M</td>\n",
       "      <td>31</td>\n",
       "      <td>Y</td>\n",
       "      <td>.</td>\n",
       "      <td>Nepal</td>\n",
       "    </tr>\n",
       "  </tbody>\n",
       "</table>\n",
       "</div>"
      ],
      "text/plain": [
       "   Peak                     Name  Year Season    Date   Time  Citizenship Sex  \\\n",
       "0  EVER  Edmund Percival Hillary  1953    Spr  29-May  11:30  New Zealand   M   \n",
       "1  EVER          Tenzing Norgay   1953    Spr  29-May  11:30        India   M   \n",
       "2  EVER   Hans-Rudolf Von Gunten  1956    Spr  24-May  11:00  Switzerland   M   \n",
       "3  EVER          Juerg P. Marmet  1956    Spr  23-May  14:00  Switzerland   M   \n",
       "4  EVER            Ernst Schmied  1956    Spr  23-May  14:00  Switzerland   M   \n",
       "\n",
       "   Age Oxy Dth   Host  \n",
       "0   33   Y   .  Nepal  \n",
       "1   39   Y   .  Nepal  \n",
       "2   27   Y   .  Nepal  \n",
       "3   28   Y   .  Nepal  \n",
       "4   31   Y   .  Nepal  "
      ]
     },
     "execution_count": 2,
     "metadata": {},
     "output_type": "execute_result"
    }
   ],
   "source": [
    "df = pd.read_csv(\"Mt_Everest_Ascent_Data.csv\")\n",
    "df.head()"
   ]
  },
  {
   "cell_type": "markdown",
   "id": "68490c79",
   "metadata": {},
   "source": [
    "We can create a Data Series containing just the age values. It's then possible to use the describe() method to find out the mean and standard deviation of the ages of summitters."
   ]
  },
  {
   "cell_type": "code",
   "execution_count": 3,
   "id": "c6a91a14",
   "metadata": {},
   "outputs": [
    {
     "data": {
      "text/plain": [
       "count    10010.000000\n",
       "mean        35.293906\n",
       "std          9.314089\n",
       "min         13.000000\n",
       "25%         28.000000\n",
       "50%         34.000000\n",
       "75%         41.000000\n",
       "max         80.000000\n",
       "Name: Age, dtype: float64"
      ]
     },
     "execution_count": 3,
     "metadata": {},
     "output_type": "execute_result"
    }
   ],
   "source": [
    "ages = df.loc[:,'Age']\n",
    "ages.describe()"
   ]
  },
  {
   "cell_type": "markdown",
   "id": "fe363342",
   "metadata": {},
   "source": [
    "Plotting a histogram of the age Data Series gives us an idea of the shape of the distribution. This is often the best indicator of what distribution is appropriate when generating synthetic data."
   ]
  },
  {
   "cell_type": "code",
   "execution_count": 4,
   "id": "3f9000c6",
   "metadata": {},
   "outputs": [
    {
     "data": {
      "text/plain": [
       "(array([ 151., 1629., 2943., 2221., 1825.,  832.,  296.,   93.,   17.,\n",
       "           3.]),\n",
       " array([13. , 19.7, 26.4, 33.1, 39.8, 46.5, 53.2, 59.9, 66.6, 73.3, 80. ]),\n",
       " <BarContainer object of 10 artists>)"
      ]
     },
     "execution_count": 4,
     "metadata": {},
     "output_type": "execute_result"
    },
    {
     "data": {
      "image/png": "[encoded data removed]",
      "text/plain": [
       "<Figure size 432x288 with 1 Axes>"
      ]
     },
     "metadata": {
      "needs_background": "light"
     },
     "output_type": "display_data"
    }
   ],
   "source": [
    "plt.hist(ages, bins=10)"
   ]
  },
  {
   "cell_type": "markdown",
   "id": "754b2f9e",
   "metadata": {},
   "source": [
    "This histogram looks relatively normally distributed. We can try generating a dataset using the mean and standard deviation of the ages Data Series."
   ]
  },
  {
   "cell_type": "code",
   "execution_count": 5,
   "id": "62ffa016",
   "metadata": {},
   "outputs": [
    {
     "name": "stdout",
     "output_type": "stream",
     "text": [
      "[24.37084923 19.15327155 32.27472989 32.41075259 30.45300406 45.91361857\n",
      " 44.52940408 56.54752409 38.44706851 31.19450914 47.48132559 45.59363056\n",
      " 29.46799118 35.54309732 39.15140808 31.04742066 35.38531652 18.9095052\n",
      " 21.91272696 22.69156906 45.83686672 11.5965332  49.76691125 37.48641188\n",
      " 24.7619263  37.96817792 18.97217098 22.93135732 31.60249341 34.60806632\n",
      " 26.04334308 48.03515961 30.74019988 49.10030801 28.85360383 24.5931339\n",
      " 15.96052187 31.74438235 26.38350483 23.75901665 47.92144043 38.1210029\n",
      " 47.41786939 44.9018522  41.19742621 34.54879198 21.27506434 36.65928601\n",
      " 44.69585164 52.15203561 37.43845679 36.00409236 64.88601354 41.93655191\n",
      " 24.4793242  35.80198547 38.18129292 20.04182678 29.21338121 39.1208778\n",
      " 35.12073177 23.62001583 45.98817931 33.73879901 27.72249088 34.72095418\n",
      " 43.43363004 34.52588686 33.27208368 27.82385876 42.22364775 35.36758738\n",
      " 28.57453552 38.80147612 14.99301054 31.34772861 29.59705672 47.47077702\n",
      " 46.14009905 49.93702262 25.00231122 43.52084633 37.69047983 27.13227969\n",
      " 19.80037076 23.61631299 27.55753577 38.55064524 32.57925371 35.27784194\n",
      " 46.18244273 53.97388357 30.54675006 41.20809213 46.70765712 46.12067684\n",
      " 37.11918093 50.21208686 51.03689707 42.69431117 33.41324612 32.62328712\n",
      " 36.88285484 44.83311557 28.69684822 30.42580194 46.03861911 43.38927891\n",
      " 26.30278808 33.86724566 33.65427005 25.5404812  28.19826275 35.03417206\n",
      " 41.14907209 36.05152028 45.30273105 31.07414434 30.86868285 40.29797017\n",
      " 39.34047183 44.36791482 39.61063721 31.56545693 21.5179575  42.07610435\n",
      " 27.11267939 10.58071987 42.72716444 39.91914809 34.07417872 40.21864835\n",
      " 44.22401813 33.28605802 38.27655075 41.03501129 45.22877788  9.79990052\n",
      " 35.65553684 44.73837137 48.31097796 26.05613135 25.98400452 41.63055012\n",
      " 31.71052983 48.80520507 47.13585778 38.71232965 28.12001866 21.1739448\n",
      " 43.7133518  38.0787477  40.3022551  23.08235679 48.13630462 25.21088056\n",
      " 26.74263886 33.33121116 35.04901457 35.91196796 40.02001258 28.97426024\n",
      " 48.26714724 32.59981033 38.31493972 38.33767849 38.62237848 27.59012459\n",
      " 42.38829848 32.59427263 24.29146448 36.6677906  26.81715314 33.84467357\n",
      " 24.97460187 50.05092677 49.18852948 52.06983262 26.11220105 33.59410428\n",
      " 37.15328995 31.42058806 31.60784385 25.46944891 27.56039517 43.9648516\n",
      " 26.98202428 19.26808275 34.10560571 20.97017457 44.10132426 37.67651593\n",
      " 24.11377048 43.02234036 27.67370348 18.30180481 31.32295587 29.00622883\n",
      " 39.37996643 32.20298581 29.93443383 20.67664451 38.70791772 40.59713954\n",
      " 46.18877019 25.74231424 36.70144532 34.48697394 42.56065924 14.65330735\n",
      " 37.45761495  9.70088606 29.67011063 37.26513486 39.78512137 34.96198977\n",
      " 29.59599993 47.33273776 32.13608737 13.25901992 51.43334508 34.147741\n",
      " 36.29724322 25.86531092 34.21463107 28.04574586 50.27044461 31.13920171\n",
      " 33.2895113  34.87356493 39.08444945 22.797744   34.38859049 27.07340861\n",
      " 19.79977865 32.79779449 22.5858854  29.35708313 49.5903189  31.14227976\n",
      " 28.64789059 50.80773831 35.114704   45.98678837 34.71717853 41.47470952\n",
      " 53.06373893 34.08123878 28.94337541 35.46060999 26.72186843 30.99605076\n",
      " 50.30732736 39.60040097 40.06292654 29.17294928 30.35820979 31.046034\n",
      " 35.13660198 34.74008327 36.09853264 38.61433261 48.12143375 45.4555991\n",
      " 14.68038387 30.10397098 26.20550605 23.39188123 22.96494818 32.86137763\n",
      " 37.72378043 35.37869327 34.6291777  31.16850717 48.14019125 18.47540143\n",
      " 35.22106952 38.82443091 37.70518339 34.25139644 47.30913067 31.70634309\n",
      " 31.46696553 20.22945359 16.06339546 31.14062924 21.30702526 40.64982852\n",
      " 30.06824081 19.28170227 38.25911188 36.05863878 26.36722324 16.15493218\n",
      " 37.61690051 19.35159375 39.69496043 37.48140668 41.63343923 41.88375708\n",
      " 58.61607626 26.13380209 36.97898742 22.79864792 37.27901255 31.44764906\n",
      " 40.1629916  45.717811   37.60521952 40.23751927 24.8570067  59.36350159\n",
      " 32.3249305  40.61832105 23.74737151 32.57820264 32.59338868 22.54378723\n",
      " 28.20569095 59.94435807 27.92903255 39.36579559 36.41353975 19.82737093\n",
      " 41.8485861  44.08724368 43.74306123 43.8918277  53.08437958 32.0112068\n",
      " 30.68416832 38.51846676 26.33333109 38.39801066 31.46265777 49.66688114\n",
      " 38.83566844 38.4934732  52.06616163 27.52924562 41.98149815 35.24318132\n",
      " 43.84673135 44.6513549  34.05298417 31.11897188 15.26655763 21.0878398\n",
      " 39.7504582  45.90015971 38.40359666 49.62217772 32.60422062 24.91445671\n",
      " 37.0330083  39.45495576 36.10809525 35.80596159 44.0176831  26.45583476\n",
      " 26.60583468 36.84183912 31.71191466 30.66611861 28.94200454 36.1159835\n",
      " 32.43710483 29.83721629 41.1734146  38.51338891 40.6092851  34.08667465\n",
      " 17.24633786 21.55917979 41.66163036 17.42998729 27.56994535 51.75780707\n",
      " 48.47642233 27.44500769 41.39398297 29.16003278 35.33442882 51.34803315\n",
      " 41.94505604 52.25261199 43.39028004 19.49910904 32.06627986 17.63576429\n",
      " 49.75612631 29.53705651 25.58055879 37.32532641 40.57033479 36.14931997\n",
      " 30.98149605 30.45283052 29.10273921 30.53880576 49.01138934 11.63343951\n",
      " 30.2903135  30.82304195 31.86067955 25.67559454  9.82169164 30.29181983\n",
      " 29.67348799 30.46321246 16.95781364 27.84250617 23.27625866 26.69266646\n",
      " 18.12179113 45.29937988 57.98633029 42.95870948 29.29069695 41.48477626\n",
      " 43.41508845 25.92276308 50.91839632 20.43741935 21.45070176 19.97144088\n",
      " 46.81354022 41.32513215 51.22049232 42.03520619 21.09025352 40.13947289\n",
      " 33.05556012 31.56507492 45.18062495 17.7970506  38.09808545 18.72639326\n",
      " 44.1071353  49.66964037 22.23298841 11.5254879  35.55090384 47.59364355\n",
      " 35.45610373 31.58214097 32.67552553 33.63225562 31.83883313 38.9250355\n",
      " 20.9834015  51.54889975 42.20891099 20.02388872 17.6244553  36.57883339\n",
      " 27.41278041 43.06212015 34.17399317 33.54534217 48.35023149 31.44772917\n",
      " 36.25983875 30.64480943 55.50491198 30.35941433 40.81341408 35.83956699\n",
      " 36.29294966 26.93133866 41.00182444 44.2552732  13.87057912 21.09334931\n",
      " 42.35907704 50.57086823 26.02644001 32.81768603 33.58162595 15.31355267\n",
      " 58.42310145 39.10199688 43.3863019  25.67573542 28.41808398 45.50169708\n",
      " 42.76620727 42.78112873 38.91134218 34.70916861 31.45251631 48.13262552\n",
      " 35.37877021 22.95712238 36.50457941 25.04022671 32.98556496 41.16018647\n",
      " 24.50244247 26.76831686 34.06506785 40.72334269 44.29420094 19.61324278\n",
      " 20.71613825 39.66490635 27.54836485 35.48580275 26.59700906 35.09517596\n",
      " 32.2159699  19.19549222 31.13863742 37.49109292 36.16007546 16.81011361\n",
      " 41.04232001 26.44672744 41.10057617 35.09928138 41.58506455 57.20077484\n",
      " 33.89831761 42.64589781 52.71136334 24.41674043 29.56358163 28.41258151\n",
      " 54.26023792 48.11443026 34.13564228 36.96723178 22.87365461 37.46182095\n",
      " 29.13360944 40.85199655 35.13718565 37.09640939 40.39274944 39.45512632\n",
      " 27.9285433  29.0425287  33.34074221 30.94215564 39.22002681 22.94361202\n",
      " 55.13785844 25.22989677 35.93016246 28.84802821 20.69661859 31.82065332\n",
      " 36.28178458 32.30973716 39.90312515 36.35818639 31.75296983 39.38180449\n",
      " 49.45913972 47.30438872 29.52955582 23.82802668 39.44350076 32.30210297\n",
      " 41.54713435 50.71547262 21.70186224 45.69574191 38.56262437 42.2673733\n",
      " 31.44609369 28.15269712 35.13781142 43.47824145 34.02679612 39.28249051\n",
      " 40.78062305 50.40961302 26.69255407 34.13226676 43.84035534 33.8575428\n",
      " 28.46734242 41.58068494 16.5680055  23.85352434 39.00962647 38.08803985\n",
      " 22.6018969  44.68512296 35.71645719 33.11706186 34.4034322  25.80211972\n",
      " 42.46341592 43.85831247 37.35474965 19.53720701 34.27941764 27.77237775\n",
      " 34.27828536 23.65213738 36.75552993 43.57675    28.15183791 37.82714631\n",
      " 30.51808005 31.05282285 20.30856077 31.49768711 21.8821991  38.33753687\n",
      " 36.84134434 35.12983157 31.7108577  42.55430896 27.90817421 30.05103533\n",
      " 42.60636036 39.23147896 20.28564774 25.5241208  34.15411261 30.6766418\n",
      " 48.42260647 36.54891477 44.54579785 38.40938405 40.37407816 31.80001839\n",
      " 38.5487815  28.68642116 46.99907653 33.20081647 32.22407022 37.92188996\n",
      " 39.60827046 32.85298407 36.78091256 36.52121614 39.4162112  28.96285673\n",
      " 29.19071071 52.45064538 22.04365357 42.41021808 28.13960652 27.31696004\n",
      " 34.93543684 28.53088411 53.83333947 24.42044074 30.58928602 39.55512501\n",
      " 28.55588386 42.81839213 29.24889837 23.08180879 55.10266773 39.53593573\n",
      " 48.27662886 34.67874044 48.9242757  24.76042789 45.62837985 26.8471842\n",
      " 34.2037131  54.92099526 39.04969841 46.87855968 24.67387638 49.2644708\n",
      " 23.50639495 27.27203804 32.45736942 45.59138292 37.90105644 35.67831355\n",
      " 34.96065499 41.80855883 39.56347142 41.18872181 44.1188479  39.89104912\n",
      " 32.48291949 29.54033077 12.9769534  32.50200799 18.47188007 38.26545863\n",
      " 21.14856135 36.14736585 35.00041389 53.52654599 29.91730143 36.49666481\n",
      " 42.10454774 22.73202523 36.79892293 27.74706909]\n"
     ]
    },
    {
     "data": {
      "text/plain": [
       "(array([ 13.,  41.,  76., 141., 153., 141.,  79.,  42.,  12.,   2.]),\n",
       " array([ 9.70088606, 15.2193988 , 20.73791155, 26.2564243 , 31.77493705,\n",
       "        37.2934498 , 42.81196255, 48.3304753 , 53.84898804, 59.36750079,\n",
       "        64.88601354]),\n",
       " <BarContainer object of 10 artists>)"
      ]
     },
     "execution_count": 5,
     "metadata": {},
     "output_type": "execute_result"
    },
    {
     "data": {
      "image/png": "[encoded data removed]",
      "text/plain": [
       "<Figure size 432x288 with 1 Axes>"
      ]
     },
     "metadata": {
      "needs_background": "light"
     },
     "output_type": "display_data"
    }
   ],
   "source": [
    "rng = np.random.default_rng()\n",
    "vals = rng.normal(loc=ages.mean(), scale=ages.std(), size=N)\n",
    "print(vals)\n",
    "plt.hist(vals, bins=10)"
   ]
  },
  {
   "cell_type": "markdown",
   "id": "92d5690a",
   "metadata": {},
   "source": [
    "This appears to be a pretty close approximation of the age Data Series so we will use the variable vals to synthesise age data. Next we consider the probability that a summitter climbed without oxygen. "
   ]
  },
  {
   "cell_type": "code",
   "execution_count": 6,
   "id": "c5972c02",
   "metadata": {},
   "outputs": [
    {
     "data": {
      "text/html": [
       "<div>\n",
       "<style scoped>\n",
       "    .dataframe tbody tr th:only-of-type {\n",
       "        vertical-align: middle;\n",
       "    }\n",
       "\n",
       "    .dataframe tbody tr th {\n",
       "        vertical-align: top;\n",
       "    }\n",
       "\n",
       "    .dataframe thead th {\n",
       "        text-align: right;\n",
       "    }\n",
       "</style>\n",
       "<table border=\"1\" class=\"dataframe\">\n",
       "  <thead>\n",
       "    <tr style=\"text-align: right;\">\n",
       "      <th></th>\n",
       "      <th>Year</th>\n",
       "      <th>Age</th>\n",
       "    </tr>\n",
       "  </thead>\n",
       "  <tbody>\n",
       "    <tr>\n",
       "      <th>count</th>\n",
       "      <td>213.000000</td>\n",
       "      <td>213.000000</td>\n",
       "    </tr>\n",
       "    <tr>\n",
       "      <th>mean</th>\n",
       "      <td>2000.680751</td>\n",
       "      <td>35.394366</td>\n",
       "    </tr>\n",
       "    <tr>\n",
       "      <th>std</th>\n",
       "      <td>10.407792</td>\n",
       "      <td>6.350187</td>\n",
       "    </tr>\n",
       "    <tr>\n",
       "      <th>min</th>\n",
       "      <td>1978.000000</td>\n",
       "      <td>20.000000</td>\n",
       "    </tr>\n",
       "    <tr>\n",
       "      <th>25%</th>\n",
       "      <td>1993.000000</td>\n",
       "      <td>31.000000</td>\n",
       "    </tr>\n",
       "    <tr>\n",
       "      <th>50%</th>\n",
       "      <td>2001.000000</td>\n",
       "      <td>35.000000</td>\n",
       "    </tr>\n",
       "    <tr>\n",
       "      <th>75%</th>\n",
       "      <td>2010.000000</td>\n",
       "      <td>40.000000</td>\n",
       "    </tr>\n",
       "    <tr>\n",
       "      <th>max</th>\n",
       "      <td>2019.000000</td>\n",
       "      <td>55.000000</td>\n",
       "    </tr>\n",
       "  </tbody>\n",
       "</table>\n",
       "</div>"
      ],
      "text/plain": [
       "              Year         Age\n",
       "count   213.000000  213.000000\n",
       "mean   2000.680751   35.394366\n",
       "std      10.407792    6.350187\n",
       "min    1978.000000   20.000000\n",
       "25%    1993.000000   31.000000\n",
       "50%    2001.000000   35.000000\n",
       "75%    2010.000000   40.000000\n",
       "max    2019.000000   55.000000"
      ]
     },
     "execution_count": 6,
     "metadata": {},
     "output_type": "execute_result"
    }
   ],
   "source": [
    "noOxygen = df.loc[df.loc[:,'Oxy'] == 'No']\n",
    "noOxygen.describe()"
   ]
  },
  {
   "cell_type": "code",
   "execution_count": 7,
   "id": "054b102b",
   "metadata": {},
   "outputs": [
    {
     "name": "stdout",
     "output_type": "stream",
     "text": [
      "Minimum age for no oxygen attempt is 16.34 and maximum age is 54.44.\n"
     ]
    }
   ],
   "source": [
    "minNoOxAge = noOxygen.Age.mean() - noOxygen.Age.std()*3\n",
    "maxNoOxAge = noOxygen.Age.mean() + noOxygen.Age.std()*3\n",
    "\n",
    "print('Minimum age for no oxygen attempt is {} and maximum age is {}.'.format(round(minNoOxAge,2), round(maxNoOxAge,2)))"
   ]
  },
  {
   "cell_type": "markdown",
   "id": "7681f1c4",
   "metadata": {},
   "source": [
    "A recent [experiment](https://abcnews.go.com/Health/story?id=2955209&page=1) at Everest Base Camp and the [successful ascent](https://www.nytimes.com/2010/05/20/sports/20climber.html) of a 13 year old show the controversy around the ethics of minors at high altitude."
   ]
  },
  {
   "cell_type": "code",
   "execution_count": 8,
   "id": "a97a2696",
   "metadata": {},
   "outputs": [
    {
     "data": {
      "text/plain": [
       "9699"
      ]
     },
     "execution_count": 8,
     "metadata": {},
     "output_type": "execute_result"
    }
   ],
   "source": [
    "noOxPotential = df[(df['Age'] >= 18) & (df['Age'] <= 55)].Age.count() \n",
    "noOxPotential"
   ]
  },
  {
   "cell_type": "markdown",
   "id": "6df29453",
   "metadata": {},
   "source": [
    "We can look at the historical data to get an idea of the probability that a climber will not use oxygen in their attempt. We can count the number of climbers in total who have used oxygen and divide it by the total number of summitters in the appropriate age range determined above."
   ]
  },
  {
   "cell_type": "code",
   "execution_count": 9,
   "id": "f7b4c592",
   "metadata": {},
   "outputs": [
    {
     "data": {
      "text/plain": [
       "0.02196102690999072"
      ]
     },
     "execution_count": 9,
     "metadata": {},
     "output_type": "execute_result"
    }
   ],
   "source": [
    "noOxProbability = noOxygen.Age.count() / noOxPotential\n",
    "noOxProbability"
   ]
  },
  {
   "cell_type": "code",
   "execution_count": 10,
   "id": "2b26bcb0",
   "metadata": {},
   "outputs": [
    {
     "data": {
      "text/plain": [
       "0"
      ]
     },
     "execution_count": 10,
     "metadata": {},
     "output_type": "execute_result"
    }
   ],
   "source": [
    "synNoOx = rng.binomial(1, noOxProbability)\n",
    "synNoOx"
   ]
  },
  {
   "cell_type": "markdown",
   "id": "9fca42bd",
   "metadata": {},
   "source": [
    "Calculate use of oxygen synthetic data"
   ]
  },
  {
   "cell_type": "code",
   "execution_count": 11,
   "id": "b8f199d5",
   "metadata": {},
   "outputs": [
    {
     "name": "stdout",
     "output_type": "stream",
     "text": [
      "[0, 0, 0, 0, 0, 0, 0, 1, 0, 0, 0, 0, 0, 0, 0, 0, 0, 0, 0, 0, 0, 1, 0, 0, 0, 0, 0, 0, 0, 0, 0, 0, 0, 0, 0, 0, 1, 0, 0, 0, 0, 0, 0, 0, 0, 0, 0, 0, 0, 0, 0, 0, 1, 0, 0, 0, 0, 0, 0, 0, 0, 0, 0, 0, 0, 0, 0, 0, 0, 0, 0, 0, 0, 0, 1, 0, 0, 0, 0, 0, 0, 0, 0, 0, 0, 0, 0, 0, 0, 0, 0, 0, 0, 0, 0, 0, 0, 0, 0, 0, 0, 0, 0, 0, 0, 0, 0, 0, 0, 0, 0, 0, 0, 0, 0, 0, 0, 0, 0, 0, 0, 0, 0, 0, 0, 0, 0, 1, 0, 0, 0, 0, 0, 0, 0, 0, 0, 1, 0, 0, 0, 0, 0, 0, 0, 0, 0, 0, 0, 0, 0, 0, 0, 0, 0, 0, 0, 0, 0, 0, 0, 0, 0, 0, 0, 0, 0, 0, 0, 0, 0, 0, 0, 0, 0, 0, 0, 0, 0, 0, 0, 0, 0, 0, 0, 0, 0, 0, 0, 0, 0, 0, 0, 0, 0, 0, 0, 0, 0, 0, 0, 0, 0, 0, 0, 0, 0, 0, 0, 1, 0, 1, 0, 0, 0, 0, 0, 0, 0, 1, 0, 0, 0, 0, 0, 0, 0, 0, 0, 0, 0, 0, 0, 0, 0, 0, 0, 0, 0, 0, 0, 0, 0, 0, 0, 0, 0, 0, 0, 0, 0, 0, 0, 0, 0, 0, 0, 0, 0, 0, 0, 0, 0, 0, 1, 0, 0, 0, 0, 0, 0, 0, 0, 0, 0, 0, 0, 0, 0, 0, 0, 0, 0, 0, 1, 0, 0, 0, 0, 0, 0, 0, 0, 1, 0, 0, 0, 0, 0, 0, 1, 0, 0, 0, 0, 0, 0, 0, 0, 0, 0, 1, 0, 0, 0, 0, 0, 0, 0, 1, 0, 0, 0, 0, 0, 0, 0, 0, 0, 0, 0, 0, 0, 0, 0, 0, 0, 0, 0, 0, 0, 0, 0, 0, 0, 0, 1, 0, 0, 0, 0, 0, 0, 0, 0, 0, 0, 0, 0, 0, 0, 0, 0, 0, 0, 0, 0, 0, 0, 0, 0, 0, 1, 0, 0, 1, 0, 0, 0, 0, 0, 0, 0, 0, 0, 0, 0, 0, 0, 1, 0, 0, 0, 0, 0, 0, 0, 0, 0, 0, 0, 1, 0, 0, 0, 0, 1, 0, 0, 0, 1, 0, 0, 0, 0, 0, 1, 0, 0, 0, 0, 0, 0, 0, 0, 0, 0, 0, 0, 0, 0, 0, 0, 0, 0, 1, 0, 0, 0, 0, 0, 1, 0, 0, 0, 0, 0, 0, 0, 0, 0, 0, 0, 0, 1, 0, 0, 0, 0, 0, 0, 0, 0, 0, 1, 0, 0, 0, 0, 0, 0, 0, 1, 0, 0, 0, 0, 0, 0, 1, 1, 0, 0, 0, 0, 0, 0, 0, 0, 0, 0, 0, 0, 0, 0, 0, 0, 0, 0, 0, 0, 0, 0, 0, 0, 0, 0, 0, 0, 0, 0, 0, 0, 0, 0, 1, 0, 0, 0, 0, 0, 1, 0, 0, 0, 0, 0, 0, 0, 0, 0, 0, 0, 0, 0, 0, 0, 0, 0, 0, 0, 0, 0, 0, 0, 0, 1, 0, 0, 0, 0, 0, 0, 0, 0, 0, 0, 0, 0, 0, 0, 0, 0, 0, 0, 0, 0, 0, 0, 0, 0, 0, 0, 0, 0, 0, 0, 0, 0, 0, 0, 0, 0, 0, 1, 0, 0, 0, 0, 0, 0, 0, 0, 0, 0, 0, 0, 0, 0, 0, 0, 0, 0, 0, 0, 0, 0, 0, 0, 0, 0, 0, 0, 0, 0, 0, 0, 0, 0, 0, 0, 0, 0, 0, 0, 0, 0, 0, 0, 0, 0, 0, 0, 0, 0, 0, 0, 0, 0, 0, 0, 0, 0, 0, 0, 0, 0, 0, 0, 0, 0, 0, 0, 0, 0, 0, 0, 0, 1, 0, 0, 0, 0, 0, 0, 0, 0, 0, 0, 0, 0, 0, 0, 0, 0, 0, 0, 0, 0, 0, 0, 0, 0, 0, 0, 0, 1, 0, 0, 0, 0, 0, 0, 0, 0, 0, 0, 0, 0, 0]\n"
     ]
    }
   ],
   "source": [
    "oxUse = []\n",
    "for a in vals:\n",
    "    if a >= 18 and a <= 55:\n",
    "        oxUse.append(synNoOx)\n",
    "    else:\n",
    "        oxUse.append(1)\n",
    "print(oxUse)"
   ]
  },
  {
   "cell_type": "markdown",
   "id": "8da5894e",
   "metadata": {},
   "source": [
    "Calculate the probabilities of climbing in each season."
   ]
  },
  {
   "cell_type": "code",
   "execution_count": 12,
   "id": "9195767c",
   "metadata": {},
   "outputs": [
    {
     "data": {
      "text/plain": [
       "[0.9692307692307692,\n",
       " 0.0008991008991008991,\n",
       " 0.028371628371628373,\n",
       " 0.0014985014985014985]"
      ]
     },
     "execution_count": 12,
     "metadata": {},
     "output_type": "execute_result"
    }
   ],
   "source": [
    "sprCount = df.loc[df.loc[:,'Season'] == 'Spr'].Season.count()\n",
    "sumCount = df.loc[df.loc[:,'Season'] == 'Sum'].Season.count()\n",
    "autCount = df.loc[df.loc[:,'Season'] == 'Aut'].Season.count()\n",
    "winCount = df.loc[df.loc[:,'Season'] == 'Win'].Season.count()\n",
    "\n",
    "sprProb = sprCount / df.Season.count()\n",
    "sumProb = sumCount / df.Season.count()\n",
    "autProb = autCount / df.Season.count()\n",
    "winProb = winCount / df.Season.count()\n",
    "\n",
    "seasProbs = [sprProb, sumProb, autProb, winProb]\n",
    "seasProbs"
   ]
  },
  {
   "cell_type": "markdown",
   "id": "bb8afc33",
   "metadata": {},
   "source": [
    "Generate a set of seasons chosen by each climber in the synthetic dataset."
   ]
  },
  {
   "cell_type": "code",
   "execution_count": 13,
   "id": "283bc9b9",
   "metadata": {},
   "outputs": [
    {
     "name": "stdout",
     "output_type": "stream",
     "text": [
      "['Spr', 'Spr', 'Spr', 'Spr', 'Spr', 'Spr', 'Spr', 'Spr', 'Spr', 'Spr', 'Spr', 'Spr', 'Spr', 'Spr', 'Spr', 'Spr', 'Spr', 'Spr', 'Spr', 'Spr', 'Spr', 'Spr', 'Spr', 'Spr', 'Spr', 'Aut', 'Spr', 'Spr', 'Spr', 'Spr', 'Spr', 'Spr', 'Spr', 'Spr', 'Spr', 'Spr', 'Aut', 'Spr', 'Spr', 'Spr', 'Spr', 'Spr', 'Spr', 'Spr', 'Spr', 'Spr', 'Spr', 'Spr', 'Spr', 'Spr', 'Spr', 'Spr', 'Spr', 'Spr', 'Spr', 'Spr', 'Spr', 'Spr', 'Spr', 'Aut', 'Win', 'Spr', 'Spr', 'Spr', 'Spr', 'Spr', 'Spr', 'Spr', 'Spr', 'Spr', 'Spr', 'Spr', 'Aut', 'Spr', 'Spr', 'Spr', 'Spr', 'Spr', 'Spr', 'Spr', 'Spr', 'Spr', 'Spr', 'Spr', 'Spr', 'Spr', 'Spr', 'Spr', 'Spr', 'Spr', 'Spr', 'Spr', 'Spr', 'Spr', 'Spr', 'Spr', 'Spr', 'Spr', 'Spr', 'Spr', 'Spr', 'Spr', 'Spr', 'Spr', 'Spr', 'Spr', 'Spr', 'Spr', 'Spr', 'Spr', 'Spr', 'Spr', 'Spr', 'Spr', 'Spr', 'Spr', 'Spr', 'Spr', 'Spr', 'Spr', 'Spr', 'Spr', 'Spr', 'Spr', 'Spr', 'Spr', 'Spr', 'Spr', 'Aut', 'Spr', 'Spr', 'Spr', 'Spr', 'Spr', 'Spr', 'Spr', 'Spr', 'Spr', 'Spr', 'Spr', 'Spr', 'Spr', 'Spr', 'Spr', 'Spr', 'Spr', 'Spr', 'Spr', 'Spr', 'Spr', 'Spr', 'Aut', 'Spr', 'Spr', 'Spr', 'Spr', 'Spr', 'Spr', 'Spr', 'Spr', 'Spr', 'Spr', 'Spr', 'Spr', 'Spr', 'Spr', 'Spr', 'Spr', 'Spr', 'Spr', 'Spr', 'Spr', 'Spr', 'Spr', 'Spr', 'Spr', 'Spr', 'Spr', 'Spr', 'Spr', 'Spr', 'Spr', 'Spr', 'Spr', 'Spr', 'Spr', 'Spr', 'Spr', 'Spr', 'Spr', 'Spr', 'Spr', 'Spr', 'Spr', 'Spr', 'Spr', 'Spr', 'Spr', 'Spr', 'Spr', 'Spr', 'Spr', 'Spr', 'Spr', 'Spr', 'Spr', 'Spr', 'Spr', 'Spr', 'Aut', 'Spr', 'Spr', 'Spr', 'Spr', 'Spr', 'Spr', 'Spr', 'Spr', 'Spr', 'Spr', 'Spr', 'Spr', 'Spr', 'Spr', 'Spr', 'Spr', 'Spr', 'Spr', 'Spr', 'Spr', 'Spr', 'Spr', 'Spr', 'Spr', 'Spr', 'Spr', 'Spr', 'Spr', 'Spr', 'Spr', 'Spr', 'Spr', 'Spr', 'Spr', 'Spr', 'Aut', 'Spr', 'Spr', 'Spr', 'Spr', 'Spr', 'Spr', 'Spr', 'Spr', 'Spr', 'Spr', 'Spr', 'Spr', 'Spr', 'Spr', 'Spr', 'Spr', 'Spr', 'Spr', 'Spr', 'Spr', 'Spr', 'Spr', 'Spr', 'Spr', 'Spr', 'Spr', 'Spr', 'Spr', 'Spr', 'Spr', 'Spr', 'Spr', 'Spr', 'Spr', 'Spr', 'Spr', 'Spr', 'Spr', 'Spr', 'Spr', 'Spr', 'Spr', 'Spr', 'Spr', 'Spr', 'Spr', 'Spr', 'Spr', 'Spr', 'Spr', 'Spr', 'Spr', 'Spr', 'Spr', 'Spr', 'Spr', 'Spr', 'Spr', 'Spr', 'Spr', 'Spr', 'Spr', 'Spr', 'Spr', 'Spr', 'Spr', 'Spr', 'Spr', 'Spr', 'Spr', 'Spr', 'Spr', 'Spr', 'Spr', 'Spr', 'Spr', 'Spr', 'Spr', 'Spr', 'Spr', 'Spr', 'Spr', 'Spr', 'Spr', 'Spr', 'Spr', 'Spr', 'Spr', 'Aut', 'Spr', 'Spr', 'Spr', 'Spr', 'Spr', 'Spr', 'Spr', 'Spr', 'Spr', 'Spr', 'Spr', 'Spr', 'Spr', 'Spr', 'Spr', 'Spr', 'Spr', 'Spr', 'Spr', 'Spr', 'Spr', 'Spr', 'Spr', 'Spr', 'Spr', 'Spr', 'Aut', 'Spr', 'Spr', 'Spr', 'Spr', 'Spr', 'Spr', 'Spr', 'Spr', 'Spr', 'Spr', 'Spr', 'Spr', 'Spr', 'Spr', 'Spr', 'Spr', 'Spr', 'Spr', 'Spr', 'Spr', 'Spr', 'Spr', 'Spr', 'Spr', 'Spr', 'Spr', 'Spr', 'Spr', 'Spr', 'Spr', 'Spr', 'Spr', 'Spr', 'Spr', 'Spr', 'Spr', 'Spr', 'Spr', 'Spr', 'Spr', 'Spr', 'Spr', 'Spr', 'Spr', 'Spr', 'Spr', 'Spr', 'Spr', 'Spr', 'Spr', 'Spr', 'Spr', 'Spr', 'Spr', 'Spr', 'Spr', 'Spr', 'Spr', 'Spr', 'Aut', 'Spr', 'Spr', 'Spr', 'Spr', 'Spr', 'Spr', 'Spr', 'Spr', 'Spr', 'Spr', 'Spr', 'Spr', 'Spr', 'Spr', 'Spr', 'Spr', 'Spr', 'Spr', 'Spr', 'Spr', 'Spr', 'Spr', 'Spr', 'Spr', 'Spr', 'Spr', 'Aut', 'Spr', 'Spr', 'Spr', 'Spr', 'Spr', 'Spr', 'Spr', 'Spr', 'Spr', 'Spr', 'Spr', 'Spr', 'Win', 'Spr', 'Spr', 'Spr', 'Spr', 'Spr', 'Spr', 'Spr', 'Spr', 'Spr', 'Spr', 'Spr', 'Spr', 'Spr', 'Spr', 'Spr', 'Spr', 'Spr', 'Aut', 'Spr', 'Spr', 'Spr', 'Spr', 'Spr', 'Spr', 'Spr', 'Spr', 'Spr', 'Spr', 'Spr', 'Spr', 'Spr', 'Spr', 'Spr', 'Spr', 'Spr', 'Spr', 'Spr', 'Spr', 'Spr', 'Spr', 'Spr', 'Spr', 'Spr', 'Spr', 'Spr', 'Spr', 'Spr', 'Spr', 'Spr', 'Spr', 'Spr', 'Spr', 'Spr', 'Spr', 'Spr', 'Spr', 'Spr', 'Spr', 'Spr', 'Spr', 'Spr', 'Spr', 'Spr', 'Spr', 'Spr', 'Spr', 'Spr', 'Spr', 'Spr', 'Spr', 'Spr', 'Spr', 'Spr', 'Spr', 'Aut', 'Spr', 'Spr', 'Spr', 'Spr', 'Spr', 'Spr', 'Spr', 'Spr', 'Spr', 'Spr', 'Spr', 'Spr', 'Spr', 'Spr', 'Spr', 'Spr', 'Spr', 'Aut', 'Spr', 'Spr', 'Spr', 'Spr', 'Spr', 'Spr', 'Spr', 'Spr', 'Spr', 'Spr', 'Spr', 'Spr', 'Spr', 'Spr', 'Spr', 'Spr', 'Spr', 'Spr', 'Spr', 'Spr', 'Spr', 'Spr', 'Aut', 'Spr', 'Spr', 'Spr', 'Spr', 'Spr', 'Spr', 'Spr', 'Spr', 'Spr', 'Spr', 'Spr', 'Spr', 'Spr', 'Spr', 'Aut', 'Spr', 'Spr', 'Spr', 'Spr', 'Spr', 'Spr', 'Spr', 'Spr', 'Spr', 'Spr', 'Spr', 'Spr', 'Spr', 'Spr', 'Spr', 'Spr', 'Spr', 'Spr', 'Spr', 'Spr', 'Spr', 'Spr', 'Spr', 'Spr', 'Spr', 'Spr', 'Spr', 'Spr', 'Spr', 'Spr', 'Spr', 'Spr', 'Spr', 'Spr', 'Spr', 'Spr', 'Spr', 'Spr', 'Spr', 'Spr', 'Spr', 'Spr', 'Spr', 'Spr', 'Aut', 'Spr', 'Aut', 'Spr', 'Aut', 'Spr', 'Spr', 'Spr', 'Spr', 'Spr', 'Spr', 'Spr', 'Spr', 'Spr', 'Spr', 'Spr', 'Spr', 'Spr', 'Spr', 'Spr', 'Spr', 'Spr', 'Spr', 'Spr', 'Spr', 'Spr', 'Spr', 'Spr', 'Spr', 'Spr', 'Spr', 'Aut', 'Spr', 'Aut', 'Spr', 'Spr', 'Spr', 'Spr', 'Spr', 'Spr', 'Spr', 'Spr', 'Spr', 'Spr', 'Spr', 'Spr', 'Spr', 'Spr', 'Spr', 'Spr', 'Spr', 'Spr', 'Spr', 'Spr', 'Spr', 'Spr', 'Spr', 'Spr', 'Spr', 'Spr', 'Spr', 'Spr', 'Spr']\n"
     ]
    }
   ],
   "source": [
    "seas = ['Spr', 'Sum', 'Aut', 'Win']\n",
    "seasList = []\n",
    "\n",
    "for i in range(0, N):\n",
    "    seasChoice = random.choices(seas, weights=seasProbs)\n",
    "    seasList.append(seasChoice[0])\n",
    "\n",
    "print(seasList)"
   ]
  },
  {
   "cell_type": "markdown",
   "id": "659566a3",
   "metadata": {},
   "source": [
    "Calculate the probabilities of surviving for summitting in each season with and without oxygen."
   ]
  },
  {
   "cell_type": "code",
   "execution_count": 14,
   "id": "78623522",
   "metadata": {},
   "outputs": [
    {
     "name": "stdout",
     "output_type": "stream",
     "text": [
      "The historical probability of death after summitting when climbing without oxygen in Spr is 0.06\n",
      "The historical probability of death after summitting when climbing with oxygen in Spr is 0.01\n",
      "The historical probability of death after summitting when climbing without oxygen in Sum is 0.0\n",
      "The historical probability of death after summitting when climbing with oxygen in Sum is 0.0\n",
      "The historical probability of death after summitting when climbing without oxygen in Aut is 0.13\n",
      "The historical probability of death after summitting when climbing with oxygen in Aut is 0.02\n",
      "The historical probability of death after summitting when climbing without oxygen in Win is 0.0\n",
      "The historical probability of death after summitting when climbing with oxygen in Win is 0.07\n"
     ]
    }
   ],
   "source": [
    "for i in seas:\n",
    "    NoOxDeathProb = round(df[(df['Season'] == i) & (df['Oxy'] == 'No') & (df['Dth'] == 'Y')].Dth.count() \\\n",
    "                           / df[(df['Season'] == i) & (df['Oxy'] == 'No')].Season.count(),2)\n",
    "    print('The historical probability of death after summitting when climbing without oxygen in {} is {}'.format(i,NoOxDeathProb))\n",
    "    OxDeathProb = round(df[(df['Season'] == i) & (df['Oxy'] == 'Y') & (df['Dth'] == 'Y')].Dth.count() \\\n",
    "                           / df[(df['Season'] == i) & (df['Oxy'] == 'Y')].Season.count(),2)\n",
    "    print('The historical probability of death after summitting when climbing with oxygen in {} is {}'.format(i,OxDeathProb))\n"
   ]
  },
  {
   "cell_type": "markdown",
   "id": "f4c4360b",
   "metadata": {},
   "source": [
    "Compile list with climber number, ages, season and oxygen use."
   ]
  },
  {
   "cell_type": "code",
   "execution_count": 15,
   "id": "51b25b3d",
   "metadata": {},
   "outputs": [],
   "source": [
    "synEverestData = []\n",
    "\n",
    "for i in range(0, N):\n",
    "    data = []\n",
    "    if oxUse[i] == 0 and seasList[i] == 'Spr':\n",
    "        death = rng.binomial(1, df[(df['Season'] == 'Spr') & (df['Oxy'] == 'No') & (df['Dth'] == 'Y')].Dth.count() / df[(df['Season'] == 'Spr') & (df['Oxy'] == 'No')].Season.count()) "
   ]
  },
  {
   "cell_type": "code",
   "execution_count": 16,
   "id": "09539a5d",
   "metadata": {},
   "outputs": [
    {
     "name": "stdout",
     "output_type": "stream",
     "text": [
      "[[0, 24.0, 0, 'Spr', 0], [1, 19.0, 0, 'Spr', 0], [2, 32.0, 0, 'Spr', 0], [3, 32.0, 0, 'Spr', 0], [4, 30.0, 0, 'Spr', 0], [5, 46.0, 0, 'Spr', 0], [6, 45.0, 0, 'Spr', 0], [7, 57.0, 1, 'Spr', 0], [8, 38.0, 0, 'Spr', 0], [9, 31.0, 0, 'Spr', 0], [10, 47.0, 0, 'Spr', 0], [11, 46.0, 0, 'Spr', 0], [12, 29.0, 0, 'Spr', 0], [13, 36.0, 0, 'Spr', 0], [14, 39.0, 0, 'Spr', 0], [15, 31.0, 0, 'Spr', 0], [16, 35.0, 0, 'Spr', 1], [17, 19.0, 0, 'Spr', 0], [18, 22.0, 0, 'Spr', 0], [19, 23.0, 0, 'Spr', 1], [20, 46.0, 0, 'Spr', 0], [21, 12.0, 1, 'Spr', 0], [22, 50.0, 0, 'Spr', 0], [23, 37.0, 0, 'Spr', 0], [24, 25.0, 0, 'Spr', 0], [25, 38.0, 0, 'Aut', 0], [26, 19.0, 0, 'Spr', 0], [27, 23.0, 0, 'Spr', 0], [28, 32.0, 0, 'Spr', 0], [29, 35.0, 0, 'Spr', 0], [30, 26.0, 0, 'Spr', 0], [31, 48.0, 0, 'Spr', 0], [32, 31.0, 0, 'Spr', 0], [33, 49.0, 0, 'Spr', 0], [34, 29.0, 0, 'Spr', 1], [35, 25.0, 0, 'Spr', 1], [36, 16.0, 1, 'Aut', 0], [37, 32.0, 0, 'Spr', 0], [38, 26.0, 0, 'Spr', 0], [39, 24.0, 0, 'Spr', 0], [40, 48.0, 0, 'Spr', 0], [41, 38.0, 0, 'Spr', 0], [42, 47.0, 0, 'Spr', 1], [43, 45.0, 0, 'Spr', 0], [44, 41.0, 0, 'Spr', 0], [45, 35.0, 0, 'Spr', 0], [46, 21.0, 0, 'Spr', 0], [47, 37.0, 0, 'Spr', 0], [48, 45.0, 0, 'Spr', 0], [49, 52.0, 0, 'Spr', 0], [50, 37.0, 0, 'Spr', 0], [51, 36.0, 0, 'Spr', 0], [52, 65.0, 1, 'Spr', 0], [53, 42.0, 0, 'Spr', 0], [54, 24.0, 0, 'Spr', 0], [55, 36.0, 0, 'Spr', 0], [56, 38.0, 0, 'Spr', 0], [57, 20.0, 0, 'Spr', 0], [58, 29.0, 0, 'Spr', 0], [59, 39.0, 0, 'Aut', 0], [60, 35.0, 0, 'Win', 0], [61, 24.0, 0, 'Spr', 0], [62, 46.0, 0, 'Spr', 0], [63, 34.0, 0, 'Spr', 0], [64, 28.0, 0, 'Spr', 0], [65, 35.0, 0, 'Spr', 0], [66, 43.0, 0, 'Spr', 0], [67, 35.0, 0, 'Spr', 0], [68, 33.0, 0, 'Spr', 0], [69, 28.0, 0, 'Spr', 0], [70, 42.0, 0, 'Spr', 0], [71, 35.0, 0, 'Spr', 0], [72, 29.0, 0, 'Aut', 0], [73, 39.0, 0, 'Spr', 0], [74, 15.0, 1, 'Spr', 0], [75, 31.0, 0, 'Spr', 0], [76, 30.0, 0, 'Spr', 0], [77, 47.0, 0, 'Spr', 0], [78, 46.0, 0, 'Spr', 0], [79, 50.0, 0, 'Spr', 0], [80, 25.0, 0, 'Spr', 0], [81, 44.0, 0, 'Spr', 0], [82, 38.0, 0, 'Spr', 0], [83, 27.0, 0, 'Spr', 0], [84, 20.0, 0, 'Spr', 0], [85, 24.0, 0, 'Spr', 0], [86, 28.0, 0, 'Spr', 0], [87, 39.0, 0, 'Spr', 0], [88, 33.0, 0, 'Spr', 0], [89, 35.0, 0, 'Spr', 0], [90, 46.0, 0, 'Spr', 0], [91, 54.0, 0, 'Spr', 0], [92, 31.0, 0, 'Spr', 0], [93, 41.0, 0, 'Spr', 0], [94, 47.0, 0, 'Spr', 0], [95, 46.0, 0, 'Spr', 1], [96, 37.0, 0, 'Spr', 1], [97, 50.0, 0, 'Spr', 0], [98, 51.0, 0, 'Spr', 0], [99, 43.0, 0, 'Spr', 0], [100, 33.0, 0, 'Spr', 1], [101, 33.0, 0, 'Spr', 0], [102, 37.0, 0, 'Spr', 1], [103, 45.0, 0, 'Spr', 0], [104, 29.0, 0, 'Spr', 0], [105, 30.0, 0, 'Spr', 0], [106, 46.0, 0, 'Spr', 0], [107, 43.0, 0, 'Spr', 0], [108, 26.0, 0, 'Spr', 0], [109, 34.0, 0, 'Spr', 0], [110, 34.0, 0, 'Spr', 0], [111, 26.0, 0, 'Spr', 0], [112, 28.0, 0, 'Spr', 0], [113, 35.0, 0, 'Spr', 0], [114, 41.0, 0, 'Spr', 0], [115, 36.0, 0, 'Spr', 0], [116, 45.0, 0, 'Spr', 0], [117, 31.0, 0, 'Spr', 0], [118, 31.0, 0, 'Spr', 0], [119, 40.0, 0, 'Spr', 0], [120, 39.0, 0, 'Spr', 0], [121, 44.0, 0, 'Spr', 0], [122, 40.0, 0, 'Spr', 0], [123, 32.0, 0, 'Spr', 0], [124, 22.0, 0, 'Spr', 0], [125, 42.0, 0, 'Spr', 0], [126, 27.0, 0, 'Spr', 0], [127, 11.0, 1, 'Spr', 0], [128, 43.0, 0, 'Aut', 0], [129, 40.0, 0, 'Spr', 0], [130, 34.0, 0, 'Spr', 0], [131, 40.0, 0, 'Spr', 0], [132, 44.0, 0, 'Spr', 0], [133, 33.0, 0, 'Spr', 0], [134, 38.0, 0, 'Spr', 0], [135, 41.0, 0, 'Spr', 0], [136, 45.0, 0, 'Spr', 0], [137, 10.0, 1, 'Spr', 0], [138, 36.0, 0, 'Spr', 0], [139, 45.0, 0, 'Spr', 0], [140, 48.0, 0, 'Spr', 0], [141, 26.0, 0, 'Spr', 0], [142, 26.0, 0, 'Spr', 0], [143, 42.0, 0, 'Spr', 0], [144, 32.0, 0, 'Spr', 0], [145, 49.0, 0, 'Spr', 0], [146, 47.0, 0, 'Spr', 0], [147, 39.0, 0, 'Spr', 0], [148, 28.0, 0, 'Spr', 1], [149, 21.0, 0, 'Spr', 0], [150, 44.0, 0, 'Spr', 0], [151, 38.0, 0, 'Aut', 0], [152, 40.0, 0, 'Spr', 0], [153, 23.0, 0, 'Spr', 0], [154, 48.0, 0, 'Spr', 0], [155, 25.0, 0, 'Spr', 1], [156, 27.0, 0, 'Spr', 0], [157, 33.0, 0, 'Spr', 0], [158, 35.0, 0, 'Spr', 0], [159, 36.0, 0, 'Spr', 0], [160, 40.0, 0, 'Spr', 0], [161, 29.0, 0, 'Spr', 0], [162, 48.0, 0, 'Spr', 0], [163, 33.0, 0, 'Spr', 0], [164, 38.0, 0, 'Spr', 1], [165, 38.0, 0, 'Spr', 0], [166, 39.0, 0, 'Spr', 0], [167, 28.0, 0, 'Spr', 1], [168, 42.0, 0, 'Spr', 0], [169, 33.0, 0, 'Spr', 0], [170, 24.0, 0, 'Spr', 0], [171, 37.0, 0, 'Spr', 0], [172, 27.0, 0, 'Spr', 0], [173, 34.0, 0, 'Spr', 0], [174, 25.0, 0, 'Spr', 0], [175, 50.0, 0, 'Spr', 0], [176, 49.0, 0, 'Spr', 0], [177, 52.0, 0, 'Spr', 0], [178, 26.0, 0, 'Spr', 0], [179, 34.0, 0, 'Spr', 0], [180, 37.0, 0, 'Spr', 0], [181, 31.0, 0, 'Spr', 1], [182, 32.0, 0, 'Spr', 0], [183, 25.0, 0, 'Spr', 0], [184, 28.0, 0, 'Spr', 0], [185, 44.0, 0, 'Spr', 0], [186, 27.0, 0, 'Spr', 0], [187, 19.0, 0, 'Spr', 0], [188, 34.0, 0, 'Spr', 0], [189, 21.0, 0, 'Spr', 0], [190, 44.0, 0, 'Spr', 0], [191, 38.0, 0, 'Spr', 0], [192, 24.0, 0, 'Spr', 0], [193, 43.0, 0, 'Spr', 0], [194, 28.0, 0, 'Spr', 0], [195, 18.0, 0, 'Spr', 1], [196, 31.0, 0, 'Spr', 0], [197, 29.0, 0, 'Spr', 0], [198, 39.0, 0, 'Spr', 0], [199, 32.0, 0, 'Spr', 0], [200, 30.0, 0, 'Spr', 0], [201, 21.0, 0, 'Spr', 0], [202, 39.0, 0, 'Spr', 0], [203, 41.0, 0, 'Spr', 0], [204, 46.0, 0, 'Spr', 0], [205, 26.0, 0, 'Spr', 0], [206, 37.0, 0, 'Spr', 0], [207, 34.0, 0, 'Spr', 0], [208, 43.0, 0, 'Spr', 0], [209, 15.0, 1, 'Aut', 0], [210, 37.0, 0, 'Spr', 0], [211, 10.0, 1, 'Spr', 0], [212, 30.0, 0, 'Spr', 0], [213, 37.0, 0, 'Spr', 0], [214, 40.0, 0, 'Spr', 0], [215, 35.0, 0, 'Spr', 0], [216, 30.0, 0, 'Spr', 0], [217, 47.0, 0, 'Spr', 0], [218, 32.0, 0, 'Spr', 0], [219, 13.0, 1, 'Spr', 0], [220, 51.0, 0, 'Spr', 0], [221, 34.0, 0, 'Spr', 0], [222, 36.0, 0, 'Spr', 0], [223, 26.0, 0, 'Spr', 0], [224, 34.0, 0, 'Spr', 0], [225, 28.0, 0, 'Spr', 0], [226, 50.0, 0, 'Spr', 0], [227, 31.0, 0, 'Spr', 1], [228, 33.0, 0, 'Spr', 0], [229, 35.0, 0, 'Spr', 0], [230, 39.0, 0, 'Spr', 0], [231, 23.0, 0, 'Spr', 1], [232, 34.0, 0, 'Spr', 1], [233, 27.0, 0, 'Spr', 0], [234, 20.0, 0, 'Spr', 0], [235, 33.0, 0, 'Spr', 1], [236, 23.0, 0, 'Spr', 0], [237, 29.0, 0, 'Spr', 0], [238, 50.0, 0, 'Spr', 0], [239, 31.0, 0, 'Spr', 0], [240, 29.0, 0, 'Spr', 0], [241, 51.0, 0, 'Spr', 0], [242, 35.0, 0, 'Spr', 0], [243, 46.0, 0, 'Spr', 0], [244, 35.0, 0, 'Spr', 0], [245, 41.0, 0, 'Aut', 0], [246, 53.0, 0, 'Spr', 0], [247, 34.0, 0, 'Spr', 0], [248, 29.0, 0, 'Spr', 0], [249, 35.0, 0, 'Spr', 0], [250, 27.0, 0, 'Spr', 0], [251, 31.0, 0, 'Spr', 0], [252, 50.0, 0, 'Spr', 0], [253, 40.0, 0, 'Spr', 0], [254, 40.0, 0, 'Spr', 0], [255, 29.0, 0, 'Spr', 0], [256, 30.0, 0, 'Spr', 0], [257, 31.0, 0, 'Spr', 0], [258, 35.0, 0, 'Spr', 0], [259, 35.0, 0, 'Spr', 0], [260, 36.0, 0, 'Spr', 0], [261, 39.0, 0, 'Spr', 0], [262, 48.0, 0, 'Spr', 0], [263, 45.0, 0, 'Spr', 0], [264, 15.0, 1, 'Spr', 0], [265, 30.0, 0, 'Spr', 0], [266, 26.0, 0, 'Spr', 0], [267, 23.0, 0, 'Spr', 0], [268, 23.0, 0, 'Spr', 0], [269, 33.0, 0, 'Spr', 0], [270, 38.0, 0, 'Spr', 0], [271, 35.0, 0, 'Spr', 0], [272, 35.0, 0, 'Spr', 0], [273, 31.0, 0, 'Spr', 0], [274, 48.0, 0, 'Spr', 0], [275, 18.0, 0, 'Spr', 0], [276, 35.0, 0, 'Spr', 0], [277, 39.0, 0, 'Spr', 0], [278, 38.0, 0, 'Spr', 0], [279, 34.0, 0, 'Spr', 1], [280, 47.0, 0, 'Spr', 0], [281, 32.0, 0, 'Spr', 0], [282, 31.0, 0, 'Spr', 1], [283, 20.0, 0, 'Spr', 0], [284, 16.0, 1, 'Spr', 0], [285, 31.0, 0, 'Spr', 0], [286, 21.0, 0, 'Spr', 0], [287, 41.0, 0, 'Spr', 0], [288, 30.0, 0, 'Spr', 0], [289, 19.0, 0, 'Spr', 0], [290, 38.0, 0, 'Spr', 0], [291, 36.0, 0, 'Spr', 0], [292, 26.0, 0, 'Spr', 0], [293, 16.0, 1, 'Spr', 0], [294, 38.0, 0, 'Spr', 0], [295, 19.0, 0, 'Spr', 0], [296, 40.0, 0, 'Spr', 0], [297, 37.0, 0, 'Spr', 0], [298, 42.0, 0, 'Spr', 0], [299, 42.0, 0, 'Spr', 0], [300, 59.0, 1, 'Spr', 0], [301, 26.0, 0, 'Spr', 0], [302, 37.0, 0, 'Spr', 0], [303, 23.0, 0, 'Spr', 0], [304, 37.0, 0, 'Spr', 0], [305, 31.0, 0, 'Spr', 0], [306, 40.0, 0, 'Spr', 0], [307, 46.0, 0, 'Spr', 1], [308, 38.0, 0, 'Spr', 0], [309, 40.0, 0, 'Spr', 0], [310, 25.0, 0, 'Spr', 0], [311, 59.0, 1, 'Spr', 0], [312, 32.0, 0, 'Spr', 0], [313, 41.0, 0, 'Spr', 0], [314, 24.0, 0, 'Spr', 0], [315, 33.0, 0, 'Spr', 0], [316, 33.0, 0, 'Spr', 0], [317, 23.0, 0, 'Spr', 0], [318, 28.0, 0, 'Spr', 0], [319, 60.0, 1, 'Spr', 0], [320, 28.0, 0, 'Spr', 0], [321, 39.0, 0, 'Spr', 0], [322, 36.0, 0, 'Spr', 0], [323, 20.0, 0, 'Spr', 0], [324, 42.0, 0, 'Spr', 0], [325, 44.0, 0, 'Spr', 0], [326, 44.0, 0, 'Spr', 0], [327, 44.0, 0, 'Spr', 0], [328, 53.0, 0, 'Spr', 0], [329, 32.0, 0, 'Spr', 0], [330, 31.0, 0, 'Spr', 0], [331, 39.0, 0, 'Spr', 0], [332, 26.0, 0, 'Spr', 0], [333, 38.0, 0, 'Spr', 0], [334, 31.0, 0, 'Aut', 0], [335, 50.0, 0, 'Spr', 0], [336, 39.0, 0, 'Spr', 0], [337, 38.0, 0, 'Spr', 0], [338, 52.0, 0, 'Spr', 1], [339, 28.0, 0, 'Spr', 0], [340, 42.0, 0, 'Spr', 0], [341, 35.0, 0, 'Spr', 0], [342, 44.0, 0, 'Spr', 0], [343, 45.0, 0, 'Spr', 0], [344, 34.0, 0, 'Spr', 0], [345, 31.0, 0, 'Spr', 1], [346, 15.0, 1, 'Spr', 0], [347, 21.0, 0, 'Spr', 0], [348, 40.0, 0, 'Spr', 0], [349, 46.0, 0, 'Spr', 0], [350, 38.0, 0, 'Spr', 0], [351, 50.0, 0, 'Spr', 0], [352, 33.0, 0, 'Spr', 0], [353, 25.0, 0, 'Spr', 0], [354, 37.0, 0, 'Spr', 0], [355, 39.0, 0, 'Spr', 0], [356, 36.0, 0, 'Spr', 0], [357, 36.0, 0, 'Spr', 0], [358, 44.0, 0, 'Spr', 0], [359, 26.0, 0, 'Spr', 0], [360, 27.0, 0, 'Spr', 0], [361, 37.0, 0, 'Aut', 0], [362, 32.0, 0, 'Spr', 0], [363, 31.0, 0, 'Spr', 0], [364, 29.0, 0, 'Spr', 0], [365, 36.0, 0, 'Spr', 0], [366, 32.0, 0, 'Spr', 0], [367, 30.0, 0, 'Spr', 0], [368, 41.0, 0, 'Spr', 0], [369, 39.0, 0, 'Spr', 0], [370, 41.0, 0, 'Spr', 0], [371, 34.0, 0, 'Spr', 0], [372, 17.0, 1, 'Spr', 0], [373, 22.0, 0, 'Spr', 0], [374, 42.0, 0, 'Spr', 0], [375, 17.0, 1, 'Spr', 0], [376, 28.0, 0, 'Spr', 0], [377, 52.0, 0, 'Spr', 0], [378, 48.0, 0, 'Spr', 0], [379, 27.0, 0, 'Spr', 1], [380, 41.0, 0, 'Spr', 0], [381, 29.0, 0, 'Spr', 0], [382, 35.0, 0, 'Spr', 0], [383, 51.0, 0, 'Spr', 0], [384, 42.0, 0, 'Spr', 0], [385, 52.0, 0, 'Spr', 0], [386, 43.0, 0, 'Spr', 0], [387, 19.0, 0, 'Spr', 0], [388, 32.0, 0, 'Spr', 0], [389, 18.0, 1, 'Spr', 0], [390, 50.0, 0, 'Spr', 0], [391, 30.0, 0, 'Spr', 0], [392, 26.0, 0, 'Spr', 0], [393, 37.0, 0, 'Spr', 0], [394, 41.0, 0, 'Spr', 0], [395, 36.0, 0, 'Spr', 0], [396, 31.0, 0, 'Spr', 0], [397, 30.0, 0, 'Spr', 0], [398, 29.0, 0, 'Spr', 0], [399, 31.0, 0, 'Spr', 0], [400, 49.0, 0, 'Spr', 0], [401, 12.0, 1, 'Spr', 0], [402, 30.0, 0, 'Spr', 0], [403, 31.0, 0, 'Spr', 0], [404, 32.0, 0, 'Spr', 0], [405, 26.0, 0, 'Spr', 0], [406, 10.0, 1, 'Spr', 0], [407, 30.0, 0, 'Spr', 0], [408, 30.0, 0, 'Spr', 0], [409, 30.0, 0, 'Spr', 0], [410, 17.0, 1, 'Spr', 0], [411, 28.0, 0, 'Spr', 0], [412, 23.0, 0, 'Spr', 0], [413, 27.0, 0, 'Spr', 0], [414, 18.0, 0, 'Spr', 0], [415, 45.0, 0, 'Spr', 0], [416, 58.0, 1, 'Spr', 0], [417, 43.0, 0, 'Spr', 0], [418, 29.0, 0, 'Spr', 0], [419, 41.0, 0, 'Spr', 0], [420, 43.0, 0, 'Spr', 1], [421, 26.0, 0, 'Aut', 0], [422, 51.0, 0, 'Spr', 0], [423, 20.0, 0, 'Spr', 1], [424, 21.0, 0, 'Spr', 0], [425, 20.0, 0, 'Spr', 0], [426, 47.0, 0, 'Spr', 0], [427, 41.0, 0, 'Spr', 0], [428, 51.0, 0, 'Spr', 0], [429, 42.0, 0, 'Spr', 0], [430, 21.0, 0, 'Spr', 0], [431, 40.0, 0, 'Spr', 0], [432, 33.0, 0, 'Spr', 0], [433, 32.0, 0, 'Spr', 0], [434, 45.0, 0, 'Spr', 0], [435, 18.0, 1, 'Spr', 0], [436, 38.0, 0, 'Spr', 0], [437, 19.0, 0, 'Spr', 0], [438, 44.0, 0, 'Spr', 0], [439, 50.0, 0, 'Spr', 1], [440, 22.0, 0, 'Spr', 0], [441, 12.0, 1, 'Spr', 0], [442, 36.0, 0, 'Spr', 0], [443, 48.0, 0, 'Spr', 0], [444, 35.0, 0, 'Spr', 0], [445, 32.0, 0, 'Spr', 0], [446, 33.0, 0, 'Spr', 0], [447, 34.0, 0, 'Spr', 0], [448, 32.0, 0, 'Aut', 0], [449, 39.0, 0, 'Spr', 0], [450, 21.0, 0, 'Spr', 0], [451, 52.0, 0, 'Spr', 1], [452, 42.0, 0, 'Spr', 0], [453, 20.0, 0, 'Spr', 0], [454, 18.0, 1, 'Spr', 0], [455, 37.0, 0, 'Spr', 0], [456, 27.0, 0, 'Spr', 0], [457, 43.0, 0, 'Spr', 0], [458, 34.0, 0, 'Spr', 0], [459, 34.0, 0, 'Spr', 0], [460, 48.0, 0, 'Spr', 0], [461, 31.0, 0, 'Win', 0], [462, 36.0, 0, 'Spr', 0], [463, 31.0, 0, 'Spr', 0], [464, 56.0, 1, 'Spr', 0], [465, 30.0, 0, 'Spr', 0], [466, 41.0, 0, 'Spr', 1], [467, 36.0, 0, 'Spr', 0], [468, 36.0, 0, 'Spr', 0], [469, 27.0, 0, 'Spr', 0], [470, 41.0, 0, 'Spr', 0], [471, 44.0, 0, 'Spr', 0], [472, 14.0, 1, 'Spr', 0], [473, 21.0, 0, 'Spr', 0], [474, 42.0, 0, 'Spr', 0], [475, 51.0, 0, 'Spr', 0], [476, 26.0, 0, 'Spr', 0], [477, 33.0, 0, 'Spr', 0], [478, 34.0, 0, 'Spr', 0], [479, 15.0, 1, 'Aut', 0], [480, 58.0, 1, 'Spr', 0], [481, 39.0, 0, 'Spr', 0], [482, 43.0, 0, 'Spr', 0], [483, 26.0, 0, 'Spr', 0], [484, 28.0, 0, 'Spr', 0], [485, 46.0, 0, 'Spr', 0], [486, 43.0, 0, 'Spr', 0], [487, 43.0, 0, 'Spr', 1], [488, 39.0, 0, 'Spr', 1], [489, 35.0, 0, 'Spr', 0], [490, 31.0, 0, 'Spr', 0], [491, 48.0, 0, 'Spr', 0], [492, 35.0, 0, 'Spr', 0], [493, 23.0, 0, 'Spr', 0], [494, 37.0, 0, 'Spr', 0], [495, 25.0, 0, 'Spr', 0], [496, 33.0, 0, 'Spr', 0], [497, 41.0, 0, 'Spr', 0], [498, 25.0, 0, 'Spr', 0], [499, 27.0, 0, 'Spr', 0], [500, 34.0, 0, 'Spr', 0], [501, 41.0, 0, 'Spr', 0], [502, 44.0, 0, 'Spr', 0], [503, 20.0, 0, 'Spr', 0], [504, 21.0, 0, 'Spr', 0], [505, 40.0, 0, 'Spr', 0], [506, 28.0, 0, 'Spr', 0], [507, 35.0, 0, 'Spr', 0], [508, 27.0, 0, 'Spr', 0], [509, 35.0, 0, 'Spr', 0], [510, 32.0, 0, 'Spr', 0], [511, 19.0, 0, 'Spr', 0], [512, 31.0, 0, 'Spr', 0], [513, 37.0, 0, 'Spr', 0], [514, 36.0, 0, 'Spr', 0], [515, 17.0, 1, 'Spr', 0], [516, 41.0, 0, 'Spr', 0], [517, 26.0, 0, 'Spr', 0], [518, 41.0, 0, 'Spr', 0], [519, 35.0, 0, 'Spr', 0], [520, 42.0, 0, 'Spr', 0], [521, 57.0, 1, 'Spr', 0], [522, 34.0, 0, 'Spr', 0], [523, 43.0, 0, 'Spr', 0], [524, 53.0, 0, 'Spr', 0], [525, 24.0, 0, 'Spr', 0], [526, 30.0, 0, 'Spr', 0], [527, 28.0, 0, 'Spr', 0], [528, 54.0, 0, 'Spr', 0], [529, 48.0, 0, 'Spr', 0], [530, 34.0, 0, 'Spr', 0], [531, 37.0, 0, 'Spr', 0], [532, 23.0, 0, 'Spr', 0], [533, 37.0, 0, 'Spr', 0], [534, 29.0, 0, 'Spr', 0], [535, 41.0, 0, 'Spr', 0], [536, 35.0, 0, 'Aut', 0], [537, 37.0, 0, 'Spr', 0], [538, 40.0, 0, 'Spr', 0], [539, 39.0, 0, 'Spr', 0], [540, 28.0, 0, 'Spr', 0], [541, 29.0, 0, 'Spr', 0], [542, 33.0, 0, 'Spr', 0], [543, 31.0, 0, 'Spr', 0], [544, 39.0, 0, 'Spr', 1], [545, 23.0, 0, 'Spr', 0], [546, 55.0, 1, 'Spr', 0], [547, 25.0, 0, 'Spr', 0], [548, 36.0, 0, 'Spr', 0], [549, 29.0, 0, 'Spr', 0], [550, 21.0, 0, 'Spr', 0], [551, 32.0, 0, 'Spr', 0], [552, 36.0, 0, 'Spr', 0], [553, 32.0, 0, 'Spr', 0], [554, 40.0, 0, 'Aut', 0], [555, 36.0, 0, 'Spr', 0], [556, 32.0, 0, 'Spr', 0], [557, 39.0, 0, 'Spr', 1], [558, 49.0, 0, 'Spr', 0], [559, 47.0, 0, 'Spr', 1], [560, 30.0, 0, 'Spr', 0], [561, 24.0, 0, 'Spr', 0], [562, 39.0, 0, 'Spr', 0], [563, 32.0, 0, 'Spr', 0], [564, 42.0, 0, 'Spr', 0], [565, 51.0, 0, 'Spr', 0], [566, 22.0, 0, 'Spr', 0], [567, 46.0, 0, 'Spr', 0], [568, 39.0, 0, 'Spr', 0], [569, 42.0, 0, 'Spr', 0], [570, 31.0, 0, 'Spr', 0], [571, 28.0, 0, 'Spr', 0], [572, 35.0, 0, 'Spr', 0], [573, 43.0, 0, 'Spr', 0], [574, 34.0, 0, 'Spr', 0], [575, 39.0, 0, 'Spr', 0], [576, 41.0, 0, 'Spr', 0], [577, 50.0, 0, 'Aut', 0], [578, 27.0, 0, 'Spr', 0], [579, 34.0, 0, 'Spr', 0], [580, 44.0, 0, 'Spr', 0], [581, 34.0, 0, 'Spr', 0], [582, 28.0, 0, 'Spr', 0], [583, 42.0, 0, 'Spr', 0], [584, 17.0, 1, 'Spr', 0], [585, 24.0, 0, 'Spr', 0], [586, 39.0, 0, 'Spr', 0], [587, 38.0, 0, 'Spr', 0], [588, 23.0, 0, 'Spr', 0], [589, 45.0, 0, 'Spr', 0], [590, 36.0, 0, 'Spr', 0], [591, 33.0, 0, 'Spr', 0], [592, 34.0, 0, 'Aut', 0], [593, 26.0, 0, 'Spr', 0], [594, 42.0, 0, 'Spr', 0], [595, 44.0, 0, 'Spr', 1], [596, 37.0, 0, 'Spr', 0], [597, 20.0, 0, 'Spr', 0], [598, 34.0, 0, 'Spr', 0], [599, 28.0, 0, 'Spr', 0], [600, 34.0, 0, 'Spr', 0], [601, 24.0, 0, 'Spr', 0], [602, 37.0, 0, 'Spr', 0], [603, 44.0, 0, 'Spr', 0], [604, 28.0, 0, 'Spr', 0], [605, 38.0, 0, 'Spr', 0], [606, 31.0, 0, 'Spr', 0], [607, 31.0, 0, 'Spr', 0], [608, 20.0, 0, 'Spr', 0], [609, 31.0, 0, 'Spr', 0], [610, 22.0, 0, 'Spr', 0], [611, 38.0, 0, 'Spr', 0], [612, 37.0, 0, 'Spr', 0], [613, 35.0, 0, 'Spr', 0], [614, 32.0, 0, 'Spr', 0], [615, 43.0, 0, 'Spr', 0], [616, 28.0, 0, 'Spr', 0], [617, 30.0, 0, 'Spr', 0], [618, 43.0, 0, 'Spr', 0], [619, 39.0, 0, 'Spr', 0], [620, 20.0, 0, 'Spr', 0], [621, 26.0, 0, 'Spr', 0], [622, 34.0, 0, 'Spr', 0], [623, 31.0, 0, 'Spr', 1], [624, 48.0, 0, 'Spr', 0], [625, 37.0, 0, 'Spr', 0], [626, 45.0, 0, 'Spr', 0], [627, 38.0, 0, 'Spr', 0], [628, 40.0, 0, 'Spr', 0], [629, 32.0, 0, 'Spr', 0], [630, 39.0, 0, 'Spr', 0], [631, 29.0, 0, 'Spr', 0], [632, 47.0, 0, 'Spr', 0], [633, 33.0, 0, 'Spr', 0], [634, 32.0, 0, 'Spr', 0], [635, 38.0, 0, 'Spr', 0], [636, 40.0, 0, 'Spr', 1], [637, 33.0, 0, 'Aut', 0], [638, 37.0, 0, 'Spr', 0], [639, 37.0, 0, 'Aut', 0], [640, 39.0, 0, 'Spr', 0], [641, 29.0, 0, 'Aut', 0], [642, 29.0, 0, 'Spr', 0], [643, 52.0, 0, 'Spr', 0], [644, 22.0, 0, 'Spr', 0], [645, 42.0, 0, 'Spr', 0], [646, 28.0, 0, 'Spr', 0], [647, 27.0, 0, 'Spr', 0], [648, 35.0, 0, 'Spr', 0], [649, 29.0, 0, 'Spr', 0], [650, 54.0, 0, 'Spr', 1], [651, 24.0, 0, 'Spr', 0], [652, 31.0, 0, 'Spr', 1], [653, 40.0, 0, 'Spr', 0], [654, 29.0, 0, 'Spr', 0], [655, 43.0, 0, 'Spr', 0], [656, 29.0, 0, 'Spr', 0], [657, 23.0, 0, 'Spr', 0], [658, 55.0, 1, 'Spr', 0], [659, 40.0, 0, 'Spr', 0], [660, 48.0, 0, 'Spr', 0], [661, 35.0, 0, 'Spr', 0], [662, 49.0, 0, 'Spr', 0], [663, 25.0, 0, 'Spr', 0], [664, 46.0, 0, 'Spr', 0], [665, 27.0, 0, 'Spr', 1], [666, 34.0, 0, 'Spr', 0], [667, 55.0, 0, 'Spr', 0], [668, 39.0, 0, 'Aut', 0], [669, 47.0, 0, 'Spr', 0], [670, 25.0, 0, 'Aut', 0], [671, 49.0, 0, 'Spr', 0], [672, 24.0, 0, 'Spr', 0], [673, 27.0, 0, 'Spr', 0], [674, 32.0, 0, 'Spr', 0], [675, 46.0, 0, 'Spr', 0], [676, 38.0, 0, 'Spr', 1], [677, 36.0, 0, 'Spr', 0], [678, 35.0, 0, 'Spr', 0], [679, 42.0, 0, 'Spr', 0], [680, 40.0, 0, 'Spr', 0], [681, 41.0, 0, 'Spr', 0], [682, 44.0, 0, 'Spr', 0], [683, 40.0, 0, 'Spr', 0], [684, 32.0, 0, 'Spr', 0], [685, 30.0, 0, 'Spr', 0], [686, 13.0, 1, 'Spr', 0], [687, 33.0, 0, 'Spr', 0], [688, 18.0, 0, 'Spr', 0], [689, 38.0, 0, 'Spr', 0], [690, 21.0, 0, 'Spr', 1], [691, 36.0, 0, 'Spr', 0], [692, 35.0, 0, 'Spr', 0], [693, 54.0, 0, 'Spr', 0], [694, 30.0, 0, 'Spr', 0], [695, 36.0, 0, 'Spr', 0], [696, 42.0, 0, 'Spr', 0], [697, 23.0, 0, 'Spr', 0], [698, 37.0, 0, 'Spr', 0], [699, 28.0, 0, 'Spr', 0]]\n"
     ]
    }
   ],
   "source": [
    "synEverestData = []\n",
    "\n",
    "for i in range(0, N):\n",
    "    data = []\n",
    "    if oxUse[i] == 0 and seasList[i] == 'Spr':\n",
    "        death = rng.binomial(1, df[(df['Season'] == 'Spr') & (df['Oxy'] == 'No') & (df['Dth'] == 'Y')].Dth.count() \\\n",
    "                           / df[(df['Season'] == 'Spr') & (df['Oxy'] == 'No')].Season.count())\n",
    "        \n",
    "    elif oxUse[i] == 1 and seasList[i] == 'Spr':\n",
    "        death = rng.binomial(1, df[(df['Season'] == 'Spr') & (df['Oxy'] == 'Y') & (df['Dth'] == 'Y')].Dth.count() \\\n",
    "                           / df[(df['Season'] == 'Spr') & (df['Oxy'] == 'Y')].Season.count())\n",
    "        \n",
    "    elif oxUse[i] == 0 and seasList[i] == 'Sum':\n",
    "        death = rng.binomial(1, df[(df['Season'] == 'Sum') & (df['Oxy'] == 'No') & (df['Dth'] == 'Y')].Dth.count() \\\n",
    "                           / df[(df['Season'] == 'Sum') & (df['Oxy'] == 'No')].Season.count())\n",
    "        \n",
    "    elif oxUse[i] == 1 and seasList[i] == 'Sum':\n",
    "        death = rng.binomial(1, df[(df['Season'] == 'Sum') & (df['Oxy'] == 'Y') & (df['Dth'] == 'Y')].Dth.count() \\\n",
    "                           / df[(df['Season'] == 'Sum') & (df['Oxy'] == 'Y')].Season.count())\n",
    "        \n",
    "    elif oxUse[i] == 0 and seasList[i] == 'Aut':\n",
    "        death = rng.binomial(1, df[(df['Season'] == 'Aut') & (df['Oxy'] == 'No') & (df['Dth'] == 'Y')].Dth.count() \\\n",
    "                           / df[(df['Season'] == 'Aut') & (df['Oxy'] == 'No')].Season.count())\n",
    "        \n",
    "    elif oxUse[i] == 1 and seasList[i] == 'Aut':\n",
    "        death = rng.binomial(1, df[(df['Season'] == 'Aut') & (df['Oxy'] == 'Y') & (df['Dth'] == 'Y')].Dth.count() \\\n",
    "                           / df[(df['Season'] == 'Aut') & (df['Oxy'] == 'Y')].Season.count())\n",
    "        \n",
    "    elif oxUse[i] == 0 and seasList[i] == 'Win':\n",
    "        death = rng.binomial(1, df[(df['Season'] == 'Win') & (df['Oxy'] == 'No') & (df['Dth'] == 'Y')].Dth.count() \\\n",
    "                           / df[(df['Season'] == 'Win') & (df['Oxy'] == 'No')].Season.count())\n",
    "\n",
    "    elif oxUse[i] == 1 and seasList[i] == 'Win':\n",
    "        death = rng.binomial(1, df[(df['Season'] == 'Win') & (df['Oxy'] == 'Y') & (df['Dth'] == 'Y')].Dth.count() \\\n",
    "                           / df[(df['Season'] == 'Win') & (df['Oxy'] == 'Y')].Season.count())\n",
    "\n",
    "    data = [i, round(vals[i],0), oxUse[i], seasList[i], death]\n",
    "    synEverestData.append(data)\n",
    "        \n",
    "    \n",
    "print(synEverestData)\n"
   ]
  },
  {
   "cell_type": "code",
   "execution_count": 17,
   "id": "e86e747f",
   "metadata": {},
   "outputs": [
    {
     "name": "stdout",
     "output_type": "stream",
     "text": [
      "0.06142857142857143\n"
     ]
    }
   ],
   "source": [
    "deaths2 = []\n",
    "\n",
    "for i in range(0, 700):\n",
    "    deaths2.append(synEverestData[i][4])\n",
    "print(sum(deaths2)/700)"
   ]
  },
  {
   "cell_type": "code",
   "execution_count": null,
   "id": "9177d0eb",
   "metadata": {},
   "outputs": [],
   "source": []
  }
 ],
 "metadata": {
  "kernelspec": {
   "display_name": "Python 3 (ipykernel)",
   "language": "python",
   "name": "python3"
  },
  "language_info": {
   "codemirror_mode": {
    "name": "ipython",
    "version": 3
   },
   "file_extension": ".py",
   "mimetype": "text/x-python",
   "name": "python",
   "nbconvert_exporter": "python",
   "pygments_lexer": "ipython3",
   "version": "3.9.7"
  }
 },
 "nbformat": 4,
 "nbformat_minor": 5
}
