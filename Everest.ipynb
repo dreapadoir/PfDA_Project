{
 "cells": [
  {
   "cell_type": "markdown",
   "id": "ef525c35",
   "metadata": {},
   "source": [
    "# Survivalibility on Mt. Everest\n",
    "\n",
    "## Programming for Data Analysis Project 1\n",
    "\n",
    "## Author: David Higgins - G00411302"
   ]
  },
  {
   "cell_type": "markdown",
   "id": "38d24c59",
   "metadata": {},
   "source": [
    "\"Getting to the top is optional. Getting down is mandatory.\"\n",
    "\n",
    "\\- Ed Viesturs"
   ]
  },
  {
   "cell_type": "code",
   "execution_count": null,
   "id": "b323cff5",
   "metadata": {},
   "outputs": [],
   "source": []
  },
  {
   "cell_type": "code",
   "execution_count": 1,
   "id": "6b7eb868",
   "metadata": {},
   "outputs": [],
   "source": [
    "import numpy as np\n",
    "import pandas as pd\n",
    "import matplotlib.pyplot as plt\n",
    "import random\n",
    "\n",
    "N = 200"
   ]
  },
  {
   "cell_type": "markdown",
   "id": "9c00f5e6",
   "metadata": {},
   "source": [
    "We first import the Mt. Everest Ascent dataset to understand what information is available for mountaineers and to get an idea of the shape of that data."
   ]
  },
  {
   "cell_type": "code",
   "execution_count": 2,
   "id": "af1add20",
   "metadata": {},
   "outputs": [
    {
     "data": {
      "text/html": [
       "<div>\n",
       "<style scoped>\n",
       "    .dataframe tbody tr th:only-of-type {\n",
       "        vertical-align: middle;\n",
       "    }\n",
       "\n",
       "    .dataframe tbody tr th {\n",
       "        vertical-align: top;\n",
       "    }\n",
       "\n",
       "    .dataframe thead th {\n",
       "        text-align: right;\n",
       "    }\n",
       "</style>\n",
       "<table border=\"1\" class=\"dataframe\">\n",
       "  <thead>\n",
       "    <tr style=\"text-align: right;\">\n",
       "      <th></th>\n",
       "      <th>Peak</th>\n",
       "      <th>Name</th>\n",
       "      <th>Year</th>\n",
       "      <th>Season</th>\n",
       "      <th>Date</th>\n",
       "      <th>Time</th>\n",
       "      <th>Citizenship</th>\n",
       "      <th>Sex</th>\n",
       "      <th>Age</th>\n",
       "      <th>Oxy</th>\n",
       "      <th>Dth</th>\n",
       "      <th>Host</th>\n",
       "    </tr>\n",
       "  </thead>\n",
       "  <tbody>\n",
       "    <tr>\n",
       "      <th>0</th>\n",
       "      <td>EVER</td>\n",
       "      <td>Edmund Percival Hillary</td>\n",
       "      <td>1953</td>\n",
       "      <td>Spr</td>\n",
       "      <td>29-May</td>\n",
       "      <td>11:30</td>\n",
       "      <td>New Zealand</td>\n",
       "      <td>M</td>\n",
       "      <td>33</td>\n",
       "      <td>Y</td>\n",
       "      <td>.</td>\n",
       "      <td>Nepal</td>\n",
       "    </tr>\n",
       "    <tr>\n",
       "      <th>1</th>\n",
       "      <td>EVER</td>\n",
       "      <td>Tenzing Norgay</td>\n",
       "      <td>1953</td>\n",
       "      <td>Spr</td>\n",
       "      <td>29-May</td>\n",
       "      <td>11:30</td>\n",
       "      <td>India</td>\n",
       "      <td>M</td>\n",
       "      <td>39</td>\n",
       "      <td>Y</td>\n",
       "      <td>.</td>\n",
       "      <td>Nepal</td>\n",
       "    </tr>\n",
       "    <tr>\n",
       "      <th>2</th>\n",
       "      <td>EVER</td>\n",
       "      <td>Hans-Rudolf Von Gunten</td>\n",
       "      <td>1956</td>\n",
       "      <td>Spr</td>\n",
       "      <td>24-May</td>\n",
       "      <td>11:00</td>\n",
       "      <td>Switzerland</td>\n",
       "      <td>M</td>\n",
       "      <td>27</td>\n",
       "      <td>Y</td>\n",
       "      <td>.</td>\n",
       "      <td>Nepal</td>\n",
       "    </tr>\n",
       "    <tr>\n",
       "      <th>3</th>\n",
       "      <td>EVER</td>\n",
       "      <td>Juerg P. Marmet</td>\n",
       "      <td>1956</td>\n",
       "      <td>Spr</td>\n",
       "      <td>23-May</td>\n",
       "      <td>14:00</td>\n",
       "      <td>Switzerland</td>\n",
       "      <td>M</td>\n",
       "      <td>28</td>\n",
       "      <td>Y</td>\n",
       "      <td>.</td>\n",
       "      <td>Nepal</td>\n",
       "    </tr>\n",
       "    <tr>\n",
       "      <th>4</th>\n",
       "      <td>EVER</td>\n",
       "      <td>Ernst Schmied</td>\n",
       "      <td>1956</td>\n",
       "      <td>Spr</td>\n",
       "      <td>23-May</td>\n",
       "      <td>14:00</td>\n",
       "      <td>Switzerland</td>\n",
       "      <td>M</td>\n",
       "      <td>31</td>\n",
       "      <td>Y</td>\n",
       "      <td>.</td>\n",
       "      <td>Nepal</td>\n",
       "    </tr>\n",
       "  </tbody>\n",
       "</table>\n",
       "</div>"
      ],
      "text/plain": [
       "   Peak                     Name  Year Season    Date   Time  Citizenship Sex  \\\n",
       "0  EVER  Edmund Percival Hillary  1953    Spr  29-May  11:30  New Zealand   M   \n",
       "1  EVER          Tenzing Norgay   1953    Spr  29-May  11:30        India   M   \n",
       "2  EVER   Hans-Rudolf Von Gunten  1956    Spr  24-May  11:00  Switzerland   M   \n",
       "3  EVER          Juerg P. Marmet  1956    Spr  23-May  14:00  Switzerland   M   \n",
       "4  EVER            Ernst Schmied  1956    Spr  23-May  14:00  Switzerland   M   \n",
       "\n",
       "   Age Oxy Dth   Host  \n",
       "0   33   Y   .  Nepal  \n",
       "1   39   Y   .  Nepal  \n",
       "2   27   Y   .  Nepal  \n",
       "3   28   Y   .  Nepal  \n",
       "4   31   Y   .  Nepal  "
      ]
     },
     "execution_count": 2,
     "metadata": {},
     "output_type": "execute_result"
    }
   ],
   "source": [
    "df = pd.read_csv(\"Mt_Everest_Ascent_Data.csv\")\n",
    "df.head()"
   ]
  },
  {
   "cell_type": "markdown",
   "id": "68490c79",
   "metadata": {},
   "source": [
    "We can create a Data Series containing just the age values. It's then possible to use the describe() method to find out the mean and standard deviation of the ages of summitters."
   ]
  },
  {
   "cell_type": "code",
   "execution_count": 3,
   "id": "c6a91a14",
   "metadata": {},
   "outputs": [
    {
     "data": {
      "text/plain": [
       "count    10010.000000\n",
       "mean        35.293906\n",
       "std          9.314089\n",
       "min         13.000000\n",
       "25%         28.000000\n",
       "50%         34.000000\n",
       "75%         41.000000\n",
       "max         80.000000\n",
       "Name: Age, dtype: float64"
      ]
     },
     "execution_count": 3,
     "metadata": {},
     "output_type": "execute_result"
    }
   ],
   "source": [
    "ages = df.loc[:,'Age']\n",
    "ages.describe()"
   ]
  },
  {
   "cell_type": "markdown",
   "id": "fe363342",
   "metadata": {},
   "source": [
    "Plotting a histogram of the age Data Series gives us an idea of the shape of the distribution. This is often the best indicator of what distribution is appropriate when generating synthetic data."
   ]
  },
  {
   "cell_type": "code",
   "execution_count": 4,
   "id": "3f9000c6",
   "metadata": {},
   "outputs": [
    {
     "data": {
      "text/plain": [
       "(array([ 151., 1629., 2943., 2221., 1825.,  832.,  296.,   93.,   17.,\n",
       "           3.]),\n",
       " array([13. , 19.7, 26.4, 33.1, 39.8, 46.5, 53.2, 59.9, 66.6, 73.3, 80. ]),\n",
       " <BarContainer object of 10 artists>)"
      ]
     },
     "execution_count": 4,
     "metadata": {},
     "output_type": "execute_result"
    },
    {
     "data": {
      "image/png": "[encoded data removed]",
      "text/plain": [
       "<Figure size 432x288 with 1 Axes>"
      ]
     },
     "metadata": {
      "needs_background": "light"
     },
     "output_type": "display_data"
    }
   ],
   "source": [
    "plt.hist(ages, bins=10)"
   ]
  },
  {
   "cell_type": "markdown",
   "id": "754b2f9e",
   "metadata": {},
   "source": [
    "This histogram looks relatively normally distributed. We can try generating a dataset using the mean and standard deviation of the ages Data Series."
   ]
  },
  {
   "cell_type": "code",
   "execution_count": 5,
   "id": "62ffa016",
   "metadata": {},
   "outputs": [
    {
     "name": "stdout",
     "output_type": "stream",
     "text": [
      "[33.63805543 29.8039379  36.96692117 40.03089766 18.1661744  43.97208358\n",
      " 38.16929893 25.1590883  41.51388753 20.796049   31.66966214 21.73241606\n",
      " 51.59600761 27.67723726 46.48877605 49.38839344 37.14149469 38.04436641\n",
      " 45.99514466 23.6414123  38.54615102 49.70858058 27.31329535 23.59537\n",
      " 30.99750814 15.220046   30.51362546 28.95855271 40.7573791  32.17318205\n",
      " 28.29864343 49.81336684 43.38541208 49.86638268 38.52711343 42.66856058\n",
      " 44.06551887 22.61075843 35.77542401 25.19406814 28.4616395  36.75216363\n",
      " 42.63832139 24.9415717  34.88047114 29.73134996 43.16411166 39.57171995\n",
      " 25.81428297 40.46745817 57.27577071 34.44828719 29.75470759 26.56809646\n",
      " 31.52124803 51.9175442  41.23929959 41.84654724 18.91905611 33.5204504\n",
      " 30.94264656 35.6343657  24.16323454 37.19255894 41.49717097 39.93138934\n",
      " 38.15635843 36.12897347 32.33821379 35.7990084  47.4797134  43.03864813\n",
      " 47.19334387 44.44374999 34.37369221 35.0957981  35.69543952 27.44432414\n",
      " 36.7313373  38.29365733 37.75172421 53.93075848 42.18483255 46.90136907\n",
      " 24.43471559 32.61918762 31.48924706 39.87735696 22.59119316 31.31175119\n",
      " 30.37304809 18.22634975 18.95658765 42.27694354 38.79952871 18.83828898\n",
      " 37.84326211 34.49212605 34.71288206 22.55830586 33.77784468 41.23813939\n",
      " 44.06354471 23.66905035 40.63187208 25.22662614 28.4236588  44.5703348\n",
      " 35.60441572 24.11699818 28.32660876 42.92100378 33.28535095 55.07007526\n",
      " 25.68540632 27.42461111 38.55143649 32.0163883  51.47039019 43.28437882\n",
      " 35.22939498 44.05057779 18.26933546 26.32956575 54.42898621 33.20352453\n",
      " 23.23282925 28.75378524 48.98640717 32.59853698 17.47468243 46.97065554\n",
      " 37.83310272 51.37604268 36.34084472 30.67043704 44.40012413 51.75598005\n",
      " 38.84145021 29.50077947 25.08533273 35.85665247 25.57851917 25.51972228\n",
      " 36.23898846 49.33813577 29.74597314 58.7052546   6.69347815 28.2892416\n",
      " 43.9539443  22.39173006 31.7820859  24.16106794 35.49952407 37.62630416\n",
      " 41.87185695 32.62620002 42.04818379 28.65592367 34.90781745 52.11899792\n",
      " 47.01526979  4.55631148 32.72698947 31.86912799 25.9422688  49.85745303\n",
      " 35.88964999 28.05084531 47.7209571  18.41140217 40.21399198 38.98897765\n",
      " 37.66565349 20.45488347 33.34573616 42.4991833  37.35004636 25.2438211\n",
      " 28.61098946 29.78593851 48.38177308 40.96546944 35.06122428 31.99000563\n",
      " 33.70184561 29.57191464 34.13197344 43.703896   51.28859232 41.54710533\n",
      " 27.18970794 28.73083255 35.28558759 34.11872455 32.3296146  39.61618854\n",
      " 30.72341083 25.74753981]\n"
     ]
    },
    {
     "data": {
      "text/plain": [
       "(array([ 2.,  1., 10., 25., 34., 45., 38., 25., 15.,  5.]),\n",
       " array([ 4.55631148,  9.97120579, 15.38610011, 20.80099442, 26.21588873,\n",
       "        31.63078304, 37.04567736, 42.46057167, 47.87546598, 53.29036029,\n",
       "        58.7052546 ]),\n",
       " <BarContainer object of 10 artists>)"
      ]
     },
     "execution_count": 5,
     "metadata": {},
     "output_type": "execute_result"
    },
    {
     "data": {
      "image/png": "[encoded data removed]",
      "text/plain": [
       "<Figure size 432x288 with 1 Axes>"
      ]
     },
     "metadata": {
      "needs_background": "light"
     },
     "output_type": "display_data"
    }
   ],
   "source": [
    "rng = np.random.default_rng()\n",
    "vals = rng.normal(loc = ages.mean(), scale = ages.std(), size = N)\n",
    "print(vals)\n",
    "plt.hist(vals, bins=10)"
   ]
  },
  {
   "cell_type": "markdown",
   "id": "92d5690a",
   "metadata": {},
   "source": [
    "This appears to be a relatively close approximation of the age Data Series so we will use the variable vals to synthesise age data. Next we consider the probability that a summitter climbed without oxygen. "
   ]
  },
  {
   "cell_type": "code",
   "execution_count": 6,
   "id": "c5972c02",
   "metadata": {},
   "outputs": [
    {
     "data": {
      "text/html": [
       "<div>\n",
       "<style scoped>\n",
       "    .dataframe tbody tr th:only-of-type {\n",
       "        vertical-align: middle;\n",
       "    }\n",
       "\n",
       "    .dataframe tbody tr th {\n",
       "        vertical-align: top;\n",
       "    }\n",
       "\n",
       "    .dataframe thead th {\n",
       "        text-align: right;\n",
       "    }\n",
       "</style>\n",
       "<table border=\"1\" class=\"dataframe\">\n",
       "  <thead>\n",
       "    <tr style=\"text-align: right;\">\n",
       "      <th></th>\n",
       "      <th>Year</th>\n",
       "      <th>Age</th>\n",
       "    </tr>\n",
       "  </thead>\n",
       "  <tbody>\n",
       "    <tr>\n",
       "      <th>count</th>\n",
       "      <td>213.000000</td>\n",
       "      <td>213.000000</td>\n",
       "    </tr>\n",
       "    <tr>\n",
       "      <th>mean</th>\n",
       "      <td>2000.680751</td>\n",
       "      <td>35.394366</td>\n",
       "    </tr>\n",
       "    <tr>\n",
       "      <th>std</th>\n",
       "      <td>10.407792</td>\n",
       "      <td>6.350187</td>\n",
       "    </tr>\n",
       "    <tr>\n",
       "      <th>min</th>\n",
       "      <td>1978.000000</td>\n",
       "      <td>20.000000</td>\n",
       "    </tr>\n",
       "    <tr>\n",
       "      <th>25%</th>\n",
       "      <td>1993.000000</td>\n",
       "      <td>31.000000</td>\n",
       "    </tr>\n",
       "    <tr>\n",
       "      <th>50%</th>\n",
       "      <td>2001.000000</td>\n",
       "      <td>35.000000</td>\n",
       "    </tr>\n",
       "    <tr>\n",
       "      <th>75%</th>\n",
       "      <td>2010.000000</td>\n",
       "      <td>40.000000</td>\n",
       "    </tr>\n",
       "    <tr>\n",
       "      <th>max</th>\n",
       "      <td>2019.000000</td>\n",
       "      <td>55.000000</td>\n",
       "    </tr>\n",
       "  </tbody>\n",
       "</table>\n",
       "</div>"
      ],
      "text/plain": [
       "              Year         Age\n",
       "count   213.000000  213.000000\n",
       "mean   2000.680751   35.394366\n",
       "std      10.407792    6.350187\n",
       "min    1978.000000   20.000000\n",
       "25%    1993.000000   31.000000\n",
       "50%    2001.000000   35.000000\n",
       "75%    2010.000000   40.000000\n",
       "max    2019.000000   55.000000"
      ]
     },
     "execution_count": 6,
     "metadata": {},
     "output_type": "execute_result"
    }
   ],
   "source": [
    "noOxygen = df.loc[df.loc[:,'Oxy'] == 'No']\n",
    "noOxygen.describe()"
   ]
  },
  {
   "cell_type": "code",
   "execution_count": 7,
   "id": "a97a2696",
   "metadata": {},
   "outputs": [
    {
     "data": {
      "text/plain": [
       "10010"
      ]
     },
     "execution_count": 7,
     "metadata": {},
     "output_type": "execute_result"
    }
   ],
   "source": [
    "noOxPotential = df.Age.count() \n",
    "noOxPotential"
   ]
  },
  {
   "cell_type": "markdown",
   "id": "6df29453",
   "metadata": {},
   "source": [
    "We can look at the historical data to get an idea of the probability that a climber will not use oxygen in their attempt. We can count the number of climbers in total who have used oxygen and divide it by the total number of summitters in the appropriate age range determined above. We can use this probability with the binomial distribution to generate our synthetic data on oxygen use."
   ]
  },
  {
   "cell_type": "code",
   "execution_count": 8,
   "id": "f7b4c592",
   "metadata": {},
   "outputs": [
    {
     "data": {
      "text/plain": [
       "0.02127872127872128"
      ]
     },
     "execution_count": 8,
     "metadata": {},
     "output_type": "execute_result"
    }
   ],
   "source": [
    "noOxProbability = noOxygen.Age.count() / noOxPotential\n",
    "noOxProbability"
   ]
  },
  {
   "cell_type": "markdown",
   "id": "9fca42bd",
   "metadata": {},
   "source": [
    "Calculate use of oxygen synthetic data"
   ]
  },
  {
   "cell_type": "code",
   "execution_count": 9,
   "id": "b8f199d5",
   "metadata": {},
   "outputs": [
    {
     "name": "stdout",
     "output_type": "stream",
     "text": [
      "[0, 0, 0, 0, 0, 0, 0, 0, 0, 0, 0, 0, 0, 0, 0, 0, 0, 0, 0, 0, 0, 0, 0, 0, 0, 0, 0, 0, 0, 0, 0, 0, 0, 0, 0, 0, 0, 0, 0, 0, 0, 0, 0, 0, 0, 0, 0, 0, 0, 1, 0, 0, 0, 0, 0, 0, 0, 0, 0, 0, 0, 0, 0, 0, 0, 0, 0, 0, 0, 0, 0, 0, 0, 0, 0, 0, 0, 0, 0, 0, 0, 0, 0, 0, 0, 1, 0, 0, 0, 0, 0, 0, 0, 0, 0, 0, 0, 0, 0, 0, 0, 0, 0, 0, 0, 0, 0, 0, 0, 0, 0, 0, 0, 0, 0, 0, 0, 0, 0, 0, 0, 0, 0, 0, 0, 0, 0, 0, 0, 0, 0, 0, 0, 0, 0, 0, 0, 0, 0, 0, 0, 0, 0, 0, 0, 0, 0, 0, 0, 0, 0, 0, 0, 0, 0, 1, 0, 0, 0, 0, 0, 0, 0, 0, 0, 0, 0, 0, 0, 0, 0, 0, 0, 0, 0, 0, 0, 0, 0, 0, 0, 0, 0, 0, 0, 1, 0, 0, 0, 0, 0, 0, 0, 0, 0, 0, 0, 0, 0, 0]\n"
     ]
    }
   ],
   "source": [
    "oxUse = []\n",
    "for a in vals:\n",
    "    #if a >= 18 and a <= 55:\n",
    "    #    oxUse.append(synNoOx)\n",
    "    #else:\n",
    "    #    oxUse.append(1)\n",
    "    synNoOx = rng.binomial(1, noOxProbability)\n",
    "    oxUse.append(synNoOx)\n",
    "print(oxUse)"
   ]
  },
  {
   "cell_type": "markdown",
   "id": "8da5894e",
   "metadata": {},
   "source": [
    "Next we calculate the probabilities of climbing in each season."
   ]
  },
  {
   "cell_type": "code",
   "execution_count": 10,
   "id": "9195767c",
   "metadata": {},
   "outputs": [
    {
     "data": {
      "text/plain": [
       "[0.9692307692307692,\n",
       " 0.0008991008991008991,\n",
       " 0.028371628371628373,\n",
       " 0.0014985014985014985]"
      ]
     },
     "execution_count": 10,
     "metadata": {},
     "output_type": "execute_result"
    }
   ],
   "source": [
    "sprCount = df.loc[df.loc[:,'Season'] == 'Spr'].Season.count()\n",
    "sumCount = df.loc[df.loc[:,'Season'] == 'Sum'].Season.count()\n",
    "autCount = df.loc[df.loc[:,'Season'] == 'Aut'].Season.count()\n",
    "winCount = df.loc[df.loc[:,'Season'] == 'Win'].Season.count()\n",
    "\n",
    "sprProb = sprCount / df.Season.count()\n",
    "sumProb = sumCount / df.Season.count()\n",
    "autProb = autCount / df.Season.count()\n",
    "winProb = winCount / df.Season.count()\n",
    "\n",
    "seasProbs = [sprProb, sumProb, autProb, winProb]\n",
    "seasProbs"
   ]
  },
  {
   "cell_type": "markdown",
   "id": "bb8afc33",
   "metadata": {},
   "source": [
    "Generate a set of seasons chosen by each climber in the synthetic dataset. We can use the choices method from the random package, with the probabilities above as the weights, to determine a synthetic dataset reflective of the general choices of climbers. It will be heavily dominated by spring but should a couple of attempts in the autumn. Summer and winter are unlikely to feature unless the size of the dataset, N, is quite large."
   ]
  },
  {
   "cell_type": "code",
   "execution_count": 11,
   "id": "283bc9b9",
   "metadata": {},
   "outputs": [
    {
     "name": "stdout",
     "output_type": "stream",
     "text": [
      "['Spr', 'Spr', 'Spr', 'Spr', 'Spr', 'Spr', 'Spr', 'Spr', 'Spr', 'Spr', 'Spr', 'Spr', 'Spr', 'Spr', 'Spr', 'Spr', 'Spr', 'Spr', 'Spr', 'Spr', 'Spr', 'Spr', 'Spr', 'Spr', 'Spr', 'Spr', 'Spr', 'Spr', 'Spr', 'Spr', 'Spr', 'Spr', 'Spr', 'Spr', 'Spr', 'Spr', 'Spr', 'Spr', 'Spr', 'Spr', 'Spr', 'Spr', 'Spr', 'Spr', 'Spr', 'Spr', 'Spr', 'Spr', 'Spr', 'Spr', 'Spr', 'Spr', 'Spr', 'Spr', 'Spr', 'Spr', 'Spr', 'Aut', 'Spr', 'Spr', 'Spr', 'Spr', 'Spr', 'Spr', 'Spr', 'Spr', 'Spr', 'Spr', 'Spr', 'Spr', 'Spr', 'Spr', 'Spr', 'Spr', 'Spr', 'Spr', 'Spr', 'Spr', 'Spr', 'Aut', 'Spr', 'Spr', 'Spr', 'Spr', 'Spr', 'Spr', 'Spr', 'Spr', 'Spr', 'Spr', 'Spr', 'Spr', 'Spr', 'Spr', 'Spr', 'Spr', 'Spr', 'Spr', 'Spr', 'Spr', 'Spr', 'Spr', 'Spr', 'Spr', 'Spr', 'Spr', 'Spr', 'Spr', 'Spr', 'Spr', 'Spr', 'Spr', 'Spr', 'Spr', 'Spr', 'Spr', 'Spr', 'Spr', 'Spr', 'Aut', 'Spr', 'Spr', 'Spr', 'Spr', 'Spr', 'Spr', 'Spr', 'Spr', 'Spr', 'Spr', 'Spr', 'Spr', 'Spr', 'Spr', 'Spr', 'Spr', 'Spr', 'Spr', 'Spr', 'Spr', 'Spr', 'Spr', 'Spr', 'Spr', 'Aut', 'Spr', 'Spr', 'Spr', 'Spr', 'Spr', 'Spr', 'Spr', 'Spr', 'Spr', 'Spr', 'Spr', 'Spr', 'Spr', 'Spr', 'Spr', 'Spr', 'Spr', 'Spr', 'Spr', 'Spr', 'Spr', 'Spr', 'Spr', 'Spr', 'Spr', 'Spr', 'Spr', 'Spr', 'Spr', 'Spr', 'Spr', 'Aut', 'Spr', 'Spr', 'Spr', 'Spr', 'Spr', 'Spr', 'Spr', 'Spr', 'Spr', 'Spr', 'Spr', 'Spr', 'Spr', 'Spr', 'Spr', 'Spr', 'Spr', 'Spr', 'Spr', 'Spr', 'Spr', 'Spr', 'Spr']\n"
     ]
    }
   ],
   "source": [
    "seas = ['Spr', 'Sum', 'Aut', 'Win']\n",
    "seasList = []\n",
    "\n",
    "for i in range(0, N):\n",
    "    seasChoice = random.choices(seas, weights=seasProbs)\n",
    "    seasList.append(seasChoice[0])\n",
    "\n",
    "print(seasList)"
   ]
  },
  {
   "cell_type": "markdown",
   "id": "659566a3",
   "metadata": {},
   "source": [
    "Calculate the probabilities of surviving for summitting in each season with and without oxygen. Again we will use these probabilities with the binomial distribution as we are considering a binary choice, either surviving or not."
   ]
  },
  {
   "cell_type": "code",
   "execution_count": 12,
   "id": "78623522",
   "metadata": {},
   "outputs": [
    {
     "name": "stdout",
     "output_type": "stream",
     "text": [
      "The historical probability of death after summitting when climbing without oxygen in Spr is 0.06\n",
      "The historical probability of death after summitting when climbing with oxygen in Spr is 0.01\n",
      "The historical probability of death after summitting when climbing without oxygen in Sum is 0.0\n",
      "The historical probability of death after summitting when climbing with oxygen in Sum is 0.0\n",
      "The historical probability of death after summitting when climbing without oxygen in Aut is 0.13\n",
      "The historical probability of death after summitting when climbing with oxygen in Aut is 0.02\n",
      "The historical probability of death after summitting when climbing without oxygen in Win is 0.0\n",
      "The historical probability of death after summitting when climbing with oxygen in Win is 0.07\n"
     ]
    }
   ],
   "source": [
    "for i in seas:\n",
    "    NoOxDeathProb = round(df[(df['Season'] == i) & (df['Oxy'] == 'No') & (df['Dth'] == 'Y')].Dth.count() \\\n",
    "                           / df[(df['Season'] == i) & (df['Oxy'] == 'No')].Season.count(),2)\n",
    "    print('The historical probability of death after summitting when climbing without oxygen in {} is {}'.format(i,NoOxDeathProb))\n",
    "    OxDeathProb = round(df[(df['Season'] == i) & (df['Oxy'] == 'Y') & (df['Dth'] == 'Y')].Dth.count() \\\n",
    "                           / df[(df['Season'] == i) & (df['Oxy'] == 'Y')].Season.count(),2)\n",
    "    print('The historical probability of death after summitting when climbing with oxygen in {} is {}'.format(i,OxDeathProb))\n"
   ]
  },
  {
   "cell_type": "markdown",
   "id": "f4c4360b",
   "metadata": {},
   "source": [
    "Compile list with climber number, ages, season and oxygen use."
   ]
  },
  {
   "cell_type": "code",
   "execution_count": 13,
   "id": "09539a5d",
   "metadata": {},
   "outputs": [
    {
     "data": {
      "text/html": [
       "<div>\n",
       "<style scoped>\n",
       "    .dataframe tbody tr th:only-of-type {\n",
       "        vertical-align: middle;\n",
       "    }\n",
       "\n",
       "    .dataframe tbody tr th {\n",
       "        vertical-align: top;\n",
       "    }\n",
       "\n",
       "    .dataframe thead th {\n",
       "        text-align: right;\n",
       "    }\n",
       "</style>\n",
       "<table border=\"1\" class=\"dataframe\">\n",
       "  <thead>\n",
       "    <tr style=\"text-align: right;\">\n",
       "      <th></th>\n",
       "      <th>Climber</th>\n",
       "      <th>Age</th>\n",
       "      <th>Oxygen</th>\n",
       "      <th>Season</th>\n",
       "      <th>Survived</th>\n",
       "    </tr>\n",
       "  </thead>\n",
       "  <tbody>\n",
       "    <tr>\n",
       "      <th>0</th>\n",
       "      <td>0</td>\n",
       "      <td>34.0</td>\n",
       "      <td>Yes</td>\n",
       "      <td>Spr</td>\n",
       "      <td>Died</td>\n",
       "    </tr>\n",
       "    <tr>\n",
       "      <th>1</th>\n",
       "      <td>1</td>\n",
       "      <td>30.0</td>\n",
       "      <td>Yes</td>\n",
       "      <td>Spr</td>\n",
       "      <td>Died</td>\n",
       "    </tr>\n",
       "    <tr>\n",
       "      <th>2</th>\n",
       "      <td>2</td>\n",
       "      <td>37.0</td>\n",
       "      <td>Yes</td>\n",
       "      <td>Spr</td>\n",
       "      <td>Survived</td>\n",
       "    </tr>\n",
       "    <tr>\n",
       "      <th>3</th>\n",
       "      <td>3</td>\n",
       "      <td>40.0</td>\n",
       "      <td>Yes</td>\n",
       "      <td>Spr</td>\n",
       "      <td>Survived</td>\n",
       "    </tr>\n",
       "    <tr>\n",
       "      <th>4</th>\n",
       "      <td>4</td>\n",
       "      <td>18.0</td>\n",
       "      <td>Yes</td>\n",
       "      <td>Spr</td>\n",
       "      <td>Survived</td>\n",
       "    </tr>\n",
       "    <tr>\n",
       "      <th>...</th>\n",
       "      <td>...</td>\n",
       "      <td>...</td>\n",
       "      <td>...</td>\n",
       "      <td>...</td>\n",
       "      <td>...</td>\n",
       "    </tr>\n",
       "    <tr>\n",
       "      <th>195</th>\n",
       "      <td>195</td>\n",
       "      <td>34.0</td>\n",
       "      <td>Yes</td>\n",
       "      <td>Spr</td>\n",
       "      <td>Survived</td>\n",
       "    </tr>\n",
       "    <tr>\n",
       "      <th>196</th>\n",
       "      <td>196</td>\n",
       "      <td>32.0</td>\n",
       "      <td>Yes</td>\n",
       "      <td>Spr</td>\n",
       "      <td>Survived</td>\n",
       "    </tr>\n",
       "    <tr>\n",
       "      <th>197</th>\n",
       "      <td>197</td>\n",
       "      <td>40.0</td>\n",
       "      <td>Yes</td>\n",
       "      <td>Spr</td>\n",
       "      <td>Survived</td>\n",
       "    </tr>\n",
       "    <tr>\n",
       "      <th>198</th>\n",
       "      <td>198</td>\n",
       "      <td>31.0</td>\n",
       "      <td>Yes</td>\n",
       "      <td>Spr</td>\n",
       "      <td>Survived</td>\n",
       "    </tr>\n",
       "    <tr>\n",
       "      <th>199</th>\n",
       "      <td>199</td>\n",
       "      <td>26.0</td>\n",
       "      <td>Yes</td>\n",
       "      <td>Spr</td>\n",
       "      <td>Survived</td>\n",
       "    </tr>\n",
       "  </tbody>\n",
       "</table>\n",
       "<p>200 rows × 5 columns</p>\n",
       "</div>"
      ],
      "text/plain": [
       "     Climber   Age Oxygen Season  Survived\n",
       "0          0  34.0    Yes    Spr      Died\n",
       "1          1  30.0    Yes    Spr      Died\n",
       "2          2  37.0    Yes    Spr  Survived\n",
       "3          3  40.0    Yes    Spr  Survived\n",
       "4          4  18.0    Yes    Spr  Survived\n",
       "..       ...   ...    ...    ...       ...\n",
       "195      195  34.0    Yes    Spr  Survived\n",
       "196      196  32.0    Yes    Spr  Survived\n",
       "197      197  40.0    Yes    Spr  Survived\n",
       "198      198  31.0    Yes    Spr  Survived\n",
       "199      199  26.0    Yes    Spr  Survived\n",
       "\n",
       "[200 rows x 5 columns]"
      ]
     },
     "execution_count": 13,
     "metadata": {},
     "output_type": "execute_result"
    }
   ],
   "source": [
    "synEverestData = []\n",
    "\n",
    "def everestFunction():\n",
    "    for i in range(0, N):\n",
    "        data = []\n",
    "        if oxUse[i] == 0 and seasList[i] == 'Spr':\n",
    "            death = rng.binomial(1, df[(df['Season'] == 'Spr') & (df['Oxy'] == 'No') & (df['Dth'] == 'Y')].Dth.count() \\\n",
    "                               / df[(df['Season'] == 'Spr') & (df['Oxy'] == 'No')].Season.count())\n",
    "\n",
    "        elif oxUse[i] == 1 and seasList[i] == 'Spr':\n",
    "            death = rng.binomial(1, df[(df['Season'] == 'Spr') & (df['Oxy'] == 'Y') & (df['Dth'] == 'Y')].Dth.count() \\\n",
    "                               / df[(df['Season'] == 'Spr') & (df['Oxy'] == 'Y')].Season.count())\n",
    "\n",
    "        elif oxUse[i] == 0 and seasList[i] == 'Sum':\n",
    "            death = rng.binomial(1, df[(df['Season'] == 'Sum') & (df['Oxy'] == 'No') & (df['Dth'] == 'Y')].Dth.count() \\\n",
    "                               / df[(df['Season'] == 'Sum') & (df['Oxy'] == 'No')].Season.count())\n",
    "\n",
    "        elif oxUse[i] == 1 and seasList[i] == 'Sum':\n",
    "            death = rng.binomial(1, df[(df['Season'] == 'Sum') & (df['Oxy'] == 'Y') & (df['Dth'] == 'Y')].Dth.count() \\\n",
    "                               / df[(df['Season'] == 'Sum') & (df['Oxy'] == 'Y')].Season.count())\n",
    "\n",
    "        elif oxUse[i] == 0 and seasList[i] == 'Aut':\n",
    "            death = rng.binomial(1, df[(df['Season'] == 'Aut') & (df['Oxy'] == 'No') & (df['Dth'] == 'Y')].Dth.count() \\\n",
    "                               / df[(df['Season'] == 'Aut') & (df['Oxy'] == 'No')].Season.count())\n",
    "\n",
    "        elif oxUse[i] == 1 and seasList[i] == 'Aut':\n",
    "            death = rng.binomial(1, df[(df['Season'] == 'Aut') & (df['Oxy'] == 'Y') & (df['Dth'] == 'Y')].Dth.count() \\\n",
    "                               / df[(df['Season'] == 'Aut') & (df['Oxy'] == 'Y')].Season.count())\n",
    "\n",
    "        elif oxUse[i] == 0 and seasList[i] == 'Win':\n",
    "            death = rng.binomial(1, df[(df['Season'] == 'Win') & (df['Oxy'] == 'No') & (df['Dth'] == 'Y')].Dth.count() \\\n",
    "                               / df[(df['Season'] == 'Win') & (df['Oxy'] == 'No')].Season.count())\n",
    "\n",
    "        elif oxUse[i] == 1 and seasList[i] == 'Win':\n",
    "            death = rng.binomial(1, df[(df['Season'] == 'Win') & (df['Oxy'] == 'Y') & (df['Dth'] == 'Y')].Dth.count() \\\n",
    "                               / df[(df['Season'] == 'Win') & (df['Oxy'] == 'Y')].Season.count())\n",
    "\n",
    "        if oxUse[i] == 1:\n",
    "            oxUse2 = 'No'\n",
    "        else:\n",
    "            oxUse2 = 'Yes'\n",
    "\n",
    "        if death == 0:\n",
    "            death2 = 'Survived'\n",
    "        else:\n",
    "            death2 = 'Died'\n",
    "\n",
    "\n",
    "        data = [i, round(vals[i],0), oxUse2, seasList[i], death2]\n",
    "        synEverestData.append(data)\n",
    "        synEverestDataDf = pd.DataFrame(synEverestData, columns=['Climber', 'Age', 'Oxygen', 'Season', 'Survived'])\n",
    "        \n",
    "    return synEverestDataDf\n",
    "        \n",
    "\n",
    "everestFunction()\n",
    "\n"
   ]
  },
  {
   "cell_type": "code",
   "execution_count": 14,
   "id": "9177d0eb",
   "metadata": {},
   "outputs": [
    {
     "data": {
      "text/html": [
       "<div>\n",
       "<style scoped>\n",
       "    .dataframe tbody tr th:only-of-type {\n",
       "        vertical-align: middle;\n",
       "    }\n",
       "\n",
       "    .dataframe tbody tr th {\n",
       "        vertical-align: top;\n",
       "    }\n",
       "\n",
       "    .dataframe thead th {\n",
       "        text-align: right;\n",
       "    }\n",
       "</style>\n",
       "<table border=\"1\" class=\"dataframe\">\n",
       "  <thead>\n",
       "    <tr style=\"text-align: right;\">\n",
       "      <th></th>\n",
       "      <th>Climber</th>\n",
       "      <th>Age</th>\n",
       "      <th>Oxygen</th>\n",
       "      <th>Season</th>\n",
       "      <th>Survived</th>\n",
       "    </tr>\n",
       "  </thead>\n",
       "  <tbody>\n",
       "    <tr>\n",
       "      <th>0</th>\n",
       "      <td>0</td>\n",
       "      <td>34.0</td>\n",
       "      <td>Yes</td>\n",
       "      <td>Spr</td>\n",
       "      <td>Died</td>\n",
       "    </tr>\n",
       "    <tr>\n",
       "      <th>1</th>\n",
       "      <td>1</td>\n",
       "      <td>30.0</td>\n",
       "      <td>Yes</td>\n",
       "      <td>Spr</td>\n",
       "      <td>Died</td>\n",
       "    </tr>\n",
       "    <tr>\n",
       "      <th>2</th>\n",
       "      <td>2</td>\n",
       "      <td>37.0</td>\n",
       "      <td>Yes</td>\n",
       "      <td>Spr</td>\n",
       "      <td>Survived</td>\n",
       "    </tr>\n",
       "    <tr>\n",
       "      <th>3</th>\n",
       "      <td>3</td>\n",
       "      <td>40.0</td>\n",
       "      <td>Yes</td>\n",
       "      <td>Spr</td>\n",
       "      <td>Survived</td>\n",
       "    </tr>\n",
       "    <tr>\n",
       "      <th>4</th>\n",
       "      <td>4</td>\n",
       "      <td>18.0</td>\n",
       "      <td>Yes</td>\n",
       "      <td>Spr</td>\n",
       "      <td>Survived</td>\n",
       "    </tr>\n",
       "  </tbody>\n",
       "</table>\n",
       "</div>"
      ],
      "text/plain": [
       "   Climber   Age Oxygen Season  Survived\n",
       "0        0  34.0    Yes    Spr      Died\n",
       "1        1  30.0    Yes    Spr      Died\n",
       "2        2  37.0    Yes    Spr  Survived\n",
       "3        3  40.0    Yes    Spr  Survived\n",
       "4        4  18.0    Yes    Spr  Survived"
      ]
     },
     "execution_count": 14,
     "metadata": {},
     "output_type": "execute_result"
    }
   ],
   "source": [
    "synEverestDataDf = pd.DataFrame(synEverestData, columns=['Climber', 'Age', 'Oxygen', 'Season', 'Survived'])\n",
    "\n",
    "synEverestDataDf.head()"
   ]
  },
  {
   "cell_type": "markdown",
   "id": "16e8fa9d",
   "metadata": {},
   "source": [
    "The number of deaths in this synthetic dataset can be measured against the historicial death rate."
   ]
  },
  {
   "cell_type": "code",
   "execution_count": 15,
   "id": "d0776f90",
   "metadata": {},
   "outputs": [
    {
     "data": {
      "text/plain": [
       "19"
      ]
     },
     "execution_count": 15,
     "metadata": {},
     "output_type": "execute_result"
    }
   ],
   "source": [
    "numberOfDeaths = synEverestDataDf[synEverestDataDf['Survived'] == 'Died'].Survived.count()\n",
    "numberOfDeaths"
   ]
  },
  {
   "cell_type": "markdown",
   "id": "1dbffb5f",
   "metadata": {},
   "source": [
    "The historical death rate is calculated by:"
   ]
  },
  {
   "cell_type": "code",
   "execution_count": 16,
   "id": "f4dacec4",
   "metadata": {},
   "outputs": [
    {
     "name": "stdout",
     "output_type": "stream",
     "text": [
      "0.008\n"
     ]
    }
   ],
   "source": [
    "historicalDeathRate = round(df[(df['Dth'] == 'Y')].Dth.count() / df.Dth.count(),3)\n",
    "print(historicalDeathRate)"
   ]
  },
  {
   "cell_type": "markdown",
   "id": "1ce4dcc0",
   "metadata": {},
   "source": [
    "Our dataset death rate is calculated by:"
   ]
  },
  {
   "cell_type": "code",
   "execution_count": 17,
   "id": "e5512e21",
   "metadata": {},
   "outputs": [
    {
     "name": "stdout",
     "output_type": "stream",
     "text": [
      "0.095\n"
     ]
    }
   ],
   "source": [
    "predictDeathRate = round(synEverestDataDf[(synEverestDataDf['Survived'] == 'Died')].Survived.count() / synEverestDataDf.Survived.count(),3)\n",
    "print(predictDeathRate)"
   ]
  },
  {
   "cell_type": "code",
   "execution_count": null,
   "id": "5c841aab",
   "metadata": {},
   "outputs": [],
   "source": []
  }
 ],
 "metadata": {
  "kernelspec": {
   "display_name": "Python 3 (ipykernel)",
   "language": "python",
   "name": "python3"
  },
  "language_info": {
   "codemirror_mode": {
    "name": "ipython",
    "version": 3
   },
   "file_extension": ".py",
   "mimetype": "text/x-python",
   "name": "python",
   "nbconvert_exporter": "python",
   "pygments_lexer": "ipython3",
   "version": "3.9.7"
  }
 },
 "nbformat": 4,
 "nbformat_minor": 5
}
