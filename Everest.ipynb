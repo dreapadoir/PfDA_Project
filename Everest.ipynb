{
 "cells": [
  {
   "cell_type": "markdown",
   "id": "ef525c35",
   "metadata": {},
   "source": [
    "# Survivalibility on Mt. Everest\n",
    "\n",
    "## Programming for Data Analysis Project 1\n",
    "\n",
    "## Author: David Higgins - G00411302"
   ]
  },
  {
   "cell_type": "markdown",
   "id": "38d24c59",
   "metadata": {},
   "source": [
    "\"Getting to the top is optional. Getting down is mandatory.\"\n",
    "\n",
    "\\- Ed Viesturs"
   ]
  },
  {
   "cell_type": "code",
   "execution_count": 1,
   "id": "6b7eb868",
   "metadata": {},
   "outputs": [],
   "source": [
    "import numpy as np\n",
    "import pandas as pd\n",
    "import matplotlib.pyplot as plt\n",
    "import random\n",
    "import sklearn.linear_model as sk"
   ]
  },
  {
   "cell_type": "markdown",
   "id": "9c00f5e6",
   "metadata": {},
   "source": [
    "We first import the Mt. Everest Ascent dataset to understand what information is available for mountaineers and to get an idea of the shape of that data."
   ]
  },
  {
   "cell_type": "code",
   "execution_count": 2,
   "id": "af1add20",
   "metadata": {},
   "outputs": [
    {
     "data": {
      "text/html": [
       "<div>\n",
       "<style scoped>\n",
       "    .dataframe tbody tr th:only-of-type {\n",
       "        vertical-align: middle;\n",
       "    }\n",
       "\n",
       "    .dataframe tbody tr th {\n",
       "        vertical-align: top;\n",
       "    }\n",
       "\n",
       "    .dataframe thead th {\n",
       "        text-align: right;\n",
       "    }\n",
       "</style>\n",
       "<table border=\"1\" class=\"dataframe\">\n",
       "  <thead>\n",
       "    <tr style=\"text-align: right;\">\n",
       "      <th></th>\n",
       "      <th>Peak</th>\n",
       "      <th>Name</th>\n",
       "      <th>Year</th>\n",
       "      <th>Season</th>\n",
       "      <th>Date</th>\n",
       "      <th>Time</th>\n",
       "      <th>Citizenship</th>\n",
       "      <th>Sex</th>\n",
       "      <th>Age</th>\n",
       "      <th>Oxy</th>\n",
       "      <th>Dth</th>\n",
       "      <th>Host</th>\n",
       "    </tr>\n",
       "  </thead>\n",
       "  <tbody>\n",
       "    <tr>\n",
       "      <th>0</th>\n",
       "      <td>EVER</td>\n",
       "      <td>Edmund Percival Hillary</td>\n",
       "      <td>1953</td>\n",
       "      <td>Spr</td>\n",
       "      <td>29-May</td>\n",
       "      <td>11:30</td>\n",
       "      <td>New Zealand</td>\n",
       "      <td>M</td>\n",
       "      <td>33</td>\n",
       "      <td>Y</td>\n",
       "      <td>.</td>\n",
       "      <td>Nepal</td>\n",
       "    </tr>\n",
       "    <tr>\n",
       "      <th>1</th>\n",
       "      <td>EVER</td>\n",
       "      <td>Tenzing Norgay</td>\n",
       "      <td>1953</td>\n",
       "      <td>Spr</td>\n",
       "      <td>29-May</td>\n",
       "      <td>11:30</td>\n",
       "      <td>India</td>\n",
       "      <td>M</td>\n",
       "      <td>39</td>\n",
       "      <td>Y</td>\n",
       "      <td>.</td>\n",
       "      <td>Nepal</td>\n",
       "    </tr>\n",
       "    <tr>\n",
       "      <th>2</th>\n",
       "      <td>EVER</td>\n",
       "      <td>Hans-Rudolf Von Gunten</td>\n",
       "      <td>1956</td>\n",
       "      <td>Spr</td>\n",
       "      <td>24-May</td>\n",
       "      <td>11:00</td>\n",
       "      <td>Switzerland</td>\n",
       "      <td>M</td>\n",
       "      <td>27</td>\n",
       "      <td>Y</td>\n",
       "      <td>.</td>\n",
       "      <td>Nepal</td>\n",
       "    </tr>\n",
       "    <tr>\n",
       "      <th>3</th>\n",
       "      <td>EVER</td>\n",
       "      <td>Juerg P. Marmet</td>\n",
       "      <td>1956</td>\n",
       "      <td>Spr</td>\n",
       "      <td>23-May</td>\n",
       "      <td>14:00</td>\n",
       "      <td>Switzerland</td>\n",
       "      <td>M</td>\n",
       "      <td>28</td>\n",
       "      <td>Y</td>\n",
       "      <td>.</td>\n",
       "      <td>Nepal</td>\n",
       "    </tr>\n",
       "    <tr>\n",
       "      <th>4</th>\n",
       "      <td>EVER</td>\n",
       "      <td>Ernst Schmied</td>\n",
       "      <td>1956</td>\n",
       "      <td>Spr</td>\n",
       "      <td>23-May</td>\n",
       "      <td>14:00</td>\n",
       "      <td>Switzerland</td>\n",
       "      <td>M</td>\n",
       "      <td>31</td>\n",
       "      <td>Y</td>\n",
       "      <td>.</td>\n",
       "      <td>Nepal</td>\n",
       "    </tr>\n",
       "  </tbody>\n",
       "</table>\n",
       "</div>"
      ],
      "text/plain": [
       "   Peak                     Name  Year Season    Date   Time  Citizenship Sex  \\\n",
       "0  EVER  Edmund Percival Hillary  1953    Spr  29-May  11:30  New Zealand   M   \n",
       "1  EVER          Tenzing Norgay   1953    Spr  29-May  11:30        India   M   \n",
       "2  EVER   Hans-Rudolf Von Gunten  1956    Spr  24-May  11:00  Switzerland   M   \n",
       "3  EVER          Juerg P. Marmet  1956    Spr  23-May  14:00  Switzerland   M   \n",
       "4  EVER            Ernst Schmied  1956    Spr  23-May  14:00  Switzerland   M   \n",
       "\n",
       "   Age Oxy Dth   Host  \n",
       "0   33   Y   .  Nepal  \n",
       "1   39   Y   .  Nepal  \n",
       "2   27   Y   .  Nepal  \n",
       "3   28   Y   .  Nepal  \n",
       "4   31   Y   .  Nepal  "
      ]
     },
     "execution_count": 2,
     "metadata": {},
     "output_type": "execute_result"
    }
   ],
   "source": [
    "df = pd.read_csv(\"Mt_Everest_Ascent_Data.csv\")\n",
    "df.head()"
   ]
  },
  {
   "cell_type": "markdown",
   "id": "ee4ad5c1",
   "metadata": {},
   "source": [
    "We will take a subset of the dataframe, all the data from the year 1985 onwards."
   ]
  },
  {
   "cell_type": "code",
   "execution_count": 3,
   "id": "721bc329",
   "metadata": {},
   "outputs": [
    {
     "data": {
      "text/html": [
       "<div>\n",
       "<style scoped>\n",
       "    .dataframe tbody tr th:only-of-type {\n",
       "        vertical-align: middle;\n",
       "    }\n",
       "\n",
       "    .dataframe tbody tr th {\n",
       "        vertical-align: top;\n",
       "    }\n",
       "\n",
       "    .dataframe thead th {\n",
       "        text-align: right;\n",
       "    }\n",
       "</style>\n",
       "<table border=\"1\" class=\"dataframe\">\n",
       "  <thead>\n",
       "    <tr style=\"text-align: right;\">\n",
       "      <th></th>\n",
       "      <th>Peak</th>\n",
       "      <th>Name</th>\n",
       "      <th>Year</th>\n",
       "      <th>Season</th>\n",
       "      <th>Date</th>\n",
       "      <th>Time</th>\n",
       "      <th>Citizenship</th>\n",
       "      <th>Sex</th>\n",
       "      <th>Age</th>\n",
       "      <th>Oxy</th>\n",
       "      <th>Dth</th>\n",
       "      <th>Host</th>\n",
       "    </tr>\n",
       "  </thead>\n",
       "  <tbody>\n",
       "    <tr>\n",
       "      <th>170</th>\n",
       "      <td>EVER</td>\n",
       "      <td>Ang Phurba Sherpa (Thami, Khumbu)</td>\n",
       "      <td>1985</td>\n",
       "      <td>Spr</td>\n",
       "      <td>30-Apr</td>\n",
       "      <td>NaN</td>\n",
       "      <td>Nepal</td>\n",
       "      <td>M</td>\n",
       "      <td>23</td>\n",
       "      <td>Y</td>\n",
       "      <td>.</td>\n",
       "      <td>Nepal</td>\n",
       "    </tr>\n",
       "    <tr>\n",
       "      <th>171</th>\n",
       "      <td>EVER</td>\n",
       "      <td>Mitsuyoshi Sato</td>\n",
       "      <td>1985</td>\n",
       "      <td>Aut</td>\n",
       "      <td>30-Oct</td>\n",
       "      <td>NaN</td>\n",
       "      <td>Japan</td>\n",
       "      <td>M</td>\n",
       "      <td>24</td>\n",
       "      <td>Y</td>\n",
       "      <td>.</td>\n",
       "      <td>Nepal</td>\n",
       "    </tr>\n",
       "    <tr>\n",
       "      <th>172</th>\n",
       "      <td>EVER</td>\n",
       "      <td>Narayan Kumar Shrestha</td>\n",
       "      <td>1985</td>\n",
       "      <td>Sum</td>\n",
       "      <td>28-Aug</td>\n",
       "      <td>18:20</td>\n",
       "      <td>Nepal</td>\n",
       "      <td>M</td>\n",
       "      <td>25</td>\n",
       "      <td>Y</td>\n",
       "      <td>.</td>\n",
       "      <td>China</td>\n",
       "    </tr>\n",
       "    <tr>\n",
       "      <th>173</th>\n",
       "      <td>EVER</td>\n",
       "      <td>Lhakpa Dorje (Ang Lhakpa) Sherpa (Khunde, Khumbu)</td>\n",
       "      <td>1985</td>\n",
       "      <td>Spr</td>\n",
       "      <td>21-Apr</td>\n",
       "      <td>09:30</td>\n",
       "      <td>Nepal</td>\n",
       "      <td>M</td>\n",
       "      <td>26</td>\n",
       "      <td>Y</td>\n",
       "      <td>.</td>\n",
       "      <td>Nepal</td>\n",
       "    </tr>\n",
       "    <tr>\n",
       "      <th>174</th>\n",
       "      <td>EVER</td>\n",
       "      <td>Pema Dorje Sherpa (Khumjung, Khumbu)</td>\n",
       "      <td>1985</td>\n",
       "      <td>Spr</td>\n",
       "      <td>29-Apr</td>\n",
       "      <td>09:25</td>\n",
       "      <td>Nepal</td>\n",
       "      <td>M</td>\n",
       "      <td>26</td>\n",
       "      <td>Y</td>\n",
       "      <td>.</td>\n",
       "      <td>Nepal</td>\n",
       "    </tr>\n",
       "    <tr>\n",
       "      <th>...</th>\n",
       "      <td>...</td>\n",
       "      <td>...</td>\n",
       "      <td>...</td>\n",
       "      <td>...</td>\n",
       "      <td>...</td>\n",
       "      <td>...</td>\n",
       "      <td>...</td>\n",
       "      <td>...</td>\n",
       "      <td>...</td>\n",
       "      <td>...</td>\n",
       "      <td>...</td>\n",
       "      <td>...</td>\n",
       "    </tr>\n",
       "    <tr>\n",
       "      <th>10005</th>\n",
       "      <td>EVER</td>\n",
       "      <td>Phurbu Dhondup (Big)</td>\n",
       "      <td>2020</td>\n",
       "      <td>Spr</td>\n",
       "      <td>27-May</td>\n",
       "      <td>NaN</td>\n",
       "      <td>China</td>\n",
       "      <td>M</td>\n",
       "      <td>43</td>\n",
       "      <td>Y</td>\n",
       "      <td>.</td>\n",
       "      <td>China</td>\n",
       "    </tr>\n",
       "    <tr>\n",
       "      <th>10006</th>\n",
       "      <td>EVER</td>\n",
       "      <td>Fu-Qing (Jing-Yang) Li</td>\n",
       "      <td>2020</td>\n",
       "      <td>Spr</td>\n",
       "      <td>27-May</td>\n",
       "      <td>NaN</td>\n",
       "      <td>China</td>\n",
       "      <td>M</td>\n",
       "      <td>43</td>\n",
       "      <td>Y</td>\n",
       "      <td>.</td>\n",
       "      <td>China</td>\n",
       "    </tr>\n",
       "    <tr>\n",
       "      <th>10007</th>\n",
       "      <td>EVER</td>\n",
       "      <td>Ci Luo (Tselo)</td>\n",
       "      <td>2020</td>\n",
       "      <td>Spr</td>\n",
       "      <td>27-May</td>\n",
       "      <td>NaN</td>\n",
       "      <td>China</td>\n",
       "      <td>M</td>\n",
       "      <td>45</td>\n",
       "      <td>Y</td>\n",
       "      <td>.</td>\n",
       "      <td>China</td>\n",
       "    </tr>\n",
       "    <tr>\n",
       "      <th>10008</th>\n",
       "      <td>EVER</td>\n",
       "      <td>Zhou-Ping Cui</td>\n",
       "      <td>2020</td>\n",
       "      <td>Spr</td>\n",
       "      <td>28-May</td>\n",
       "      <td>NaN</td>\n",
       "      <td>China</td>\n",
       "      <td>F</td>\n",
       "      <td>45</td>\n",
       "      <td>Y</td>\n",
       "      <td>.</td>\n",
       "      <td>China</td>\n",
       "    </tr>\n",
       "    <tr>\n",
       "      <th>10009</th>\n",
       "      <td>EVER</td>\n",
       "      <td>Hong-Zhi Hu</td>\n",
       "      <td>2020</td>\n",
       "      <td>Spr</td>\n",
       "      <td>28-May</td>\n",
       "      <td>NaN</td>\n",
       "      <td>China</td>\n",
       "      <td>M</td>\n",
       "      <td>57</td>\n",
       "      <td>Y</td>\n",
       "      <td>.</td>\n",
       "      <td>China</td>\n",
       "    </tr>\n",
       "  </tbody>\n",
       "</table>\n",
       "<p>9840 rows × 12 columns</p>\n",
       "</div>"
      ],
      "text/plain": [
       "       Peak                                               Name  Year Season  \\\n",
       "170    EVER                  Ang Phurba Sherpa (Thami, Khumbu)  1985    Spr   \n",
       "171    EVER                                    Mitsuyoshi Sato  1985    Aut   \n",
       "172    EVER                             Narayan Kumar Shrestha  1985    Sum   \n",
       "173    EVER  Lhakpa Dorje (Ang Lhakpa) Sherpa (Khunde, Khumbu)  1985    Spr   \n",
       "174    EVER               Pema Dorje Sherpa (Khumjung, Khumbu)  1985    Spr   \n",
       "...     ...                                                ...   ...    ...   \n",
       "10005  EVER                              Phurbu Dhondup (Big)   2020    Spr   \n",
       "10006  EVER                             Fu-Qing (Jing-Yang) Li  2020    Spr   \n",
       "10007  EVER                                    Ci Luo (Tselo)   2020    Spr   \n",
       "10008  EVER                                      Zhou-Ping Cui  2020    Spr   \n",
       "10009  EVER                                        Hong-Zhi Hu  2020    Spr   \n",
       "\n",
       "         Date   Time Citizenship Sex  Age Oxy Dth   Host  \n",
       "170    30-Apr    NaN       Nepal   M   23   Y   .  Nepal  \n",
       "171    30-Oct    NaN       Japan   M   24   Y   .  Nepal  \n",
       "172    28-Aug  18:20       Nepal   M   25   Y   .  China  \n",
       "173    21-Apr  09:30       Nepal   M   26   Y   .  Nepal  \n",
       "174    29-Apr  09:25       Nepal   M   26   Y   .  Nepal  \n",
       "...       ...    ...         ...  ..  ...  ..  ..    ...  \n",
       "10005  27-May    NaN       China   M   43   Y   .  China  \n",
       "10006  27-May    NaN       China   M   43   Y   .  China  \n",
       "10007  27-May    NaN       China   M   45   Y   .  China  \n",
       "10008  28-May    NaN       China   F   45   Y   .  China  \n",
       "10009  28-May    NaN       China   M   57   Y   .  China  \n",
       "\n",
       "[9840 rows x 12 columns]"
      ]
     },
     "execution_count": 3,
     "metadata": {},
     "output_type": "execute_result"
    }
   ],
   "source": [
    "df = df.loc[df.loc[:, 'Year'] >= 1985]\n",
    "df"
   ]
  },
  {
   "cell_type": "markdown",
   "id": "be3236b9",
   "metadata": {},
   "source": [
    "Use linear regression model to determine the number of climbers, N."
   ]
  },
  {
   "cell_type": "code",
   "execution_count": 4,
   "id": "4dc711b7",
   "metadata": {},
   "outputs": [
    {
     "data": {
      "text/plain": [
       "673"
      ]
     },
     "execution_count": 4,
     "metadata": {},
     "output_type": "execute_result"
    }
   ],
   "source": [
    "x_train = df['Year'].unique()\n",
    "x_train = x_train.reshape(-1, 1)\n",
    "groupedDf = df.groupby('Year').count()\n",
    "y_train = groupedDf['Name']\n",
    "\n",
    "\n",
    "regr = sk.LinearRegression()\n",
    "regr.fit(x_train, y_train)\n",
    "N = int(regr.predict(np.array(2022).reshape(1,-1)))\n",
    "N"
   ]
  },
  {
   "cell_type": "markdown",
   "id": "68490c79",
   "metadata": {},
   "source": [
    "We can create a Data Series containing just the age values. It's then possible to use the describe() method to find out the mean and standard deviation of the ages of summitters."
   ]
  },
  {
   "cell_type": "code",
   "execution_count": 5,
   "id": "c6a91a14",
   "metadata": {},
   "outputs": [
    {
     "data": {
      "text/plain": [
       "count    9840.000000\n",
       "mean       35.358841\n",
       "std         9.348445\n",
       "min        13.000000\n",
       "25%        28.000000\n",
       "50%        34.000000\n",
       "75%        41.000000\n",
       "max        80.000000\n",
       "Name: Age, dtype: float64"
      ]
     },
     "execution_count": 5,
     "metadata": {},
     "output_type": "execute_result"
    }
   ],
   "source": [
    "ages = df.loc[:,'Age']\n",
    "ages.describe()"
   ]
  },
  {
   "cell_type": "markdown",
   "id": "fe363342",
   "metadata": {},
   "source": [
    "Plotting a histogram of the age Data Series gives us an idea of the shape of the distribution. This is often the best indicator of what distribution is appropriate when generating synthetic data."
   ]
  },
  {
   "cell_type": "code",
   "execution_count": 6,
   "id": "3f9000c6",
   "metadata": {},
   "outputs": [
    {
     "data": {
      "text/plain": [
       "(array([ 149., 1603., 2858., 2179., 1814.,  828.,  296.,   93.,   17.,\n",
       "           3.]),\n",
       " array([13. , 19.7, 26.4, 33.1, 39.8, 46.5, 53.2, 59.9, 66.6, 73.3, 80. ]),\n",
       " <BarContainer object of 10 artists>)"
      ]
     },
     "execution_count": 6,
     "metadata": {},
     "output_type": "execute_result"
    },
    {
     "data": {
      "image/png": "[encoded data removed]",
      "text/plain": [
       "<Figure size 432x288 with 1 Axes>"
      ]
     },
     "metadata": {
      "needs_background": "light"
     },
     "output_type": "display_data"
    }
   ],
   "source": [
    "plt.hist(ages, bins=10)"
   ]
  },
  {
   "cell_type": "markdown",
   "id": "754b2f9e",
   "metadata": {},
   "source": [
    "This histogram looks relatively normally distributed. We can try generating a dataset using the mean and standard deviation of the ages Data Series."
   ]
  },
  {
   "cell_type": "code",
   "execution_count": 7,
   "id": "62ffa016",
   "metadata": {},
   "outputs": [
    {
     "name": "stdout",
     "output_type": "stream",
     "text": [
      "[26.34209737 50.28020339 68.95092687 46.39391634 48.09680075 41.23872607\n",
      " 37.43329304 21.51263108 19.53107482 43.03490873 50.81205325 50.91550688\n",
      " 27.4293727  34.70367744 30.62960953 49.9211589  42.8771802  33.37754852\n",
      " 38.63993049 36.9983358  48.50030397 44.61872711 35.09625783 36.54346676\n",
      " 29.20133434 29.37408267 41.29753385 34.96426665 28.20642076 28.40323033\n",
      " 37.60599378 26.13879062 42.30400419 58.89750654 23.44843647 40.56707959\n",
      " 40.06024092 31.89812617 31.64464147 35.22396533 39.03513324 40.61992554\n",
      " 25.27080504 43.29526112 39.49076413 43.70508014 31.94512004 47.08589243\n",
      " 46.97883562 27.02526602 39.91163067 62.51507842 35.1675185  55.71451425\n",
      " 48.23355944 25.81230657 39.63754763 31.5598738  36.54035178 33.63831209\n",
      " 22.75451449 19.81416289 42.61252141 29.90422014 35.16988217 22.97440431\n",
      " 33.3243736  36.73810346 38.37663872 48.25837891 47.11506204 53.12424071\n",
      " 27.78866155 45.36726709 28.17120664 40.13289336 35.09146009 30.88878578\n",
      " 33.67709653 24.48901109 18.33518674 47.61517779 23.06153111 38.72619469\n",
      " 27.10635383 38.65211186 22.27179659 28.8297758  27.20699918  6.88319727\n",
      " 16.79292636 29.97192452 33.85766561 31.48148201 24.27752007 25.71898893\n",
      " 40.29792103 26.22212388 37.29699088 34.07172865 46.54332466 21.84732995\n",
      " 27.35011044 42.37895798 31.06974865 37.6657475  40.11077142 37.22969285\n",
      " 37.04336274 30.71492054 39.10758398 29.69698862 43.91664794 46.56155231\n",
      " 35.16140111 39.72197162 38.72093889 24.50258502 21.34846632 37.73496055\n",
      " 29.40588213 38.41938307 39.89474713 41.88658004 39.47116794 36.71481573\n",
      " 42.00871716 30.40616293 41.54082296 42.37702763 45.92020448 37.99390527\n",
      " 39.70107479 25.83741237 36.58835702 22.44236341 31.98116274 33.45458106\n",
      " 40.96524699 40.69888471 36.51231159 32.03577218 25.92630006 43.12795377\n",
      " 26.74343813 32.65810193 47.79284244 30.01772113 35.16997574 22.10818371\n",
      " 31.97476527 44.45836313 34.54419449 18.50201297 39.4146349  32.55782714\n",
      " 43.42518821 11.98570603 39.53676749 43.45645702 26.52577472 31.79951326\n",
      " 25.95317908 34.42001479 35.13045075 40.60138702 58.5597448  32.29839673\n",
      " 54.90283721 36.65609541 19.21756311 39.11209254 27.47628097 31.00059929\n",
      " 31.91615487 42.07483169 51.77940206 48.42259691 21.98888942 29.84988091\n",
      " 19.55372586 28.94179928 39.9183476  32.34341028 23.20784373 26.44398991\n",
      " 32.29341388 34.57746127 19.89182268 46.84341459 39.06885283 28.75578196\n",
      " 35.37871504  5.93338386 34.37000643 36.97018042 23.25794657 26.54489288\n",
      " 26.71228792 45.87385167 21.59792247 25.39704283 26.28523872 32.73043656\n",
      " 34.83442034 24.87164664 39.21836245 36.23481582 49.86510428 31.08554787\n",
      " 51.20922662 34.84463006 25.93344902 20.54445298 28.91658511 35.29273588\n",
      " 31.76200279 44.58487969 27.20309146 31.38221082 37.30147372 25.16087378\n",
      " 29.36705466 45.83862086 32.69081041 30.01871497 26.08202299 32.94341622\n",
      " 20.50014923 51.57331461 33.14161725 37.50805791 22.90966138 45.85845307\n",
      " 31.42942996 39.94095153 24.98651703 42.26629836 47.22672638 40.08298957\n",
      " 39.00895937 36.38238793 21.50755359 36.88954326 18.50697794 25.1127218\n",
      " 33.07127674 38.62589428 25.61402492 35.73381414 42.77584158 17.26523893\n",
      " 30.66488294 24.46023942 11.77573085 30.87139137 41.51298481 29.27341544\n",
      " 43.23943646 20.29531613 36.73536528 19.10458727 44.90157809 42.43708092\n",
      " 32.81774667 42.19587336 35.46644457 43.97835767 11.31317766 40.47678982\n",
      " 26.62340695 43.49232896 29.36604414 43.34542038 29.00347103 37.88345777\n",
      " 52.11590145 38.45094453 45.07339409 29.18814636 40.88029831 45.41174397\n",
      " 47.51202218 28.69375588 34.93078903 30.06000497 22.45017985 32.87294117\n",
      " 28.31398869 46.15150442 29.31854706 48.00836533 38.06600061 44.34576297\n",
      " 49.42374398 41.56041125 45.53892965 34.06674541 33.1290076  32.78918974\n",
      " 37.48339646 27.61292093 32.71541146 31.44421923 37.92876646 39.91368238\n",
      " 37.45678706 29.18674188 43.94883784 29.35088402 22.69087299 27.30431618\n",
      " 44.08410651 57.72475398 45.02233494 38.98735971 36.19215055 42.27776929\n",
      " 23.14037018 34.78631131 34.19449537 35.74682365 44.67279505 28.82102389\n",
      " 36.68141209 35.2963125  30.47656257 33.66302872 59.33304903 32.87027448\n",
      " 43.11403415 36.98997909 46.38623165 26.2298615  34.00150976 39.0351834\n",
      " 36.70442396 32.368298   32.64013126 28.52168604 45.68372705 43.17790657\n",
      " 13.71954447 61.02285673 32.39804569 47.85500912 51.55494998 42.51099024\n",
      " 56.89681445 35.18725449 35.28530506 46.97450096 30.64927207 31.48900162\n",
      " 22.19114848 25.28986356 54.22446957 53.23757572 43.38441852 21.71329936\n",
      " 32.11519226 42.24374637 29.22275336 35.99747895 42.47575987 56.06265866\n",
      " 30.17112327 30.21372635 29.24712624 29.26204137 32.47676961 32.48433139\n",
      " 35.88247462 34.89145365 43.47209663 36.07132176 36.56819915 36.05295213\n",
      " 20.69652703 45.94886679 26.32985531 37.37591805  9.14953097 39.97673216\n",
      " 35.54933899 50.62594822 45.50535384 30.4538159  34.13257924 40.26204276\n",
      " 45.95955392 31.34185898 42.21926533 19.6288714  40.8286989  21.40828038\n",
      " 20.32657542 34.60964389 19.66757163 34.74402342 22.93221714 32.90558943\n",
      " 31.36295338 21.90890444 41.09663943 42.61946296 37.08199888 25.32998055\n",
      " 29.79487484 45.03572203 34.52622066 31.17083937 37.70748726 16.88848815\n",
      " 35.90991561 36.87342284 31.91612823 27.25555216 37.8938457  34.86299999\n",
      " 27.46045392 42.46135276 39.56574164 25.76758579 37.12214827 42.85711651\n",
      " 35.30188584 36.88024151 42.41554963 45.41079796 19.57221201 29.00607654\n",
      " 32.91602659 40.57635639 51.38775612 52.2995324  34.10666851 31.58855969\n",
      " 33.31333116 39.59971451 53.44794413 34.21277357 58.78372543 42.50992861\n",
      " 28.55502286 29.19107353 18.95851681 37.73371777 42.99437538 33.1531791\n",
      " 48.06637667 48.81273563 48.15822534 37.11108303 29.90112515 50.8942256\n",
      " 48.35230311 27.06335991 50.36317066 34.33149364 37.39969102 39.06743615\n",
      " 28.08832823 25.23066163 35.09067299 27.62995529 18.68137767 18.67690166\n",
      " 32.22985153 42.457315   32.88027503 23.57621601 34.17586966 26.62259337\n",
      " 37.21092184 45.69973976 12.76211402 53.27589735 42.52320002 37.43482172\n",
      " 21.10651029 27.4268296  24.0833623  49.63986719 42.37110829 36.34583726\n",
      " 48.0846434  15.73270231 37.6445741  31.06585696 34.86858173 44.34372176\n",
      " 46.85955448 39.83598592 28.71871811 39.4496219  54.21818148 37.24341047\n",
      " 26.25730474 48.2137593  39.44423432 27.76903833 34.60461487 41.78866831\n",
      " 24.69466999 38.16251235 34.40856234 25.75729706 40.06973971 40.01256213\n",
      " 38.73127769 30.9210256  29.49712905 37.11021101 32.64077429 36.45576568\n",
      " 30.38205859 23.12865316 31.48223114 40.86344203 48.17735705 24.37248339\n",
      " 27.334239   38.21268978 40.71133115 49.12202642 42.23858405 23.12385577\n",
      " 32.80778185 42.3778944  42.27094341 26.3400631  23.48226858 31.32915832\n",
      " 39.04172212 33.58708502 35.38375347 35.16913429 31.01531334 12.14995346\n",
      " 36.52793492 50.85585244 35.67803241 48.25456468 36.00933298 29.52742963\n",
      " 23.59421583 31.33016024 25.97353172 48.72011251 40.02479345 45.87800242\n",
      "  4.57179632 41.51295619 38.16854664 41.38518549 50.48821997 17.75221312\n",
      " 44.50777731 47.40876289 32.95881056 25.80516783 30.45606712 40.18890124\n",
      " 26.86498614 44.48529851 31.9310892  42.27537366 48.59130238 36.5825646\n",
      " 42.9277927  30.85600134 45.20518858 55.16238131 25.7816117  18.21359905\n",
      " 27.19421618 24.71738231 29.30785275 26.9554285  37.288279   31.78776096\n",
      " 37.51302686 32.34118837 35.34676798 36.27273166 36.89385707 48.97010023\n",
      " 46.18151907 29.83005139 36.02252959 39.92734769 27.33256961 24.50846032\n",
      " 22.68560955 30.04813739 22.48338103 42.85827769 37.68996607 28.64285847\n",
      " 26.80614844 39.30057345 31.01278884 41.0313994  51.4327186  14.52753605\n",
      " 30.7695448  36.79070162 46.85655372 18.86138477 22.87121583 51.40590415\n",
      " 39.08908248 33.99680319 55.14834744 30.46624309 31.94273287 38.134134\n",
      " 28.11672244 43.36388038 19.1432503  22.47397206 26.22681305 34.71203964\n",
      " 34.3243611  26.81059131 25.01298334 41.01251827 54.06866383 45.13905599\n",
      " 34.0263754  31.73153996 25.13222386 51.74606665 26.70499905 25.10644283\n",
      " 32.22225336 35.73495682 20.04031077 45.36297468 41.16154713 35.46180185\n",
      " 46.80238935 46.5636766  32.49188092 21.96713814 44.75517422 49.7811824\n",
      " 56.34067329 29.62622655 29.04449161 29.19362765 47.16467847 39.3043155\n",
      " 20.46295245 20.78392539  7.00073989 31.60540476 49.25502869 31.60451697\n",
      " 23.09774446 55.58952123 51.18495014 36.79080309 19.64776953 38.98390514\n",
      " 39.54842646 28.18767381 40.03679754 44.28513775 31.74033327 43.06874666\n",
      " 41.63162504]\n"
     ]
    },
    {
     "data": {
      "text/plain": [
       "(array([  5.,  11.,  64., 126., 175., 159.,  87.,  36.,   8.,   2.]),\n",
       " array([ 4.57179632, 11.00970937, 17.44762243, 23.88553548, 30.32344854,\n",
       "        36.76136159, 43.19927465, 49.6371877 , 56.07510076, 62.51301381,\n",
       "        68.95092687]),\n",
       " <BarContainer object of 10 artists>)"
      ]
     },
     "execution_count": 7,
     "metadata": {},
     "output_type": "execute_result"
    },
    {
     "data": {
      "image/png": "[encoded data removed]",
      "text/plain": [
       "<Figure size 432x288 with 1 Axes>"
      ]
     },
     "metadata": {
      "needs_background": "light"
     },
     "output_type": "display_data"
    }
   ],
   "source": [
    "rng = np.random.default_rng()\n",
    "vals = rng.normal(loc = ages.mean(), scale = ages.std(), size = N)\n",
    "print(vals)\n",
    "plt.hist(vals, bins=10)"
   ]
  },
  {
   "cell_type": "markdown",
   "id": "92d5690a",
   "metadata": {},
   "source": [
    "This appears to be a relatively close approximation of the age Data Series so we will use the variable vals to synthesise age data. Next we consider the probability that a summitter climbed without oxygen. "
   ]
  },
  {
   "cell_type": "code",
   "execution_count": 8,
   "id": "c5972c02",
   "metadata": {},
   "outputs": [
    {
     "data": {
      "text/html": [
       "<div>\n",
       "<style scoped>\n",
       "    .dataframe tbody tr th:only-of-type {\n",
       "        vertical-align: middle;\n",
       "    }\n",
       "\n",
       "    .dataframe tbody tr th {\n",
       "        vertical-align: top;\n",
       "    }\n",
       "\n",
       "    .dataframe thead th {\n",
       "        text-align: right;\n",
       "    }\n",
       "</style>\n",
       "<table border=\"1\" class=\"dataframe\">\n",
       "  <thead>\n",
       "    <tr style=\"text-align: right;\">\n",
       "      <th></th>\n",
       "      <th>Peak</th>\n",
       "      <th>Name</th>\n",
       "      <th>Year</th>\n",
       "      <th>Season</th>\n",
       "      <th>Date</th>\n",
       "      <th>Time</th>\n",
       "      <th>Citizenship</th>\n",
       "      <th>Sex</th>\n",
       "      <th>Age</th>\n",
       "      <th>Oxy</th>\n",
       "      <th>Dth</th>\n",
       "      <th>Host</th>\n",
       "    </tr>\n",
       "  </thead>\n",
       "  <tbody>\n",
       "    <tr>\n",
       "      <th>190</th>\n",
       "      <td>EVER</td>\n",
       "      <td>Noboru Yamada</td>\n",
       "      <td>1985</td>\n",
       "      <td>Aut</td>\n",
       "      <td>30-Oct</td>\n",
       "      <td>10:00</td>\n",
       "      <td>Japan</td>\n",
       "      <td>M</td>\n",
       "      <td>35</td>\n",
       "      <td>No</td>\n",
       "      <td>.</td>\n",
       "      <td>Nepal</td>\n",
       "    </tr>\n",
       "    <tr>\n",
       "      <th>191</th>\n",
       "      <td>EVER</td>\n",
       "      <td>Ang Rita Sherpa (Yilajung, Khumbu)</td>\n",
       "      <td>1985</td>\n",
       "      <td>Spr</td>\n",
       "      <td>29-Apr</td>\n",
       "      <td>09:25</td>\n",
       "      <td>Nepal</td>\n",
       "      <td>M</td>\n",
       "      <td>36</td>\n",
       "      <td>No</td>\n",
       "      <td>.</td>\n",
       "      <td>Nepal</td>\n",
       "    </tr>\n",
       "    <tr>\n",
       "      <th>200</th>\n",
       "      <td>EVER</td>\n",
       "      <td>Erhard Loretan</td>\n",
       "      <td>1986</td>\n",
       "      <td>Sum</td>\n",
       "      <td>30-Aug</td>\n",
       "      <td>14:30</td>\n",
       "      <td>Switzerland</td>\n",
       "      <td>M</td>\n",
       "      <td>27</td>\n",
       "      <td>No</td>\n",
       "      <td>.</td>\n",
       "      <td>China</td>\n",
       "    </tr>\n",
       "    <tr>\n",
       "      <th>203</th>\n",
       "      <td>EVER</td>\n",
       "      <td>Jean Fernand Troillet</td>\n",
       "      <td>1986</td>\n",
       "      <td>Sum</td>\n",
       "      <td>30-Aug</td>\n",
       "      <td>14:30</td>\n",
       "      <td>Switzerland</td>\n",
       "      <td>M</td>\n",
       "      <td>38</td>\n",
       "      <td>No</td>\n",
       "      <td>.</td>\n",
       "      <td>China</td>\n",
       "    </tr>\n",
       "    <tr>\n",
       "      <th>205</th>\n",
       "      <td>EVER</td>\n",
       "      <td>Ang Rita Sherpa (Yilajung, Khumbu)</td>\n",
       "      <td>1987</td>\n",
       "      <td>Win</td>\n",
       "      <td>22-Dec</td>\n",
       "      <td>14:20</td>\n",
       "      <td>Nepal</td>\n",
       "      <td>M</td>\n",
       "      <td>39</td>\n",
       "      <td>No</td>\n",
       "      <td>.</td>\n",
       "      <td>Nepal</td>\n",
       "    </tr>\n",
       "  </tbody>\n",
       "</table>\n",
       "</div>"
      ],
      "text/plain": [
       "     Peak                                Name  Year Season    Date   Time  \\\n",
       "190  EVER                       Noboru Yamada  1985    Aut  30-Oct  10:00   \n",
       "191  EVER  Ang Rita Sherpa (Yilajung, Khumbu)  1985    Spr  29-Apr  09:25   \n",
       "200  EVER                      Erhard Loretan  1986    Sum  30-Aug  14:30   \n",
       "203  EVER               Jean Fernand Troillet  1986    Sum  30-Aug  14:30   \n",
       "205  EVER  Ang Rita Sherpa (Yilajung, Khumbu)  1987    Win  22-Dec  14:20   \n",
       "\n",
       "     Citizenship Sex  Age Oxy Dth   Host  \n",
       "190        Japan   M   35  No   .  Nepal  \n",
       "191        Nepal   M   36  No   .  Nepal  \n",
       "200  Switzerland   M   27  No   .  China  \n",
       "203  Switzerland   M   38  No   .  China  \n",
       "205        Nepal   M   39  No   .  Nepal  "
      ]
     },
     "execution_count": 8,
     "metadata": {},
     "output_type": "execute_result"
    }
   ],
   "source": [
    "noOxygen = df.loc[df.loc[:,'Oxy'] == 'No']\n",
    "noOxygen.head()"
   ]
  },
  {
   "cell_type": "code",
   "execution_count": 9,
   "id": "a97a2696",
   "metadata": {},
   "outputs": [
    {
     "data": {
      "text/plain": [
       "9840"
      ]
     },
     "execution_count": 9,
     "metadata": {},
     "output_type": "execute_result"
    }
   ],
   "source": [
    "noOxPotential = df.Age.count() \n",
    "noOxPotential"
   ]
  },
  {
   "cell_type": "markdown",
   "id": "6df29453",
   "metadata": {},
   "source": [
    "We can look at the historical data to get an idea of the probability that a climber will not use oxygen in their attempt. We can count the number of climbers in total who have used oxygen and divide it by the total number of summitters. We can use this probability with the binomial distribution to generate our synthetic data on oxygen use."
   ]
  },
  {
   "cell_type": "code",
   "execution_count": 10,
   "id": "f7b4c592",
   "metadata": {},
   "outputs": [
    {
     "data": {
      "text/plain": [
       "0.019715447154471544"
      ]
     },
     "execution_count": 10,
     "metadata": {},
     "output_type": "execute_result"
    }
   ],
   "source": [
    "noOxProbability = noOxygen.Age.count() / noOxPotential\n",
    "noOxProbability"
   ]
  },
  {
   "cell_type": "markdown",
   "id": "9fca42bd",
   "metadata": {},
   "source": [
    "Calculate use of oxygen synthetic data"
   ]
  },
  {
   "cell_type": "code",
   "execution_count": 11,
   "id": "b8f199d5",
   "metadata": {},
   "outputs": [
    {
     "name": "stdout",
     "output_type": "stream",
     "text": [
      "[0, 0, 0, 0, 0, 0, 0, 0, 0, 0, 0, 0, 0, 0, 0, 0, 0, 0, 0, 0, 0, 0, 0, 0, 0, 0, 0, 0, 0, 0, 0, 0, 0, 0, 0, 0, 0, 0, 0, 1, 0, 0, 0, 0, 0, 0, 0, 0, 0, 0, 0, 0, 0, 0, 0, 0, 0, 0, 0, 0, 0, 0, 0, 0, 0, 0, 0, 0, 0, 0, 0, 0, 0, 0, 0, 0, 0, 0, 0, 0, 0, 0, 0, 0, 0, 0, 0, 0, 0, 0, 0, 0, 0, 0, 0, 0, 0, 0, 0, 0, 0, 0, 1, 0, 0, 0, 0, 0, 0, 0, 0, 0, 0, 0, 0, 0, 0, 0, 0, 0, 0, 0, 0, 0, 0, 1, 0, 0, 0, 0, 0, 0, 0, 0, 0, 0, 0, 0, 0, 0, 0, 0, 0, 0, 0, 0, 0, 0, 0, 0, 0, 0, 0, 0, 0, 0, 0, 0, 0, 0, 0, 0, 0, 0, 0, 0, 0, 0, 0, 0, 0, 0, 0, 0, 0, 0, 0, 0, 0, 0, 0, 0, 0, 0, 0, 0, 0, 0, 0, 0, 0, 0, 0, 0, 0, 0, 0, 0, 0, 0, 0, 0, 0, 0, 0, 0, 0, 0, 0, 0, 0, 0, 0, 0, 0, 0, 0, 0, 0, 0, 0, 1, 0, 0, 0, 0, 0, 0, 1, 0, 0, 0, 0, 0, 0, 0, 0, 0, 0, 0, 0, 0, 0, 0, 0, 0, 0, 0, 0, 0, 0, 0, 0, 0, 0, 0, 0, 0, 0, 0, 0, 0, 0, 0, 0, 0, 0, 0, 0, 0, 0, 0, 0, 0, 0, 0, 0, 0, 0, 0, 0, 1, 0, 0, 0, 0, 0, 0, 0, 0, 0, 0, 0, 0, 0, 0, 0, 0, 0, 1, 0, 0, 0, 0, 0, 0, 0, 0, 0, 0, 0, 0, 0, 0, 0, 0, 0, 0, 0, 0, 0, 0, 0, 0, 0, 0, 0, 0, 0, 0, 0, 0, 0, 0, 0, 0, 0, 0, 0, 0, 0, 0, 0, 0, 0, 0, 0, 0, 0, 0, 0, 0, 0, 0, 0, 0, 0, 0, 0, 0, 0, 0, 0, 0, 0, 0, 0, 0, 0, 0, 0, 0, 0, 0, 0, 0, 0, 0, 0, 0, 0, 0, 1, 0, 0, 0, 0, 0, 0, 0, 0, 0, 0, 0, 0, 0, 0, 0, 0, 0, 0, 0, 0, 0, 0, 0, 0, 0, 0, 0, 0, 0, 0, 0, 0, 0, 0, 0, 0, 0, 0, 0, 0, 1, 0, 0, 0, 0, 0, 0, 0, 0, 0, 0, 0, 0, 0, 0, 0, 0, 0, 0, 0, 0, 0, 0, 0, 0, 0, 0, 0, 0, 0, 0, 0, 0, 0, 1, 0, 0, 0, 0, 0, 0, 0, 0, 0, 0, 0, 0, 0, 0, 0, 1, 0, 0, 0, 0, 0, 0, 0, 0, 0, 0, 0, 0, 0, 0, 0, 0, 0, 0, 0, 0, 0, 0, 0, 0, 0, 0, 0, 0, 0, 0, 0, 0, 0, 0, 0, 0, 0, 0, 0, 0, 1, 0, 0, 0, 1, 0, 0, 0, 0, 0, 0, 0, 0, 0, 0, 0, 0, 0, 0, 0, 0, 0, 0, 0, 0, 0, 0, 0, 0, 0, 0, 0, 0, 0, 0, 0, 0, 0, 0, 0, 0, 0, 0, 0, 0, 0, 0, 0, 0, 0, 0, 0, 0, 0, 0, 0, 0, 0, 0, 0, 0, 0, 0, 0, 0, 0, 0, 0, 0, 0, 0, 0, 0, 0, 0, 0, 0, 0, 0, 0, 0, 0, 0, 0, 0, 0, 0, 0, 0, 0, 0, 0, 0, 0, 0, 0, 0, 0, 0, 0, 0, 0, 0, 0, 0, 0, 0, 0, 0, 0, 0, 0, 0, 0, 0, 0, 0, 0, 0, 0, 0, 0, 0, 0, 0, 0, 0, 0, 0, 0, 0, 1, 0, 0, 0, 0, 0, 0, 0, 0, 0, 0, 0, 0, 0, 1, 0, 0, 0, 0, 0, 0, 0, 0, 0, 0, 0, 0, 0]\n"
     ]
    }
   ],
   "source": [
    "oxUse = []\n",
    "for a in vals:\n",
    "    synNoOx = rng.binomial(1, noOxProbability)\n",
    "    oxUse.append(synNoOx)\n",
    "print(oxUse)"
   ]
  },
  {
   "cell_type": "markdown",
   "id": "8da5894e",
   "metadata": {},
   "source": [
    "Next we calculate the probabilities of climbing in each season."
   ]
  },
  {
   "cell_type": "code",
   "execution_count": 12,
   "id": "9195767c",
   "metadata": {},
   "outputs": [
    {
     "data": {
      "text/plain": [
       "[0.9761178861788617,\n",
       " 0.0008130081300813008,\n",
       " 0.02225609756097561,\n",
       " 0.0008130081300813008]"
      ]
     },
     "execution_count": 12,
     "metadata": {},
     "output_type": "execute_result"
    }
   ],
   "source": [
    "sprCount = df.loc[df.loc[:,'Season'] == 'Spr'].Season.count()\n",
    "sumCount = df.loc[df.loc[:,'Season'] == 'Sum'].Season.count()\n",
    "autCount = df.loc[df.loc[:,'Season'] == 'Aut'].Season.count()\n",
    "winCount = df.loc[df.loc[:,'Season'] == 'Win'].Season.count()\n",
    "\n",
    "sprProb = sprCount / df.Season.count()\n",
    "sumProb = sumCount / df.Season.count()\n",
    "autProb = autCount / df.Season.count()\n",
    "winProb = winCount / df.Season.count()\n",
    "\n",
    "seasProbs = [sprProb, sumProb, autProb, winProb]\n",
    "seasProbs"
   ]
  },
  {
   "cell_type": "markdown",
   "id": "bb8afc33",
   "metadata": {},
   "source": [
    "Generate a set of seasons chosen by each climber in the synthetic dataset. We can use the choices method from the random package, with the probabilities above as the weights, to determine a synthetic dataset reflective of the general choices of climbers. It will be heavily dominated by spring but should a couple of attempts in the autumn. Summer and winter are unlikely to feature unless the size of the dataset, N, is quite large."
   ]
  },
  {
   "cell_type": "code",
   "execution_count": 13,
   "id": "283bc9b9",
   "metadata": {},
   "outputs": [
    {
     "name": "stdout",
     "output_type": "stream",
     "text": [
      "['Spr', 'Spr', 'Spr', 'Spr', 'Spr', 'Spr', 'Spr', 'Spr', 'Spr', 'Spr', 'Spr', 'Spr', 'Spr', 'Spr', 'Spr', 'Spr', 'Spr', 'Spr', 'Spr', 'Spr', 'Spr', 'Spr', 'Spr', 'Spr', 'Spr', 'Spr', 'Spr', 'Spr', 'Aut', 'Spr', 'Spr', 'Spr', 'Spr', 'Spr', 'Spr', 'Spr', 'Spr', 'Spr', 'Spr', 'Spr', 'Spr', 'Spr', 'Spr', 'Spr', 'Spr', 'Spr', 'Spr', 'Spr', 'Spr', 'Spr', 'Spr', 'Spr', 'Spr', 'Spr', 'Spr', 'Spr', 'Spr', 'Spr', 'Spr', 'Spr', 'Spr', 'Spr', 'Spr', 'Spr', 'Spr', 'Spr', 'Spr', 'Spr', 'Spr', 'Spr', 'Spr', 'Spr', 'Spr', 'Spr', 'Spr', 'Spr', 'Spr', 'Spr', 'Spr', 'Spr', 'Spr', 'Spr', 'Spr', 'Spr', 'Spr', 'Spr', 'Spr', 'Spr', 'Spr', 'Spr', 'Aut', 'Spr', 'Spr', 'Spr', 'Spr', 'Spr', 'Spr', 'Spr', 'Spr', 'Spr', 'Spr', 'Spr', 'Spr', 'Spr', 'Spr', 'Spr', 'Spr', 'Spr', 'Spr', 'Spr', 'Spr', 'Spr', 'Spr', 'Spr', 'Spr', 'Spr', 'Aut', 'Spr', 'Spr', 'Spr', 'Spr', 'Spr', 'Spr', 'Spr', 'Spr', 'Spr', 'Spr', 'Spr', 'Spr', 'Spr', 'Spr', 'Spr', 'Spr', 'Spr', 'Spr', 'Spr', 'Spr', 'Spr', 'Spr', 'Spr', 'Spr', 'Spr', 'Spr', 'Spr', 'Spr', 'Aut', 'Spr', 'Spr', 'Spr', 'Spr', 'Spr', 'Spr', 'Spr', 'Spr', 'Spr', 'Spr', 'Spr', 'Spr', 'Spr', 'Spr', 'Spr', 'Spr', 'Spr', 'Spr', 'Aut', 'Spr', 'Spr', 'Spr', 'Spr', 'Spr', 'Spr', 'Spr', 'Spr', 'Spr', 'Spr', 'Spr', 'Spr', 'Spr', 'Spr', 'Spr', 'Spr', 'Spr', 'Spr', 'Spr', 'Spr', 'Spr', 'Spr', 'Spr', 'Spr', 'Spr', 'Spr', 'Spr', 'Spr', 'Spr', 'Spr', 'Spr', 'Spr', 'Spr', 'Spr', 'Spr', 'Spr', 'Spr', 'Spr', 'Spr', 'Spr', 'Spr', 'Spr', 'Spr', 'Spr', 'Spr', 'Spr', 'Spr', 'Spr', 'Spr', 'Spr', 'Spr', 'Spr', 'Spr', 'Spr', 'Spr', 'Spr', 'Spr', 'Spr', 'Spr', 'Spr', 'Spr', 'Spr', 'Spr', 'Spr', 'Spr', 'Spr', 'Spr', 'Spr', 'Spr', 'Spr', 'Spr', 'Spr', 'Spr', 'Spr', 'Spr', 'Spr', 'Spr', 'Spr', 'Spr', 'Spr', 'Spr', 'Spr', 'Spr', 'Spr', 'Spr', 'Spr', 'Spr', 'Spr', 'Spr', 'Spr', 'Spr', 'Spr', 'Spr', 'Spr', 'Spr', 'Spr', 'Spr', 'Spr', 'Spr', 'Spr', 'Spr', 'Spr', 'Spr', 'Spr', 'Spr', 'Spr', 'Spr', 'Spr', 'Spr', 'Spr', 'Spr', 'Spr', 'Spr', 'Spr', 'Spr', 'Spr', 'Spr', 'Spr', 'Spr', 'Spr', 'Spr', 'Spr', 'Spr', 'Spr', 'Spr', 'Spr', 'Spr', 'Spr', 'Spr', 'Spr', 'Spr', 'Spr', 'Spr', 'Spr', 'Spr', 'Spr', 'Spr', 'Spr', 'Spr', 'Spr', 'Spr', 'Spr', 'Spr', 'Aut', 'Spr', 'Spr', 'Spr', 'Spr', 'Spr', 'Spr', 'Spr', 'Spr', 'Spr', 'Spr', 'Spr', 'Spr', 'Spr', 'Spr', 'Spr', 'Spr', 'Spr', 'Spr', 'Spr', 'Spr', 'Spr', 'Spr', 'Spr', 'Spr', 'Spr', 'Spr', 'Spr', 'Spr', 'Spr', 'Spr', 'Spr', 'Spr', 'Spr', 'Aut', 'Aut', 'Spr', 'Spr', 'Spr', 'Spr', 'Spr', 'Spr', 'Spr', 'Spr', 'Spr', 'Spr', 'Spr', 'Spr', 'Spr', 'Spr', 'Spr', 'Spr', 'Spr', 'Spr', 'Spr', 'Spr', 'Spr', 'Spr', 'Aut', 'Spr', 'Spr', 'Spr', 'Spr', 'Spr', 'Spr', 'Spr', 'Spr', 'Spr', 'Spr', 'Spr', 'Spr', 'Spr', 'Spr', 'Spr', 'Spr', 'Spr', 'Spr', 'Spr', 'Spr', 'Spr', 'Spr', 'Spr', 'Spr', 'Spr', 'Spr', 'Spr', 'Spr', 'Spr', 'Spr', 'Spr', 'Spr', 'Spr', 'Spr', 'Spr', 'Spr', 'Spr', 'Spr', 'Spr', 'Spr', 'Spr', 'Spr', 'Spr', 'Spr', 'Spr', 'Spr', 'Spr', 'Spr', 'Spr', 'Spr', 'Spr', 'Spr', 'Spr', 'Spr', 'Spr', 'Spr', 'Spr', 'Spr', 'Spr', 'Spr', 'Spr', 'Spr', 'Spr', 'Spr', 'Spr', 'Spr', 'Spr', 'Spr', 'Spr', 'Spr', 'Spr', 'Spr', 'Spr', 'Spr', 'Spr', 'Spr', 'Spr', 'Spr', 'Spr', 'Spr', 'Spr', 'Spr', 'Spr', 'Spr', 'Spr', 'Spr', 'Spr', 'Spr', 'Spr', 'Spr', 'Spr', 'Spr', 'Spr', 'Spr', 'Spr', 'Spr', 'Spr', 'Spr', 'Spr', 'Spr', 'Spr', 'Spr', 'Spr', 'Spr', 'Spr', 'Spr', 'Spr', 'Spr', 'Spr', 'Spr', 'Spr', 'Spr', 'Spr', 'Spr', 'Spr', 'Spr', 'Spr', 'Spr', 'Spr', 'Spr', 'Spr', 'Spr', 'Spr', 'Spr', 'Spr', 'Spr', 'Spr', 'Spr', 'Spr', 'Spr', 'Spr', 'Spr', 'Spr', 'Spr', 'Spr', 'Spr', 'Spr', 'Spr', 'Spr', 'Spr', 'Spr', 'Spr', 'Spr', 'Spr', 'Spr', 'Spr', 'Spr', 'Spr', 'Spr', 'Spr', 'Spr', 'Spr', 'Spr', 'Spr', 'Spr', 'Spr', 'Spr', 'Spr', 'Spr', 'Spr', 'Spr', 'Spr', 'Spr', 'Spr', 'Spr', 'Spr', 'Spr', 'Spr', 'Spr', 'Spr', 'Aut', 'Spr', 'Spr', 'Spr', 'Spr', 'Spr', 'Spr', 'Spr', 'Spr', 'Spr', 'Spr', 'Spr', 'Spr', 'Spr', 'Spr', 'Spr', 'Spr', 'Spr', 'Spr', 'Spr', 'Spr', 'Spr', 'Spr', 'Spr', 'Spr', 'Spr', 'Spr', 'Spr', 'Spr', 'Spr', 'Spr', 'Spr', 'Spr', 'Spr', 'Spr', 'Spr', 'Spr', 'Spr', 'Spr', 'Spr', 'Spr', 'Spr', 'Spr', 'Spr', 'Spr', 'Spr', 'Spr', 'Spr', 'Spr', 'Spr', 'Spr', 'Spr', 'Spr', 'Spr', 'Spr', 'Spr', 'Spr', 'Spr', 'Spr', 'Spr', 'Spr', 'Spr', 'Spr', 'Aut', 'Spr', 'Spr', 'Spr', 'Spr', 'Spr', 'Spr', 'Spr', 'Spr', 'Spr', 'Spr', 'Spr', 'Spr', 'Spr', 'Spr', 'Spr', 'Spr', 'Spr', 'Aut', 'Spr', 'Spr', 'Spr', 'Spr', 'Spr', 'Spr', 'Spr', 'Aut', 'Spr', 'Spr', 'Spr', 'Spr', 'Spr', 'Spr', 'Spr', 'Spr', 'Spr', 'Spr', 'Spr', 'Spr', 'Spr', 'Spr', 'Spr', 'Spr', 'Spr', 'Spr', 'Spr', 'Spr', 'Spr', 'Spr', 'Spr', 'Spr', 'Spr', 'Spr', 'Spr', 'Spr', 'Spr', 'Spr', 'Spr', 'Spr', 'Spr', 'Spr', 'Spr', 'Spr', 'Aut', 'Spr', 'Spr', 'Spr', 'Spr', 'Spr', 'Spr', 'Spr', 'Spr', 'Spr']\n"
     ]
    }
   ],
   "source": [
    "seas = ['Spr', 'Sum', 'Aut', 'Win']\n",
    "seasList = []\n",
    "\n",
    "for i in range(0, N):\n",
    "    seasChoice = random.choices(seas, weights=seasProbs)\n",
    "    seasList.append(seasChoice[0])\n",
    "\n",
    "print(seasList)"
   ]
  },
  {
   "cell_type": "markdown",
   "id": "659566a3",
   "metadata": {},
   "source": [
    "Calculate the probabilities of surviving for summitting in each season with and without oxygen. Again we will use these probabilities with the binomial distribution as we are considering a binary choice, either surviving or not."
   ]
  },
  {
   "cell_type": "code",
   "execution_count": 14,
   "id": "78623522",
   "metadata": {},
   "outputs": [
    {
     "name": "stdout",
     "output_type": "stream",
     "text": [
      "The historical probability of death after summitting when climbing without oxygen in Spr is 0.05\n",
      "The historical probability of death after summitting when climbing with oxygen in Spr is 0.01\n",
      "The historical probability of death after summitting when climbing without oxygen in Sum is 0.0\n",
      "The historical probability of death after summitting when climbing with oxygen in Sum is 0.0\n",
      "The historical probability of death after summitting when climbing without oxygen in Aut is 0.06\n",
      "The historical probability of death after summitting when climbing with oxygen in Aut is 0.01\n",
      "The historical probability of death after summitting when climbing without oxygen in Win is 0.0\n",
      "The historical probability of death after summitting when climbing with oxygen in Win is 0.0\n"
     ]
    }
   ],
   "source": [
    "for i in seas:\n",
    "    NoOxDeathProb = round(df[(df['Season'] == i) & (df['Oxy'] == 'No') & (df['Dth'] == 'Y')].Dth.count() \\\n",
    "                           / df[(df['Season'] == i) & (df['Oxy'] == 'No')].Season.count(),2)\n",
    "    print('The historical probability of death after summitting when climbing without oxygen in {} is {}'.format(i,NoOxDeathProb))\n",
    "    OxDeathProb = round(df[(df['Season'] == i) & (df['Oxy'] == 'Y') & (df['Dth'] == 'Y')].Dth.count() \\\n",
    "                           / df[(df['Season'] == i) & (df['Oxy'] == 'Y')].Season.count(),2)\n",
    "    print('The historical probability of death after summitting when climbing with oxygen in {} is {}'.format(i,OxDeathProb))\n"
   ]
  },
  {
   "cell_type": "markdown",
   "id": "f4c4360b",
   "metadata": {},
   "source": [
    "Compile list with climber number, ages, season and oxygen use."
   ]
  },
  {
   "cell_type": "code",
   "execution_count": 15,
   "id": "09539a5d",
   "metadata": {},
   "outputs": [
    {
     "data": {
      "text/html": [
       "<div>\n",
       "<style scoped>\n",
       "    .dataframe tbody tr th:only-of-type {\n",
       "        vertical-align: middle;\n",
       "    }\n",
       "\n",
       "    .dataframe tbody tr th {\n",
       "        vertical-align: top;\n",
       "    }\n",
       "\n",
       "    .dataframe thead th {\n",
       "        text-align: right;\n",
       "    }\n",
       "</style>\n",
       "<table border=\"1\" class=\"dataframe\">\n",
       "  <thead>\n",
       "    <tr style=\"text-align: right;\">\n",
       "      <th></th>\n",
       "      <th>Climber</th>\n",
       "      <th>Age</th>\n",
       "      <th>Oxygen</th>\n",
       "      <th>Season</th>\n",
       "      <th>Survived</th>\n",
       "    </tr>\n",
       "  </thead>\n",
       "  <tbody>\n",
       "    <tr>\n",
       "      <th>0</th>\n",
       "      <td>0</td>\n",
       "      <td>26.0</td>\n",
       "      <td>Yes</td>\n",
       "      <td>Spr</td>\n",
       "      <td>Survived</td>\n",
       "    </tr>\n",
       "    <tr>\n",
       "      <th>1</th>\n",
       "      <td>1</td>\n",
       "      <td>50.0</td>\n",
       "      <td>Yes</td>\n",
       "      <td>Spr</td>\n",
       "      <td>Survived</td>\n",
       "    </tr>\n",
       "    <tr>\n",
       "      <th>2</th>\n",
       "      <td>2</td>\n",
       "      <td>69.0</td>\n",
       "      <td>Yes</td>\n",
       "      <td>Spr</td>\n",
       "      <td>Died</td>\n",
       "    </tr>\n",
       "    <tr>\n",
       "      <th>3</th>\n",
       "      <td>3</td>\n",
       "      <td>46.0</td>\n",
       "      <td>Yes</td>\n",
       "      <td>Spr</td>\n",
       "      <td>Survived</td>\n",
       "    </tr>\n",
       "    <tr>\n",
       "      <th>4</th>\n",
       "      <td>4</td>\n",
       "      <td>48.0</td>\n",
       "      <td>Yes</td>\n",
       "      <td>Spr</td>\n",
       "      <td>Survived</td>\n",
       "    </tr>\n",
       "    <tr>\n",
       "      <th>...</th>\n",
       "      <td>...</td>\n",
       "      <td>...</td>\n",
       "      <td>...</td>\n",
       "      <td>...</td>\n",
       "      <td>...</td>\n",
       "    </tr>\n",
       "    <tr>\n",
       "      <th>668</th>\n",
       "      <td>668</td>\n",
       "      <td>40.0</td>\n",
       "      <td>Yes</td>\n",
       "      <td>Spr</td>\n",
       "      <td>Survived</td>\n",
       "    </tr>\n",
       "    <tr>\n",
       "      <th>669</th>\n",
       "      <td>669</td>\n",
       "      <td>44.0</td>\n",
       "      <td>Yes</td>\n",
       "      <td>Spr</td>\n",
       "      <td>Survived</td>\n",
       "    </tr>\n",
       "    <tr>\n",
       "      <th>670</th>\n",
       "      <td>670</td>\n",
       "      <td>32.0</td>\n",
       "      <td>Yes</td>\n",
       "      <td>Spr</td>\n",
       "      <td>Survived</td>\n",
       "    </tr>\n",
       "    <tr>\n",
       "      <th>671</th>\n",
       "      <td>671</td>\n",
       "      <td>43.0</td>\n",
       "      <td>Yes</td>\n",
       "      <td>Spr</td>\n",
       "      <td>Survived</td>\n",
       "    </tr>\n",
       "    <tr>\n",
       "      <th>672</th>\n",
       "      <td>672</td>\n",
       "      <td>42.0</td>\n",
       "      <td>Yes</td>\n",
       "      <td>Spr</td>\n",
       "      <td>Survived</td>\n",
       "    </tr>\n",
       "  </tbody>\n",
       "</table>\n",
       "<p>673 rows × 5 columns</p>\n",
       "</div>"
      ],
      "text/plain": [
       "     Climber   Age Oxygen Season  Survived\n",
       "0          0  26.0    Yes    Spr  Survived\n",
       "1          1  50.0    Yes    Spr  Survived\n",
       "2          2  69.0    Yes    Spr      Died\n",
       "3          3  46.0    Yes    Spr  Survived\n",
       "4          4  48.0    Yes    Spr  Survived\n",
       "..       ...   ...    ...    ...       ...\n",
       "668      668  40.0    Yes    Spr  Survived\n",
       "669      669  44.0    Yes    Spr  Survived\n",
       "670      670  32.0    Yes    Spr  Survived\n",
       "671      671  43.0    Yes    Spr  Survived\n",
       "672      672  42.0    Yes    Spr  Survived\n",
       "\n",
       "[673 rows x 5 columns]"
      ]
     },
     "execution_count": 15,
     "metadata": {},
     "output_type": "execute_result"
    }
   ],
   "source": [
    "synEverestData = []\n",
    "\n",
    "def everestFunction():\n",
    "    for i in range(0, N):\n",
    "        data = []\n",
    "        if oxUse[i] == 0 and seasList[i] == 'Spr':\n",
    "            death = rng.binomial(1, df[(df['Season'] == 'Spr') & (df['Oxy'] == 'No') & (df['Dth'] == 'Y')].Dth.count() \\\n",
    "                               / df[(df['Season'] == 'Spr') & (df['Oxy'] == 'No')].Season.count())\n",
    "\n",
    "        elif oxUse[i] == 1 and seasList[i] == 'Spr':\n",
    "            death = rng.binomial(1, df[(df['Season'] == 'Spr') & (df['Oxy'] == 'Y') & (df['Dth'] == 'Y')].Dth.count() \\\n",
    "                               / df[(df['Season'] == 'Spr') & (df['Oxy'] == 'Y')].Season.count())\n",
    "\n",
    "        elif oxUse[i] == 0 and seasList[i] == 'Sum':\n",
    "            death = rng.binomial(1, df[(df['Season'] == 'Sum') & (df['Oxy'] == 'No') & (df['Dth'] == 'Y')].Dth.count() \\\n",
    "                               / df[(df['Season'] == 'Sum') & (df['Oxy'] == 'No')].Season.count())\n",
    "\n",
    "        elif oxUse[i] == 1 and seasList[i] == 'Sum':\n",
    "            death = rng.binomial(1, df[(df['Season'] == 'Sum') & (df['Oxy'] == 'Y') & (df['Dth'] == 'Y')].Dth.count() \\\n",
    "                               / df[(df['Season'] == 'Sum') & (df['Oxy'] == 'Y')].Season.count())\n",
    "\n",
    "        elif oxUse[i] == 0 and seasList[i] == 'Aut':\n",
    "            death = rng.binomial(1, df[(df['Season'] == 'Aut') & (df['Oxy'] == 'No') & (df['Dth'] == 'Y')].Dth.count() \\\n",
    "                               / df[(df['Season'] == 'Aut') & (df['Oxy'] == 'No')].Season.count())\n",
    "\n",
    "        elif oxUse[i] == 1 and seasList[i] == 'Aut':\n",
    "            death = rng.binomial(1, df[(df['Season'] == 'Aut') & (df['Oxy'] == 'Y') & (df['Dth'] == 'Y')].Dth.count() \\\n",
    "                               / df[(df['Season'] == 'Aut') & (df['Oxy'] == 'Y')].Season.count())\n",
    "\n",
    "        elif oxUse[i] == 0 and seasList[i] == 'Win':\n",
    "            death = rng.binomial(1, df[(df['Season'] == 'Win') & (df['Oxy'] == 'No') & (df['Dth'] == 'Y')].Dth.count() \\\n",
    "                               / df[(df['Season'] == 'Win') & (df['Oxy'] == 'No')].Season.count())\n",
    "\n",
    "        elif oxUse[i] == 1 and seasList[i] == 'Win':\n",
    "            death = rng.binomial(1, df[(df['Season'] == 'Win') & (df['Oxy'] == 'Y') & (df['Dth'] == 'Y')].Dth.count() \\\n",
    "                               / df[(df['Season'] == 'Win') & (df['Oxy'] == 'Y')].Season.count())\n",
    "\n",
    "        if oxUse[i] == 1:\n",
    "            oxUse2 = 'No'\n",
    "        else:\n",
    "            oxUse2 = 'Yes'\n",
    "\n",
    "        if death == 0:\n",
    "            death2 = 'Survived'\n",
    "        else:\n",
    "            death2 = 'Died'\n",
    "\n",
    "\n",
    "        data = [i, round(vals[i],0), oxUse2, seasList[i], death2]\n",
    "        synEverestData.append(data)\n",
    "        synEverestDataDf = pd.DataFrame(synEverestData, columns=['Climber', 'Age', 'Oxygen', 'Season', 'Survived'])\n",
    "        \n",
    "    return synEverestDataDf\n",
    "        \n",
    "\n",
    "everestFunction()\n",
    "\n"
   ]
  },
  {
   "cell_type": "code",
   "execution_count": 16,
   "id": "9177d0eb",
   "metadata": {},
   "outputs": [
    {
     "data": {
      "text/html": [
       "<div>\n",
       "<style scoped>\n",
       "    .dataframe tbody tr th:only-of-type {\n",
       "        vertical-align: middle;\n",
       "    }\n",
       "\n",
       "    .dataframe tbody tr th {\n",
       "        vertical-align: top;\n",
       "    }\n",
       "\n",
       "    .dataframe thead th {\n",
       "        text-align: right;\n",
       "    }\n",
       "</style>\n",
       "<table border=\"1\" class=\"dataframe\">\n",
       "  <thead>\n",
       "    <tr style=\"text-align: right;\">\n",
       "      <th></th>\n",
       "      <th>Climber</th>\n",
       "      <th>Age</th>\n",
       "      <th>Oxygen</th>\n",
       "      <th>Season</th>\n",
       "      <th>Survived</th>\n",
       "    </tr>\n",
       "  </thead>\n",
       "  <tbody>\n",
       "    <tr>\n",
       "      <th>0</th>\n",
       "      <td>0</td>\n",
       "      <td>26.0</td>\n",
       "      <td>Yes</td>\n",
       "      <td>Spr</td>\n",
       "      <td>Survived</td>\n",
       "    </tr>\n",
       "    <tr>\n",
       "      <th>1</th>\n",
       "      <td>1</td>\n",
       "      <td>50.0</td>\n",
       "      <td>Yes</td>\n",
       "      <td>Spr</td>\n",
       "      <td>Survived</td>\n",
       "    </tr>\n",
       "    <tr>\n",
       "      <th>2</th>\n",
       "      <td>2</td>\n",
       "      <td>69.0</td>\n",
       "      <td>Yes</td>\n",
       "      <td>Spr</td>\n",
       "      <td>Died</td>\n",
       "    </tr>\n",
       "    <tr>\n",
       "      <th>3</th>\n",
       "      <td>3</td>\n",
       "      <td>46.0</td>\n",
       "      <td>Yes</td>\n",
       "      <td>Spr</td>\n",
       "      <td>Survived</td>\n",
       "    </tr>\n",
       "    <tr>\n",
       "      <th>4</th>\n",
       "      <td>4</td>\n",
       "      <td>48.0</td>\n",
       "      <td>Yes</td>\n",
       "      <td>Spr</td>\n",
       "      <td>Survived</td>\n",
       "    </tr>\n",
       "  </tbody>\n",
       "</table>\n",
       "</div>"
      ],
      "text/plain": [
       "   Climber   Age Oxygen Season  Survived\n",
       "0        0  26.0    Yes    Spr  Survived\n",
       "1        1  50.0    Yes    Spr  Survived\n",
       "2        2  69.0    Yes    Spr      Died\n",
       "3        3  46.0    Yes    Spr  Survived\n",
       "4        4  48.0    Yes    Spr  Survived"
      ]
     },
     "execution_count": 16,
     "metadata": {},
     "output_type": "execute_result"
    }
   ],
   "source": [
    "synEverestDataDf = pd.DataFrame(synEverestData, columns=['Climber', 'Age', 'Oxygen', 'Season', 'Survived'])\n",
    "\n",
    "synEverestDataDf.head()"
   ]
  },
  {
   "cell_type": "markdown",
   "id": "16e8fa9d",
   "metadata": {},
   "source": [
    "The number of deaths in this synthetic dataset can be measured against the historicial death rate."
   ]
  },
  {
   "cell_type": "code",
   "execution_count": 17,
   "id": "d0776f90",
   "metadata": {},
   "outputs": [
    {
     "data": {
      "text/plain": [
       "29"
      ]
     },
     "execution_count": 17,
     "metadata": {},
     "output_type": "execute_result"
    }
   ],
   "source": [
    "numberOfDeaths = synEverestDataDf[synEverestDataDf['Survived'] == 'Died'].Survived.count()\n",
    "numberOfDeaths"
   ]
  },
  {
   "cell_type": "markdown",
   "id": "1dbffb5f",
   "metadata": {},
   "source": [
    "The historical death rate is calculated by:"
   ]
  },
  {
   "cell_type": "code",
   "execution_count": 18,
   "id": "f4dacec4",
   "metadata": {},
   "outputs": [
    {
     "data": {
      "text/plain": [
       "0.008"
      ]
     },
     "execution_count": 18,
     "metadata": {},
     "output_type": "execute_result"
    }
   ],
   "source": [
    "historicalDeathRate = round(df[df['Dth'] == 'Y'].Dth.count() / df.Dth.count(), 3)\n",
    "historicalDeathRate"
   ]
  },
  {
   "cell_type": "markdown",
   "id": "1ce4dcc0",
   "metadata": {},
   "source": [
    "Our dataset death rate is calculated by:"
   ]
  },
  {
   "cell_type": "code",
   "execution_count": 19,
   "id": "e5512e21",
   "metadata": {},
   "outputs": [
    {
     "name": "stdout",
     "output_type": "stream",
     "text": [
      "0.043\n"
     ]
    }
   ],
   "source": [
    "predictDeathRate = round(synEverestDataDf[(synEverestDataDf['Survived'] == 'Died')].Survived.count() / synEverestDataDf.Survived.count(),3)\n",
    "print(predictDeathRate)"
   ]
  },
  {
   "cell_type": "code",
   "execution_count": null,
   "id": "2830423c",
   "metadata": {},
   "outputs": [],
   "source": []
  }
 ],
 "metadata": {
  "kernelspec": {
   "display_name": "Python 3 (ipykernel)",
   "language": "python",
   "name": "python3"
  },
  "language_info": {
   "codemirror_mode": {
    "name": "ipython",
    "version": 3
   },
   "file_extension": ".py",
   "mimetype": "text/x-python",
   "name": "python",
   "nbconvert_exporter": "python",
   "pygments_lexer": "ipython3",
   "version": "3.9.7"
  }
 },
 "nbformat": 4,
 "nbformat_minor": 5
}
