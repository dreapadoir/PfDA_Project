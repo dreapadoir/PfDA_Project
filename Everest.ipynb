{
 "cells": [
  {
   "cell_type": "markdown",
   "id": "ef525c35",
   "metadata": {},
   "source": [
    "# Survivalibility on Mt. Everest\n",
    "\n",
    "## Programming for Data Analysis Project 1\n",
    "\n",
    "## Author: David Higgins - G00411302"
   ]
  },
  {
   "cell_type": "markdown",
   "id": "38d24c59",
   "metadata": {},
   "source": [
    "\"Getting to the top is optional. Getting down is mandatory.\"\n",
    "\n",
    "\\- Ed Viesturs"
   ]
  },
  {
   "cell_type": "code",
   "execution_count": 26,
   "id": "6b7eb868",
   "metadata": {},
   "outputs": [],
   "source": [
    "import numpy as np\n",
    "import pandas as pd\n",
    "import matplotlib.pyplot as plt\n",
    "import random\n",
    "import sklearn.linear_model as sk\n",
    "\n",
    "%matplotlib inline"
   ]
  },
  {
   "cell_type": "markdown",
   "id": "9c00f5e6",
   "metadata": {},
   "source": [
    "We first import the Mt. Everest Ascent dataset to understand what information is available for mountaineers and to get an idea of the shape of that data."
   ]
  },
  {
   "cell_type": "code",
   "execution_count": 27,
   "id": "af1add20",
   "metadata": {},
   "outputs": [
    {
     "data": {
      "text/html": [
       "<div>\n",
       "<style scoped>\n",
       "    .dataframe tbody tr th:only-of-type {\n",
       "        vertical-align: middle;\n",
       "    }\n",
       "\n",
       "    .dataframe tbody tr th {\n",
       "        vertical-align: top;\n",
       "    }\n",
       "\n",
       "    .dataframe thead th {\n",
       "        text-align: right;\n",
       "    }\n",
       "</style>\n",
       "<table border=\"1\" class=\"dataframe\">\n",
       "  <thead>\n",
       "    <tr style=\"text-align: right;\">\n",
       "      <th></th>\n",
       "      <th>Peak</th>\n",
       "      <th>Name</th>\n",
       "      <th>Year</th>\n",
       "      <th>Season</th>\n",
       "      <th>Date</th>\n",
       "      <th>Time</th>\n",
       "      <th>Citizenship</th>\n",
       "      <th>Sex</th>\n",
       "      <th>Age</th>\n",
       "      <th>Oxy</th>\n",
       "      <th>Dth</th>\n",
       "      <th>Host</th>\n",
       "    </tr>\n",
       "  </thead>\n",
       "  <tbody>\n",
       "    <tr>\n",
       "      <th>0</th>\n",
       "      <td>EVER</td>\n",
       "      <td>Edmund Percival Hillary</td>\n",
       "      <td>1953</td>\n",
       "      <td>Spr</td>\n",
       "      <td>29-May</td>\n",
       "      <td>11:30</td>\n",
       "      <td>New Zealand</td>\n",
       "      <td>M</td>\n",
       "      <td>33</td>\n",
       "      <td>Y</td>\n",
       "      <td>.</td>\n",
       "      <td>Nepal</td>\n",
       "    </tr>\n",
       "    <tr>\n",
       "      <th>1</th>\n",
       "      <td>EVER</td>\n",
       "      <td>Tenzing Norgay</td>\n",
       "      <td>1953</td>\n",
       "      <td>Spr</td>\n",
       "      <td>29-May</td>\n",
       "      <td>11:30</td>\n",
       "      <td>India</td>\n",
       "      <td>M</td>\n",
       "      <td>39</td>\n",
       "      <td>Y</td>\n",
       "      <td>.</td>\n",
       "      <td>Nepal</td>\n",
       "    </tr>\n",
       "    <tr>\n",
       "      <th>2</th>\n",
       "      <td>EVER</td>\n",
       "      <td>Hans-Rudolf Von Gunten</td>\n",
       "      <td>1956</td>\n",
       "      <td>Spr</td>\n",
       "      <td>24-May</td>\n",
       "      <td>11:00</td>\n",
       "      <td>Switzerland</td>\n",
       "      <td>M</td>\n",
       "      <td>27</td>\n",
       "      <td>Y</td>\n",
       "      <td>.</td>\n",
       "      <td>Nepal</td>\n",
       "    </tr>\n",
       "    <tr>\n",
       "      <th>3</th>\n",
       "      <td>EVER</td>\n",
       "      <td>Juerg P. Marmet</td>\n",
       "      <td>1956</td>\n",
       "      <td>Spr</td>\n",
       "      <td>23-May</td>\n",
       "      <td>14:00</td>\n",
       "      <td>Switzerland</td>\n",
       "      <td>M</td>\n",
       "      <td>28</td>\n",
       "      <td>Y</td>\n",
       "      <td>.</td>\n",
       "      <td>Nepal</td>\n",
       "    </tr>\n",
       "    <tr>\n",
       "      <th>4</th>\n",
       "      <td>EVER</td>\n",
       "      <td>Ernst Schmied</td>\n",
       "      <td>1956</td>\n",
       "      <td>Spr</td>\n",
       "      <td>23-May</td>\n",
       "      <td>14:00</td>\n",
       "      <td>Switzerland</td>\n",
       "      <td>M</td>\n",
       "      <td>31</td>\n",
       "      <td>Y</td>\n",
       "      <td>.</td>\n",
       "      <td>Nepal</td>\n",
       "    </tr>\n",
       "  </tbody>\n",
       "</table>\n",
       "</div>"
      ],
      "text/plain": [
       "   Peak                     Name  Year Season    Date   Time  Citizenship Sex  \\\n",
       "0  EVER  Edmund Percival Hillary  1953    Spr  29-May  11:30  New Zealand   M   \n",
       "1  EVER          Tenzing Norgay   1953    Spr  29-May  11:30        India   M   \n",
       "2  EVER   Hans-Rudolf Von Gunten  1956    Spr  24-May  11:00  Switzerland   M   \n",
       "3  EVER          Juerg P. Marmet  1956    Spr  23-May  14:00  Switzerland   M   \n",
       "4  EVER            Ernst Schmied  1956    Spr  23-May  14:00  Switzerland   M   \n",
       "\n",
       "   Age Oxy Dth   Host  \n",
       "0   33   Y   .  Nepal  \n",
       "1   39   Y   .  Nepal  \n",
       "2   27   Y   .  Nepal  \n",
       "3   28   Y   .  Nepal  \n",
       "4   31   Y   .  Nepal  "
      ]
     },
     "execution_count": 27,
     "metadata": {},
     "output_type": "execute_result"
    }
   ],
   "source": [
    "df = pd.read_csv(\"Mt_Everest_Ascent_Data.csv\")\n",
    "df.head()"
   ]
  },
  {
   "cell_type": "markdown",
   "id": "ee4ad5c1",
   "metadata": {},
   "source": [
    "We will take a subset of the dataframe, all the data from the year 1985 onwards."
   ]
  },
  {
   "cell_type": "code",
   "execution_count": 28,
   "id": "721bc329",
   "metadata": {},
   "outputs": [
    {
     "data": {
      "text/html": [
       "<div>\n",
       "<style scoped>\n",
       "    .dataframe tbody tr th:only-of-type {\n",
       "        vertical-align: middle;\n",
       "    }\n",
       "\n",
       "    .dataframe tbody tr th {\n",
       "        vertical-align: top;\n",
       "    }\n",
       "\n",
       "    .dataframe thead th {\n",
       "        text-align: right;\n",
       "    }\n",
       "</style>\n",
       "<table border=\"1\" class=\"dataframe\">\n",
       "  <thead>\n",
       "    <tr style=\"text-align: right;\">\n",
       "      <th></th>\n",
       "      <th>Peak</th>\n",
       "      <th>Name</th>\n",
       "      <th>Year</th>\n",
       "      <th>Season</th>\n",
       "      <th>Date</th>\n",
       "      <th>Time</th>\n",
       "      <th>Citizenship</th>\n",
       "      <th>Sex</th>\n",
       "      <th>Age</th>\n",
       "      <th>Oxy</th>\n",
       "      <th>Dth</th>\n",
       "      <th>Host</th>\n",
       "    </tr>\n",
       "  </thead>\n",
       "  <tbody>\n",
       "    <tr>\n",
       "      <th>170</th>\n",
       "      <td>EVER</td>\n",
       "      <td>Ang Phurba Sherpa (Thami, Khumbu)</td>\n",
       "      <td>1985</td>\n",
       "      <td>Spr</td>\n",
       "      <td>30-Apr</td>\n",
       "      <td>NaN</td>\n",
       "      <td>Nepal</td>\n",
       "      <td>M</td>\n",
       "      <td>23</td>\n",
       "      <td>Y</td>\n",
       "      <td>.</td>\n",
       "      <td>Nepal</td>\n",
       "    </tr>\n",
       "    <tr>\n",
       "      <th>171</th>\n",
       "      <td>EVER</td>\n",
       "      <td>Mitsuyoshi Sato</td>\n",
       "      <td>1985</td>\n",
       "      <td>Aut</td>\n",
       "      <td>30-Oct</td>\n",
       "      <td>NaN</td>\n",
       "      <td>Japan</td>\n",
       "      <td>M</td>\n",
       "      <td>24</td>\n",
       "      <td>Y</td>\n",
       "      <td>.</td>\n",
       "      <td>Nepal</td>\n",
       "    </tr>\n",
       "    <tr>\n",
       "      <th>172</th>\n",
       "      <td>EVER</td>\n",
       "      <td>Narayan Kumar Shrestha</td>\n",
       "      <td>1985</td>\n",
       "      <td>Sum</td>\n",
       "      <td>28-Aug</td>\n",
       "      <td>18:20</td>\n",
       "      <td>Nepal</td>\n",
       "      <td>M</td>\n",
       "      <td>25</td>\n",
       "      <td>Y</td>\n",
       "      <td>.</td>\n",
       "      <td>China</td>\n",
       "    </tr>\n",
       "    <tr>\n",
       "      <th>173</th>\n",
       "      <td>EVER</td>\n",
       "      <td>Lhakpa Dorje (Ang Lhakpa) Sherpa (Khunde, Khumbu)</td>\n",
       "      <td>1985</td>\n",
       "      <td>Spr</td>\n",
       "      <td>21-Apr</td>\n",
       "      <td>09:30</td>\n",
       "      <td>Nepal</td>\n",
       "      <td>M</td>\n",
       "      <td>26</td>\n",
       "      <td>Y</td>\n",
       "      <td>.</td>\n",
       "      <td>Nepal</td>\n",
       "    </tr>\n",
       "    <tr>\n",
       "      <th>174</th>\n",
       "      <td>EVER</td>\n",
       "      <td>Pema Dorje Sherpa (Khumjung, Khumbu)</td>\n",
       "      <td>1985</td>\n",
       "      <td>Spr</td>\n",
       "      <td>29-Apr</td>\n",
       "      <td>09:25</td>\n",
       "      <td>Nepal</td>\n",
       "      <td>M</td>\n",
       "      <td>26</td>\n",
       "      <td>Y</td>\n",
       "      <td>.</td>\n",
       "      <td>Nepal</td>\n",
       "    </tr>\n",
       "    <tr>\n",
       "      <th>...</th>\n",
       "      <td>...</td>\n",
       "      <td>...</td>\n",
       "      <td>...</td>\n",
       "      <td>...</td>\n",
       "      <td>...</td>\n",
       "      <td>...</td>\n",
       "      <td>...</td>\n",
       "      <td>...</td>\n",
       "      <td>...</td>\n",
       "      <td>...</td>\n",
       "      <td>...</td>\n",
       "      <td>...</td>\n",
       "    </tr>\n",
       "    <tr>\n",
       "      <th>10005</th>\n",
       "      <td>EVER</td>\n",
       "      <td>Phurbu Dhondup (Big)</td>\n",
       "      <td>2020</td>\n",
       "      <td>Spr</td>\n",
       "      <td>27-May</td>\n",
       "      <td>NaN</td>\n",
       "      <td>China</td>\n",
       "      <td>M</td>\n",
       "      <td>43</td>\n",
       "      <td>Y</td>\n",
       "      <td>.</td>\n",
       "      <td>China</td>\n",
       "    </tr>\n",
       "    <tr>\n",
       "      <th>10006</th>\n",
       "      <td>EVER</td>\n",
       "      <td>Fu-Qing (Jing-Yang) Li</td>\n",
       "      <td>2020</td>\n",
       "      <td>Spr</td>\n",
       "      <td>27-May</td>\n",
       "      <td>NaN</td>\n",
       "      <td>China</td>\n",
       "      <td>M</td>\n",
       "      <td>43</td>\n",
       "      <td>Y</td>\n",
       "      <td>.</td>\n",
       "      <td>China</td>\n",
       "    </tr>\n",
       "    <tr>\n",
       "      <th>10007</th>\n",
       "      <td>EVER</td>\n",
       "      <td>Ci Luo (Tselo)</td>\n",
       "      <td>2020</td>\n",
       "      <td>Spr</td>\n",
       "      <td>27-May</td>\n",
       "      <td>NaN</td>\n",
       "      <td>China</td>\n",
       "      <td>M</td>\n",
       "      <td>45</td>\n",
       "      <td>Y</td>\n",
       "      <td>.</td>\n",
       "      <td>China</td>\n",
       "    </tr>\n",
       "    <tr>\n",
       "      <th>10008</th>\n",
       "      <td>EVER</td>\n",
       "      <td>Zhou-Ping Cui</td>\n",
       "      <td>2020</td>\n",
       "      <td>Spr</td>\n",
       "      <td>28-May</td>\n",
       "      <td>NaN</td>\n",
       "      <td>China</td>\n",
       "      <td>F</td>\n",
       "      <td>45</td>\n",
       "      <td>Y</td>\n",
       "      <td>.</td>\n",
       "      <td>China</td>\n",
       "    </tr>\n",
       "    <tr>\n",
       "      <th>10009</th>\n",
       "      <td>EVER</td>\n",
       "      <td>Hong-Zhi Hu</td>\n",
       "      <td>2020</td>\n",
       "      <td>Spr</td>\n",
       "      <td>28-May</td>\n",
       "      <td>NaN</td>\n",
       "      <td>China</td>\n",
       "      <td>M</td>\n",
       "      <td>57</td>\n",
       "      <td>Y</td>\n",
       "      <td>.</td>\n",
       "      <td>China</td>\n",
       "    </tr>\n",
       "  </tbody>\n",
       "</table>\n",
       "<p>9840 rows × 12 columns</p>\n",
       "</div>"
      ],
      "text/plain": [
       "       Peak                                               Name  Year Season  \\\n",
       "170    EVER                  Ang Phurba Sherpa (Thami, Khumbu)  1985    Spr   \n",
       "171    EVER                                    Mitsuyoshi Sato  1985    Aut   \n",
       "172    EVER                             Narayan Kumar Shrestha  1985    Sum   \n",
       "173    EVER  Lhakpa Dorje (Ang Lhakpa) Sherpa (Khunde, Khumbu)  1985    Spr   \n",
       "174    EVER               Pema Dorje Sherpa (Khumjung, Khumbu)  1985    Spr   \n",
       "...     ...                                                ...   ...    ...   \n",
       "10005  EVER                              Phurbu Dhondup (Big)   2020    Spr   \n",
       "10006  EVER                             Fu-Qing (Jing-Yang) Li  2020    Spr   \n",
       "10007  EVER                                    Ci Luo (Tselo)   2020    Spr   \n",
       "10008  EVER                                      Zhou-Ping Cui  2020    Spr   \n",
       "10009  EVER                                        Hong-Zhi Hu  2020    Spr   \n",
       "\n",
       "         Date   Time Citizenship Sex  Age Oxy Dth   Host  \n",
       "170    30-Apr    NaN       Nepal   M   23   Y   .  Nepal  \n",
       "171    30-Oct    NaN       Japan   M   24   Y   .  Nepal  \n",
       "172    28-Aug  18:20       Nepal   M   25   Y   .  China  \n",
       "173    21-Apr  09:30       Nepal   M   26   Y   .  Nepal  \n",
       "174    29-Apr  09:25       Nepal   M   26   Y   .  Nepal  \n",
       "...       ...    ...         ...  ..  ...  ..  ..    ...  \n",
       "10005  27-May    NaN       China   M   43   Y   .  China  \n",
       "10006  27-May    NaN       China   M   43   Y   .  China  \n",
       "10007  27-May    NaN       China   M   45   Y   .  China  \n",
       "10008  28-May    NaN       China   F   45   Y   .  China  \n",
       "10009  28-May    NaN       China   M   57   Y   .  China  \n",
       "\n",
       "[9840 rows x 12 columns]"
      ]
     },
     "execution_count": 28,
     "metadata": {},
     "output_type": "execute_result"
    }
   ],
   "source": [
    "df = df.loc[df.loc[:, 'Year'] >= 1985]\n",
    "df"
   ]
  },
  {
   "cell_type": "markdown",
   "id": "be3236b9",
   "metadata": {},
   "source": [
    "Use linear regression model to determine the number of climbers, N."
   ]
  },
  {
   "cell_type": "code",
   "execution_count": 29,
   "id": "4dc711b7",
   "metadata": {},
   "outputs": [
    {
     "name": "stdout",
     "output_type": "stream",
     "text": [
      "The number of climbers in 2023 is 693.\n"
     ]
    },
    {
     "data": {
      "text/plain": [
       "<matplotlib.legend.Legend at 0x26012a89850>"
      ]
     },
     "execution_count": 29,
     "metadata": {},
     "output_type": "execute_result"
    },
    {
     "data": {
      "image/png": "[encoded data removed]",
      "text/plain": [
       "<Figure size 432x288 with 1 Axes>"
      ]
     },
     "metadata": {
      "needs_background": "light"
     },
     "output_type": "display_data"
    }
   ],
   "source": [
    "x_train = df['Year'].unique()\n",
    "x_train = x_train.reshape(-1, 1)\n",
    "groupedDf = df.groupby('Year').count()\n",
    "y_train = groupedDf['Name']\n",
    "\n",
    "\n",
    "regr = sk.LinearRegression()\n",
    "regr.fit(x_train, y_train)\n",
    "N = int(regr.predict(np.array(2023).reshape(1,-1)))\n",
    "print(\"The number of climbers in 2023 is {}.\".format(N))\n",
    "\n",
    "\n",
    "plt.plot(x_train, regr.predict(x_train),color='k', label='linear model') \n",
    "plt.scatter(x_train, y_train, label='number of climbers')\n",
    "plt.legend()"
   ]
  },
  {
   "cell_type": "markdown",
   "id": "68490c79",
   "metadata": {},
   "source": [
    "We can create a Data Series containing just the age values. It's then possible to use the describe() method to find out the mean and standard deviation of the ages of summitters."
   ]
  },
  {
   "cell_type": "code",
   "execution_count": 5,
   "id": "c6a91a14",
   "metadata": {},
   "outputs": [
    {
     "data": {
      "text/plain": [
       "count    9840.000000\n",
       "mean       35.358841\n",
       "std         9.348445\n",
       "min        13.000000\n",
       "25%        28.000000\n",
       "50%        34.000000\n",
       "75%        41.000000\n",
       "max        80.000000\n",
       "Name: Age, dtype: float64"
      ]
     },
     "execution_count": 5,
     "metadata": {},
     "output_type": "execute_result"
    }
   ],
   "source": [
    "ages = df.loc[:,'Age']\n",
    "ages.describe()"
   ]
  },
  {
   "cell_type": "markdown",
   "id": "fe363342",
   "metadata": {},
   "source": [
    "Plotting a histogram of the age Data Series gives us an idea of the shape of the distribution. This is often the best indicator of what distribution is appropriate when generating synthetic data."
   ]
  },
  {
   "cell_type": "code",
   "execution_count": 6,
   "id": "3f9000c6",
   "metadata": {},
   "outputs": [
    {
     "data": {
      "text/plain": [
       "(array([ 149., 1603., 2858., 2179., 1814.,  828.,  296.,   93.,   17.,\n",
       "           3.]),\n",
       " array([13. , 19.7, 26.4, 33.1, 39.8, 46.5, 53.2, 59.9, 66.6, 73.3, 80. ]),\n",
       " <BarContainer object of 10 artists>)"
      ]
     },
     "execution_count": 6,
     "metadata": {},
     "output_type": "execute_result"
    },
    {
     "data": {
      "image/png": "[encoded data removed]",
      "text/plain": [
       "<Figure size 432x288 with 1 Axes>"
      ]
     },
     "metadata": {
      "needs_background": "light"
     },
     "output_type": "display_data"
    }
   ],
   "source": [
    "plt.hist(ages, bins=10)"
   ]
  },
  {
   "cell_type": "markdown",
   "id": "754b2f9e",
   "metadata": {},
   "source": [
    "This histogram looks relatively normally distributed. We can try generating a dataset using the mean and standard deviation of the ages Data Series."
   ]
  },
  {
   "cell_type": "code",
   "execution_count": 7,
   "id": "62ffa016",
   "metadata": {},
   "outputs": [
    {
     "name": "stdout",
     "output_type": "stream",
     "text": [
      "[29.41749332 41.32545962 26.01654126 30.46039176 25.43398245 38.65788609\n",
      " 36.24996748 40.02233615 33.16571905 30.56776225 25.92115856 47.48281702\n",
      " 34.30115447 34.83080724 38.00510029 28.52678842 51.77815931 29.28296054\n",
      " 38.70585239 36.17471812 38.99112743 18.82142289 28.24873842 38.51669262\n",
      " 49.76158425 36.06415932 36.65439039 46.52238923 46.69069409 37.00693919\n",
      " 27.09179494 36.10651397 39.7410449  30.26370075 31.13222247 35.73707752\n",
      " 24.61809209 28.6473092  26.61192269 47.27562162 42.51571157 44.10132911\n",
      " 22.01991806 35.52647281 41.73663117 53.19257698 10.89684252 59.68398319\n",
      " 43.33312173 16.4592825  33.27742407 34.14844206 34.89721007 28.03260598\n",
      " 27.80584642 31.15860044 26.26694905 32.84370086 39.21390119 36.22117943\n",
      " 58.4946462  31.20132918 33.45819863 31.60385973 40.614509   52.8916161\n",
      " 42.70677819 46.73707438 35.5240629  38.89707683 40.9384546  37.72027698\n",
      " 45.74683947 28.59981079 32.92507806 30.35572112 39.37847488 36.83879439\n",
      " 40.67155415 41.81917032 37.74016456 11.853487   23.20490501 31.69335049\n",
      " 50.2442443  42.83491572 41.98403825 32.37922068 48.11836458 31.14085504\n",
      " 49.34013255 37.45270739 30.69519966 31.90096092 34.06985061 32.40220193\n",
      " 38.72152827 27.1492883  41.8179337  44.84791106 35.89643806 42.44072873\n",
      " 32.26904667 35.43857451 29.33167343 63.88692574 16.35134014 37.98530736\n",
      " 51.50071978 31.77644732 41.38987515 53.96825869 23.83022024 24.16448937\n",
      " 32.28879992 45.92666037 33.46466248 28.55754529 35.13836081 37.87257649\n",
      " 31.23164061 38.86820398 31.38453635 42.9981179  30.08164202 42.84359625\n",
      " 29.46919225 46.41565129 27.24676078 32.26935918 15.3101753  34.40822661\n",
      " 19.12744639 33.6673249  49.74049033 35.34241045 48.4221038  16.29207059\n",
      " 30.87157342 42.48389679 37.67039458 39.83560112 44.45848506 29.49058007\n",
      " 38.70201012 32.58941299 26.95036931 34.5631028  36.60445682 26.73538686\n",
      " 30.33321638 38.43476774 34.06389426 35.6013493  37.12865072 33.4081988\n",
      " 47.81437227 31.18986832 43.60036937 26.08847892 25.98330982 45.36069434\n",
      " 31.57690289 29.91654667 32.97316772 45.27503197 42.69245287 46.28829728\n",
      " 44.14483493 42.80853708 22.91378175 40.74605222 42.26207447 29.41968406\n",
      " 22.2426437  26.07281024 37.09333275 39.88422533 42.42222116 25.65762123\n",
      " 13.25863692 36.38710553 43.7904286  31.84548045 42.70346896 24.8546905\n",
      " 29.89341092 32.88104247 26.70353006 45.03793472 34.57501455 35.65594152\n",
      " 36.74738508 27.91618565 40.914176   36.38148011 43.01513842 27.2605094\n",
      " 37.10833964 30.03555328 34.49671597 40.9028044  30.05510387 43.49785946\n",
      " 32.05553161 35.55565485 35.91680646 33.60671278 27.62400881 42.10342315\n",
      " 34.30428264 42.17541562 29.22687275 38.73189471 48.46443147 37.6995959\n",
      " 31.22743537 30.98339441 24.85871529 50.86509313 44.42759811 42.36063925\n",
      " 28.53979154 32.74719011 26.43345393 38.01584047 32.3663063  31.09183891\n",
      " 26.39926881 36.2266365  40.14327217 27.78646984 40.04109955 36.11411644\n",
      " 32.88547935 20.35591108 28.45794661 37.78240758 39.82835135 42.19994402\n",
      " 35.2589904  23.52327789 36.43910015 20.69879265 37.1652264  46.47252305\n",
      " 35.07797575 43.31336496 41.37179517 20.77431074 40.22260469 47.55805177\n",
      " 31.17646087 34.17895711 29.30039857 48.20009965 41.84643419 34.05625604\n",
      " 41.21022807 36.24713809 25.45112424 26.80071962 32.68041075 30.25222921\n",
      " 40.11711507 52.75367917 45.98181629 41.49343553 43.26327238 29.31525676\n",
      " 11.32592925 27.45288314 28.07509956 27.17445031 14.92420229 42.01369791\n",
      " 22.90342768 25.85576517 20.33337649 51.99744211 29.6056958  47.22256842\n",
      " 52.52769861 29.53275971 13.61573427 36.81131974 45.94908434 35.63183594\n",
      " 35.04764431 45.75637288 44.75571117 38.41707541 27.92043625 34.43392933\n",
      " 20.54440432 37.03010752 25.69523546 29.04882863 39.98268085 49.0819642\n",
      " 34.47800672 33.94800167 56.00362986 53.5505322  46.69056491 49.20003816\n",
      " 45.75378324 48.62903609 23.24864013 38.29790966 28.39516295 30.17257229\n",
      " 33.97164937 27.44832963 27.11183439 38.83323138 30.76628354 46.34594804\n",
      " 29.52709291 40.93687441 54.71526766 24.16132294 56.6733937  36.28863873\n",
      " 25.2170343  17.05377554 28.94493331 51.03509975 41.11565739 38.91229718\n",
      " 33.89497746 32.27832458 33.58491998 22.5623599  42.79414635 32.92765601\n",
      " 40.58966991 41.68049667 49.18560604 43.53648117 30.46355986 38.54335968\n",
      " 34.28195278 32.57786137 46.5426757  25.19613061 60.20063041 45.32088395\n",
      " 46.9797668  31.87159414 39.68607335 46.3037899  29.62920277 44.42142071\n",
      " 21.32181717 16.25784453 32.73163343 36.81423681 33.94726857 32.04530535\n",
      " -1.25365091 33.52602825 43.41163146 35.51488173 46.07546823 21.89840416\n",
      " 59.80483891 36.73613054 24.66467731 35.22692235 21.37521539 14.67600483\n",
      " 51.55442489 48.85604923 33.38948038 42.91928393 35.0445815  22.04132247\n",
      " 22.50685984 35.39996581 50.78539023 34.39682189 41.77310069 25.45272527\n",
      " 43.77214407 32.20415342 35.16917796 41.49203849 46.44226109 39.99810801\n",
      " 32.05655198 36.27683975 55.64245269 35.22420834 30.88942423 36.68998811\n",
      " 24.33868171 43.40559354 25.13152128 38.43981318 39.06515584 31.57423315\n",
      " 35.74352003 39.52781559 36.59775507 26.07760725 41.07100614 34.94713533\n",
      " 38.75925087 34.95543967 43.21111639 31.99958314 22.73702415 28.90882679\n",
      " 43.74949265 34.99935613 52.49816642 38.9916158  24.40374585 31.72184933\n",
      " 45.67855954 41.41808894 40.64631381 39.32886614 29.96290538 49.77455494\n",
      " 28.98445443 26.2330737  41.76525228 44.93680458 39.86255764 36.16579121\n",
      " 48.882326   47.37502569 34.20348332 35.75332397 21.82510477 28.67654529\n",
      " 35.91207733 42.01787553 28.05728425 28.00733387 37.7346591  38.84779677\n",
      " 38.1057472  43.73799167 25.08447917 46.25320979 28.02735117 27.09917874\n",
      " 51.84050705 38.05265158 25.29896313 45.06727146 19.35146472 47.28829907\n",
      " 29.54963324 34.05063428 27.55086574 26.67540262 20.25090417 41.10354711\n",
      " 44.52258206 31.96455047 39.2999056  28.71424477 38.91110709 36.41784909\n",
      " 45.39310997 33.97014213 27.42492709 38.62203594 30.05754686 33.10352007\n",
      " 31.79186137 22.57668693 35.0996102  52.06721115 36.77626053 40.89645871\n",
      " 42.05173282 43.76855004 37.8364859  45.99919551 56.0902496  36.70241108\n",
      " 40.2594645  38.16991792 39.06439474 37.24759683 38.272727   34.31857525\n",
      " 31.70511055 34.87974737 18.64956149 51.53835821  7.46322926 29.70036207\n",
      " 43.55670052 29.36540508 38.53754571 38.35076021 24.08541326 33.10642471\n",
      " 26.65654256 55.88810475 49.33589717 45.93861399 38.62305873 44.04261116\n",
      " 24.70928298 30.96361317 33.10330078 41.7694638  43.03916642 29.42675764\n",
      " 45.65329941 32.77666724 39.18425533 49.77260141 42.08245315 35.49940497\n",
      " 30.05149337 33.63095389 34.21981226 28.36659951 32.31932327 15.97326882\n",
      " 40.33215764 41.1924141  31.21704259 28.47212181 23.10264033 17.65334521\n",
      " 45.45706137 40.04052953 42.40905906 46.37059829 43.67323001 33.94187133\n",
      " 46.5157464  31.75650387 38.33619566 41.22524464 29.74179912 28.47822465\n",
      " 26.07194935 42.53204864 36.46229771 43.15641644 37.2601948  44.37480387\n",
      " 30.15799716 36.46702649 20.71700688 36.90139175 48.23808615 20.1891454\n",
      " 26.09198022 36.89998752 32.73617017 39.64886729 28.00363544 40.52738167\n",
      " 38.35744443 41.11038979 35.9860862  30.12554973 28.58507199 42.04327004\n",
      " 36.92150257 36.53570933 32.19142433 34.89642669 31.10952253 23.4439835\n",
      "  9.03651304 30.10543558 29.68174573 28.07846362 30.70963004 39.74396439\n",
      " 54.08258462 57.99880306 30.17122938 37.20663276 40.72117181 28.47695208\n",
      " 51.09791164 35.36688938 23.07070089 32.674929   38.77050498 43.37881693\n",
      " 41.16208813 21.01660585 15.9316327  42.14086885 20.42256267 46.93715135\n",
      " 21.78397434 41.39724082 42.96597254 28.10082121 46.81404929 48.95564031\n",
      " 27.72796396 40.89094176 34.41573039 41.44923643 34.14286028 28.69568692\n",
      " 35.31190439 30.74056521 36.83599094 42.69674966 40.73623514 36.24006624\n",
      " 45.14584039 39.21237933 17.13640908 13.09423944 27.95107959 41.02904319\n",
      " 33.15551327 38.53886548 -2.40041451 39.49889131 53.28910807 35.49745327\n",
      " 37.56170066 23.5490435  21.81953605 30.9477482  39.20278891 39.27814217\n",
      " 39.32978889 22.6280747  53.39087319 22.77243556 40.37933405 45.66011514\n",
      " 34.19108241 37.9401581  28.66398943 32.78506595 52.94587106 29.0398824\n",
      " 37.78405644 28.40655872 25.13458215 26.29773411 28.41812416 40.28662731\n",
      " 49.37804919 28.55653679 32.00318747 49.20809342 40.75530306 32.56095187\n",
      " 27.78928976 39.72273873 15.88167255 40.13352643 34.064048   38.44861595\n",
      " 20.11499065 40.91887792 35.90514652 28.66608645 57.58000218 36.54627409\n",
      " 47.4356155  33.05022886 41.60355589 32.93785777 23.83631244 18.34043845\n",
      " 41.24248254 46.76511107 34.07484325 31.48537735 48.00133799 45.07351706\n",
      " 25.54070908 51.28025046 35.67475084 34.68722763 33.32156927 20.10721922\n",
      " 38.44790098 33.49430522 44.77374203]\n"
     ]
    },
    {
     "data": {
      "text/plain": [
       "(array([  2.,   2.,  18.,  45., 137., 196., 176.,  81.,  29.,   7.]),\n",
       " array([-2.40041451,  4.22831951, 10.85705354, 17.48578757, 24.11452159,\n",
       "        30.74325562, 37.37198964, 44.00072367, 50.62945769, 57.25819172,\n",
       "        63.88692574]),\n",
       " <BarContainer object of 10 artists>)"
      ]
     },
     "execution_count": 7,
     "metadata": {},
     "output_type": "execute_result"
    },
    {
     "data": {
      "image/png": "[encoded data removed]",
      "text/plain": [
       "<Figure size 432x288 with 1 Axes>"
      ]
     },
     "metadata": {
      "needs_background": "light"
     },
     "output_type": "display_data"
    }
   ],
   "source": [
    "rng = np.random.default_rng()\n",
    "vals = rng.normal(loc = ages.mean(), scale = ages.std(), size = N)\n",
    "print(vals)\n",
    "plt.hist(vals, bins=10)"
   ]
  },
  {
   "cell_type": "markdown",
   "id": "92d5690a",
   "metadata": {},
   "source": [
    "This appears to be a relatively close approximation of the age Data Series so we will use the variable vals to synthesise age data. Next we consider the probability that a summitter climbed without oxygen. "
   ]
  },
  {
   "cell_type": "code",
   "execution_count": 8,
   "id": "c5972c02",
   "metadata": {},
   "outputs": [
    {
     "data": {
      "text/html": [
       "<div>\n",
       "<style scoped>\n",
       "    .dataframe tbody tr th:only-of-type {\n",
       "        vertical-align: middle;\n",
       "    }\n",
       "\n",
       "    .dataframe tbody tr th {\n",
       "        vertical-align: top;\n",
       "    }\n",
       "\n",
       "    .dataframe thead th {\n",
       "        text-align: right;\n",
       "    }\n",
       "</style>\n",
       "<table border=\"1\" class=\"dataframe\">\n",
       "  <thead>\n",
       "    <tr style=\"text-align: right;\">\n",
       "      <th></th>\n",
       "      <th>Peak</th>\n",
       "      <th>Name</th>\n",
       "      <th>Year</th>\n",
       "      <th>Season</th>\n",
       "      <th>Date</th>\n",
       "      <th>Time</th>\n",
       "      <th>Citizenship</th>\n",
       "      <th>Sex</th>\n",
       "      <th>Age</th>\n",
       "      <th>Oxy</th>\n",
       "      <th>Dth</th>\n",
       "      <th>Host</th>\n",
       "    </tr>\n",
       "  </thead>\n",
       "  <tbody>\n",
       "    <tr>\n",
       "      <th>190</th>\n",
       "      <td>EVER</td>\n",
       "      <td>Noboru Yamada</td>\n",
       "      <td>1985</td>\n",
       "      <td>Aut</td>\n",
       "      <td>30-Oct</td>\n",
       "      <td>10:00</td>\n",
       "      <td>Japan</td>\n",
       "      <td>M</td>\n",
       "      <td>35</td>\n",
       "      <td>No</td>\n",
       "      <td>.</td>\n",
       "      <td>Nepal</td>\n",
       "    </tr>\n",
       "    <tr>\n",
       "      <th>191</th>\n",
       "      <td>EVER</td>\n",
       "      <td>Ang Rita Sherpa (Yilajung, Khumbu)</td>\n",
       "      <td>1985</td>\n",
       "      <td>Spr</td>\n",
       "      <td>29-Apr</td>\n",
       "      <td>09:25</td>\n",
       "      <td>Nepal</td>\n",
       "      <td>M</td>\n",
       "      <td>36</td>\n",
       "      <td>No</td>\n",
       "      <td>.</td>\n",
       "      <td>Nepal</td>\n",
       "    </tr>\n",
       "    <tr>\n",
       "      <th>200</th>\n",
       "      <td>EVER</td>\n",
       "      <td>Erhard Loretan</td>\n",
       "      <td>1986</td>\n",
       "      <td>Sum</td>\n",
       "      <td>30-Aug</td>\n",
       "      <td>14:30</td>\n",
       "      <td>Switzerland</td>\n",
       "      <td>M</td>\n",
       "      <td>27</td>\n",
       "      <td>No</td>\n",
       "      <td>.</td>\n",
       "      <td>China</td>\n",
       "    </tr>\n",
       "    <tr>\n",
       "      <th>203</th>\n",
       "      <td>EVER</td>\n",
       "      <td>Jean Fernand Troillet</td>\n",
       "      <td>1986</td>\n",
       "      <td>Sum</td>\n",
       "      <td>30-Aug</td>\n",
       "      <td>14:30</td>\n",
       "      <td>Switzerland</td>\n",
       "      <td>M</td>\n",
       "      <td>38</td>\n",
       "      <td>No</td>\n",
       "      <td>.</td>\n",
       "      <td>China</td>\n",
       "    </tr>\n",
       "    <tr>\n",
       "      <th>205</th>\n",
       "      <td>EVER</td>\n",
       "      <td>Ang Rita Sherpa (Yilajung, Khumbu)</td>\n",
       "      <td>1987</td>\n",
       "      <td>Win</td>\n",
       "      <td>22-Dec</td>\n",
       "      <td>14:20</td>\n",
       "      <td>Nepal</td>\n",
       "      <td>M</td>\n",
       "      <td>39</td>\n",
       "      <td>No</td>\n",
       "      <td>.</td>\n",
       "      <td>Nepal</td>\n",
       "    </tr>\n",
       "  </tbody>\n",
       "</table>\n",
       "</div>"
      ],
      "text/plain": [
       "     Peak                                Name  Year Season    Date   Time  \\\n",
       "190  EVER                       Noboru Yamada  1985    Aut  30-Oct  10:00   \n",
       "191  EVER  Ang Rita Sherpa (Yilajung, Khumbu)  1985    Spr  29-Apr  09:25   \n",
       "200  EVER                      Erhard Loretan  1986    Sum  30-Aug  14:30   \n",
       "203  EVER               Jean Fernand Troillet  1986    Sum  30-Aug  14:30   \n",
       "205  EVER  Ang Rita Sherpa (Yilajung, Khumbu)  1987    Win  22-Dec  14:20   \n",
       "\n",
       "     Citizenship Sex  Age Oxy Dth   Host  \n",
       "190        Japan   M   35  No   .  Nepal  \n",
       "191        Nepal   M   36  No   .  Nepal  \n",
       "200  Switzerland   M   27  No   .  China  \n",
       "203  Switzerland   M   38  No   .  China  \n",
       "205        Nepal   M   39  No   .  Nepal  "
      ]
     },
     "execution_count": 8,
     "metadata": {},
     "output_type": "execute_result"
    }
   ],
   "source": [
    "noOxygen = df.loc[df.loc[:,'Oxy'] == 'No']\n",
    "noOxygen.head()"
   ]
  },
  {
   "cell_type": "code",
   "execution_count": 9,
   "id": "a97a2696",
   "metadata": {},
   "outputs": [
    {
     "data": {
      "text/plain": [
       "9840"
      ]
     },
     "execution_count": 9,
     "metadata": {},
     "output_type": "execute_result"
    }
   ],
   "source": [
    "noOxPotential = df.Age.count() \n",
    "noOxPotential"
   ]
  },
  {
   "cell_type": "markdown",
   "id": "6df29453",
   "metadata": {},
   "source": [
    "We can look at the historical data to get an idea of the probability that a climber will not use oxygen in their attempt. We can count the number of climbers in total who have used oxygen and divide it by the total number of summitters. We can use this probability with the binomial distribution to generate our synthetic data on oxygen use."
   ]
  },
  {
   "cell_type": "code",
   "execution_count": 10,
   "id": "f7b4c592",
   "metadata": {},
   "outputs": [
    {
     "data": {
      "text/plain": [
       "0.019715447154471544"
      ]
     },
     "execution_count": 10,
     "metadata": {},
     "output_type": "execute_result"
    }
   ],
   "source": [
    "noOxProbability = noOxygen.Age.count() / noOxPotential\n",
    "noOxProbability"
   ]
  },
  {
   "cell_type": "markdown",
   "id": "9fca42bd",
   "metadata": {},
   "source": [
    "Calculate use of oxygen synthetic data"
   ]
  },
  {
   "cell_type": "code",
   "execution_count": 11,
   "id": "b8f199d5",
   "metadata": {},
   "outputs": [
    {
     "name": "stdout",
     "output_type": "stream",
     "text": [
      "[0, 0, 0, 0, 0, 0, 0, 0, 0, 0, 0, 0, 0, 0, 0, 0, 0, 0, 0, 0, 0, 0, 0, 0, 0, 0, 0, 0, 0, 0, 0, 0, 0, 0, 0, 0, 0, 0, 0, 0, 0, 0, 0, 0, 0, 0, 0, 0, 0, 0, 0, 0, 0, 0, 0, 0, 0, 0, 0, 0, 0, 0, 0, 0, 0, 0, 0, 0, 0, 0, 0, 0, 0, 0, 0, 0, 0, 0, 0, 0, 0, 0, 0, 0, 0, 0, 0, 0, 0, 0, 0, 0, 0, 0, 0, 0, 0, 0, 1, 0, 0, 0, 0, 0, 0, 0, 0, 0, 0, 0, 0, 0, 0, 0, 0, 0, 0, 0, 0, 0, 0, 0, 0, 0, 0, 0, 0, 0, 0, 0, 0, 0, 0, 0, 0, 0, 0, 0, 0, 0, 0, 0, 0, 0, 0, 0, 0, 0, 0, 0, 0, 0, 0, 0, 0, 0, 0, 0, 0, 0, 0, 0, 0, 0, 0, 0, 0, 0, 0, 0, 0, 0, 0, 0, 0, 0, 0, 0, 0, 0, 0, 0, 0, 0, 0, 0, 0, 0, 0, 0, 0, 0, 0, 0, 0, 0, 0, 0, 0, 0, 0, 0, 0, 0, 0, 0, 0, 0, 0, 0, 0, 0, 0, 0, 0, 0, 0, 0, 0, 0, 0, 1, 0, 0, 0, 0, 0, 0, 0, 0, 0, 0, 0, 0, 0, 0, 0, 0, 0, 0, 0, 0, 0, 0, 0, 0, 0, 0, 0, 0, 0, 0, 0, 0, 0, 0, 0, 0, 0, 0, 0, 0, 0, 0, 0, 0, 0, 0, 0, 0, 0, 0, 0, 0, 0, 0, 0, 0, 0, 0, 0, 0, 0, 0, 0, 0, 0, 0, 0, 0, 0, 0, 0, 0, 0, 0, 0, 0, 0, 0, 0, 0, 0, 0, 0, 0, 0, 0, 0, 0, 0, 0, 0, 0, 0, 0, 0, 0, 0, 0, 0, 0, 0, 0, 0, 0, 0, 0, 0, 0, 0, 0, 0, 0, 0, 0, 0, 0, 0, 0, 0, 0, 0, 0, 0, 0, 0, 0, 0, 0, 0, 0, 0, 0, 0, 0, 0, 0, 0, 0, 0, 0, 0, 0, 0, 0, 0, 0, 0, 1, 0, 0, 0, 0, 0, 0, 0, 0, 0, 0, 0, 1, 0, 0, 0, 0, 0, 0, 0, 0, 0, 0, 1, 0, 0, 0, 0, 0, 0, 0, 0, 0, 0, 0, 0, 1, 0, 0, 0, 0, 0, 0, 0, 0, 0, 0, 1, 1, 0, 0, 0, 0, 0, 0, 0, 0, 0, 0, 0, 0, 0, 0, 0, 0, 0, 0, 0, 0, 0, 0, 0, 0, 0, 0, 0, 0, 0, 0, 0, 0, 0, 0, 0, 0, 0, 0, 0, 0, 0, 0, 0, 0, 0, 0, 0, 1, 0, 0, 0, 0, 0, 0, 0, 0, 0, 0, 0, 0, 0, 0, 0, 0, 0, 0, 0, 0, 0, 0, 0, 0, 0, 0, 0, 0, 0, 0, 0, 0, 0, 0, 0, 0, 0, 0, 0, 0, 0, 0, 0, 0, 0, 0, 0, 0, 0, 0, 0, 0, 0, 0, 0, 0, 0, 0, 0, 0, 0, 0, 0, 0, 0, 0, 0, 0, 0, 0, 0, 0, 0, 0, 0, 0, 0, 0, 0, 0, 0, 0, 0, 0, 1, 0, 0, 0, 0, 0, 0, 0, 0, 0, 0, 0, 0, 0, 0, 0, 0, 0, 0, 0, 0, 0, 0, 0, 0, 0, 0, 0, 0, 0, 0, 0, 0, 0, 0, 0, 0, 0, 1, 0, 0, 0, 0, 0, 0, 0, 1, 0, 0, 0, 0, 0, 0, 0, 0, 0, 0, 0, 0, 0, 0, 0, 0, 0, 0, 0, 0, 0, 0, 0, 0, 0, 0, 0, 0, 0, 0, 0, 0, 0, 0, 0, 0, 0, 0, 0, 0, 0, 0, 0, 0, 0, 0, 0, 0, 0, 0, 0, 1, 0, 0, 0, 0, 0, 0, 0, 0, 0, 0, 0, 0, 0, 0, 0, 0, 0, 0, 0, 0, 0, 0, 0, 0, 0, 0, 0, 0, 0, 0, 0, 0, 0, 0, 0, 0, 0, 0, 0, 0, 0, 0, 0, 0]\n"
     ]
    }
   ],
   "source": [
    "oxUse = []\n",
    "for a in vals:\n",
    "    synNoOx = rng.binomial(1, noOxProbability)\n",
    "    oxUse.append(synNoOx)\n",
    "print(oxUse)"
   ]
  },
  {
   "cell_type": "markdown",
   "id": "8da5894e",
   "metadata": {},
   "source": [
    "Next we calculate the probabilities of climbing in each season."
   ]
  },
  {
   "cell_type": "code",
   "execution_count": 12,
   "id": "9195767c",
   "metadata": {},
   "outputs": [
    {
     "data": {
      "text/plain": [
       "[0.9761178861788617,\n",
       " 0.0008130081300813008,\n",
       " 0.02225609756097561,\n",
       " 0.0008130081300813008]"
      ]
     },
     "execution_count": 12,
     "metadata": {},
     "output_type": "execute_result"
    }
   ],
   "source": [
    "sprCount = df.loc[df.loc[:,'Season'] == 'Spr'].Season.count()\n",
    "sumCount = df.loc[df.loc[:,'Season'] == 'Sum'].Season.count()\n",
    "autCount = df.loc[df.loc[:,'Season'] == 'Aut'].Season.count()\n",
    "winCount = df.loc[df.loc[:,'Season'] == 'Win'].Season.count()\n",
    "\n",
    "sprProb = sprCount / df.Season.count()\n",
    "sumProb = sumCount / df.Season.count()\n",
    "autProb = autCount / df.Season.count()\n",
    "winProb = winCount / df.Season.count()\n",
    "\n",
    "seasProbs = [sprProb, sumProb, autProb, winProb]\n",
    "seasProbs"
   ]
  },
  {
   "cell_type": "markdown",
   "id": "bb8afc33",
   "metadata": {},
   "source": [
    "Generate a set of seasons chosen by each climber in the synthetic dataset. We can use the choices method from the random package, with the probabilities above as the weights, to determine a synthetic dataset reflective of the general choices of climbers. It will be heavily dominated by spring but should a couple of attempts in the autumn. Summer and winter are unlikely to feature unless the size of the dataset, N, is quite large."
   ]
  },
  {
   "cell_type": "code",
   "execution_count": 13,
   "id": "283bc9b9",
   "metadata": {},
   "outputs": [
    {
     "name": "stdout",
     "output_type": "stream",
     "text": [
      "['Spr', 'Spr', 'Spr', 'Spr', 'Spr', 'Spr', 'Spr', 'Spr', 'Spr', 'Spr', 'Spr', 'Spr', 'Spr', 'Spr', 'Spr', 'Spr', 'Spr', 'Spr', 'Spr', 'Spr', 'Spr', 'Spr', 'Spr', 'Spr', 'Spr', 'Spr', 'Spr', 'Spr', 'Spr', 'Spr', 'Spr', 'Spr', 'Spr', 'Spr', 'Spr', 'Aut', 'Spr', 'Spr', 'Spr', 'Spr', 'Spr', 'Spr', 'Spr', 'Spr', 'Spr', 'Spr', 'Spr', 'Spr', 'Spr', 'Spr', 'Spr', 'Spr', 'Spr', 'Spr', 'Spr', 'Spr', 'Spr', 'Spr', 'Spr', 'Spr', 'Spr', 'Spr', 'Spr', 'Spr', 'Spr', 'Spr', 'Spr', 'Spr', 'Spr', 'Spr', 'Spr', 'Spr', 'Spr', 'Spr', 'Spr', 'Spr', 'Spr', 'Spr', 'Spr', 'Spr', 'Spr', 'Spr', 'Spr', 'Spr', 'Spr', 'Spr', 'Spr', 'Spr', 'Spr', 'Spr', 'Spr', 'Spr', 'Spr', 'Spr', 'Spr', 'Spr', 'Spr', 'Spr', 'Spr', 'Spr', 'Spr', 'Spr', 'Spr', 'Spr', 'Spr', 'Spr', 'Spr', 'Spr', 'Spr', 'Spr', 'Spr', 'Spr', 'Spr', 'Spr', 'Spr', 'Spr', 'Spr', 'Spr', 'Spr', 'Spr', 'Spr', 'Spr', 'Spr', 'Spr', 'Spr', 'Spr', 'Spr', 'Spr', 'Spr', 'Spr', 'Spr', 'Spr', 'Spr', 'Spr', 'Spr', 'Spr', 'Spr', 'Spr', 'Spr', 'Spr', 'Spr', 'Spr', 'Spr', 'Aut', 'Spr', 'Spr', 'Spr', 'Spr', 'Spr', 'Spr', 'Spr', 'Spr', 'Spr', 'Spr', 'Spr', 'Spr', 'Spr', 'Spr', 'Spr', 'Spr', 'Spr', 'Spr', 'Spr', 'Spr', 'Spr', 'Aut', 'Spr', 'Spr', 'Spr', 'Spr', 'Spr', 'Spr', 'Spr', 'Spr', 'Spr', 'Spr', 'Spr', 'Spr', 'Spr', 'Spr', 'Spr', 'Spr', 'Spr', 'Spr', 'Spr', 'Spr', 'Spr', 'Aut', 'Spr', 'Spr', 'Spr', 'Spr', 'Spr', 'Spr', 'Spr', 'Spr', 'Spr', 'Spr', 'Spr', 'Spr', 'Spr', 'Spr', 'Spr', 'Spr', 'Spr', 'Spr', 'Spr', 'Spr', 'Spr', 'Spr', 'Spr', 'Spr', 'Spr', 'Spr', 'Spr', 'Spr', 'Spr', 'Spr', 'Spr', 'Spr', 'Spr', 'Spr', 'Spr', 'Spr', 'Spr', 'Spr', 'Spr', 'Spr', 'Spr', 'Spr', 'Spr', 'Spr', 'Spr', 'Spr', 'Spr', 'Spr', 'Spr', 'Spr', 'Spr', 'Spr', 'Spr', 'Spr', 'Spr', 'Spr', 'Spr', 'Spr', 'Spr', 'Spr', 'Spr', 'Spr', 'Spr', 'Spr', 'Spr', 'Spr', 'Spr', 'Spr', 'Spr', 'Spr', 'Spr', 'Spr', 'Spr', 'Spr', 'Spr', 'Spr', 'Spr', 'Spr', 'Spr', 'Aut', 'Spr', 'Spr', 'Spr', 'Spr', 'Spr', 'Spr', 'Spr', 'Spr', 'Spr', 'Spr', 'Spr', 'Spr', 'Spr', 'Spr', 'Spr', 'Spr', 'Spr', 'Spr', 'Spr', 'Spr', 'Spr', 'Spr', 'Spr', 'Spr', 'Spr', 'Spr', 'Spr', 'Spr', 'Spr', 'Spr', 'Spr', 'Spr', 'Spr', 'Spr', 'Spr', 'Spr', 'Spr', 'Spr', 'Spr', 'Spr', 'Spr', 'Spr', 'Spr', 'Spr', 'Spr', 'Spr', 'Spr', 'Spr', 'Spr', 'Spr', 'Spr', 'Spr', 'Spr', 'Spr', 'Spr', 'Spr', 'Spr', 'Spr', 'Spr', 'Spr', 'Spr', 'Spr', 'Spr', 'Spr', 'Spr', 'Spr', 'Spr', 'Spr', 'Spr', 'Spr', 'Spr', 'Spr', 'Spr', 'Aut', 'Aut', 'Spr', 'Spr', 'Spr', 'Spr', 'Spr', 'Spr', 'Spr', 'Spr', 'Spr', 'Spr', 'Spr', 'Spr', 'Spr', 'Spr', 'Spr', 'Spr', 'Spr', 'Spr', 'Spr', 'Spr', 'Spr', 'Spr', 'Spr', 'Spr', 'Spr', 'Spr', 'Spr', 'Spr', 'Spr', 'Spr', 'Spr', 'Spr', 'Spr', 'Spr', 'Spr', 'Spr', 'Spr', 'Spr', 'Spr', 'Spr', 'Spr', 'Spr', 'Spr', 'Spr', 'Spr', 'Spr', 'Spr', 'Spr', 'Spr', 'Spr', 'Spr', 'Spr', 'Spr', 'Spr', 'Spr', 'Spr', 'Spr', 'Spr', 'Spr', 'Spr', 'Spr', 'Spr', 'Spr', 'Spr', 'Spr', 'Spr', 'Spr', 'Spr', 'Spr', 'Spr', 'Spr', 'Spr', 'Spr', 'Spr', 'Aut', 'Spr', 'Spr', 'Spr', 'Spr', 'Spr', 'Spr', 'Spr', 'Spr', 'Spr', 'Spr', 'Spr', 'Spr', 'Spr', 'Spr', 'Spr', 'Spr', 'Spr', 'Spr', 'Spr', 'Spr', 'Spr', 'Spr', 'Spr', 'Spr', 'Spr', 'Spr', 'Spr', 'Spr', 'Spr', 'Spr', 'Spr', 'Spr', 'Spr', 'Spr', 'Spr', 'Spr', 'Spr', 'Spr', 'Spr', 'Spr', 'Spr', 'Spr', 'Spr', 'Spr', 'Spr', 'Spr', 'Spr', 'Spr', 'Spr', 'Spr', 'Spr', 'Spr', 'Spr', 'Spr', 'Spr', 'Spr', 'Spr', 'Spr', 'Spr', 'Aut', 'Spr', 'Spr', 'Spr', 'Spr', 'Spr', 'Spr', 'Spr', 'Spr', 'Spr', 'Spr', 'Spr', 'Spr', 'Spr', 'Spr', 'Aut', 'Spr', 'Spr', 'Spr', 'Spr', 'Spr', 'Spr', 'Spr', 'Spr', 'Spr', 'Spr', 'Spr', 'Spr', 'Spr', 'Spr', 'Aut', 'Aut', 'Spr', 'Spr', 'Spr', 'Spr', 'Spr', 'Spr', 'Spr', 'Spr', 'Spr', 'Spr', 'Spr', 'Spr', 'Spr', 'Spr', 'Spr', 'Spr', 'Spr', 'Spr', 'Spr', 'Spr', 'Spr', 'Spr', 'Spr', 'Spr', 'Spr', 'Spr', 'Spr', 'Spr', 'Spr', 'Spr', 'Spr', 'Spr', 'Spr', 'Spr', 'Spr', 'Spr', 'Spr', 'Spr', 'Spr', 'Spr', 'Spr', 'Spr', 'Spr', 'Spr', 'Spr', 'Spr', 'Spr', 'Spr', 'Spr', 'Spr', 'Spr', 'Spr', 'Spr', 'Spr', 'Spr', 'Spr', 'Spr', 'Spr', 'Spr', 'Spr', 'Spr', 'Aut', 'Spr', 'Spr', 'Spr', 'Spr', 'Spr', 'Spr', 'Spr', 'Spr', 'Spr', 'Spr', 'Spr', 'Spr', 'Spr', 'Spr', 'Spr', 'Spr', 'Spr', 'Spr', 'Spr', 'Spr', 'Spr', 'Spr', 'Spr', 'Spr', 'Spr', 'Spr', 'Spr', 'Spr', 'Spr', 'Spr', 'Spr', 'Spr', 'Spr', 'Spr', 'Spr', 'Spr', 'Spr', 'Spr', 'Spr', 'Spr', 'Spr', 'Spr', 'Spr', 'Spr', 'Spr', 'Spr', 'Spr', 'Spr', 'Spr', 'Spr', 'Spr', 'Spr', 'Spr', 'Spr', 'Spr', 'Spr', 'Spr', 'Spr', 'Spr', 'Spr', 'Spr', 'Spr', 'Spr', 'Spr', 'Spr', 'Spr', 'Spr', 'Spr', 'Spr', 'Spr', 'Spr', 'Spr', 'Spr', 'Spr', 'Spr', 'Spr', 'Spr', 'Spr', 'Spr', 'Spr', 'Spr', 'Spr', 'Spr', 'Spr', 'Spr', 'Spr', 'Spr', 'Spr', 'Spr', 'Spr', 'Spr', 'Spr', 'Spr', 'Spr', 'Spr', 'Spr', 'Spr', 'Spr', 'Spr', 'Spr', 'Spr', 'Spr', 'Spr', 'Spr', 'Spr', 'Spr', 'Spr', 'Spr', 'Spr', 'Spr', 'Spr', 'Spr', 'Spr', 'Spr', 'Spr', 'Spr', 'Spr', 'Spr', 'Spr', 'Spr', 'Spr', 'Spr']\n"
     ]
    }
   ],
   "source": [
    "seas = ['Spr', 'Sum', 'Aut', 'Win']\n",
    "seasList = []\n",
    "\n",
    "for i in range(0, N):\n",
    "    seasChoice = random.choices(seas, weights=seasProbs)\n",
    "    seasList.append(seasChoice[0])\n",
    "\n",
    "print(seasList)"
   ]
  },
  {
   "cell_type": "markdown",
   "id": "659566a3",
   "metadata": {},
   "source": [
    "Calculate the probabilities of surviving for summitting in each season with and without oxygen. Again we will use these probabilities with the binomial distribution as we are considering a binary choice, either surviving or not."
   ]
  },
  {
   "cell_type": "code",
   "execution_count": 14,
   "id": "78623522",
   "metadata": {},
   "outputs": [
    {
     "name": "stdout",
     "output_type": "stream",
     "text": [
      "The historical probability of death after summitting when climbing without oxygen in Spr is 0.05\n",
      "The historical probability of death after summitting when climbing with oxygen in Spr is 0.01\n",
      "The historical probability of death after summitting when climbing without oxygen in Sum is 0.0\n",
      "The historical probability of death after summitting when climbing with oxygen in Sum is 0.0\n",
      "The historical probability of death after summitting when climbing without oxygen in Aut is 0.06\n",
      "The historical probability of death after summitting when climbing with oxygen in Aut is 0.01\n",
      "The historical probability of death after summitting when climbing without oxygen in Win is 0.0\n",
      "The historical probability of death after summitting when climbing with oxygen in Win is 0.0\n"
     ]
    }
   ],
   "source": [
    "for i in seas:\n",
    "    NoOxDeathProb = round(df[(df['Season'] == i) & (df['Oxy'] == 'No') & (df['Dth'] == 'Y')].Dth.count() \\\n",
    "                           / df[(df['Season'] == i) & (df['Oxy'] == 'No')].Season.count(),2)\n",
    "    print('The historical probability of death after summitting when climbing without oxygen in {} is {}'.format(i,NoOxDeathProb))\n",
    "    OxDeathProb = round(df[(df['Season'] == i) & (df['Oxy'] == 'Y') & (df['Dth'] == 'Y')].Dth.count() \\\n",
    "                           / df[(df['Season'] == i) & (df['Oxy'] == 'Y')].Season.count(),2)\n",
    "    print('The historical probability of death after summitting when climbing with oxygen in {} is {}'.format(i,OxDeathProb))\n"
   ]
  },
  {
   "cell_type": "markdown",
   "id": "f4c4360b",
   "metadata": {},
   "source": [
    "Compile list with climber number, ages, season and oxygen use."
   ]
  },
  {
   "cell_type": "code",
   "execution_count": 15,
   "id": "09539a5d",
   "metadata": {},
   "outputs": [
    {
     "data": {
      "text/html": [
       "<div>\n",
       "<style scoped>\n",
       "    .dataframe tbody tr th:only-of-type {\n",
       "        vertical-align: middle;\n",
       "    }\n",
       "\n",
       "    .dataframe tbody tr th {\n",
       "        vertical-align: top;\n",
       "    }\n",
       "\n",
       "    .dataframe thead th {\n",
       "        text-align: right;\n",
       "    }\n",
       "</style>\n",
       "<table border=\"1\" class=\"dataframe\">\n",
       "  <thead>\n",
       "    <tr style=\"text-align: right;\">\n",
       "      <th></th>\n",
       "      <th>Climber</th>\n",
       "      <th>Age</th>\n",
       "      <th>Oxygen</th>\n",
       "      <th>Season</th>\n",
       "      <th>Survived</th>\n",
       "    </tr>\n",
       "  </thead>\n",
       "  <tbody>\n",
       "    <tr>\n",
       "      <th>0</th>\n",
       "      <td>0</td>\n",
       "      <td>29.0</td>\n",
       "      <td>Yes</td>\n",
       "      <td>Spr</td>\n",
       "      <td>Survived</td>\n",
       "    </tr>\n",
       "    <tr>\n",
       "      <th>1</th>\n",
       "      <td>1</td>\n",
       "      <td>41.0</td>\n",
       "      <td>Yes</td>\n",
       "      <td>Spr</td>\n",
       "      <td>Survived</td>\n",
       "    </tr>\n",
       "    <tr>\n",
       "      <th>2</th>\n",
       "      <td>2</td>\n",
       "      <td>26.0</td>\n",
       "      <td>Yes</td>\n",
       "      <td>Spr</td>\n",
       "      <td>Survived</td>\n",
       "    </tr>\n",
       "    <tr>\n",
       "      <th>3</th>\n",
       "      <td>3</td>\n",
       "      <td>30.0</td>\n",
       "      <td>Yes</td>\n",
       "      <td>Spr</td>\n",
       "      <td>Survived</td>\n",
       "    </tr>\n",
       "    <tr>\n",
       "      <th>4</th>\n",
       "      <td>4</td>\n",
       "      <td>25.0</td>\n",
       "      <td>Yes</td>\n",
       "      <td>Spr</td>\n",
       "      <td>Survived</td>\n",
       "    </tr>\n",
       "    <tr>\n",
       "      <th>...</th>\n",
       "      <td>...</td>\n",
       "      <td>...</td>\n",
       "      <td>...</td>\n",
       "      <td>...</td>\n",
       "      <td>...</td>\n",
       "    </tr>\n",
       "    <tr>\n",
       "      <th>688</th>\n",
       "      <td>688</td>\n",
       "      <td>33.0</td>\n",
       "      <td>Yes</td>\n",
       "      <td>Spr</td>\n",
       "      <td>Survived</td>\n",
       "    </tr>\n",
       "    <tr>\n",
       "      <th>689</th>\n",
       "      <td>689</td>\n",
       "      <td>20.0</td>\n",
       "      <td>Yes</td>\n",
       "      <td>Spr</td>\n",
       "      <td>Survived</td>\n",
       "    </tr>\n",
       "    <tr>\n",
       "      <th>690</th>\n",
       "      <td>690</td>\n",
       "      <td>38.0</td>\n",
       "      <td>Yes</td>\n",
       "      <td>Spr</td>\n",
       "      <td>Survived</td>\n",
       "    </tr>\n",
       "    <tr>\n",
       "      <th>691</th>\n",
       "      <td>691</td>\n",
       "      <td>33.0</td>\n",
       "      <td>Yes</td>\n",
       "      <td>Spr</td>\n",
       "      <td>Survived</td>\n",
       "    </tr>\n",
       "    <tr>\n",
       "      <th>692</th>\n",
       "      <td>692</td>\n",
       "      <td>45.0</td>\n",
       "      <td>Yes</td>\n",
       "      <td>Spr</td>\n",
       "      <td>Survived</td>\n",
       "    </tr>\n",
       "  </tbody>\n",
       "</table>\n",
       "<p>693 rows × 5 columns</p>\n",
       "</div>"
      ],
      "text/plain": [
       "     Climber   Age Oxygen Season  Survived\n",
       "0          0  29.0    Yes    Spr  Survived\n",
       "1          1  41.0    Yes    Spr  Survived\n",
       "2          2  26.0    Yes    Spr  Survived\n",
       "3          3  30.0    Yes    Spr  Survived\n",
       "4          4  25.0    Yes    Spr  Survived\n",
       "..       ...   ...    ...    ...       ...\n",
       "688      688  33.0    Yes    Spr  Survived\n",
       "689      689  20.0    Yes    Spr  Survived\n",
       "690      690  38.0    Yes    Spr  Survived\n",
       "691      691  33.0    Yes    Spr  Survived\n",
       "692      692  45.0    Yes    Spr  Survived\n",
       "\n",
       "[693 rows x 5 columns]"
      ]
     },
     "execution_count": 15,
     "metadata": {},
     "output_type": "execute_result"
    }
   ],
   "source": [
    "synEverestData = []\n",
    "\n",
    "def everestFunction():\n",
    "    for i in range(0, N):\n",
    "        data = []\n",
    "        if oxUse[i] == 0 and seasList[i] == 'Spr':\n",
    "            death = rng.binomial(1, df[(df['Season'] == 'Spr') & (df['Oxy'] == 'No') & (df['Dth'] == 'Y')].Dth.count() \\\n",
    "                               / df[(df['Season'] == 'Spr') & (df['Oxy'] == 'No')].Season.count())\n",
    "\n",
    "        elif oxUse[i] == 1 and seasList[i] == 'Spr':\n",
    "            death = rng.binomial(1, df[(df['Season'] == 'Spr') & (df['Oxy'] == 'Y') & (df['Dth'] == 'Y')].Dth.count() \\\n",
    "                               / df[(df['Season'] == 'Spr') & (df['Oxy'] == 'Y')].Season.count())\n",
    "\n",
    "        elif oxUse[i] == 0 and seasList[i] == 'Sum':\n",
    "            death = rng.binomial(1, df[(df['Season'] == 'Sum') & (df['Oxy'] == 'No') & (df['Dth'] == 'Y')].Dth.count() \\\n",
    "                               / df[(df['Season'] == 'Sum') & (df['Oxy'] == 'No')].Season.count())\n",
    "\n",
    "        elif oxUse[i] == 1 and seasList[i] == 'Sum':\n",
    "            death = rng.binomial(1, df[(df['Season'] == 'Sum') & (df['Oxy'] == 'Y') & (df['Dth'] == 'Y')].Dth.count() \\\n",
    "                               / df[(df['Season'] == 'Sum') & (df['Oxy'] == 'Y')].Season.count())\n",
    "\n",
    "        elif oxUse[i] == 0 and seasList[i] == 'Aut':\n",
    "            death = rng.binomial(1, df[(df['Season'] == 'Aut') & (df['Oxy'] == 'No') & (df['Dth'] == 'Y')].Dth.count() \\\n",
    "                               / df[(df['Season'] == 'Aut') & (df['Oxy'] == 'No')].Season.count())\n",
    "\n",
    "        elif oxUse[i] == 1 and seasList[i] == 'Aut':\n",
    "            death = rng.binomial(1, df[(df['Season'] == 'Aut') & (df['Oxy'] == 'Y') & (df['Dth'] == 'Y')].Dth.count() \\\n",
    "                               / df[(df['Season'] == 'Aut') & (df['Oxy'] == 'Y')].Season.count())\n",
    "\n",
    "        elif oxUse[i] == 0 and seasList[i] == 'Win':\n",
    "            death = rng.binomial(1, df[(df['Season'] == 'Win') & (df['Oxy'] == 'No') & (df['Dth'] == 'Y')].Dth.count() \\\n",
    "                               / df[(df['Season'] == 'Win') & (df['Oxy'] == 'No')].Season.count())\n",
    "\n",
    "        elif oxUse[i] == 1 and seasList[i] == 'Win':\n",
    "            death = rng.binomial(1, df[(df['Season'] == 'Win') & (df['Oxy'] == 'Y') & (df['Dth'] == 'Y')].Dth.count() \\\n",
    "                               / df[(df['Season'] == 'Win') & (df['Oxy'] == 'Y')].Season.count())\n",
    "\n",
    "        if oxUse[i] == 1:\n",
    "            oxUse2 = 'No'\n",
    "        else:\n",
    "            oxUse2 = 'Yes'\n",
    "\n",
    "        if death == 0:\n",
    "            death2 = 'Survived'\n",
    "        else:\n",
    "            death2 = 'Died'\n",
    "\n",
    "\n",
    "        data = [i, round(vals[i],0), oxUse2, seasList[i], death2]\n",
    "        synEverestData.append(data)\n",
    "        synEverestDataDf = pd.DataFrame(synEverestData, columns=['Climber', 'Age', 'Oxygen', 'Season', 'Survived'])\n",
    "        \n",
    "    return synEverestDataDf\n",
    "        \n",
    "\n",
    "everestFunction()\n",
    "\n"
   ]
  },
  {
   "cell_type": "code",
   "execution_count": 16,
   "id": "9177d0eb",
   "metadata": {},
   "outputs": [
    {
     "data": {
      "text/html": [
       "<div>\n",
       "<style scoped>\n",
       "    .dataframe tbody tr th:only-of-type {\n",
       "        vertical-align: middle;\n",
       "    }\n",
       "\n",
       "    .dataframe tbody tr th {\n",
       "        vertical-align: top;\n",
       "    }\n",
       "\n",
       "    .dataframe thead th {\n",
       "        text-align: right;\n",
       "    }\n",
       "</style>\n",
       "<table border=\"1\" class=\"dataframe\">\n",
       "  <thead>\n",
       "    <tr style=\"text-align: right;\">\n",
       "      <th></th>\n",
       "      <th>Climber</th>\n",
       "      <th>Age</th>\n",
       "      <th>Oxygen</th>\n",
       "      <th>Season</th>\n",
       "      <th>Survived</th>\n",
       "    </tr>\n",
       "  </thead>\n",
       "  <tbody>\n",
       "    <tr>\n",
       "      <th>0</th>\n",
       "      <td>0</td>\n",
       "      <td>29.0</td>\n",
       "      <td>Yes</td>\n",
       "      <td>Spr</td>\n",
       "      <td>Survived</td>\n",
       "    </tr>\n",
       "    <tr>\n",
       "      <th>1</th>\n",
       "      <td>1</td>\n",
       "      <td>41.0</td>\n",
       "      <td>Yes</td>\n",
       "      <td>Spr</td>\n",
       "      <td>Survived</td>\n",
       "    </tr>\n",
       "    <tr>\n",
       "      <th>2</th>\n",
       "      <td>2</td>\n",
       "      <td>26.0</td>\n",
       "      <td>Yes</td>\n",
       "      <td>Spr</td>\n",
       "      <td>Survived</td>\n",
       "    </tr>\n",
       "    <tr>\n",
       "      <th>3</th>\n",
       "      <td>3</td>\n",
       "      <td>30.0</td>\n",
       "      <td>Yes</td>\n",
       "      <td>Spr</td>\n",
       "      <td>Survived</td>\n",
       "    </tr>\n",
       "    <tr>\n",
       "      <th>4</th>\n",
       "      <td>4</td>\n",
       "      <td>25.0</td>\n",
       "      <td>Yes</td>\n",
       "      <td>Spr</td>\n",
       "      <td>Survived</td>\n",
       "    </tr>\n",
       "  </tbody>\n",
       "</table>\n",
       "</div>"
      ],
      "text/plain": [
       "   Climber   Age Oxygen Season  Survived\n",
       "0        0  29.0    Yes    Spr  Survived\n",
       "1        1  41.0    Yes    Spr  Survived\n",
       "2        2  26.0    Yes    Spr  Survived\n",
       "3        3  30.0    Yes    Spr  Survived\n",
       "4        4  25.0    Yes    Spr  Survived"
      ]
     },
     "execution_count": 16,
     "metadata": {},
     "output_type": "execute_result"
    }
   ],
   "source": [
    "synEverestDataDf = pd.DataFrame(synEverestData, columns=['Climber', 'Age', 'Oxygen', 'Season', 'Survived'])\n",
    "\n",
    "synEverestDataDf.head()"
   ]
  },
  {
   "cell_type": "markdown",
   "id": "16e8fa9d",
   "metadata": {},
   "source": [
    "The number of deaths in this synthetic dataset can be measured against the historicial death rate."
   ]
  },
  {
   "cell_type": "code",
   "execution_count": 17,
   "id": "d0776f90",
   "metadata": {},
   "outputs": [
    {
     "data": {
      "text/plain": [
       "44"
      ]
     },
     "execution_count": 17,
     "metadata": {},
     "output_type": "execute_result"
    }
   ],
   "source": [
    "numberOfDeaths = synEverestDataDf[synEverestDataDf['Survived'] == 'Died'].Survived.count()\n",
    "numberOfDeaths"
   ]
  },
  {
   "cell_type": "markdown",
   "id": "1dbffb5f",
   "metadata": {},
   "source": [
    "The historical death rate is calculated by:"
   ]
  },
  {
   "cell_type": "code",
   "execution_count": 18,
   "id": "f4dacec4",
   "metadata": {},
   "outputs": [
    {
     "data": {
      "text/plain": [
       "0.008"
      ]
     },
     "execution_count": 18,
     "metadata": {},
     "output_type": "execute_result"
    }
   ],
   "source": [
    "historicalDeathRate = round(df[df['Dth'] == 'Y'].Dth.count() / df.Dth.count(), 3)\n",
    "historicalDeathRate"
   ]
  },
  {
   "cell_type": "markdown",
   "id": "1ce4dcc0",
   "metadata": {},
   "source": [
    "Our dataset death rate is calculated by:"
   ]
  },
  {
   "cell_type": "code",
   "execution_count": 19,
   "id": "e5512e21",
   "metadata": {},
   "outputs": [
    {
     "name": "stdout",
     "output_type": "stream",
     "text": [
      "0.063\n"
     ]
    }
   ],
   "source": [
    "predictDeathRate = round(synEverestDataDf[(synEverestDataDf['Survived'] == 'Died')].Survived.count() / synEverestDataDf.Survived.count(),3)\n",
    "print(predictDeathRate)"
   ]
  },
  {
   "cell_type": "code",
   "execution_count": null,
   "id": "2830423c",
   "metadata": {},
   "outputs": [],
   "source": []
  }
 ],
 "metadata": {
  "kernelspec": {
   "display_name": "Python 3 (ipykernel)",
   "language": "python",
   "name": "python3"
  },
  "language_info": {
   "codemirror_mode": {
    "name": "ipython",
    "version": 3
   },
   "file_extension": ".py",
   "mimetype": "text/x-python",
   "name": "python",
   "nbconvert_exporter": "python",
   "pygments_lexer": "ipython3",
   "version": "3.9.7"
  }
 },
 "nbformat": 4,
 "nbformat_minor": 5
}
